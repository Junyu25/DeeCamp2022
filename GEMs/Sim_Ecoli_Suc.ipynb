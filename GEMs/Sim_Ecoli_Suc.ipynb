{
 "cells": [
  {
   "cell_type": "code",
   "execution_count": null,
   "id": "e5341832-6649-4c69-8a46-c7705a578551",
   "metadata": {},
   "outputs": [],
   "source": []
  },
  {
   "cell_type": "code",
   "execution_count": null,
   "id": "10acde60-00e8-42b5-88ba-6383b66d9df5",
   "metadata": {},
   "outputs": [],
   "source": []
  },
  {
   "cell_type": "code",
   "execution_count": 1,
   "id": "968df0fb-14d0-45a6-9b70-fa148a4e4277",
   "metadata": {},
   "outputs": [],
   "source": [
    "import cobra"
   ]
  },
  {
   "cell_type": "code",
   "execution_count": 91,
   "id": "30514d02-5eba-4af2-bc93-50969de81da2",
   "metadata": {},
   "outputs": [],
   "source": [
    "import pandas\n",
    "from cobra.io import load_model\n",
    "model = load_model(\"iJO1366\") #no need to import from matlab"
   ]
  },
  {
   "cell_type": "code",
   "execution_count": 92,
   "id": "30fca939-c08b-438d-b957-dc5688db9d3c",
   "metadata": {},
   "outputs": [
    {
     "data": {
      "text/html": [
       "\n",
       "        <table>\n",
       "            <tr>\n",
       "                <td><strong>Name</strong></td>\n",
       "                <td>iJO1366</td>\n",
       "            </tr><tr>\n",
       "                <td><strong>Memory address</strong></td>\n",
       "                <td>0x07efd3231e190</td>\n",
       "            </tr><tr>\n",
       "                <td><strong>Number of metabolites</strong></td>\n",
       "                <td>1805</td>\n",
       "            </tr><tr>\n",
       "                <td><strong>Number of reactions</strong></td>\n",
       "                <td>2583</td>\n",
       "            </tr><tr>\n",
       "                <td><strong>Number of groups</strong></td>\n",
       "                <td>37</td>\n",
       "            </tr><tr>\n",
       "                <td><strong>Objective expression</strong></td>\n",
       "                <td>1.0*BIOMASS_Ec_iJO1366_core_53p95M - 1.0*BIOMASS_Ec_iJO1366_core_53p95M_reverse_5c8b1</td>\n",
       "            </tr><tr>\n",
       "                <td><strong>Compartments</strong></td>\n",
       "                <td>cytosol, extracellular space, periplasm</td>\n",
       "            </tr>\n",
       "          </table>"
      ],
      "text/plain": [
       "<Model iJO1366 at 0x7efd3231e190>"
      ]
     },
     "execution_count": 92,
     "metadata": {},
     "output_type": "execute_result"
    }
   ],
   "source": [
    "model"
   ]
  },
  {
   "cell_type": "code",
   "execution_count": 93,
   "id": "298c31df-c09d-455e-901f-53a57e6d06d1",
   "metadata": {
    "tags": []
   },
   "outputs": [
    {
     "data": {
      "text/html": [
       "\n",
       "        <table>\n",
       "            <tr>\n",
       "                <td><strong>Reaction identifier</strong></td><td>SUCCtex</td>\n",
       "            </tr><tr>\n",
       "                <td><strong>Name</strong></td><td></td>\n",
       "            </tr><tr>\n",
       "                <td><strong>Memory address</strong></td>\n",
       "                <td>0x7efd32232b20</td>\n",
       "            </tr><tr>\n",
       "                <td><strong>Stoichiometry</strong></td>\n",
       "                <td>\n",
       "                    <p style='text-align:right'>--></p>\n",
       "                    <p style='text-align:right'>--></p>\n",
       "                </td>\n",
       "            </tr><tr>\n",
       "                <td><strong>GPR</strong></td><td></td>\n",
       "            </tr><tr>\n",
       "                <td><strong>Lower bound</strong></td><td>0.0</td>\n",
       "            </tr><tr>\n",
       "                <td><strong>Upper bound</strong></td><td>1000.0</td>\n",
       "            </tr>\n",
       "        </table>\n",
       "        "
      ],
      "text/plain": [
       "<Reaction SUCCtex at 0x7efd32232b20>"
      ]
     },
     "execution_count": 93,
     "metadata": {},
     "output_type": "execute_result"
    }
   ],
   "source": [
    "cobra.Reaction(\"SUCCtex\")"
   ]
  },
  {
   "cell_type": "code",
   "execution_count": 94,
   "id": "2e495cf1-f2cf-4d75-9047-626cab33194a",
   "metadata": {},
   "outputs": [
    {
     "data": {
      "text/html": [
       "\n",
       "        <table>\n",
       "            <tr>\n",
       "                <td><strong>Reaction identifier</strong></td><td>SUCCtex</td>\n",
       "            </tr><tr>\n",
       "                <td><strong>Name</strong></td><td>Succinate transport via diffusion (extracellular to periplasm)</td>\n",
       "            </tr><tr>\n",
       "                <td><strong>Memory address</strong></td>\n",
       "                <td>0x7efd18d64400</td>\n",
       "            </tr><tr>\n",
       "                <td><strong>Stoichiometry</strong></td>\n",
       "                <td>\n",
       "                    <p style='text-align:right'>succ_e <=> succ_p</p>\n",
       "                    <p style='text-align:right'>Succinate <=> Succinate</p>\n",
       "                </td>\n",
       "            </tr><tr>\n",
       "                <td><strong>GPR</strong></td><td>b1377 or b0241 or b0929 or b2215</td>\n",
       "            </tr><tr>\n",
       "                <td><strong>Lower bound</strong></td><td>-1000.0</td>\n",
       "            </tr><tr>\n",
       "                <td><strong>Upper bound</strong></td><td>1000.0</td>\n",
       "            </tr>\n",
       "        </table>\n",
       "        "
      ],
      "text/plain": [
       "<Reaction SUCCtex at 0x7efd18d64400>"
      ]
     },
     "execution_count": 94,
     "metadata": {},
     "output_type": "execute_result"
    }
   ],
   "source": [
    "SUCCtex = model.reactions.get_by_id(\"SUCCtex\")\n",
    "SUCCtex"
   ]
  },
  {
   "cell_type": "markdown",
   "id": "2a904167-4d54-48d6-8087-9d8d63ffb895",
   "metadata": {},
   "source": [
    "### Default growth biomass"
   ]
  },
  {
   "cell_type": "code",
   "execution_count": 95,
   "id": "36938ca7-614a-41de-ba88-43e29f075e7a",
   "metadata": {},
   "outputs": [
    {
     "name": "stdout",
     "output_type": "stream",
     "text": [
      "1.0*BIOMASS_Ec_iJO1366_core_53p95M - 1.0*BIOMASS_Ec_iJO1366_core_53p95M_reverse_5c8b1\n"
     ]
    }
   ],
   "source": [
    "print(model.objective.expression)"
   ]
  },
  {
   "cell_type": "markdown",
   "id": "91f01207-4b65-4dd2-8585-d0b9975bc37f",
   "metadata": {},
   "source": [
    "### Change to Suc"
   ]
  },
  {
   "cell_type": "code",
   "execution_count": 96,
   "id": "e00db863-e08e-4a67-ad88-aed96962e714",
   "metadata": {},
   "outputs": [],
   "source": [
    "model.objective = 'EX_succ_e'"
   ]
  },
  {
   "cell_type": "code",
   "execution_count": 97,
   "id": "1628c8e5-0526-4dc2-93f1-b60bc4d9d5d5",
   "metadata": {
    "collapsed": true,
    "jupyter": {
     "outputs_hidden": true
    },
    "tags": []
   },
   "outputs": [
    {
     "name": "stdout",
     "output_type": "stream",
     "text": [
      "1.0*EX_succ_e - 1.0*EX_succ_e_reverse_a9039\n",
      "max\n"
     ]
    }
   ],
   "source": [
    "print(model.objective.expression)\n",
    "print(model.objective.direction)"
   ]
  },
  {
   "cell_type": "code",
   "execution_count": 98,
   "id": "5c1f0d55-952e-4148-9367-b6ffc431569d",
   "metadata": {},
   "outputs": [
    {
     "name": "stdout",
     "output_type": "stream",
     "text": [
      "<Solution 17.096 at 0x7efd29e37790>\n"
     ]
    }
   ],
   "source": [
    "solution = model.optimize()\n",
    "print(solution)"
   ]
  },
  {
   "cell_type": "markdown",
   "id": "fe97c306-1e83-4395-9df9-f67996afa441",
   "metadata": {},
   "source": [
    "When it's optimized? what's the flux and bound?"
   ]
  },
  {
   "cell_type": "code",
   "execution_count": 99,
   "id": "6a43c986-d8a4-43b1-ae3c-55758e56650e",
   "metadata": {},
   "outputs": [
    {
     "data": {
      "text/html": [
       "<h3>Objective</h3><p>1.0 EX_succ_e = 17.096428571428575</p><h4>Uptake</h4><table border=\"1\" class=\"dataframe\">\n",
       "  <thead>\n",
       "    <tr style=\"text-align: right;\">\n",
       "      <th>Metabolite</th>\n",
       "      <th>Reaction</th>\n",
       "      <th>Flux</th>\n",
       "      <th>C-Number</th>\n",
       "      <th>C-Flux</th>\n",
       "    </tr>\n",
       "  </thead>\n",
       "  <tbody>\n",
       "    <tr>\n",
       "      <td>co2_e</td>\n",
       "      <td>EX_co2_e</td>\n",
       "      <td>8.386</td>\n",
       "      <td>1</td>\n",
       "      <td>12.26%</td>\n",
       "    </tr>\n",
       "    <tr>\n",
       "      <td>glc__D_e</td>\n",
       "      <td>EX_glc__D_e</td>\n",
       "      <td>10</td>\n",
       "      <td>6</td>\n",
       "      <td>87.74%</td>\n",
       "    </tr>\n",
       "    <tr>\n",
       "      <td>o2_e</td>\n",
       "      <td>EX_o2_e</td>\n",
       "      <td>0.1625</td>\n",
       "      <td>0</td>\n",
       "      <td>0.00%</td>\n",
       "    </tr>\n",
       "  </tbody>\n",
       "</table><h4>Secretion</h4><table border=\"1\" class=\"dataframe\">\n",
       "  <thead>\n",
       "    <tr style=\"text-align: right;\">\n",
       "      <th>Metabolite</th>\n",
       "      <th>Reaction</th>\n",
       "      <th>Flux</th>\n",
       "      <th>C-Number</th>\n",
       "      <th>C-Flux</th>\n",
       "    </tr>\n",
       "  </thead>\n",
       "  <tbody>\n",
       "    <tr>\n",
       "      <td>h2o_e</td>\n",
       "      <td>EX_h2o_e</td>\n",
       "      <td>-8.711</td>\n",
       "      <td>0</td>\n",
       "      <td>0.00%</td>\n",
       "    </tr>\n",
       "    <tr>\n",
       "      <td>h_e</td>\n",
       "      <td>EX_h_e</td>\n",
       "      <td>-34.19</td>\n",
       "      <td>0</td>\n",
       "      <td>0.00%</td>\n",
       "    </tr>\n",
       "    <tr>\n",
       "      <td>succ_e</td>\n",
       "      <td>EX_succ_e</td>\n",
       "      <td>-17.1</td>\n",
       "      <td>4</td>\n",
       "      <td>100.00%</td>\n",
       "    </tr>\n",
       "  </tbody>\n",
       "</table>"
      ],
      "text/plain": [
       "<cobra.summary.model_summary.ModelSummary at 0x7efd18974160>"
      ]
     },
     "execution_count": 99,
     "metadata": {},
     "output_type": "execute_result"
    }
   ],
   "source": [
    "model.summary()"
   ]
  },
  {
   "cell_type": "markdown",
   "id": "a542ee15-b7f1-4351-b9a2-5eb6781737f2",
   "metadata": {},
   "source": [
    "change the bound first and the dom the simulation?"
   ]
  },
  {
   "cell_type": "code",
   "execution_count": 100,
   "id": "547120e8-e526-40dd-a4a3-4f76641dc5a0",
   "metadata": {},
   "outputs": [
    {
     "data": {
      "text/html": [
       "<h3>SUCCtex</h3><p>succ_e <=> succ_p</p><p>Bounds: -1000.0, 1000.0</p><p>Flux: -17.1</p>"
      ],
      "text/plain": [
       "<cobra.summary.reaction_summary.ReactionSummary at 0x7efd18974eb0>"
      ]
     },
     "execution_count": 100,
     "metadata": {},
     "output_type": "execute_result"
    }
   ],
   "source": [
    "model.reactions.SUCCtex.summary()"
   ]
  },
  {
   "cell_type": "code",
   "execution_count": 101,
   "id": "3a149a97-b4c9-4c80-b6eb-024db5c8c0af",
   "metadata": {},
   "outputs": [
    {
     "data": {
      "text/html": [
       "<h3>MALS</h3><p>accoa_c + glx_c + h2o_c --> coa_c + h_c + mal__L_c</p><p>Bounds: 0.0, 1000.0</p><p>Flux: 2.904</p>"
      ],
      "text/plain": [
       "<cobra.summary.reaction_summary.ReactionSummary at 0x7efd433efb80>"
      ]
     },
     "execution_count": 101,
     "metadata": {},
     "output_type": "execute_result"
    }
   ],
   "source": [
    "model.reactions.MALS.summary()"
   ]
  },
  {
   "cell_type": "code",
   "execution_count": 102,
   "id": "5ee297ac-c9ed-4c5d-8c72-7ec3ebf06e94",
   "metadata": {},
   "outputs": [
    {
     "data": {
      "text/html": [
       "<h3>O2tex</h3><p>o2_e <=> o2_p</p><p>Bounds: -1000.0, 1000.0</p><p>Flux: 0.1625</p>"
      ],
      "text/plain": [
       "<cobra.summary.reaction_summary.ReactionSummary at 0x7efd433efca0>"
      ]
     },
     "execution_count": 102,
     "metadata": {},
     "output_type": "execute_result"
    }
   ],
   "source": [
    "model.reactions.O2tex.summary()"
   ]
  },
  {
   "cell_type": "code",
   "execution_count": 85,
   "id": "bb19e9f8-9db9-4951-a7d9-8329099e9b94",
   "metadata": {},
   "outputs": [
    {
     "data": {
      "text/html": [
       "<h3>EX_nh4_e</h3><p>nh4_e <-- </p><p>Bounds: -1.8, -1.7</p><p>Flux: -1.7</p>"
      ],
      "text/plain": [
       "<cobra.summary.reaction_summary.ReactionSummary at 0x7efd3237cd60>"
      ]
     },
     "execution_count": 85,
     "metadata": {},
     "output_type": "execute_result"
    }
   ],
   "source": [
    "model.reactions.EX_nh4_e.summary()"
   ]
  },
  {
   "cell_type": "code",
   "execution_count": 72,
   "id": "38f09158-55a4-4db3-ba44-a77cf1b3551b",
   "metadata": {},
   "outputs": [
    {
     "data": {
      "text/plain": [
       "cobra.core.reaction.Reaction"
      ]
     },
     "execution_count": 72,
     "metadata": {},
     "output_type": "execute_result"
    }
   ],
   "source": [
    "type(model.reactions.EX_k_e)"
   ]
  },
  {
   "cell_type": "code",
   "execution_count": 70,
   "id": "9af14932-bd15-4299-9f20-442ad5e6d5cc",
   "metadata": {
    "collapsed": true,
    "jupyter": {
     "outputs_hidden": true
    },
    "tags": []
   },
   "outputs": [
    {
     "data": {
      "text/plain": [
       "\u001b[0;31mInit signature:\u001b[0m\n",
       "\u001b[0mcobra\u001b[0m\u001b[0;34m.\u001b[0m\u001b[0msummary\u001b[0m\u001b[0;34m.\u001b[0m\u001b[0mreaction_summary\u001b[0m\u001b[0;34m.\u001b[0m\u001b[0mReactionSummary\u001b[0m\u001b[0;34m(\u001b[0m\u001b[0;34m\u001b[0m\n",
       "\u001b[0;34m\u001b[0m    \u001b[0;34m*\u001b[0m\u001b[0;34m,\u001b[0m\u001b[0;34m\u001b[0m\n",
       "\u001b[0;34m\u001b[0m    \u001b[0mreaction\u001b[0m\u001b[0;34m:\u001b[0m \u001b[0;34m'Reaction'\u001b[0m\u001b[0;34m,\u001b[0m\u001b[0;34m\u001b[0m\n",
       "\u001b[0;34m\u001b[0m    \u001b[0mmodel\u001b[0m\u001b[0;34m:\u001b[0m \u001b[0;34m'Model'\u001b[0m\u001b[0;34m,\u001b[0m\u001b[0;34m\u001b[0m\n",
       "\u001b[0;34m\u001b[0m    \u001b[0msolution\u001b[0m\u001b[0;34m:\u001b[0m \u001b[0mUnion\u001b[0m\u001b[0;34m[\u001b[0m\u001b[0mForwardRef\u001b[0m\u001b[0;34m(\u001b[0m\u001b[0;34m'Solution'\u001b[0m\u001b[0;34m)\u001b[0m\u001b[0;34m,\u001b[0m \u001b[0mNoneType\u001b[0m\u001b[0;34m]\u001b[0m \u001b[0;34m=\u001b[0m \u001b[0;32mNone\u001b[0m\u001b[0;34m,\u001b[0m\u001b[0;34m\u001b[0m\n",
       "\u001b[0;34m\u001b[0m    \u001b[0mfva\u001b[0m\u001b[0;34m:\u001b[0m \u001b[0mUnion\u001b[0m\u001b[0;34m[\u001b[0m\u001b[0mfloat\u001b[0m\u001b[0;34m,\u001b[0m \u001b[0mpandas\u001b[0m\u001b[0;34m.\u001b[0m\u001b[0mcore\u001b[0m\u001b[0;34m.\u001b[0m\u001b[0mframe\u001b[0m\u001b[0;34m.\u001b[0m\u001b[0mDataFrame\u001b[0m\u001b[0;34m,\u001b[0m \u001b[0mNoneType\u001b[0m\u001b[0;34m]\u001b[0m \u001b[0;34m=\u001b[0m \u001b[0;32mNone\u001b[0m\u001b[0;34m,\u001b[0m\u001b[0;34m\u001b[0m\n",
       "\u001b[0;34m\u001b[0m    \u001b[0;34m**\u001b[0m\u001b[0mkwargs\u001b[0m\u001b[0;34m,\u001b[0m\u001b[0;34m\u001b[0m\n",
       "\u001b[0;34m\u001b[0m\u001b[0;34m)\u001b[0m \u001b[0;34m->\u001b[0m \u001b[0;32mNone\u001b[0m\u001b[0;34m\u001b[0m\u001b[0;34m\u001b[0m\u001b[0m\n",
       "\u001b[0;31mDocstring:\u001b[0m     \n",
       "Define the reaction summary.\n",
       "\n",
       "See Also\n",
       "--------\n",
       "Summary : Parent that defines further attributes.\n",
       "MetaboliteSummary\n",
       "ModelSummary\n",
       "\u001b[0;31mInit docstring:\u001b[0m\n",
       "Initialize a reaction summary.\n",
       "\n",
       "Parameters\n",
       "----------\n",
       "reaction: cobra.Reaction\n",
       "    The reaction object whose summary we intend to get.\n",
       "model : cobra.Model\n",
       "    The metabolic model in which to generate a reaction summary.\n",
       "solution : cobra.Solution, optional\n",
       "    A previous model solution to use for generating the summary. If\n",
       "    ``None``, the summary method will generate a parsimonious flux\n",
       "    distribution (default None).\n",
       "fva : pandas.DataFrame or float, optional\n",
       "    Whether or not to include flux variability analysis in the output.\n",
       "    If given, `fva` should either be a previous FVA solution matching the\n",
       "    model or a float between 0 and 1 representing the fraction of the\n",
       "    optimum objective to be searched (default None).\n",
       "\n",
       "Other Parameters\n",
       "----------------\n",
       "kwargs :\n",
       "    Further keyword arguments are passed on to the parent class.\n",
       "\n",
       "See Also\n",
       "--------\n",
       "Summary : Parent that has further default parameters.\n",
       "MetaboliteSummary\n",
       "ModelSummary\n",
       "\u001b[0;31mFile:\u001b[0m           ~/miniconda3/envs/cobra/lib/python3.8/site-packages/cobra/summary/reaction_summary.py\n",
       "\u001b[0;31mType:\u001b[0m           ABCMeta\n",
       "\u001b[0;31mSubclasses:\u001b[0m     \n"
      ]
     },
     "metadata": {},
     "output_type": "display_data"
    }
   ],
   "source": [
    "?cobra.summary.reaction_summary.ReactionSummary"
   ]
  },
  {
   "cell_type": "code",
   "execution_count": null,
   "id": "6b20e4ca-6eb4-46db-a784-3d50256d0a95",
   "metadata": {},
   "outputs": [],
   "source": []
  },
  {
   "cell_type": "code",
   "execution_count": 25,
   "id": "e3178e6f-eda9-4936-b02e-2fe66b0d8d59",
   "metadata": {},
   "outputs": [
    {
     "data": {
      "text/html": [
       "\n",
       "        <table>\n",
       "            <tr>\n",
       "                <td><strong>Reaction identifier</strong></td><td>EX_nh4_e</td>\n",
       "            </tr><tr>\n",
       "                <td><strong>Name</strong></td><td>Ammonia exchange</td>\n",
       "            </tr><tr>\n",
       "                <td><strong>Memory address</strong></td>\n",
       "                <td>0x7efd615158e0</td>\n",
       "            </tr><tr>\n",
       "                <td><strong>Stoichiometry</strong></td>\n",
       "                <td>\n",
       "                    <p style='text-align:right'>nh4_e <=></p>\n",
       "                    <p style='text-align:right'>Ammonium <=></p>\n",
       "                </td>\n",
       "            </tr><tr>\n",
       "                <td><strong>GPR</strong></td><td></td>\n",
       "            </tr><tr>\n",
       "                <td><strong>Lower bound</strong></td><td>-1000.0</td>\n",
       "            </tr><tr>\n",
       "                <td><strong>Upper bound</strong></td><td>1000.0</td>\n",
       "            </tr>\n",
       "        </table>\n",
       "        "
      ],
      "text/plain": [
       "<Reaction EX_nh4_e at 0x7efd615158e0>"
      ]
     },
     "execution_count": 25,
     "metadata": {},
     "output_type": "execute_result"
    }
   ],
   "source": [
    "model.reactions.get_by_id(\"EX_nh4_e\")"
   ]
  },
  {
   "cell_type": "code",
   "execution_count": null,
   "id": "a5be901f-ca89-47cf-9d30-c43c3f179eb8",
   "metadata": {},
   "outputs": [],
   "source": []
  },
  {
   "cell_type": "markdown",
   "id": "89fb16cf-c4ac-4c72-9596-2621896b3266",
   "metadata": {},
   "source": [
    "based on the current flux and modified the "
   ]
  },
  {
   "cell_type": "markdown",
   "id": "c9fc3acb-e43a-4dbd-98fa-4d728ec14583",
   "metadata": {},
   "source": [
    "That's the flux based on the FBA, how can I change it not just the bound?"
   ]
  },
  {
   "cell_type": "code",
   "execution_count": null,
   "id": "42a294b1-3ea7-4d27-a782-84858eb5db75",
   "metadata": {},
   "outputs": [],
   "source": []
  },
  {
   "cell_type": "markdown",
   "id": "09039a31-3339-4f1f-afba-aebc3abc22be",
   "metadata": {
    "tags": []
   },
   "source": [
    "## Set default bound based on the OptForce?"
   ]
  },
  {
   "cell_type": "code",
   "execution_count": 27,
   "id": "302fff7c-9538-4e9f-bdef-00ffaf1762fc",
   "metadata": {},
   "outputs": [
    {
     "data": {
      "text/html": [
       "\n",
       "        <table>\n",
       "            <tr>\n",
       "                <td><strong>Reaction identifier</strong></td><td>EX_nh4_e</td>\n",
       "            </tr><tr>\n",
       "                <td><strong>Name</strong></td><td></td>\n",
       "            </tr><tr>\n",
       "                <td><strong>Memory address</strong></td>\n",
       "                <td>0x7efd3acc2ac0</td>\n",
       "            </tr><tr>\n",
       "                <td><strong>Stoichiometry</strong></td>\n",
       "                <td>\n",
       "                    <p style='text-align:right'><--</p>\n",
       "                    <p style='text-align:right'><--</p>\n",
       "                </td>\n",
       "            </tr><tr>\n",
       "                <td><strong>GPR</strong></td><td></td>\n",
       "            </tr><tr>\n",
       "                <td><strong>Lower bound</strong></td><td>-1.8</td>\n",
       "            </tr><tr>\n",
       "                <td><strong>Upper bound</strong></td><td>-1.7</td>\n",
       "            </tr>\n",
       "        </table>\n",
       "        "
      ],
      "text/plain": [
       "<Reaction EX_nh4_e at 0x7efd3acc2ac0>"
      ]
     },
     "execution_count": 27,
     "metadata": {},
     "output_type": "execute_result"
    }
   ],
   "source": [
    "cobra.Reaction(\"EX_nh4_e\", lower_bound=-1.8, upper_bound=-1.7)"
   ]
  },
  {
   "cell_type": "code",
   "execution_count": 28,
   "id": "42cbfb08-b4f4-4de0-970d-08d350526eb9",
   "metadata": {},
   "outputs": [
    {
     "data": {
      "text/html": [
       "\n",
       "        <table>\n",
       "            <tr>\n",
       "                <td><strong>Reaction identifier</strong></td><td>EX_nh4_e</td>\n",
       "            </tr><tr>\n",
       "                <td><strong>Name</strong></td><td>Ammonia exchange</td>\n",
       "            </tr><tr>\n",
       "                <td><strong>Memory address</strong></td>\n",
       "                <td>0x7efd615158e0</td>\n",
       "            </tr><tr>\n",
       "                <td><strong>Stoichiometry</strong></td>\n",
       "                <td>\n",
       "                    <p style='text-align:right'>nh4_e <=></p>\n",
       "                    <p style='text-align:right'>Ammonium <=></p>\n",
       "                </td>\n",
       "            </tr><tr>\n",
       "                <td><strong>GPR</strong></td><td></td>\n",
       "            </tr><tr>\n",
       "                <td><strong>Lower bound</strong></td><td>-1000.0</td>\n",
       "            </tr><tr>\n",
       "                <td><strong>Upper bound</strong></td><td>1000.0</td>\n",
       "            </tr>\n",
       "        </table>\n",
       "        "
      ],
      "text/plain": [
       "<Reaction EX_nh4_e at 0x7efd615158e0>"
      ]
     },
     "execution_count": 28,
     "metadata": {},
     "output_type": "execute_result"
    }
   ],
   "source": [
    "model.reactions.get_by_id(\"EX_nh4_e\")"
   ]
  },
  {
   "cell_type": "code",
   "execution_count": 44,
   "id": "661606bc-044b-4196-9a55-086908953d97",
   "metadata": {},
   "outputs": [],
   "source": [
    "model.reactions.get_by_id(\"EX_nh4_e\").upper_bound = -1.7"
   ]
  },
  {
   "cell_type": "code",
   "execution_count": 42,
   "id": "9620df37-f5e6-4ba9-9f44-6b000ab3c37e",
   "metadata": {},
   "outputs": [],
   "source": [
    "model.reactions.get_by_id(\"EX_nh4_e\").lower_bound = -1.8"
   ]
  },
  {
   "cell_type": "code",
   "execution_count": 43,
   "id": "bd1bb1e2-3b5d-4d73-a204-16c884eefb89",
   "metadata": {},
   "outputs": [
    {
     "data": {
      "text/html": [
       "\n",
       "        <table>\n",
       "            <tr>\n",
       "                <td><strong>Reaction identifier</strong></td><td>EX_nh4_e</td>\n",
       "            </tr><tr>\n",
       "                <td><strong>Name</strong></td><td>Ammonia exchange</td>\n",
       "            </tr><tr>\n",
       "                <td><strong>Memory address</strong></td>\n",
       "                <td>0x7efd615158e0</td>\n",
       "            </tr><tr>\n",
       "                <td><strong>Stoichiometry</strong></td>\n",
       "                <td>\n",
       "                    <p style='text-align:right'>nh4_e <=></p>\n",
       "                    <p style='text-align:right'>Ammonium <=></p>\n",
       "                </td>\n",
       "            </tr><tr>\n",
       "                <td><strong>GPR</strong></td><td></td>\n",
       "            </tr><tr>\n",
       "                <td><strong>Lower bound</strong></td><td>-1.8</td>\n",
       "            </tr><tr>\n",
       "                <td><strong>Upper bound</strong></td><td>100</td>\n",
       "            </tr>\n",
       "        </table>\n",
       "        "
      ],
      "text/plain": [
       "<Reaction EX_nh4_e at 0x7efd615158e0>"
      ]
     },
     "execution_count": 43,
     "metadata": {},
     "output_type": "execute_result"
    }
   ],
   "source": [
    "model.reactions.get_by_id(\"EX_nh4_e\")"
   ]
  },
  {
   "cell_type": "code",
   "execution_count": 46,
   "id": "495be423-cb27-45f8-a306-f6dd94893c80",
   "metadata": {},
   "outputs": [
    {
     "name": "stdout",
     "output_type": "stream",
     "text": [
      "<Solution 16.747 at 0x7efd3acc2ee0>\n"
     ]
    }
   ],
   "source": [
    "solution = model.optimize()\n",
    "print(solution)"
   ]
  },
  {
   "cell_type": "code",
   "execution_count": 45,
   "id": "bad4ef67-0613-4a6f-90e2-552601fe37a2",
   "metadata": {},
   "outputs": [
    {
     "data": {
      "text/html": [
       "\n",
       "        <table>\n",
       "            <tr>\n",
       "                <td><strong>Reaction identifier</strong></td><td>EX_nh4_e</td>\n",
       "            </tr><tr>\n",
       "                <td><strong>Name</strong></td><td>Ammonia exchange</td>\n",
       "            </tr><tr>\n",
       "                <td><strong>Memory address</strong></td>\n",
       "                <td>0x7efd615158e0</td>\n",
       "            </tr><tr>\n",
       "                <td><strong>Stoichiometry</strong></td>\n",
       "                <td>\n",
       "                    <p style='text-align:right'>nh4_e <--</p>\n",
       "                    <p style='text-align:right'>Ammonium <--</p>\n",
       "                </td>\n",
       "            </tr><tr>\n",
       "                <td><strong>GPR</strong></td><td></td>\n",
       "            </tr><tr>\n",
       "                <td><strong>Lower bound</strong></td><td>-1.8</td>\n",
       "            </tr><tr>\n",
       "                <td><strong>Upper bound</strong></td><td>-1.7</td>\n",
       "            </tr>\n",
       "        </table>\n",
       "        "
      ],
      "text/plain": [
       "<Reaction EX_nh4_e at 0x7efd615158e0>"
      ]
     },
     "execution_count": 45,
     "metadata": {},
     "output_type": "execute_result"
    }
   ],
   "source": [
    "model.reactions.get_by_id(\"EX_nh4_e\")"
   ]
  },
  {
   "cell_type": "code",
   "execution_count": null,
   "id": "2511584a-4f3e-4288-af40-26cda533da28",
   "metadata": {},
   "outputs": [],
   "source": []
  },
  {
   "cell_type": "markdown",
   "id": "0625427f-2170-4232-8101-b76d75eff05e",
   "metadata": {},
   "source": [
    "### O2tex"
   ]
  },
  {
   "cell_type": "code",
   "execution_count": 36,
   "id": "30095d46-d025-4f3b-9e8c-5afa49616357",
   "metadata": {},
   "outputs": [
    {
     "data": {
      "text/html": [
       "\n",
       "        <table>\n",
       "            <tr>\n",
       "                <td><strong>Reaction identifier</strong></td><td>O2tex</td>\n",
       "            </tr><tr>\n",
       "                <td><strong>Name</strong></td><td></td>\n",
       "            </tr><tr>\n",
       "                <td><strong>Memory address</strong></td>\n",
       "                <td>0x7efd3ad3a040</td>\n",
       "            </tr><tr>\n",
       "                <td><strong>Stoichiometry</strong></td>\n",
       "                <td>\n",
       "                    <p style='text-align:right'>--></p>\n",
       "                    <p style='text-align:right'>--></p>\n",
       "                </td>\n",
       "            </tr><tr>\n",
       "                <td><strong>GPR</strong></td><td></td>\n",
       "            </tr><tr>\n",
       "                <td><strong>Lower bound</strong></td><td>0</td>\n",
       "            </tr><tr>\n",
       "                <td><strong>Upper bound</strong></td><td>100</td>\n",
       "            </tr>\n",
       "        </table>\n",
       "        "
      ],
      "text/plain": [
       "<Reaction O2tex at 0x7efd3ad3a040>"
      ]
     },
     "execution_count": 36,
     "metadata": {},
     "output_type": "execute_result"
    }
   ],
   "source": [
    "cobra.Reaction(\"O2tex\", lower_bound = 0, upper_bound = 100) #is not working"
   ]
  },
  {
   "cell_type": "code",
   "execution_count": 37,
   "id": "fa94cb87-eb59-456e-a45a-779a53a18558",
   "metadata": {},
   "outputs": [
    {
     "data": {
      "text/html": [
       "\n",
       "        <table>\n",
       "            <tr>\n",
       "                <td><strong>Reaction identifier</strong></td><td>O2tex</td>\n",
       "            </tr><tr>\n",
       "                <td><strong>Name</strong></td><td>Oxygen transport via diffusion (extracellular to periplasm)</td>\n",
       "            </tr><tr>\n",
       "                <td><strong>Memory address</strong></td>\n",
       "                <td>0x7efd6075fdc0</td>\n",
       "            </tr><tr>\n",
       "                <td><strong>Stoichiometry</strong></td>\n",
       "                <td>\n",
       "                    <p style='text-align:right'>o2_e <=> o2_p</p>\n",
       "                    <p style='text-align:right'>O2 O2 <=> O2 O2</p>\n",
       "                </td>\n",
       "            </tr><tr>\n",
       "                <td><strong>GPR</strong></td><td>b1377 or b0241 or b0929 or b2215</td>\n",
       "            </tr><tr>\n",
       "                <td><strong>Lower bound</strong></td><td>-1000.0</td>\n",
       "            </tr><tr>\n",
       "                <td><strong>Upper bound</strong></td><td>1000.0</td>\n",
       "            </tr>\n",
       "        </table>\n",
       "        "
      ],
      "text/plain": [
       "<Reaction O2tex at 0x7efd6075fdc0>"
      ]
     },
     "execution_count": 37,
     "metadata": {},
     "output_type": "execute_result"
    }
   ],
   "source": [
    "model.reactions.get_by_id(\"O2tex\")"
   ]
  },
  {
   "cell_type": "code",
   "execution_count": 47,
   "id": "690ea333-e0ba-4e68-9b99-8e338b0a7725",
   "metadata": {},
   "outputs": [],
   "source": [
    "model.reactions.get_by_id(\"O2tex\").lower_bound = 0"
   ]
  },
  {
   "cell_type": "code",
   "execution_count": 53,
   "id": "03c91636-cfb3-4caa-ac1b-abc14ed9244a",
   "metadata": {},
   "outputs": [],
   "source": [
    "model.reactions.get_by_id(\"O2tex\").upper_bound = 1"
   ]
  },
  {
   "cell_type": "code",
   "execution_count": 54,
   "id": "e26f0df9-4905-4b2f-a796-496d75377eda",
   "metadata": {},
   "outputs": [
    {
     "data": {
      "text/html": [
       "\n",
       "        <table>\n",
       "            <tr>\n",
       "                <td><strong>Reaction identifier</strong></td><td>O2tex</td>\n",
       "            </tr><tr>\n",
       "                <td><strong>Name</strong></td><td>Oxygen transport via diffusion (extracellular to periplasm)</td>\n",
       "            </tr><tr>\n",
       "                <td><strong>Memory address</strong></td>\n",
       "                <td>0x7efd6075fdc0</td>\n",
       "            </tr><tr>\n",
       "                <td><strong>Stoichiometry</strong></td>\n",
       "                <td>\n",
       "                    <p style='text-align:right'>o2_e --> o2_p</p>\n",
       "                    <p style='text-align:right'>O2 O2 --> O2 O2</p>\n",
       "                </td>\n",
       "            </tr><tr>\n",
       "                <td><strong>GPR</strong></td><td>b1377 or b0241 or b0929 or b2215</td>\n",
       "            </tr><tr>\n",
       "                <td><strong>Lower bound</strong></td><td>0</td>\n",
       "            </tr><tr>\n",
       "                <td><strong>Upper bound</strong></td><td>1</td>\n",
       "            </tr>\n",
       "        </table>\n",
       "        "
      ],
      "text/plain": [
       "<Reaction O2tex at 0x7efd6075fdc0>"
      ]
     },
     "execution_count": 54,
     "metadata": {},
     "output_type": "execute_result"
    }
   ],
   "source": [
    "model.reactions.get_by_id(\"O2tex\")"
   ]
  },
  {
   "cell_type": "code",
   "execution_count": 55,
   "id": "dc10b91b-8ecc-4179-8953-81f437dbe4bf",
   "metadata": {},
   "outputs": [
    {
     "name": "stdout",
     "output_type": "stream",
     "text": [
      "<Solution 16.528 at 0x7efd32236b80>\n"
     ]
    }
   ],
   "source": [
    "solution = model.optimize()\n",
    "print(solution)"
   ]
  },
  {
   "cell_type": "code",
   "execution_count": 56,
   "id": "0909781d-aaaa-416a-8098-38d1afbb560f",
   "metadata": {},
   "outputs": [
    {
     "data": {
      "text/html": [
       "\n",
       "        <table>\n",
       "            <tr>\n",
       "                <td><strong>Reaction identifier</strong></td><td>O2tex</td>\n",
       "            </tr><tr>\n",
       "                <td><strong>Name</strong></td><td>Oxygen transport via diffusion (extracellular to periplasm)</td>\n",
       "            </tr><tr>\n",
       "                <td><strong>Memory address</strong></td>\n",
       "                <td>0x7efd6075fdc0</td>\n",
       "            </tr><tr>\n",
       "                <td><strong>Stoichiometry</strong></td>\n",
       "                <td>\n",
       "                    <p style='text-align:right'>o2_e --> o2_p</p>\n",
       "                    <p style='text-align:right'>O2 O2 --> O2 O2</p>\n",
       "                </td>\n",
       "            </tr><tr>\n",
       "                <td><strong>GPR</strong></td><td>b1377 or b0241 or b0929 or b2215</td>\n",
       "            </tr><tr>\n",
       "                <td><strong>Lower bound</strong></td><td>0</td>\n",
       "            </tr><tr>\n",
       "                <td><strong>Upper bound</strong></td><td>1</td>\n",
       "            </tr>\n",
       "        </table>\n",
       "        "
      ],
      "text/plain": [
       "<Reaction O2tex at 0x7efd6075fdc0>"
      ]
     },
     "execution_count": 56,
     "metadata": {},
     "output_type": "execute_result"
    }
   ],
   "source": [
    "model.reactions.get_by_id(\"O2tex\")"
   ]
  },
  {
   "cell_type": "code",
   "execution_count": 57,
   "id": "5eaa41f1-97ec-4e13-a9d6-8f9902854e47",
   "metadata": {},
   "outputs": [
    {
     "data": {
      "text/html": [
       "<h3>O2tex</h3><p>o2_e --> o2_p</p><p>Bounds: 0, 1</p><p>Flux: 1</p>"
      ],
      "text/plain": [
       "<cobra.summary.reaction_summary.ReactionSummary at 0x7efd322366d0>"
      ]
     },
     "execution_count": 57,
     "metadata": {},
     "output_type": "execute_result"
    }
   ],
   "source": [
    "model.reactions.O2tex.summary()"
   ]
  },
  {
   "cell_type": "code",
   "execution_count": 58,
   "id": "96f77541-2631-474e-8e3a-86808a030c41",
   "metadata": {},
   "outputs": [
    {
     "data": {
      "text/plain": [
       "cobra.summary.reaction_summary.ReactionSummary"
      ]
     },
     "execution_count": 58,
     "metadata": {},
     "output_type": "execute_result"
    }
   ],
   "source": [
    "type(model.reactions.O2tex.summary())"
   ]
  },
  {
   "cell_type": "code",
   "execution_count": 66,
   "id": "35bd24bc-a889-45b5-8538-9b4057ca89e9",
   "metadata": {
    "collapsed": true,
    "jupyter": {
     "outputs_hidden": true
    },
    "tags": []
   },
   "outputs": [
    {
     "ename": "AttributeError",
     "evalue": "'Reaction' object has no attribute 'summary_display_flux'",
     "output_type": "error",
     "traceback": [
      "\u001b[0;31m---------------------------------------------------------------------------\u001b[0m",
      "\u001b[0;31mAttributeError\u001b[0m                            Traceback (most recent call last)",
      "\u001b[0;32m<ipython-input-66-4789a19836a6>\u001b[0m in \u001b[0;36m<module>\u001b[0;34m\u001b[0m\n\u001b[0;32m----> 1\u001b[0;31m \u001b[0mmodel\u001b[0m\u001b[0;34m.\u001b[0m\u001b[0mreactions\u001b[0m\u001b[0;34m.\u001b[0m\u001b[0mO2tex\u001b[0m\u001b[0;34m.\u001b[0m\u001b[0msummary_display_flux\u001b[0m\u001b[0;34m(\u001b[0m\u001b[0;34m)\u001b[0m\u001b[0;34m\u001b[0m\u001b[0;34m\u001b[0m\u001b[0m\n\u001b[0m",
      "\u001b[0;31mAttributeError\u001b[0m: 'Reaction' object has no attribute 'summary_display_flux'"
     ]
    }
   ],
   "source": [
    "model.reactions.O2tex.summary_display_flux()"
   ]
  },
  {
   "cell_type": "code",
   "execution_count": 67,
   "id": "fa641444-6655-4349-accc-64aed32af2fe",
   "metadata": {},
   "outputs": [
    {
     "ename": "TypeError",
     "evalue": "'module' object is not callable",
     "output_type": "error",
     "traceback": [
      "\u001b[0;31m---------------------------------------------------------------------------\u001b[0m",
      "\u001b[0;31mTypeError\u001b[0m                                 Traceback (most recent call last)",
      "\u001b[0;32m<ipython-input-67-b3d4809aa0c8>\u001b[0m in \u001b[0;36m<module>\u001b[0;34m\u001b[0m\n\u001b[0;32m----> 1\u001b[0;31m \u001b[0mcobra\u001b[0m\u001b[0;34m.\u001b[0m\u001b[0msummary\u001b[0m\u001b[0;34m.\u001b[0m\u001b[0mreaction_summary\u001b[0m\u001b[0;34m(\u001b[0m\u001b[0mmodel\u001b[0m\u001b[0;34m)\u001b[0m\u001b[0;34m\u001b[0m\u001b[0;34m\u001b[0m\u001b[0m\n\u001b[0m",
      "\u001b[0;31mTypeError\u001b[0m: 'module' object is not callable"
     ]
    }
   ],
   "source": [
    "cobra.summary.reaction_summary(model)"
   ]
  },
  {
   "cell_type": "code",
   "execution_count": null,
   "id": "d29c51c9-6f65-44c3-8bfa-8c4a86330a7d",
   "metadata": {},
   "outputs": [],
   "source": []
  },
  {
   "cell_type": "code",
   "execution_count": 64,
   "id": "86478bbf-4b18-4e0f-bd53-65348b9d4f4f",
   "metadata": {},
   "outputs": [
    {
     "ename": "TypeError",
     "evalue": "__init__() takes 1 positional argument but 3 were given",
     "output_type": "error",
     "traceback": [
      "\u001b[0;31m---------------------------------------------------------------------------\u001b[0m",
      "\u001b[0;31mTypeError\u001b[0m                                 Traceback (most recent call last)",
      "\u001b[0;32m<ipython-input-64-dfd36cac2dd5>\u001b[0m in \u001b[0;36m<module>\u001b[0;34m\u001b[0m\n\u001b[0;32m----> 1\u001b[0;31m \u001b[0mcobra\u001b[0m\u001b[0;34m.\u001b[0m\u001b[0msummary\u001b[0m\u001b[0;34m.\u001b[0m\u001b[0mreaction_summary\u001b[0m\u001b[0;34m.\u001b[0m\u001b[0mReactionSummary\u001b[0m\u001b[0;34m(\u001b[0m\u001b[0;34m\"O2tex\"\u001b[0m\u001b[0;34m,\u001b[0m \u001b[0mmodel\u001b[0m\u001b[0;34m)\u001b[0m\u001b[0;34m\u001b[0m\u001b[0;34m\u001b[0m\u001b[0m\n\u001b[0m",
      "\u001b[0;31mTypeError\u001b[0m: __init__() takes 1 positional argument but 3 were given"
     ]
    }
   ],
   "source": [
    "cobra.summary.reaction_summary.ReactionSummary(\"O2tex\", model)"
   ]
  },
  {
   "cell_type": "code",
   "execution_count": null,
   "id": "5c9eff4a-b384-4f2d-9208-8e0c2258d78c",
   "metadata": {},
   "outputs": [],
   "source": []
  },
  {
   "cell_type": "markdown",
   "id": "6678e821-5fb4-4c2a-aecc-5139293b7707",
   "metadata": {},
   "source": [
    "if I knock the FBA flux and then change it"
   ]
  },
  {
   "cell_type": "code",
   "execution_count": null,
   "id": "21b5d2e8-969e-40f9-8f43-3ea53ddf23a5",
   "metadata": {},
   "outputs": [],
   "source": []
  },
  {
   "cell_type": "code",
   "execution_count": null,
   "id": "0ed2e993-8a8e-4a86-8028-0aa93f8586c3",
   "metadata": {},
   "outputs": [],
   "source": []
  },
  {
   "cell_type": "code",
   "execution_count": 107,
   "id": "d28ec844-4fbc-48b7-b34e-95fa301591bf",
   "metadata": {},
   "outputs": [
    {
     "data": {
      "text/html": [
       "<h3>ACONTa</h3><p>cit_c <=> acon_C_c + h2o_c</p><p>Bounds: -1000.0, 1000.0</p><p>Flux: 4</p>"
      ],
      "text/plain": [
       "<cobra.summary.reaction_summary.ReactionSummary at 0x7efd433ef520>"
      ]
     },
     "execution_count": 107,
     "metadata": {},
     "output_type": "execute_result"
    }
   ],
   "source": [
    "model.reactions.ACONTa.summary()"
   ]
  },
  {
   "cell_type": "code",
   "execution_count": 110,
   "id": "acaba7a7-17be-422f-8d5f-0a4f838ea21b",
   "metadata": {},
   "outputs": [],
   "source": [
    "model.reactions.get_by_id(\"ACONTa\").upper_bound = 0"
   ]
  },
  {
   "cell_type": "code",
   "execution_count": 111,
   "id": "5b0c2841-171c-4575-b85a-faf6ab7d29be",
   "metadata": {},
   "outputs": [],
   "source": [
    "model.reactions.get_by_id(\"ACONTa\").lower_bound= 0"
   ]
  },
  {
   "cell_type": "code",
   "execution_count": 112,
   "id": "b643a0fc-3d4d-4f7f-95b8-73f982164f53",
   "metadata": {},
   "outputs": [
    {
     "data": {
      "text/html": [
       "\n",
       "        <table>\n",
       "            <tr>\n",
       "                <td><strong>Reaction identifier</strong></td><td>ACONTa</td>\n",
       "            </tr><tr>\n",
       "                <td><strong>Name</strong></td><td>Aconitase (half-reaction A, Citrate hydro-lyase)</td>\n",
       "            </tr><tr>\n",
       "                <td><strong>Memory address</strong></td>\n",
       "                <td>0x7efd29c5ac10</td>\n",
       "            </tr><tr>\n",
       "                <td><strong>Stoichiometry</strong></td>\n",
       "                <td>\n",
       "                    <p style='text-align:right'>cit_c --> acon_C_c + h2o_c</p>\n",
       "                    <p style='text-align:right'>Citrate --> Cis-Aconitate + H2O H2O</p>\n",
       "                </td>\n",
       "            </tr><tr>\n",
       "                <td><strong>GPR</strong></td><td>b0118 or b1276</td>\n",
       "            </tr><tr>\n",
       "                <td><strong>Lower bound</strong></td><td>0</td>\n",
       "            </tr><tr>\n",
       "                <td><strong>Upper bound</strong></td><td>0</td>\n",
       "            </tr>\n",
       "        </table>\n",
       "        "
      ],
      "text/plain": [
       "<Reaction ACONTa at 0x7efd29c5ac10>"
      ]
     },
     "execution_count": 112,
     "metadata": {},
     "output_type": "execute_result"
    }
   ],
   "source": [
    "model.reactions.get_by_id(\"ACONTa\")"
   ]
  },
  {
   "cell_type": "code",
   "execution_count": 113,
   "id": "9da87161-b09b-4deb-83dd-8b6da3d057af",
   "metadata": {},
   "outputs": [
    {
     "name": "stdout",
     "output_type": "stream",
     "text": [
      "<Solution 14.345 at 0x7efd4343f670>\n"
     ]
    }
   ],
   "source": [
    "solution = model.optimize()\n",
    "print(solution)"
   ]
  },
  {
   "cell_type": "code",
   "execution_count": 114,
   "id": "ba978ee4-01b4-4f46-a4ab-35688724f9c3",
   "metadata": {
    "collapsed": true,
    "jupyter": {
     "outputs_hidden": true
    },
    "tags": []
   },
   "outputs": [
    {
     "ename": "KeyError",
     "evalue": "'ACONTa'",
     "output_type": "error",
     "traceback": [
      "\u001b[0;31m---------------------------------------------------------------------------\u001b[0m",
      "\u001b[0;31mKeyError\u001b[0m                                  Traceback (most recent call last)",
      "\u001b[0;32m~/miniconda3/envs/cobra/lib/python3.8/site-packages/pandas/core/indexes/base.py\u001b[0m in \u001b[0;36mget_loc\u001b[0;34m(self, key, method, tolerance)\u001b[0m\n\u001b[1;32m   3620\u001b[0m             \u001b[0;32mtry\u001b[0m\u001b[0;34m:\u001b[0m\u001b[0;34m\u001b[0m\u001b[0;34m\u001b[0m\u001b[0m\n\u001b[0;32m-> 3621\u001b[0;31m                 \u001b[0;32mreturn\u001b[0m \u001b[0mself\u001b[0m\u001b[0;34m.\u001b[0m\u001b[0m_engine\u001b[0m\u001b[0;34m.\u001b[0m\u001b[0mget_loc\u001b[0m\u001b[0;34m(\u001b[0m\u001b[0mcasted_key\u001b[0m\u001b[0;34m)\u001b[0m\u001b[0;34m\u001b[0m\u001b[0;34m\u001b[0m\u001b[0m\n\u001b[0m\u001b[1;32m   3622\u001b[0m             \u001b[0;32mexcept\u001b[0m \u001b[0mKeyError\u001b[0m \u001b[0;32mas\u001b[0m \u001b[0merr\u001b[0m\u001b[0;34m:\u001b[0m\u001b[0;34m\u001b[0m\u001b[0;34m\u001b[0m\u001b[0m\n",
      "\u001b[0;32m~/miniconda3/envs/cobra/lib/python3.8/site-packages/pandas/_libs/index.pyx\u001b[0m in \u001b[0;36mpandas._libs.index.IndexEngine.get_loc\u001b[0;34m()\u001b[0m\n",
      "\u001b[0;32m~/miniconda3/envs/cobra/lib/python3.8/site-packages/pandas/_libs/index.pyx\u001b[0m in \u001b[0;36mpandas._libs.index.IndexEngine.get_loc\u001b[0;34m()\u001b[0m\n",
      "\u001b[0;32mpandas/_libs/hashtable_class_helper.pxi\u001b[0m in \u001b[0;36mpandas._libs.hashtable.PyObjectHashTable.get_item\u001b[0;34m()\u001b[0m\n",
      "\u001b[0;32mpandas/_libs/hashtable_class_helper.pxi\u001b[0m in \u001b[0;36mpandas._libs.hashtable.PyObjectHashTable.get_item\u001b[0;34m()\u001b[0m\n",
      "\u001b[0;31mKeyError\u001b[0m: 'ACONTa'",
      "\nThe above exception was the direct cause of the following exception:\n",
      "\u001b[0;31mKeyError\u001b[0m                                  Traceback (most recent call last)",
      "\u001b[0;32m~/miniconda3/envs/cobra/lib/python3.8/site-packages/IPython/core/formatters.py\u001b[0m in \u001b[0;36m__call__\u001b[0;34m(self, obj)\u001b[0m\n\u001b[1;32m    343\u001b[0m             \u001b[0mmethod\u001b[0m \u001b[0;34m=\u001b[0m \u001b[0mget_real_method\u001b[0m\u001b[0;34m(\u001b[0m\u001b[0mobj\u001b[0m\u001b[0;34m,\u001b[0m \u001b[0mself\u001b[0m\u001b[0;34m.\u001b[0m\u001b[0mprint_method\u001b[0m\u001b[0;34m)\u001b[0m\u001b[0;34m\u001b[0m\u001b[0;34m\u001b[0m\u001b[0m\n\u001b[1;32m    344\u001b[0m             \u001b[0;32mif\u001b[0m \u001b[0mmethod\u001b[0m \u001b[0;32mis\u001b[0m \u001b[0;32mnot\u001b[0m \u001b[0;32mNone\u001b[0m\u001b[0;34m:\u001b[0m\u001b[0;34m\u001b[0m\u001b[0;34m\u001b[0m\u001b[0m\n\u001b[0;32m--> 345\u001b[0;31m                 \u001b[0;32mreturn\u001b[0m \u001b[0mmethod\u001b[0m\u001b[0;34m(\u001b[0m\u001b[0;34m)\u001b[0m\u001b[0;34m\u001b[0m\u001b[0;34m\u001b[0m\u001b[0m\n\u001b[0m\u001b[1;32m    346\u001b[0m             \u001b[0;32mreturn\u001b[0m \u001b[0;32mNone\u001b[0m\u001b[0;34m\u001b[0m\u001b[0;34m\u001b[0m\u001b[0m\n\u001b[1;32m    347\u001b[0m         \u001b[0;32melse\u001b[0m\u001b[0;34m:\u001b[0m\u001b[0;34m\u001b[0m\u001b[0;34m\u001b[0m\u001b[0m\n",
      "\u001b[0;32m~/miniconda3/envs/cobra/lib/python3.8/site-packages/cobra/summary/summary.py\u001b[0m in \u001b[0;36m_repr_html_\u001b[0;34m(self)\u001b[0m\n\u001b[1;32m     77\u001b[0m     \u001b[0;32mdef\u001b[0m \u001b[0m_repr_html_\u001b[0m\u001b[0;34m(\u001b[0m\u001b[0mself\u001b[0m\u001b[0;34m)\u001b[0m \u001b[0;34m->\u001b[0m \u001b[0mstr\u001b[0m\u001b[0;34m:\u001b[0m\u001b[0;34m\u001b[0m\u001b[0;34m\u001b[0m\u001b[0m\n\u001b[1;32m     78\u001b[0m         \u001b[0;34m\"\"\"Return a rich HTML representation of the summary.\"\"\"\u001b[0m\u001b[0;34m\u001b[0m\u001b[0;34m\u001b[0m\u001b[0m\n\u001b[0;32m---> 79\u001b[0;31m         \u001b[0;32mreturn\u001b[0m \u001b[0mself\u001b[0m\u001b[0;34m.\u001b[0m\u001b[0mto_html\u001b[0m\u001b[0;34m(\u001b[0m\u001b[0;34m)\u001b[0m\u001b[0;34m\u001b[0m\u001b[0;34m\u001b[0m\u001b[0m\n\u001b[0m\u001b[1;32m     80\u001b[0m \u001b[0;34m\u001b[0m\u001b[0m\n\u001b[1;32m     81\u001b[0m     \u001b[0;34m@\u001b[0m\u001b[0mproperty\u001b[0m\u001b[0;34m\u001b[0m\u001b[0;34m\u001b[0m\u001b[0m\n",
      "\u001b[0;32m~/miniconda3/envs/cobra/lib/python3.8/site-packages/cobra/summary/reaction_summary.py\u001b[0m in \u001b[0;36mto_html\u001b[0;34m(self, names, threshold, float_format)\u001b[0m\n\u001b[1;32m    240\u001b[0m             \u001b[0mheader\u001b[0m \u001b[0;34m=\u001b[0m \u001b[0mself\u001b[0m\u001b[0;34m.\u001b[0m\u001b[0m_reaction\u001b[0m\u001b[0;34m.\u001b[0m\u001b[0mid\u001b[0m\u001b[0;34m\u001b[0m\u001b[0;34m\u001b[0m\u001b[0m\n\u001b[1;32m    241\u001b[0m \u001b[0;34m\u001b[0m\u001b[0m\n\u001b[0;32m--> 242\u001b[0;31m         \u001b[0mflux\u001b[0m \u001b[0;34m=\u001b[0m \u001b[0mself\u001b[0m\u001b[0;34m.\u001b[0m\u001b[0m_string_flux\u001b[0m\u001b[0;34m(\u001b[0m\u001b[0mthreshold\u001b[0m\u001b[0;34m,\u001b[0m \u001b[0mfloat_format\u001b[0m\u001b[0;34m)\u001b[0m\u001b[0;34m\u001b[0m\u001b[0;34m\u001b[0m\u001b[0m\n\u001b[0m\u001b[1;32m    243\u001b[0m \u001b[0;34m\u001b[0m\u001b[0m\n\u001b[1;32m    244\u001b[0m         return (\n",
      "\u001b[0;32m~/miniconda3/envs/cobra/lib/python3.8/site-packages/cobra/summary/reaction_summary.py\u001b[0m in \u001b[0;36m_string_flux\u001b[0;34m(self, threshold, float_format)\u001b[0m\n\u001b[1;32m    157\u001b[0m         \u001b[0;32melse\u001b[0m\u001b[0;34m:\u001b[0m\u001b[0;34m\u001b[0m\u001b[0;34m\u001b[0m\u001b[0m\n\u001b[1;32m    158\u001b[0m             \u001b[0mframe\u001b[0m \u001b[0;34m=\u001b[0m \u001b[0mself\u001b[0m\u001b[0;34m.\u001b[0m\u001b[0m_flux\u001b[0m\u001b[0;34m.\u001b[0m\u001b[0mloc\u001b[0m\u001b[0;34m[\u001b[0m\u001b[0mself\u001b[0m\u001b[0;34m.\u001b[0m\u001b[0m_flux\u001b[0m\u001b[0;34m[\u001b[0m\u001b[0;34m\"flux\"\u001b[0m\u001b[0;34m]\u001b[0m\u001b[0;34m.\u001b[0m\u001b[0mabs\u001b[0m\u001b[0;34m(\u001b[0m\u001b[0;34m)\u001b[0m \u001b[0;34m>=\u001b[0m \u001b[0mthreshold\u001b[0m\u001b[0;34m,\u001b[0m \u001b[0;34m:\u001b[0m\u001b[0;34m]\u001b[0m\u001b[0;34m.\u001b[0m\u001b[0mcopy\u001b[0m\u001b[0;34m(\u001b[0m\u001b[0;34m)\u001b[0m\u001b[0;34m\u001b[0m\u001b[0;34m\u001b[0m\u001b[0m\n\u001b[0;32m--> 159\u001b[0;31m             \u001b[0;32mreturn\u001b[0m \u001b[0;34mf\"{frame.at[self._reaction.id, 'flux']:{float_format}}\"\u001b[0m\u001b[0;34m\u001b[0m\u001b[0;34m\u001b[0m\u001b[0m\n\u001b[0m\u001b[1;32m    160\u001b[0m \u001b[0;34m\u001b[0m\u001b[0m\n\u001b[1;32m    161\u001b[0m     def to_string(\n",
      "\u001b[0;32m~/miniconda3/envs/cobra/lib/python3.8/site-packages/pandas/core/indexing.py\u001b[0m in \u001b[0;36m__getitem__\u001b[0;34m(self, key)\u001b[0m\n\u001b[1;32m   2268\u001b[0m             \u001b[0;32mreturn\u001b[0m \u001b[0mself\u001b[0m\u001b[0;34m.\u001b[0m\u001b[0mobj\u001b[0m\u001b[0;34m.\u001b[0m\u001b[0mloc\u001b[0m\u001b[0;34m[\u001b[0m\u001b[0mkey\u001b[0m\u001b[0;34m]\u001b[0m\u001b[0;34m\u001b[0m\u001b[0;34m\u001b[0m\u001b[0m\n\u001b[1;32m   2269\u001b[0m \u001b[0;34m\u001b[0m\u001b[0m\n\u001b[0;32m-> 2270\u001b[0;31m         \u001b[0;32mreturn\u001b[0m \u001b[0msuper\u001b[0m\u001b[0;34m(\u001b[0m\u001b[0;34m)\u001b[0m\u001b[0;34m.\u001b[0m\u001b[0m__getitem__\u001b[0m\u001b[0;34m(\u001b[0m\u001b[0mkey\u001b[0m\u001b[0;34m)\u001b[0m\u001b[0;34m\u001b[0m\u001b[0;34m\u001b[0m\u001b[0m\n\u001b[0m\u001b[1;32m   2271\u001b[0m \u001b[0;34m\u001b[0m\u001b[0m\n\u001b[1;32m   2272\u001b[0m     \u001b[0;32mdef\u001b[0m \u001b[0m__setitem__\u001b[0m\u001b[0;34m(\u001b[0m\u001b[0mself\u001b[0m\u001b[0;34m,\u001b[0m \u001b[0mkey\u001b[0m\u001b[0;34m,\u001b[0m \u001b[0mvalue\u001b[0m\u001b[0;34m)\u001b[0m\u001b[0;34m:\u001b[0m\u001b[0;34m\u001b[0m\u001b[0;34m\u001b[0m\u001b[0m\n",
      "\u001b[0;32m~/miniconda3/envs/cobra/lib/python3.8/site-packages/pandas/core/indexing.py\u001b[0m in \u001b[0;36m__getitem__\u001b[0;34m(self, key)\u001b[0m\n\u001b[1;32m   2219\u001b[0m \u001b[0;34m\u001b[0m\u001b[0m\n\u001b[1;32m   2220\u001b[0m         \u001b[0mkey\u001b[0m \u001b[0;34m=\u001b[0m \u001b[0mself\u001b[0m\u001b[0;34m.\u001b[0m\u001b[0m_convert_key\u001b[0m\u001b[0;34m(\u001b[0m\u001b[0mkey\u001b[0m\u001b[0;34m)\u001b[0m\u001b[0;34m\u001b[0m\u001b[0;34m\u001b[0m\u001b[0m\n\u001b[0;32m-> 2221\u001b[0;31m         \u001b[0;32mreturn\u001b[0m \u001b[0mself\u001b[0m\u001b[0;34m.\u001b[0m\u001b[0mobj\u001b[0m\u001b[0;34m.\u001b[0m\u001b[0m_get_value\u001b[0m\u001b[0;34m(\u001b[0m\u001b[0;34m*\u001b[0m\u001b[0mkey\u001b[0m\u001b[0;34m,\u001b[0m \u001b[0mtakeable\u001b[0m\u001b[0;34m=\u001b[0m\u001b[0mself\u001b[0m\u001b[0;34m.\u001b[0m\u001b[0m_takeable\u001b[0m\u001b[0;34m)\u001b[0m\u001b[0;34m\u001b[0m\u001b[0;34m\u001b[0m\u001b[0m\n\u001b[0m\u001b[1;32m   2222\u001b[0m \u001b[0;34m\u001b[0m\u001b[0m\n\u001b[1;32m   2223\u001b[0m     \u001b[0;32mdef\u001b[0m \u001b[0m__setitem__\u001b[0m\u001b[0;34m(\u001b[0m\u001b[0mself\u001b[0m\u001b[0;34m,\u001b[0m \u001b[0mkey\u001b[0m\u001b[0;34m,\u001b[0m \u001b[0mvalue\u001b[0m\u001b[0;34m)\u001b[0m\u001b[0;34m:\u001b[0m\u001b[0;34m\u001b[0m\u001b[0;34m\u001b[0m\u001b[0m\n",
      "\u001b[0;32m~/miniconda3/envs/cobra/lib/python3.8/site-packages/pandas/core/frame.py\u001b[0m in \u001b[0;36m_get_value\u001b[0;34m(self, index, col, takeable)\u001b[0m\n\u001b[1;32m   3620\u001b[0m             \u001b[0;31m#  results if our categories are integers that dont match our codes\u001b[0m\u001b[0;34m\u001b[0m\u001b[0;34m\u001b[0m\u001b[0;34m\u001b[0m\u001b[0m\n\u001b[1;32m   3621\u001b[0m             \u001b[0;31m# IntervalIndex: IntervalTree has no get_loc\u001b[0m\u001b[0;34m\u001b[0m\u001b[0;34m\u001b[0m\u001b[0;34m\u001b[0m\u001b[0m\n\u001b[0;32m-> 3622\u001b[0;31m             \u001b[0mrow\u001b[0m \u001b[0;34m=\u001b[0m \u001b[0mself\u001b[0m\u001b[0;34m.\u001b[0m\u001b[0mindex\u001b[0m\u001b[0;34m.\u001b[0m\u001b[0mget_loc\u001b[0m\u001b[0;34m(\u001b[0m\u001b[0mindex\u001b[0m\u001b[0;34m)\u001b[0m\u001b[0;34m\u001b[0m\u001b[0;34m\u001b[0m\u001b[0m\n\u001b[0m\u001b[1;32m   3623\u001b[0m             \u001b[0;32mreturn\u001b[0m \u001b[0mseries\u001b[0m\u001b[0;34m.\u001b[0m\u001b[0m_values\u001b[0m\u001b[0;34m[\u001b[0m\u001b[0mrow\u001b[0m\u001b[0;34m]\u001b[0m\u001b[0;34m\u001b[0m\u001b[0;34m\u001b[0m\u001b[0m\n\u001b[1;32m   3624\u001b[0m \u001b[0;34m\u001b[0m\u001b[0m\n",
      "\u001b[0;32m~/miniconda3/envs/cobra/lib/python3.8/site-packages/pandas/core/indexes/base.py\u001b[0m in \u001b[0;36mget_loc\u001b[0;34m(self, key, method, tolerance)\u001b[0m\n\u001b[1;32m   3621\u001b[0m                 \u001b[0;32mreturn\u001b[0m \u001b[0mself\u001b[0m\u001b[0;34m.\u001b[0m\u001b[0m_engine\u001b[0m\u001b[0;34m.\u001b[0m\u001b[0mget_loc\u001b[0m\u001b[0;34m(\u001b[0m\u001b[0mcasted_key\u001b[0m\u001b[0;34m)\u001b[0m\u001b[0;34m\u001b[0m\u001b[0;34m\u001b[0m\u001b[0m\n\u001b[1;32m   3622\u001b[0m             \u001b[0;32mexcept\u001b[0m \u001b[0mKeyError\u001b[0m \u001b[0;32mas\u001b[0m \u001b[0merr\u001b[0m\u001b[0;34m:\u001b[0m\u001b[0;34m\u001b[0m\u001b[0;34m\u001b[0m\u001b[0m\n\u001b[0;32m-> 3623\u001b[0;31m                 \u001b[0;32mraise\u001b[0m \u001b[0mKeyError\u001b[0m\u001b[0;34m(\u001b[0m\u001b[0mkey\u001b[0m\u001b[0;34m)\u001b[0m \u001b[0;32mfrom\u001b[0m \u001b[0merr\u001b[0m\u001b[0;34m\u001b[0m\u001b[0;34m\u001b[0m\u001b[0m\n\u001b[0m\u001b[1;32m   3624\u001b[0m             \u001b[0;32mexcept\u001b[0m \u001b[0mTypeError\u001b[0m\u001b[0;34m:\u001b[0m\u001b[0;34m\u001b[0m\u001b[0;34m\u001b[0m\u001b[0m\n\u001b[1;32m   3625\u001b[0m                 \u001b[0;31m# If we have a listlike key, _check_indexing_error will raise\u001b[0m\u001b[0;34m\u001b[0m\u001b[0;34m\u001b[0m\u001b[0;34m\u001b[0m\u001b[0m\n",
      "\u001b[0;31mKeyError\u001b[0m: 'ACONTa'"
     ]
    },
    {
     "data": {
      "text/plain": [
       "<cobra.summary.reaction_summary.ReactionSummary at 0x7efd18974130>"
      ]
     },
     "execution_count": 114,
     "metadata": {},
     "output_type": "execute_result"
    }
   ],
   "source": [
    "model.reactions.ACONTa.summary()"
   ]
  },
  {
   "cell_type": "code",
   "execution_count": null,
   "id": "e4b2cfd8-38b8-4770-b7bb-e9276dc33250",
   "metadata": {},
   "outputs": [],
   "source": []
  },
  {
   "cell_type": "code",
   "execution_count": null,
   "id": "0ac246f3-9694-44f3-85cc-72d9aaad6daa",
   "metadata": {},
   "outputs": [],
   "source": []
  },
  {
   "cell_type": "code",
   "execution_count": null,
   "id": "372746c7-7ce2-459a-ac06-022a16353672",
   "metadata": {},
   "outputs": [],
   "source": []
  },
  {
   "cell_type": "markdown",
   "id": "30808c90-9289-4bb6-9713-767efee1b865",
   "metadata": {},
   "source": [
    "if I knock out a gene"
   ]
  },
  {
   "cell_type": "code",
   "execution_count": 19,
   "id": "4830b018-5f90-400c-a40d-b898eda05f5e",
   "metadata": {},
   "outputs": [],
   "source": [
    "from cobra.flux_analysis import (\n",
    "    single_gene_deletion, single_reaction_deletion, double_gene_deletion,\n",
    "    double_reaction_deletion)"
   ]
  },
  {
   "cell_type": "code",
   "execution_count": 20,
   "id": "f1342018-c14b-47b7-a387-c96901c02d7d",
   "metadata": {},
   "outputs": [
    {
     "name": "stdout",
     "output_type": "stream",
     "text": [
      "complete model:  <Solution 17.096 at 0x7efd3afa2730>\n",
      "ACONTa knocked out:  <Solution 16.682 at 0x7efd3afa2460>\n"
     ]
    }
   ],
   "source": [
    "print('complete model: ', model.optimize())\n",
    "with model:\n",
    "    model.reactions.ACONTa.knock_out()\n",
    "    print('ACONTa knocked out: ', model.optimize())"
   ]
  },
  {
   "cell_type": "code",
   "execution_count": 21,
   "id": "84d123a9-3bde-4d5d-b027-40dcfbc991bb",
   "metadata": {},
   "outputs": [
    {
     "data": {
      "text/html": [
       "<h3>Objective</h3><p>1.0 EX_succ_e = 17.096428571428596</p><h4>Uptake</h4><table border=\"1\" class=\"dataframe\">\n",
       "  <thead>\n",
       "    <tr style=\"text-align: right;\">\n",
       "      <th>Metabolite</th>\n",
       "      <th>Reaction</th>\n",
       "      <th>Flux</th>\n",
       "      <th>C-Number</th>\n",
       "      <th>C-Flux</th>\n",
       "    </tr>\n",
       "  </thead>\n",
       "  <tbody>\n",
       "    <tr>\n",
       "      <td>co2_e</td>\n",
       "      <td>EX_co2_e</td>\n",
       "      <td>8.386</td>\n",
       "      <td>1</td>\n",
       "      <td>12.26%</td>\n",
       "    </tr>\n",
       "    <tr>\n",
       "      <td>glc__D_e</td>\n",
       "      <td>EX_glc__D_e</td>\n",
       "      <td>10</td>\n",
       "      <td>6</td>\n",
       "      <td>87.74%</td>\n",
       "    </tr>\n",
       "    <tr>\n",
       "      <td>o2_e</td>\n",
       "      <td>EX_o2_e</td>\n",
       "      <td>0.1625</td>\n",
       "      <td>0</td>\n",
       "      <td>0.00%</td>\n",
       "    </tr>\n",
       "  </tbody>\n",
       "</table><h4>Secretion</h4><table border=\"1\" class=\"dataframe\">\n",
       "  <thead>\n",
       "    <tr style=\"text-align: right;\">\n",
       "      <th>Metabolite</th>\n",
       "      <th>Reaction</th>\n",
       "      <th>Flux</th>\n",
       "      <th>C-Number</th>\n",
       "      <th>C-Flux</th>\n",
       "    </tr>\n",
       "  </thead>\n",
       "  <tbody>\n",
       "    <tr>\n",
       "      <td>h2o_e</td>\n",
       "      <td>EX_h2o_e</td>\n",
       "      <td>-8.711</td>\n",
       "      <td>0</td>\n",
       "      <td>0.00%</td>\n",
       "    </tr>\n",
       "    <tr>\n",
       "      <td>h_e</td>\n",
       "      <td>EX_h_e</td>\n",
       "      <td>-34.19</td>\n",
       "      <td>0</td>\n",
       "      <td>0.00%</td>\n",
       "    </tr>\n",
       "    <tr>\n",
       "      <td>succ_e</td>\n",
       "      <td>EX_succ_e</td>\n",
       "      <td>-17.1</td>\n",
       "      <td>4</td>\n",
       "      <td>100.00%</td>\n",
       "    </tr>\n",
       "  </tbody>\n",
       "</table>"
      ],
      "text/plain": [
       "<cobra.summary.model_summary.ModelSummary at 0x7efd431150a0>"
      ]
     },
     "execution_count": 21,
     "metadata": {},
     "output_type": "execute_result"
    }
   ],
   "source": [
    "model.summary()"
   ]
  },
  {
   "cell_type": "code",
   "execution_count": null,
   "id": "6d816970-11db-47d9-8123-ad460803aea7",
   "metadata": {},
   "outputs": [],
   "source": []
  }
 ],
 "metadata": {
  "kernelspec": {
   "display_name": "COBRApy",
   "language": "python",
   "name": "cobra"
  },
  "language_info": {
   "codemirror_mode": {
    "name": "ipython",
    "version": 3
   },
   "file_extension": ".py",
   "mimetype": "text/x-python",
   "name": "python",
   "nbconvert_exporter": "python",
   "pygments_lexer": "ipython3",
   "version": "3.8.12"
  }
 },
 "nbformat": 4,
 "nbformat_minor": 5
}
