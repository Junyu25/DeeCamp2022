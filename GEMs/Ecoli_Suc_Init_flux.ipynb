{
 "cells": [
  {
   "cell_type": "code",
   "execution_count": null,
   "id": "c8b07381-766a-4821-a5cb-18419d4ec3d4",
   "metadata": {},
   "outputs": [],
   "source": []
  },
  {
   "cell_type": "code",
   "execution_count": 2,
   "id": "8a2807d3-049b-42b8-bfd7-fe63179c97df",
   "metadata": {},
   "outputs": [],
   "source": [
    "import cobra"
   ]
  },
  {
   "cell_type": "code",
   "execution_count": 4,
   "id": "e83b5973-08a0-4f47-960d-85376d5427f9",
   "metadata": {},
   "outputs": [],
   "source": [
    "import pandas as pd\n",
    "from cobra.io import load_model\n",
    "model = load_model(\"iJO1366\") #no need to import from matlab"
   ]
  },
  {
   "cell_type": "code",
   "execution_count": 5,
   "id": "a63783fd-e64b-4b85-81d6-1dd419bdfffc",
   "metadata": {},
   "outputs": [],
   "source": [
    "df = pd.read_csv(\"../data/OptForce_Ecoli_Suc.csv\")"
   ]
  },
  {
   "cell_type": "code",
   "execution_count": 38,
   "id": "f7b12c4d-c070-45b4-aef0-935928067a0f",
   "metadata": {},
   "outputs": [],
   "source": [
    "model.objective = 'EX_succ_e'"
   ]
  },
  {
   "cell_type": "code",
   "execution_count": 39,
   "id": "dedb4f87-d050-490e-91ef-063f235830a1",
   "metadata": {},
   "outputs": [
    {
     "name": "stdout",
     "output_type": "stream",
     "text": [
      "1.0*EX_succ_e - 1.0*EX_succ_e_reverse_a9039\n",
      "max\n"
     ]
    }
   ],
   "source": [
    "print(model.objective.expression)\n",
    "print(model.objective.direction)"
   ]
  },
  {
   "cell_type": "code",
   "execution_count": 40,
   "id": "74753645-5e59-4c04-a330-579d56bca012",
   "metadata": {},
   "outputs": [
    {
     "name": "stdout",
     "output_type": "stream",
     "text": [
      "<Solution 17.096 at 0x7f7eedd76e50>\n"
     ]
    }
   ],
   "source": [
    "solution = model.optimize()\n",
    "print(solution)"
   ]
  },
  {
   "cell_type": "code",
   "execution_count": 41,
   "id": "a6b495b8-51b8-4aec-be66-3d847d54431f",
   "metadata": {},
   "outputs": [
    {
     "data": {
      "text/html": [
       "<h3>Objective</h3><p>1.0 EX_succ_e = 17.096428571428575</p><h4>Uptake</h4><table border=\"1\" class=\"dataframe\">\n",
       "  <thead>\n",
       "    <tr style=\"text-align: right;\">\n",
       "      <th>Metabolite</th>\n",
       "      <th>Reaction</th>\n",
       "      <th>Flux</th>\n",
       "      <th>C-Number</th>\n",
       "      <th>C-Flux</th>\n",
       "    </tr>\n",
       "  </thead>\n",
       "  <tbody>\n",
       "    <tr>\n",
       "      <td>co2_e</td>\n",
       "      <td>EX_co2_e</td>\n",
       "      <td>8.386</td>\n",
       "      <td>1</td>\n",
       "      <td>12.26%</td>\n",
       "    </tr>\n",
       "    <tr>\n",
       "      <td>glc__D_e</td>\n",
       "      <td>EX_glc__D_e</td>\n",
       "      <td>10</td>\n",
       "      <td>6</td>\n",
       "      <td>87.74%</td>\n",
       "    </tr>\n",
       "    <tr>\n",
       "      <td>o2_e</td>\n",
       "      <td>EX_o2_e</td>\n",
       "      <td>0.1625</td>\n",
       "      <td>0</td>\n",
       "      <td>0.00%</td>\n",
       "    </tr>\n",
       "  </tbody>\n",
       "</table><h4>Secretion</h4><table border=\"1\" class=\"dataframe\">\n",
       "  <thead>\n",
       "    <tr style=\"text-align: right;\">\n",
       "      <th>Metabolite</th>\n",
       "      <th>Reaction</th>\n",
       "      <th>Flux</th>\n",
       "      <th>C-Number</th>\n",
       "      <th>C-Flux</th>\n",
       "    </tr>\n",
       "  </thead>\n",
       "  <tbody>\n",
       "    <tr>\n",
       "      <td>h2o_e</td>\n",
       "      <td>EX_h2o_e</td>\n",
       "      <td>-8.711</td>\n",
       "      <td>0</td>\n",
       "      <td>0.00%</td>\n",
       "    </tr>\n",
       "    <tr>\n",
       "      <td>h_e</td>\n",
       "      <td>EX_h_e</td>\n",
       "      <td>-34.19</td>\n",
       "      <td>0</td>\n",
       "      <td>0.00%</td>\n",
       "    </tr>\n",
       "    <tr>\n",
       "      <td>succ_e</td>\n",
       "      <td>EX_succ_e</td>\n",
       "      <td>-17.1</td>\n",
       "      <td>4</td>\n",
       "      <td>100.00%</td>\n",
       "    </tr>\n",
       "  </tbody>\n",
       "</table>"
      ],
      "text/plain": [
       "<cobra.summary.model_summary.ModelSummary at 0x7f7f0cf115e0>"
      ]
     },
     "execution_count": 41,
     "metadata": {},
     "output_type": "execute_result"
    }
   ],
   "source": [
    "model.summary()"
   ]
  },
  {
   "cell_type": "code",
   "execution_count": 42,
   "id": "bc8d536f-a013-4240-8b8a-6d895ad391c2",
   "metadata": {},
   "outputs": [
    {
     "data": {
      "text/html": [
       "<h3>O2tex</h3><p>o2_e <=> o2_p</p><p>Bounds: -1000.0, 1000.0</p><p>Flux: 0.1625</p>"
      ],
      "text/plain": [
       "<cobra.summary.reaction_summary.ReactionSummary at 0x7f7eedd89e50>"
      ]
     },
     "execution_count": 42,
     "metadata": {},
     "output_type": "execute_result"
    }
   ],
   "source": [
    "model.reactions.get_by_id(\"O2tex\").summary()"
   ]
  },
  {
   "cell_type": "code",
   "execution_count": null,
   "id": "bd9cba37-501b-4bd1-913d-9711bdd59155",
   "metadata": {},
   "outputs": [],
   "source": []
  },
  {
   "cell_type": "code",
   "execution_count": 43,
   "id": "a88f1a59-c11a-4f25-9936-4c71bed9edb1",
   "metadata": {
    "tags": []
   },
   "outputs": [
    {
     "name": "stdout",
     "output_type": "stream",
     "text": [
      "SUCCtex: succ_e <=> succ_p\n",
      "\n",
      "SUCCtex\n",
      "=======\n",
      "succ_e <=> succ_p\n",
      "Bounds: -1000.0, 1000.0\n",
      "Flux: -17.1\n",
      "\n",
      "O2tex: o2_e <=> o2_p\n",
      "\n",
      "O2tex\n",
      "=====\n",
      "o2_e <=> o2_p\n",
      "Bounds: -1000.0, 1000.0\n",
      "Flux: 0.1625\n",
      "\n",
      "MALS: accoa_c + glx_c + h2o_c --> coa_c + h_c + mal__L_c\n",
      "\n",
      "MALS\n",
      "====\n",
      "accoa_c + glx_c + h2o_c --> coa_c + h_c + mal__L_c\n",
      "Bounds: 0.0, 1000.0\n",
      "Flux: 2.904\n",
      "\n",
      "EX_k_e: k_e <=> \n",
      "EX_nh4_e: nh4_e <=> \n",
      "EX_pi_e: pi_e <=> \n",
      "EX_so4_e: so4_e <=> \n",
      "CO2tpp: co2_p <=> co2_c\n",
      "\n",
      "CO2tpp\n",
      "======\n",
      "co2_p <=> co2_c\n",
      "Bounds: -1000.0, 1000.0\n",
      "Flux: 8.386\n",
      "\n",
      "DHORTS: dhor__S_c + h2o_c <=> cbasp_c + h_c\n",
      "ASAD: aspsa_c + nadp_c + pi_c <=> 4pasp_c + h_c + nadph_c\n",
      "ACONTa: cit_c <=> acon_C_c + h2o_c\n",
      "\n",
      "ACONTa\n",
      "======\n",
      "cit_c <=> acon_C_c + h2o_c\n",
      "Bounds: -1000.0, 1000.0\n",
      "Flux: 2.904\n",
      "\n",
      "G3PD2: glyc3p_c + nadp_c <=> dhap_c + h_c + nadph_c\n",
      "GAPD: g3p_c + nad_c + pi_c <=> 13dpg_c + h_c + nadh_c\n",
      "\n",
      "GAPD\n",
      "====\n",
      "g3p_c + nad_c + pi_c <=> 13dpg_c + h_c + nadh_c\n",
      "Bounds: -1000.0, 1000.0\n",
      "Flux: 20\n",
      "\n",
      "IPPMIa: 3c2hmp_c <=> 2ippm_c + h2o_c\n",
      "IPPMIb: 2ippm_c + h2o_c <=> 3c3hmp_c\n",
      "KARA1: 23dhmb_c + nadp_c <=> alac__S_c + h_c + nadph_c\n",
      "ILETA: akg_c + ile__L_c <=> 3mop_c + glu__L_c\n",
      "IMPC: h2o_c + imp_c <=> fprica_c\n",
      "SDPDS: h2o_c + sl26da_c --> 26dap_LL_c + succ_c\n",
      "ORPT: orot5p_c + ppi_c <=> orot_c + prpp_c\n"
     ]
    }
   ],
   "source": [
    "for rec in df[\"Force Set\"]:\n",
    "    try:\n",
    "        print(model.reactions.get_by_id(rec))\n",
    "        print(model.reactions.get_by_id(rec).summary())\n",
    "    except:\n",
    "        pass\n",
    "    #model.reactions.rec.summary()"
   ]
  },
  {
   "cell_type": "code",
   "execution_count": null,
   "id": "01a103a9-e2b9-45f7-b194-88f0e74ed686",
   "metadata": {},
   "outputs": [],
   "source": []
  },
  {
   "cell_type": "code",
   "execution_count": null,
   "id": "8ab0f4ad-dca3-4d85-b9d3-8125a5c898ff",
   "metadata": {},
   "outputs": [],
   "source": []
  }
 ],
 "metadata": {
  "kernelspec": {
   "display_name": "COBRApy",
   "language": "python",
   "name": "cobra"
  },
  "language_info": {
   "codemirror_mode": {
    "name": "ipython",
    "version": 3
   },
   "file_extension": ".py",
   "mimetype": "text/x-python",
   "name": "python",
   "nbconvert_exporter": "python",
   "pygments_lexer": "ipython3",
   "version": "3.8.12"
  }
 },
 "nbformat": 4,
 "nbformat_minor": 5
}
