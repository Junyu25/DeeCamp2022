{
 "cells": [
  {
   "cell_type": "markdown",
   "id": "834f4fc9-2b02-43a7-8d89-f0776c2b74b5",
   "metadata": {},
   "source": [
    "## Init GEMs Bounds"
   ]
  },
  {
   "cell_type": "code",
   "execution_count": 1,
   "id": "8a2807d3-049b-42b8-bfd7-fe63179c97df",
   "metadata": {},
   "outputs": [],
   "source": [
    "import cobra"
   ]
  },
  {
   "cell_type": "code",
   "execution_count": 2,
   "id": "e83b5973-08a0-4f47-960d-85376d5427f9",
   "metadata": {},
   "outputs": [],
   "source": [
    "import pandas as pd\n",
    "from cobra.io import load_model"
   ]
  },
  {
   "cell_type": "code",
   "execution_count": 3,
   "id": "1f5b151c-2562-49a6-a446-c2bacdd27aa1",
   "metadata": {},
   "outputs": [],
   "source": [
    "model = load_model(\"iJO1366\") #no need to import from matlab"
   ]
  },
  {
   "cell_type": "code",
   "execution_count": 5,
   "id": "a63783fd-e64b-4b85-81d6-1dd419bdfffc",
   "metadata": {},
   "outputs": [],
   "source": [
    "df = pd.read_csv(\"OptForce_Suc_Ecoli_20comb.csv\")"
   ]
  },
  {
   "cell_type": "code",
   "execution_count": 6,
   "id": "f7b12c4d-c070-45b4-aef0-935928067a0f",
   "metadata": {},
   "outputs": [],
   "source": [
    "model.objective = 'EX_succ_e'"
   ]
  },
  {
   "cell_type": "code",
   "execution_count": 7,
   "id": "dedb4f87-d050-490e-91ef-063f235830a1",
   "metadata": {},
   "outputs": [
    {
     "name": "stdout",
     "output_type": "stream",
     "text": [
      "1.0*EX_succ_e - 1.0*EX_succ_e_reverse_a9039\n",
      "max\n"
     ]
    }
   ],
   "source": [
    "print(model.objective.expression)\n",
    "print(model.objective.direction)"
   ]
  },
  {
   "cell_type": "code",
   "execution_count": 8,
   "id": "74753645-5e59-4c04-a330-579d56bca012",
   "metadata": {},
   "outputs": [
    {
     "name": "stdout",
     "output_type": "stream",
     "text": [
      "<Solution 17.096 at 0x7f0a73bbf3d0>\n"
     ]
    }
   ],
   "source": [
    "solution = model.optimize()\n",
    "print(solution)"
   ]
  },
  {
   "cell_type": "code",
   "execution_count": 9,
   "id": "a6b495b8-51b8-4aec-be66-3d847d54431f",
   "metadata": {},
   "outputs": [
    {
     "data": {
      "text/html": [
       "<h3>Objective</h3><p>1.0 EX_succ_e = 17.096428571428575</p><h4>Uptake</h4><table border=\"1\" class=\"dataframe\">\n",
       "  <thead>\n",
       "    <tr style=\"text-align: right;\">\n",
       "      <th>Metabolite</th>\n",
       "      <th>Reaction</th>\n",
       "      <th>Flux</th>\n",
       "      <th>C-Number</th>\n",
       "      <th>C-Flux</th>\n",
       "    </tr>\n",
       "  </thead>\n",
       "  <tbody>\n",
       "    <tr>\n",
       "      <td>co2_e</td>\n",
       "      <td>EX_co2_e</td>\n",
       "      <td>8.386</td>\n",
       "      <td>1</td>\n",
       "      <td>12.26%</td>\n",
       "    </tr>\n",
       "    <tr>\n",
       "      <td>glc__D_e</td>\n",
       "      <td>EX_glc__D_e</td>\n",
       "      <td>10</td>\n",
       "      <td>6</td>\n",
       "      <td>87.74%</td>\n",
       "    </tr>\n",
       "    <tr>\n",
       "      <td>o2_e</td>\n",
       "      <td>EX_o2_e</td>\n",
       "      <td>0.1625</td>\n",
       "      <td>0</td>\n",
       "      <td>0.00%</td>\n",
       "    </tr>\n",
       "  </tbody>\n",
       "</table><h4>Secretion</h4><table border=\"1\" class=\"dataframe\">\n",
       "  <thead>\n",
       "    <tr style=\"text-align: right;\">\n",
       "      <th>Metabolite</th>\n",
       "      <th>Reaction</th>\n",
       "      <th>Flux</th>\n",
       "      <th>C-Number</th>\n",
       "      <th>C-Flux</th>\n",
       "    </tr>\n",
       "  </thead>\n",
       "  <tbody>\n",
       "    <tr>\n",
       "      <td>h2o_e</td>\n",
       "      <td>EX_h2o_e</td>\n",
       "      <td>-8.711</td>\n",
       "      <td>0</td>\n",
       "      <td>0.00%</td>\n",
       "    </tr>\n",
       "    <tr>\n",
       "      <td>h_e</td>\n",
       "      <td>EX_h_e</td>\n",
       "      <td>-34.19</td>\n",
       "      <td>0</td>\n",
       "      <td>0.00%</td>\n",
       "    </tr>\n",
       "    <tr>\n",
       "      <td>succ_e</td>\n",
       "      <td>EX_succ_e</td>\n",
       "      <td>-17.1</td>\n",
       "      <td>4</td>\n",
       "      <td>100.00%</td>\n",
       "    </tr>\n",
       "  </tbody>\n",
       "</table>"
      ],
      "text/plain": [
       "<cobra.summary.model_summary.ModelSummary at 0x7f0a73bbf2e0>"
      ]
     },
     "execution_count": 9,
     "metadata": {},
     "output_type": "execute_result"
    }
   ],
   "source": [
    "model.summary()"
   ]
  },
  {
   "cell_type": "code",
   "execution_count": null,
   "id": "ccccc8c8-993a-409c-8b65-3ec86cf00c6e",
   "metadata": {},
   "outputs": [],
   "source": []
  },
  {
   "cell_type": "code",
   "execution_count": null,
   "id": "6354663f-1edc-4b4c-b969-eb650f9a5a5a",
   "metadata": {},
   "outputs": [],
   "source": []
  },
  {
   "cell_type": "code",
   "execution_count": 13,
   "id": "dbafec0c-1fb9-44cf-bb80-65b4351eaa76",
   "metadata": {},
   "outputs": [],
   "source": [
    "model.objective = 'BIOMASS_Ec_iJO1366_core_53p95M'"
   ]
  },
  {
   "cell_type": "code",
   "execution_count": 14,
   "id": "0ebe58f5-8175-4175-a10c-dabb21d5874d",
   "metadata": {},
   "outputs": [
    {
     "name": "stdout",
     "output_type": "stream",
     "text": [
      "1.0*BIOMASS_Ec_iJO1366_core_53p95M - 1.0*BIOMASS_Ec_iJO1366_core_53p95M_reverse_5c8b1\n",
      "max\n"
     ]
    }
   ],
   "source": [
    "print(model.objective.expression)\n",
    "print(model.objective.direction)"
   ]
  },
  {
   "cell_type": "code",
   "execution_count": 15,
   "id": "dcc69966-bf1a-45ae-8d21-3b000ed2e39f",
   "metadata": {},
   "outputs": [
    {
     "name": "stdout",
     "output_type": "stream",
     "text": [
      "<Solution 0.982 at 0x7f0a630dcac0>\n"
     ]
    }
   ],
   "source": [
    "solution = model.optimize()\n",
    "print(solution)"
   ]
  },
  {
   "cell_type": "code",
   "execution_count": 16,
   "id": "bc8d536f-a013-4240-8b8a-6d895ad391c2",
   "metadata": {},
   "outputs": [
    {
     "data": {
      "text/html": [
       "<h3>O2tex</h3><p>o2_e <=> o2_p</p><p>Bounds: -1000.0, 1000.0</p><p>Flux: 17.58</p>"
      ],
      "text/plain": [
       "<cobra.summary.reaction_summary.ReactionSummary at 0x7f0a630dc670>"
      ]
     },
     "execution_count": 16,
     "metadata": {},
     "output_type": "execute_result"
    }
   ],
   "source": [
    "model.reactions.get_by_id(\"O2tex\").summary()"
   ]
  },
  {
   "cell_type": "code",
   "execution_count": 17,
   "id": "73411165-1204-46a9-8b28-6c8e816c8a62",
   "metadata": {
    "collapsed": true,
    "jupyter": {
     "outputs_hidden": true
    },
    "tags": []
   },
   "outputs": [
    {
     "ename": "KeyError",
     "evalue": "'EX_etoh_e'",
     "output_type": "error",
     "traceback": [
      "\u001b[0;31m---------------------------------------------------------------------------\u001b[0m",
      "\u001b[0;31mKeyError\u001b[0m                                  Traceback (most recent call last)",
      "\u001b[0;32m~/miniconda3/envs/cobra/lib/python3.8/site-packages/pandas/core/indexes/base.py\u001b[0m in \u001b[0;36mget_loc\u001b[0;34m(self, key, method, tolerance)\u001b[0m\n\u001b[1;32m   3620\u001b[0m             \u001b[0;32mtry\u001b[0m\u001b[0;34m:\u001b[0m\u001b[0;34m\u001b[0m\u001b[0;34m\u001b[0m\u001b[0m\n\u001b[0;32m-> 3621\u001b[0;31m                 \u001b[0;32mreturn\u001b[0m \u001b[0mself\u001b[0m\u001b[0;34m.\u001b[0m\u001b[0m_engine\u001b[0m\u001b[0;34m.\u001b[0m\u001b[0mget_loc\u001b[0m\u001b[0;34m(\u001b[0m\u001b[0mcasted_key\u001b[0m\u001b[0;34m)\u001b[0m\u001b[0;34m\u001b[0m\u001b[0;34m\u001b[0m\u001b[0m\n\u001b[0m\u001b[1;32m   3622\u001b[0m             \u001b[0;32mexcept\u001b[0m \u001b[0mKeyError\u001b[0m \u001b[0;32mas\u001b[0m \u001b[0merr\u001b[0m\u001b[0;34m:\u001b[0m\u001b[0;34m\u001b[0m\u001b[0;34m\u001b[0m\u001b[0m\n",
      "\u001b[0;32m~/miniconda3/envs/cobra/lib/python3.8/site-packages/pandas/_libs/index.pyx\u001b[0m in \u001b[0;36mpandas._libs.index.IndexEngine.get_loc\u001b[0;34m()\u001b[0m\n",
      "\u001b[0;32m~/miniconda3/envs/cobra/lib/python3.8/site-packages/pandas/_libs/index.pyx\u001b[0m in \u001b[0;36mpandas._libs.index.IndexEngine.get_loc\u001b[0;34m()\u001b[0m\n",
      "\u001b[0;32mpandas/_libs/hashtable_class_helper.pxi\u001b[0m in \u001b[0;36mpandas._libs.hashtable.PyObjectHashTable.get_item\u001b[0;34m()\u001b[0m\n",
      "\u001b[0;32mpandas/_libs/hashtable_class_helper.pxi\u001b[0m in \u001b[0;36mpandas._libs.hashtable.PyObjectHashTable.get_item\u001b[0;34m()\u001b[0m\n",
      "\u001b[0;31mKeyError\u001b[0m: 'EX_etoh_e'",
      "\nThe above exception was the direct cause of the following exception:\n",
      "\u001b[0;31mKeyError\u001b[0m                                  Traceback (most recent call last)",
      "\u001b[0;32m~/miniconda3/envs/cobra/lib/python3.8/site-packages/IPython/core/formatters.py\u001b[0m in \u001b[0;36m__call__\u001b[0;34m(self, obj)\u001b[0m\n\u001b[1;32m    343\u001b[0m             \u001b[0mmethod\u001b[0m \u001b[0;34m=\u001b[0m \u001b[0mget_real_method\u001b[0m\u001b[0;34m(\u001b[0m\u001b[0mobj\u001b[0m\u001b[0;34m,\u001b[0m \u001b[0mself\u001b[0m\u001b[0;34m.\u001b[0m\u001b[0mprint_method\u001b[0m\u001b[0;34m)\u001b[0m\u001b[0;34m\u001b[0m\u001b[0;34m\u001b[0m\u001b[0m\n\u001b[1;32m    344\u001b[0m             \u001b[0;32mif\u001b[0m \u001b[0mmethod\u001b[0m \u001b[0;32mis\u001b[0m \u001b[0;32mnot\u001b[0m \u001b[0;32mNone\u001b[0m\u001b[0;34m:\u001b[0m\u001b[0;34m\u001b[0m\u001b[0;34m\u001b[0m\u001b[0m\n\u001b[0;32m--> 345\u001b[0;31m                 \u001b[0;32mreturn\u001b[0m \u001b[0mmethod\u001b[0m\u001b[0;34m(\u001b[0m\u001b[0;34m)\u001b[0m\u001b[0;34m\u001b[0m\u001b[0;34m\u001b[0m\u001b[0m\n\u001b[0m\u001b[1;32m    346\u001b[0m             \u001b[0;32mreturn\u001b[0m \u001b[0;32mNone\u001b[0m\u001b[0;34m\u001b[0m\u001b[0;34m\u001b[0m\u001b[0m\n\u001b[1;32m    347\u001b[0m         \u001b[0;32melse\u001b[0m\u001b[0;34m:\u001b[0m\u001b[0;34m\u001b[0m\u001b[0;34m\u001b[0m\u001b[0m\n",
      "\u001b[0;32m~/miniconda3/envs/cobra/lib/python3.8/site-packages/cobra/summary/summary.py\u001b[0m in \u001b[0;36m_repr_html_\u001b[0;34m(self)\u001b[0m\n\u001b[1;32m     77\u001b[0m     \u001b[0;32mdef\u001b[0m \u001b[0m_repr_html_\u001b[0m\u001b[0;34m(\u001b[0m\u001b[0mself\u001b[0m\u001b[0;34m)\u001b[0m \u001b[0;34m->\u001b[0m \u001b[0mstr\u001b[0m\u001b[0;34m:\u001b[0m\u001b[0;34m\u001b[0m\u001b[0;34m\u001b[0m\u001b[0m\n\u001b[1;32m     78\u001b[0m         \u001b[0;34m\"\"\"Return a rich HTML representation of the summary.\"\"\"\u001b[0m\u001b[0;34m\u001b[0m\u001b[0;34m\u001b[0m\u001b[0m\n\u001b[0;32m---> 79\u001b[0;31m         \u001b[0;32mreturn\u001b[0m \u001b[0mself\u001b[0m\u001b[0;34m.\u001b[0m\u001b[0mto_html\u001b[0m\u001b[0;34m(\u001b[0m\u001b[0;34m)\u001b[0m\u001b[0;34m\u001b[0m\u001b[0;34m\u001b[0m\u001b[0m\n\u001b[0m\u001b[1;32m     80\u001b[0m \u001b[0;34m\u001b[0m\u001b[0m\n\u001b[1;32m     81\u001b[0m     \u001b[0;34m@\u001b[0m\u001b[0mproperty\u001b[0m\u001b[0;34m\u001b[0m\u001b[0;34m\u001b[0m\u001b[0m\n",
      "\u001b[0;32m~/miniconda3/envs/cobra/lib/python3.8/site-packages/cobra/summary/reaction_summary.py\u001b[0m in \u001b[0;36mto_html\u001b[0;34m(self, names, threshold, float_format)\u001b[0m\n\u001b[1;32m    240\u001b[0m             \u001b[0mheader\u001b[0m \u001b[0;34m=\u001b[0m \u001b[0mself\u001b[0m\u001b[0;34m.\u001b[0m\u001b[0m_reaction\u001b[0m\u001b[0;34m.\u001b[0m\u001b[0mid\u001b[0m\u001b[0;34m\u001b[0m\u001b[0;34m\u001b[0m\u001b[0m\n\u001b[1;32m    241\u001b[0m \u001b[0;34m\u001b[0m\u001b[0m\n\u001b[0;32m--> 242\u001b[0;31m         \u001b[0mflux\u001b[0m \u001b[0;34m=\u001b[0m \u001b[0mself\u001b[0m\u001b[0;34m.\u001b[0m\u001b[0m_string_flux\u001b[0m\u001b[0;34m(\u001b[0m\u001b[0mthreshold\u001b[0m\u001b[0;34m,\u001b[0m \u001b[0mfloat_format\u001b[0m\u001b[0;34m)\u001b[0m\u001b[0;34m\u001b[0m\u001b[0;34m\u001b[0m\u001b[0m\n\u001b[0m\u001b[1;32m    243\u001b[0m \u001b[0;34m\u001b[0m\u001b[0m\n\u001b[1;32m    244\u001b[0m         return (\n",
      "\u001b[0;32m~/miniconda3/envs/cobra/lib/python3.8/site-packages/cobra/summary/reaction_summary.py\u001b[0m in \u001b[0;36m_string_flux\u001b[0;34m(self, threshold, float_format)\u001b[0m\n\u001b[1;32m    157\u001b[0m         \u001b[0;32melse\u001b[0m\u001b[0;34m:\u001b[0m\u001b[0;34m\u001b[0m\u001b[0;34m\u001b[0m\u001b[0m\n\u001b[1;32m    158\u001b[0m             \u001b[0mframe\u001b[0m \u001b[0;34m=\u001b[0m \u001b[0mself\u001b[0m\u001b[0;34m.\u001b[0m\u001b[0m_flux\u001b[0m\u001b[0;34m.\u001b[0m\u001b[0mloc\u001b[0m\u001b[0;34m[\u001b[0m\u001b[0mself\u001b[0m\u001b[0;34m.\u001b[0m\u001b[0m_flux\u001b[0m\u001b[0;34m[\u001b[0m\u001b[0;34m\"flux\"\u001b[0m\u001b[0;34m]\u001b[0m\u001b[0;34m.\u001b[0m\u001b[0mabs\u001b[0m\u001b[0;34m(\u001b[0m\u001b[0;34m)\u001b[0m \u001b[0;34m>=\u001b[0m \u001b[0mthreshold\u001b[0m\u001b[0;34m,\u001b[0m \u001b[0;34m:\u001b[0m\u001b[0;34m]\u001b[0m\u001b[0;34m.\u001b[0m\u001b[0mcopy\u001b[0m\u001b[0;34m(\u001b[0m\u001b[0;34m)\u001b[0m\u001b[0;34m\u001b[0m\u001b[0;34m\u001b[0m\u001b[0m\n\u001b[0;32m--> 159\u001b[0;31m             \u001b[0;32mreturn\u001b[0m \u001b[0;34mf\"{frame.at[self._reaction.id, 'flux']:{float_format}}\"\u001b[0m\u001b[0;34m\u001b[0m\u001b[0;34m\u001b[0m\u001b[0m\n\u001b[0m\u001b[1;32m    160\u001b[0m \u001b[0;34m\u001b[0m\u001b[0m\n\u001b[1;32m    161\u001b[0m     def to_string(\n",
      "\u001b[0;32m~/miniconda3/envs/cobra/lib/python3.8/site-packages/pandas/core/indexing.py\u001b[0m in \u001b[0;36m__getitem__\u001b[0;34m(self, key)\u001b[0m\n\u001b[1;32m   2268\u001b[0m             \u001b[0;32mreturn\u001b[0m \u001b[0mself\u001b[0m\u001b[0;34m.\u001b[0m\u001b[0mobj\u001b[0m\u001b[0;34m.\u001b[0m\u001b[0mloc\u001b[0m\u001b[0;34m[\u001b[0m\u001b[0mkey\u001b[0m\u001b[0;34m]\u001b[0m\u001b[0;34m\u001b[0m\u001b[0;34m\u001b[0m\u001b[0m\n\u001b[1;32m   2269\u001b[0m \u001b[0;34m\u001b[0m\u001b[0m\n\u001b[0;32m-> 2270\u001b[0;31m         \u001b[0;32mreturn\u001b[0m \u001b[0msuper\u001b[0m\u001b[0;34m(\u001b[0m\u001b[0;34m)\u001b[0m\u001b[0;34m.\u001b[0m\u001b[0m__getitem__\u001b[0m\u001b[0;34m(\u001b[0m\u001b[0mkey\u001b[0m\u001b[0;34m)\u001b[0m\u001b[0;34m\u001b[0m\u001b[0;34m\u001b[0m\u001b[0m\n\u001b[0m\u001b[1;32m   2271\u001b[0m \u001b[0;34m\u001b[0m\u001b[0m\n\u001b[1;32m   2272\u001b[0m     \u001b[0;32mdef\u001b[0m \u001b[0m__setitem__\u001b[0m\u001b[0;34m(\u001b[0m\u001b[0mself\u001b[0m\u001b[0;34m,\u001b[0m \u001b[0mkey\u001b[0m\u001b[0;34m,\u001b[0m \u001b[0mvalue\u001b[0m\u001b[0;34m)\u001b[0m\u001b[0;34m:\u001b[0m\u001b[0;34m\u001b[0m\u001b[0;34m\u001b[0m\u001b[0m\n",
      "\u001b[0;32m~/miniconda3/envs/cobra/lib/python3.8/site-packages/pandas/core/indexing.py\u001b[0m in \u001b[0;36m__getitem__\u001b[0;34m(self, key)\u001b[0m\n\u001b[1;32m   2219\u001b[0m \u001b[0;34m\u001b[0m\u001b[0m\n\u001b[1;32m   2220\u001b[0m         \u001b[0mkey\u001b[0m \u001b[0;34m=\u001b[0m \u001b[0mself\u001b[0m\u001b[0;34m.\u001b[0m\u001b[0m_convert_key\u001b[0m\u001b[0;34m(\u001b[0m\u001b[0mkey\u001b[0m\u001b[0;34m)\u001b[0m\u001b[0;34m\u001b[0m\u001b[0;34m\u001b[0m\u001b[0m\n\u001b[0;32m-> 2221\u001b[0;31m         \u001b[0;32mreturn\u001b[0m \u001b[0mself\u001b[0m\u001b[0;34m.\u001b[0m\u001b[0mobj\u001b[0m\u001b[0;34m.\u001b[0m\u001b[0m_get_value\u001b[0m\u001b[0;34m(\u001b[0m\u001b[0;34m*\u001b[0m\u001b[0mkey\u001b[0m\u001b[0;34m,\u001b[0m \u001b[0mtakeable\u001b[0m\u001b[0;34m=\u001b[0m\u001b[0mself\u001b[0m\u001b[0;34m.\u001b[0m\u001b[0m_takeable\u001b[0m\u001b[0;34m)\u001b[0m\u001b[0;34m\u001b[0m\u001b[0;34m\u001b[0m\u001b[0m\n\u001b[0m\u001b[1;32m   2222\u001b[0m \u001b[0;34m\u001b[0m\u001b[0m\n\u001b[1;32m   2223\u001b[0m     \u001b[0;32mdef\u001b[0m \u001b[0m__setitem__\u001b[0m\u001b[0;34m(\u001b[0m\u001b[0mself\u001b[0m\u001b[0;34m,\u001b[0m \u001b[0mkey\u001b[0m\u001b[0;34m,\u001b[0m \u001b[0mvalue\u001b[0m\u001b[0;34m)\u001b[0m\u001b[0;34m:\u001b[0m\u001b[0;34m\u001b[0m\u001b[0;34m\u001b[0m\u001b[0m\n",
      "\u001b[0;32m~/miniconda3/envs/cobra/lib/python3.8/site-packages/pandas/core/frame.py\u001b[0m in \u001b[0;36m_get_value\u001b[0;34m(self, index, col, takeable)\u001b[0m\n\u001b[1;32m   3620\u001b[0m             \u001b[0;31m#  results if our categories are integers that dont match our codes\u001b[0m\u001b[0;34m\u001b[0m\u001b[0;34m\u001b[0m\u001b[0;34m\u001b[0m\u001b[0m\n\u001b[1;32m   3621\u001b[0m             \u001b[0;31m# IntervalIndex: IntervalTree has no get_loc\u001b[0m\u001b[0;34m\u001b[0m\u001b[0;34m\u001b[0m\u001b[0;34m\u001b[0m\u001b[0m\n\u001b[0;32m-> 3622\u001b[0;31m             \u001b[0mrow\u001b[0m \u001b[0;34m=\u001b[0m \u001b[0mself\u001b[0m\u001b[0;34m.\u001b[0m\u001b[0mindex\u001b[0m\u001b[0;34m.\u001b[0m\u001b[0mget_loc\u001b[0m\u001b[0;34m(\u001b[0m\u001b[0mindex\u001b[0m\u001b[0;34m)\u001b[0m\u001b[0;34m\u001b[0m\u001b[0;34m\u001b[0m\u001b[0m\n\u001b[0m\u001b[1;32m   3623\u001b[0m             \u001b[0;32mreturn\u001b[0m \u001b[0mseries\u001b[0m\u001b[0;34m.\u001b[0m\u001b[0m_values\u001b[0m\u001b[0;34m[\u001b[0m\u001b[0mrow\u001b[0m\u001b[0;34m]\u001b[0m\u001b[0;34m\u001b[0m\u001b[0;34m\u001b[0m\u001b[0m\n\u001b[1;32m   3624\u001b[0m \u001b[0;34m\u001b[0m\u001b[0m\n",
      "\u001b[0;32m~/miniconda3/envs/cobra/lib/python3.8/site-packages/pandas/core/indexes/base.py\u001b[0m in \u001b[0;36mget_loc\u001b[0;34m(self, key, method, tolerance)\u001b[0m\n\u001b[1;32m   3621\u001b[0m                 \u001b[0;32mreturn\u001b[0m \u001b[0mself\u001b[0m\u001b[0;34m.\u001b[0m\u001b[0m_engine\u001b[0m\u001b[0;34m.\u001b[0m\u001b[0mget_loc\u001b[0m\u001b[0;34m(\u001b[0m\u001b[0mcasted_key\u001b[0m\u001b[0;34m)\u001b[0m\u001b[0;34m\u001b[0m\u001b[0;34m\u001b[0m\u001b[0m\n\u001b[1;32m   3622\u001b[0m             \u001b[0;32mexcept\u001b[0m \u001b[0mKeyError\u001b[0m \u001b[0;32mas\u001b[0m \u001b[0merr\u001b[0m\u001b[0;34m:\u001b[0m\u001b[0;34m\u001b[0m\u001b[0;34m\u001b[0m\u001b[0m\n\u001b[0;32m-> 3623\u001b[0;31m                 \u001b[0;32mraise\u001b[0m \u001b[0mKeyError\u001b[0m\u001b[0;34m(\u001b[0m\u001b[0mkey\u001b[0m\u001b[0;34m)\u001b[0m \u001b[0;32mfrom\u001b[0m \u001b[0merr\u001b[0m\u001b[0;34m\u001b[0m\u001b[0;34m\u001b[0m\u001b[0m\n\u001b[0m\u001b[1;32m   3624\u001b[0m             \u001b[0;32mexcept\u001b[0m \u001b[0mTypeError\u001b[0m\u001b[0;34m:\u001b[0m\u001b[0;34m\u001b[0m\u001b[0;34m\u001b[0m\u001b[0m\n\u001b[1;32m   3625\u001b[0m                 \u001b[0;31m# If we have a listlike key, _check_indexing_error will raise\u001b[0m\u001b[0;34m\u001b[0m\u001b[0;34m\u001b[0m\u001b[0;34m\u001b[0m\u001b[0m\n",
      "\u001b[0;31mKeyError\u001b[0m: 'EX_etoh_e'"
     ]
    },
    {
     "data": {
      "text/plain": [
       "<cobra.summary.reaction_summary.ReactionSummary at 0x7f0a630dc610>"
      ]
     },
     "execution_count": 17,
     "metadata": {},
     "output_type": "execute_result"
    }
   ],
   "source": [
    "model.reactions.get_by_id(\"EX_etoh_e\").summary()"
   ]
  },
  {
   "cell_type": "code",
   "execution_count": null,
   "id": "bd9cba37-501b-4bd1-913d-9711bdd59155",
   "metadata": {},
   "outputs": [],
   "source": []
  },
  {
   "cell_type": "code",
   "execution_count": 43,
   "id": "a88f1a59-c11a-4f25-9936-4c71bed9edb1",
   "metadata": {
    "collapsed": true,
    "jupyter": {
     "outputs_hidden": true
    },
    "tags": []
   },
   "outputs": [
    {
     "name": "stdout",
     "output_type": "stream",
     "text": [
      "SUCCtex: succ_e <=> succ_p\n",
      "\n",
      "SUCCtex\n",
      "=======\n",
      "succ_e <=> succ_p\n",
      "Bounds: -1000.0, 1000.0\n",
      "Flux: -17.1\n",
      "\n",
      "O2tex: o2_e <=> o2_p\n",
      "\n",
      "O2tex\n",
      "=====\n",
      "o2_e <=> o2_p\n",
      "Bounds: -1000.0, 1000.0\n",
      "Flux: 0.1625\n",
      "\n",
      "MALS: accoa_c + glx_c + h2o_c --> coa_c + h_c + mal__L_c\n",
      "\n",
      "MALS\n",
      "====\n",
      "accoa_c + glx_c + h2o_c --> coa_c + h_c + mal__L_c\n",
      "Bounds: 0.0, 1000.0\n",
      "Flux: 2.904\n",
      "\n",
      "EX_k_e: k_e <=> \n",
      "EX_nh4_e: nh4_e <=> \n",
      "EX_pi_e: pi_e <=> \n",
      "EX_so4_e: so4_e <=> \n",
      "CO2tpp: co2_p <=> co2_c\n",
      "\n",
      "CO2tpp\n",
      "======\n",
      "co2_p <=> co2_c\n",
      "Bounds: -1000.0, 1000.0\n",
      "Flux: 8.386\n",
      "\n",
      "DHORTS: dhor__S_c + h2o_c <=> cbasp_c + h_c\n",
      "ASAD: aspsa_c + nadp_c + pi_c <=> 4pasp_c + h_c + nadph_c\n",
      "ACONTa: cit_c <=> acon_C_c + h2o_c\n",
      "\n",
      "ACONTa\n",
      "======\n",
      "cit_c <=> acon_C_c + h2o_c\n",
      "Bounds: -1000.0, 1000.0\n",
      "Flux: 2.904\n",
      "\n",
      "G3PD2: glyc3p_c + nadp_c <=> dhap_c + h_c + nadph_c\n",
      "GAPD: g3p_c + nad_c + pi_c <=> 13dpg_c + h_c + nadh_c\n",
      "\n",
      "GAPD\n",
      "====\n",
      "g3p_c + nad_c + pi_c <=> 13dpg_c + h_c + nadh_c\n",
      "Bounds: -1000.0, 1000.0\n",
      "Flux: 20\n",
      "\n",
      "IPPMIa: 3c2hmp_c <=> 2ippm_c + h2o_c\n",
      "IPPMIb: 2ippm_c + h2o_c <=> 3c3hmp_c\n",
      "KARA1: 23dhmb_c + nadp_c <=> alac__S_c + h_c + nadph_c\n",
      "ILETA: akg_c + ile__L_c <=> 3mop_c + glu__L_c\n",
      "IMPC: h2o_c + imp_c <=> fprica_c\n",
      "SDPDS: h2o_c + sl26da_c --> 26dap_LL_c + succ_c\n",
      "ORPT: orot5p_c + ppi_c <=> orot_c + prpp_c\n"
     ]
    }
   ],
   "source": [
    "for rec in df[\"Force Set\"]:\n",
    "    try:\n",
    "        print(model.reactions.get_by_id(rec))\n",
    "        print(model.reactions.get_by_id(rec).summary())\n",
    "    except:\n",
    "        pass\n",
    "    #model.reactions.rec.summary()"
   ]
  },
  {
   "cell_type": "markdown",
   "id": "1958156f-4db1-46c0-8b5b-eadc3593a0b3",
   "metadata": {},
   "source": [
    "## Init Bounds"
   ]
  },
  {
   "cell_type": "code",
   "execution_count": 44,
   "id": "f44c8a5f-7cea-49ed-b8b6-c9f61899237b",
   "metadata": {
    "tags": []
   },
   "outputs": [
    {
     "data": {
      "text/html": [
       "<div>\n",
       "<style scoped>\n",
       "    .dataframe tbody tr th:only-of-type {\n",
       "        vertical-align: middle;\n",
       "    }\n",
       "\n",
       "    .dataframe tbody tr th {\n",
       "        vertical-align: top;\n",
       "    }\n",
       "\n",
       "    .dataframe thead th {\n",
       "        text-align: right;\n",
       "    }\n",
       "</style>\n",
       "<table border=\"1\" class=\"dataframe\">\n",
       "  <thead>\n",
       "    <tr style=\"text-align: right;\">\n",
       "      <th></th>\n",
       "      <th>Number of interventions</th>\n",
       "      <th>Set number</th>\n",
       "      <th>Force Set</th>\n",
       "      <th>Type of regulation</th>\n",
       "      <th>Min flux in Wild Type (mmol/gDW hr)</th>\n",
       "      <th>Max flux in Wild Type (mmol/gDW hr)</th>\n",
       "      <th>Min flux in Mutant (mmol/gDW hr)</th>\n",
       "      <th>Max flux in Mutant (mmol/gDW hr)</th>\n",
       "      <th>Achieved flux (mmol/gDW hr)</th>\n",
       "      <th>Objective function (mmol/gDW hr)</th>\n",
       "      <th>Minimum guaranteed for target (mmol/gDW hr)</th>\n",
       "      <th>Maximum guaranteed for target (mmol/gDW hr)</th>\n",
       "      <th>Maximum growth rate (1/hr)</th>\n",
       "    </tr>\n",
       "  </thead>\n",
       "  <tbody>\n",
       "    <tr>\n",
       "      <th>0</th>\n",
       "      <td>1</td>\n",
       "      <td>1</td>\n",
       "      <td>SUCCtex</td>\n",
       "      <td>downregulation</td>\n",
       "      <td>-211.619609</td>\n",
       "      <td>0.000000</td>\n",
       "      <td>-400.000000</td>\n",
       "      <td>-400.000000</td>\n",
       "      <td>-400</td>\n",
       "      <td>4.000000e+02</td>\n",
       "      <td>400</td>\n",
       "      <td>400.000000</td>\n",
       "      <td>0.000000</td>\n",
       "    </tr>\n",
       "    <tr>\n",
       "      <th>1</th>\n",
       "      <td>1</td>\n",
       "      <td>2</td>\n",
       "      <td>O2tex</td>\n",
       "      <td>downregulation</td>\n",
       "      <td>51.223218</td>\n",
       "      <td>100.000000</td>\n",
       "      <td>0.000000</td>\n",
       "      <td>100.000000</td>\n",
       "      <td>100</td>\n",
       "      <td>0.000000e+00</td>\n",
       "      <td>0</td>\n",
       "      <td>198.530862</td>\n",
       "      <td>9.258553</td>\n",
       "    </tr>\n",
       "    <tr>\n",
       "      <th>2</th>\n",
       "      <td>1</td>\n",
       "      <td>3</td>\n",
       "      <td>MALS</td>\n",
       "      <td>upregulation</td>\n",
       "      <td>0.000000</td>\n",
       "      <td>102.257274</td>\n",
       "      <td>0.000000</td>\n",
       "      <td>130.620000</td>\n",
       "      <td>0</td>\n",
       "      <td>0.000000e+00</td>\n",
       "      <td>0</td>\n",
       "      <td>198.530649</td>\n",
       "      <td>9.258553</td>\n",
       "    </tr>\n",
       "    <tr>\n",
       "      <th>3</th>\n",
       "      <td>1</td>\n",
       "      <td>4</td>\n",
       "      <td>EX_k_e</td>\n",
       "      <td>upregulation</td>\n",
       "      <td>-1.806094</td>\n",
       "      <td>-1.756737</td>\n",
       "      <td>0.000000</td>\n",
       "      <td>0.000000</td>\n",
       "      <td>0</td>\n",
       "      <td>9.163160e-10</td>\n",
       "      <td>0</td>\n",
       "      <td>400.000000</td>\n",
       "      <td>0.000000</td>\n",
       "    </tr>\n",
       "    <tr>\n",
       "      <th>4</th>\n",
       "      <td>1</td>\n",
       "      <td>5</td>\n",
       "      <td>EX_nh4_e</td>\n",
       "      <td>upregulation</td>\n",
       "      <td>-100.000000</td>\n",
       "      <td>-97.207416</td>\n",
       "      <td>-42.382609</td>\n",
       "      <td>0.000000</td>\n",
       "      <td>0</td>\n",
       "      <td>0.000000e+00</td>\n",
       "      <td>0</td>\n",
       "      <td>400.000000</td>\n",
       "      <td>0.000000</td>\n",
       "    </tr>\n",
       "    <tr>\n",
       "      <th>5</th>\n",
       "      <td>1</td>\n",
       "      <td>6</td>\n",
       "      <td>EX_pi_e</td>\n",
       "      <td>upregulation</td>\n",
       "      <td>-33.492968</td>\n",
       "      <td>-8.681679</td>\n",
       "      <td>0.000000</td>\n",
       "      <td>0.000000</td>\n",
       "      <td>0</td>\n",
       "      <td>0.000000e+00</td>\n",
       "      <td>0</td>\n",
       "      <td>400.000000</td>\n",
       "      <td>0.000000</td>\n",
       "    </tr>\n",
       "    <tr>\n",
       "      <th>6</th>\n",
       "      <td>1</td>\n",
       "      <td>7</td>\n",
       "      <td>EX_so4_e</td>\n",
       "      <td>upregulation</td>\n",
       "      <td>-55.200639</td>\n",
       "      <td>-2.269890</td>\n",
       "      <td>0.000000</td>\n",
       "      <td>0.000000</td>\n",
       "      <td>0</td>\n",
       "      <td>0.000000e+00</td>\n",
       "      <td>0</td>\n",
       "      <td>400.000000</td>\n",
       "      <td>0.000000</td>\n",
       "    </tr>\n",
       "    <tr>\n",
       "      <th>7</th>\n",
       "      <td>1</td>\n",
       "      <td>8</td>\n",
       "      <td>CO2tpp</td>\n",
       "      <td>upregulation</td>\n",
       "      <td>-488.021037</td>\n",
       "      <td>130.144490</td>\n",
       "      <td>100.000000</td>\n",
       "      <td>321.850000</td>\n",
       "      <td>100</td>\n",
       "      <td>0.000000e+00</td>\n",
       "      <td>0</td>\n",
       "      <td>81.649424</td>\n",
       "      <td>9.258553</td>\n",
       "    </tr>\n",
       "    <tr>\n",
       "      <th>8</th>\n",
       "      <td>1</td>\n",
       "      <td>9</td>\n",
       "      <td>DHORTS</td>\n",
       "      <td>upregulation</td>\n",
       "      <td>-27.628953</td>\n",
       "      <td>-2.977155</td>\n",
       "      <td>0.000000</td>\n",
       "      <td>0.000000</td>\n",
       "      <td>0</td>\n",
       "      <td>2.273740e-11</td>\n",
       "      <td>0</td>\n",
       "      <td>400.000000</td>\n",
       "      <td>0.000000</td>\n",
       "    </tr>\n",
       "    <tr>\n",
       "      <th>9</th>\n",
       "      <td>1</td>\n",
       "      <td>10</td>\n",
       "      <td>ASAD</td>\n",
       "      <td>upregulation</td>\n",
       "      <td>-83.373351</td>\n",
       "      <td>-9.621684</td>\n",
       "      <td>-39.160000</td>\n",
       "      <td>0.000000</td>\n",
       "      <td>0</td>\n",
       "      <td>0.000000e+00</td>\n",
       "      <td>0</td>\n",
       "      <td>400.000000</td>\n",
       "      <td>0.000000</td>\n",
       "    </tr>\n",
       "    <tr>\n",
       "      <th>10</th>\n",
       "      <td>1</td>\n",
       "      <td>11</td>\n",
       "      <td>ACONTa</td>\n",
       "      <td>knockout</td>\n",
       "      <td>9.676728</td>\n",
       "      <td>155.473807</td>\n",
       "      <td>55.690909</td>\n",
       "      <td>169.628571</td>\n",
       "      <td>0</td>\n",
       "      <td>2.785330e-10</td>\n",
       "      <td>0</td>\n",
       "      <td>381.375510</td>\n",
       "      <td>0.000000</td>\n",
       "    </tr>\n",
       "    <tr>\n",
       "      <th>11</th>\n",
       "      <td>1</td>\n",
       "      <td>12</td>\n",
       "      <td>G3PD2</td>\n",
       "      <td>upregulation</td>\n",
       "      <td>-120.043499</td>\n",
       "      <td>98.748748</td>\n",
       "      <td>-117.480000</td>\n",
       "      <td>100.000000</td>\n",
       "      <td>100</td>\n",
       "      <td>0.000000e+00</td>\n",
       "      <td>0</td>\n",
       "      <td>400.000000</td>\n",
       "      <td>0.000000</td>\n",
       "    </tr>\n",
       "    <tr>\n",
       "      <th>12</th>\n",
       "      <td>1</td>\n",
       "      <td>13</td>\n",
       "      <td>GAPD</td>\n",
       "      <td>upregulation</td>\n",
       "      <td>85.013551</td>\n",
       "      <td>278.336895</td>\n",
       "      <td>202.520000</td>\n",
       "      <td>300.000000</td>\n",
       "      <td>300</td>\n",
       "      <td>0.000000e+00</td>\n",
       "      <td>0</td>\n",
       "      <td>400.000000</td>\n",
       "      <td>0.000000</td>\n",
       "    </tr>\n",
       "    <tr>\n",
       "      <th>13</th>\n",
       "      <td>1</td>\n",
       "      <td>14</td>\n",
       "      <td>IPPMIa</td>\n",
       "      <td>upregulation</td>\n",
       "      <td>-6.847363</td>\n",
       "      <td>-4.054779</td>\n",
       "      <td>0.000000</td>\n",
       "      <td>0.000000</td>\n",
       "      <td>0</td>\n",
       "      <td>0.000000e+00</td>\n",
       "      <td>0</td>\n",
       "      <td>400.000000</td>\n",
       "      <td>0.000000</td>\n",
       "    </tr>\n",
       "    <tr>\n",
       "      <th>14</th>\n",
       "      <td>1</td>\n",
       "      <td>15</td>\n",
       "      <td>IPPMIb</td>\n",
       "      <td>upregulation</td>\n",
       "      <td>-6.847363</td>\n",
       "      <td>-4.054779</td>\n",
       "      <td>0.000000</td>\n",
       "      <td>0.000000</td>\n",
       "      <td>0</td>\n",
       "      <td>0.000000e+00</td>\n",
       "      <td>0</td>\n",
       "      <td>400.000000</td>\n",
       "      <td>0.000000</td>\n",
       "    </tr>\n",
       "    <tr>\n",
       "      <th>15</th>\n",
       "      <td>1</td>\n",
       "      <td>16</td>\n",
       "      <td>KARA1</td>\n",
       "      <td>upregulation</td>\n",
       "      <td>-10.661005</td>\n",
       "      <td>-7.868421</td>\n",
       "      <td>0.000000</td>\n",
       "      <td>0.000000</td>\n",
       "      <td>0</td>\n",
       "      <td>0.000000e+00</td>\n",
       "      <td>0</td>\n",
       "      <td>400.000000</td>\n",
       "      <td>0.000000</td>\n",
       "    </tr>\n",
       "    <tr>\n",
       "      <th>16</th>\n",
       "      <td>1</td>\n",
       "      <td>17</td>\n",
       "      <td>ILETA</td>\n",
       "      <td>upregulation</td>\n",
       "      <td>-5.407345</td>\n",
       "      <td>-2.614761</td>\n",
       "      <td>0.000000</td>\n",
       "      <td>0.000000</td>\n",
       "      <td>0</td>\n",
       "      <td>0.000000e+00</td>\n",
       "      <td>0</td>\n",
       "      <td>400.000000</td>\n",
       "      <td>0.000000</td>\n",
       "    </tr>\n",
       "    <tr>\n",
       "      <th>17</th>\n",
       "      <td>1</td>\n",
       "      <td>18</td>\n",
       "      <td>IMPC</td>\n",
       "      <td>upregulation</td>\n",
       "      <td>-22.266221</td>\n",
       "      <td>-4.884777</td>\n",
       "      <td>-11.604762</td>\n",
       "      <td>0.000000</td>\n",
       "      <td>0</td>\n",
       "      <td>0.000000e+00</td>\n",
       "      <td>0</td>\n",
       "      <td>400.000000</td>\n",
       "      <td>0.000000</td>\n",
       "    </tr>\n",
       "    <tr>\n",
       "      <th>18</th>\n",
       "      <td>1</td>\n",
       "      <td>19</td>\n",
       "      <td>SDPDS</td>\n",
       "      <td>knockout</td>\n",
       "      <td>3.338541</td>\n",
       "      <td>4.734833</td>\n",
       "      <td>0.000000</td>\n",
       "      <td>0.000000</td>\n",
       "      <td>0</td>\n",
       "      <td>3.889230e-10</td>\n",
       "      <td>0</td>\n",
       "      <td>400.000000</td>\n",
       "      <td>0.000000</td>\n",
       "    </tr>\n",
       "    <tr>\n",
       "      <th>19</th>\n",
       "      <td>1</td>\n",
       "      <td>20</td>\n",
       "      <td>ORPT</td>\n",
       "      <td>upregulation</td>\n",
       "      <td>-27.628953</td>\n",
       "      <td>-2.977155</td>\n",
       "      <td>0.000000</td>\n",
       "      <td>0.000000</td>\n",
       "      <td>0</td>\n",
       "      <td>0.000000e+00</td>\n",
       "      <td>0</td>\n",
       "      <td>400.000000</td>\n",
       "      <td>0.000000</td>\n",
       "    </tr>\n",
       "  </tbody>\n",
       "</table>\n",
       "</div>"
      ],
      "text/plain": [
       "    Number of interventions  Set number Force Set Type of regulation  \\\n",
       "0                         1           1   SUCCtex     downregulation   \n",
       "1                         1           2     O2tex     downregulation   \n",
       "2                         1           3      MALS       upregulation   \n",
       "3                         1           4    EX_k_e       upregulation   \n",
       "4                         1           5  EX_nh4_e       upregulation   \n",
       "5                         1           6   EX_pi_e       upregulation   \n",
       "6                         1           7  EX_so4_e       upregulation   \n",
       "7                         1           8    CO2tpp       upregulation   \n",
       "8                         1           9    DHORTS       upregulation   \n",
       "9                         1          10      ASAD       upregulation   \n",
       "10                        1          11    ACONTa           knockout   \n",
       "11                        1          12     G3PD2       upregulation   \n",
       "12                        1          13      GAPD       upregulation   \n",
       "13                        1          14    IPPMIa       upregulation   \n",
       "14                        1          15    IPPMIb       upregulation   \n",
       "15                        1          16     KARA1       upregulation   \n",
       "16                        1          17     ILETA       upregulation   \n",
       "17                        1          18      IMPC       upregulation   \n",
       "18                        1          19     SDPDS           knockout   \n",
       "19                        1          20      ORPT       upregulation   \n",
       "\n",
       "    Min flux in Wild Type (mmol/gDW hr)  Max flux in Wild Type (mmol/gDW hr)  \\\n",
       "0                           -211.619609                             0.000000   \n",
       "1                             51.223218                           100.000000   \n",
       "2                              0.000000                           102.257274   \n",
       "3                             -1.806094                            -1.756737   \n",
       "4                           -100.000000                           -97.207416   \n",
       "5                            -33.492968                            -8.681679   \n",
       "6                            -55.200639                            -2.269890   \n",
       "7                           -488.021037                           130.144490   \n",
       "8                            -27.628953                            -2.977155   \n",
       "9                            -83.373351                            -9.621684   \n",
       "10                             9.676728                           155.473807   \n",
       "11                          -120.043499                            98.748748   \n",
       "12                            85.013551                           278.336895   \n",
       "13                            -6.847363                            -4.054779   \n",
       "14                            -6.847363                            -4.054779   \n",
       "15                           -10.661005                            -7.868421   \n",
       "16                            -5.407345                            -2.614761   \n",
       "17                           -22.266221                            -4.884777   \n",
       "18                             3.338541                             4.734833   \n",
       "19                           -27.628953                            -2.977155   \n",
       "\n",
       "    Min flux in Mutant (mmol/gDW hr)  Max flux in Mutant (mmol/gDW hr)  \\\n",
       "0                        -400.000000                       -400.000000   \n",
       "1                           0.000000                        100.000000   \n",
       "2                           0.000000                        130.620000   \n",
       "3                           0.000000                          0.000000   \n",
       "4                         -42.382609                          0.000000   \n",
       "5                           0.000000                          0.000000   \n",
       "6                           0.000000                          0.000000   \n",
       "7                         100.000000                        321.850000   \n",
       "8                           0.000000                          0.000000   \n",
       "9                         -39.160000                          0.000000   \n",
       "10                         55.690909                        169.628571   \n",
       "11                       -117.480000                        100.000000   \n",
       "12                        202.520000                        300.000000   \n",
       "13                          0.000000                          0.000000   \n",
       "14                          0.000000                          0.000000   \n",
       "15                          0.000000                          0.000000   \n",
       "16                          0.000000                          0.000000   \n",
       "17                        -11.604762                          0.000000   \n",
       "18                          0.000000                          0.000000   \n",
       "19                          0.000000                          0.000000   \n",
       "\n",
       "    Achieved flux (mmol/gDW hr)  Objective function (mmol/gDW hr)  \\\n",
       "0                          -400                      4.000000e+02   \n",
       "1                           100                      0.000000e+00   \n",
       "2                             0                      0.000000e+00   \n",
       "3                             0                      9.163160e-10   \n",
       "4                             0                      0.000000e+00   \n",
       "5                             0                      0.000000e+00   \n",
       "6                             0                      0.000000e+00   \n",
       "7                           100                      0.000000e+00   \n",
       "8                             0                      2.273740e-11   \n",
       "9                             0                      0.000000e+00   \n",
       "10                            0                      2.785330e-10   \n",
       "11                          100                      0.000000e+00   \n",
       "12                          300                      0.000000e+00   \n",
       "13                            0                      0.000000e+00   \n",
       "14                            0                      0.000000e+00   \n",
       "15                            0                      0.000000e+00   \n",
       "16                            0                      0.000000e+00   \n",
       "17                            0                      0.000000e+00   \n",
       "18                            0                      3.889230e-10   \n",
       "19                            0                      0.000000e+00   \n",
       "\n",
       "    Minimum guaranteed for target (mmol/gDW hr)  \\\n",
       "0                                           400   \n",
       "1                                             0   \n",
       "2                                             0   \n",
       "3                                             0   \n",
       "4                                             0   \n",
       "5                                             0   \n",
       "6                                             0   \n",
       "7                                             0   \n",
       "8                                             0   \n",
       "9                                             0   \n",
       "10                                            0   \n",
       "11                                            0   \n",
       "12                                            0   \n",
       "13                                            0   \n",
       "14                                            0   \n",
       "15                                            0   \n",
       "16                                            0   \n",
       "17                                            0   \n",
       "18                                            0   \n",
       "19                                            0   \n",
       "\n",
       "    Maximum guaranteed for target (mmol/gDW hr)  Maximum growth rate (1/hr)  \n",
       "0                                    400.000000                    0.000000  \n",
       "1                                    198.530862                    9.258553  \n",
       "2                                    198.530649                    9.258553  \n",
       "3                                    400.000000                    0.000000  \n",
       "4                                    400.000000                    0.000000  \n",
       "5                                    400.000000                    0.000000  \n",
       "6                                    400.000000                    0.000000  \n",
       "7                                     81.649424                    9.258553  \n",
       "8                                    400.000000                    0.000000  \n",
       "9                                    400.000000                    0.000000  \n",
       "10                                   381.375510                    0.000000  \n",
       "11                                   400.000000                    0.000000  \n",
       "12                                   400.000000                    0.000000  \n",
       "13                                   400.000000                    0.000000  \n",
       "14                                   400.000000                    0.000000  \n",
       "15                                   400.000000                    0.000000  \n",
       "16                                   400.000000                    0.000000  \n",
       "17                                   400.000000                    0.000000  \n",
       "18                                   400.000000                    0.000000  \n",
       "19                                   400.000000                    0.000000  "
      ]
     },
     "execution_count": 44,
     "metadata": {},
     "output_type": "execute_result"
    }
   ],
   "source": [
    "df[\"Force Set\"]"
   ]
  },
  {
   "cell_type": "code",
   "execution_count": 45,
   "id": "423dabca-e35a-461f-8e2d-eb91ef63cc8d",
   "metadata": {},
   "outputs": [
    {
     "data": {
      "text/plain": [
       "-211.6196086"
      ]
     },
     "execution_count": 45,
     "metadata": {},
     "output_type": "execute_result"
    }
   ],
   "source": [
    "df[\"Min flux in Wild Type (mmol/gDW hr)\"][0]"
   ]
  },
  {
   "cell_type": "code",
   "execution_count": 46,
   "id": "277614c6-aed1-470c-847f-09866c804be5",
   "metadata": {},
   "outputs": [
    {
     "data": {
      "text/plain": [
       "0.0"
      ]
     },
     "execution_count": 46,
     "metadata": {},
     "output_type": "execute_result"
    }
   ],
   "source": [
    "df[\"Max flux in Wild Type (mmol/gDW hr)\"][0]"
   ]
  },
  {
   "cell_type": "code",
   "execution_count": 64,
   "id": "1f9e3468-219f-40a1-b6e5-e889f91f1293",
   "metadata": {},
   "outputs": [],
   "source": [
    "for i in range(len(df[5:15])):\n",
    "    model.reactions.get_by_id(df[\"Force Set\"][i]).upper_bound = df[\"Max flux in Wild Type (mmol/gDW hr)\"][i]\n",
    "    model.reactions.get_by_id(df[\"Force Set\"][i]).lower_bound = df[\"Min flux in Wild Type (mmol/gDW hr)\"][i]"
   ]
  },
  {
   "cell_type": "code",
   "execution_count": 65,
   "id": "6cddfb5d-84b2-404d-b8d6-a1a0ee3fc79f",
   "metadata": {},
   "outputs": [
    {
     "data": {
      "text/html": [
       "\n",
       "        <table>\n",
       "            <tr>\n",
       "                <td><strong>Reaction identifier</strong></td><td>EX_nh4_e</td>\n",
       "            </tr><tr>\n",
       "                <td><strong>Name</strong></td><td>Ammonia exchange</td>\n",
       "            </tr><tr>\n",
       "                <td><strong>Memory address</strong></td>\n",
       "                <td>0x7f7eedabac40</td>\n",
       "            </tr><tr>\n",
       "                <td><strong>Stoichiometry</strong></td>\n",
       "                <td>\n",
       "                    <p style='text-align:right'>nh4_e <--</p>\n",
       "                    <p style='text-align:right'>Ammonium <--</p>\n",
       "                </td>\n",
       "            </tr><tr>\n",
       "                <td><strong>GPR</strong></td><td></td>\n",
       "            </tr><tr>\n",
       "                <td><strong>Lower bound</strong></td><td>-100.0</td>\n",
       "            </tr><tr>\n",
       "                <td><strong>Upper bound</strong></td><td>-97.207416</td>\n",
       "            </tr>\n",
       "        </table>\n",
       "        "
      ],
      "text/plain": [
       "<Reaction EX_nh4_e at 0x7f7eedabac40>"
      ]
     },
     "execution_count": 65,
     "metadata": {},
     "output_type": "execute_result"
    }
   ],
   "source": [
    "model.reactions.get_by_id(\"EX_nh4_e\")"
   ]
  },
  {
   "cell_type": "code",
   "execution_count": 66,
   "id": "a91093d0-4f77-4219-8c6c-8f4aff8b32d1",
   "metadata": {},
   "outputs": [
    {
     "name": "stdout",
     "output_type": "stream",
     "text": [
      "<Solution infeasible at 0x7f7eee02aee0>\n"
     ]
    },
    {
     "name": "stderr",
     "output_type": "stream",
     "text": [
      "/home/chenjunyu/miniconda3/envs/cobra/lib/python3.8/site-packages/cobra/util/solver.py:554: UserWarning: Solver status is 'infeasible'.\n",
      "  warn(f\"Solver status is '{status}'.\", UserWarning)\n"
     ]
    }
   ],
   "source": [
    "solution = model.optimize()\n",
    "print(solution)"
   ]
  },
  {
   "cell_type": "markdown",
   "id": "2859efec-1918-4e85-aec0-38aa7812f5f5",
   "metadata": {},
   "source": [
    "infeasible? It's that because I change the bound to the imposible solution?"
   ]
  },
  {
   "cell_type": "markdown",
   "id": "1832e3fb-b546-4896-9782-9357153791bc",
   "metadata": {},
   "source": [
    "But if you just change the constrain bound, that may not ensure the regulation are actually effective"
   ]
  },
  {
   "cell_type": "markdown",
   "id": "65c9511a-0408-4356-9179-44f42752478e",
   "metadata": {},
   "source": [
    "FBA using Matlab"
   ]
  },
  {
   "cell_type": "markdown",
   "id": "4d5ef62d-e3e3-4ed4-8609-5cff14e6311f",
   "metadata": {},
   "source": [
    "the reaction should be correalted to it"
   ]
  },
  {
   "cell_type": "markdown",
   "id": "6c12aefc-d3af-438f-9dd7-332dfcc5fed4",
   "metadata": {},
   "source": [
    "and the biomass should be well set as 50%?"
   ]
  },
  {
   "cell_type": "markdown",
   "id": "2b359bac-04fa-476a-b898-2520244c5f10",
   "metadata": {},
   "source": [
    "how to get the init flux?"
   ]
  },
  {
   "cell_type": "code",
   "execution_count": null,
   "id": "04171f7d-b6e1-484c-a9d3-2e3c8d8cba70",
   "metadata": {},
   "outputs": [],
   "source": []
  },
  {
   "cell_type": "markdown",
   "id": "8ffece1e-8af0-460a-9f5b-8e3309c9970d",
   "metadata": {},
   "source": [
    "I should also use the FVA not just FBA, cuase it just give me a single differenct optimum every time"
   ]
  },
  {
   "cell_type": "markdown",
   "id": "f5153f29-db15-45ae-b7c5-fa3229b6a25e",
   "metadata": {},
   "source": [
    "I should veryfy the target generated by OptForce is also not 0 in the FBA"
   ]
  },
  {
   "cell_type": "code",
   "execution_count": null,
   "id": "ce071fff-8560-4f8b-ae00-67b019d9d86f",
   "metadata": {},
   "outputs": [],
   "source": []
  }
 ],
 "metadata": {
  "kernelspec": {
   "display_name": "COBRApy",
   "language": "python",
   "name": "cobra"
  },
  "language_info": {
   "codemirror_mode": {
    "name": "ipython",
    "version": 3
   },
   "file_extension": ".py",
   "mimetype": "text/x-python",
   "name": "python",
   "nbconvert_exporter": "python",
   "pygments_lexer": "ipython3",
   "version": "3.8.12"
  }
 },
 "nbformat": 4,
 "nbformat_minor": 5
}
