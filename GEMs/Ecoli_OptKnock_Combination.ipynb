{
 "cells": [
  {
   "cell_type": "code",
   "execution_count": null,
   "id": "97f6b42a-6d0b-4ea5-99d6-cec486af2382",
   "metadata": {},
   "outputs": [],
   "source": []
  },
  {
   "cell_type": "code",
   "execution_count": 2,
   "id": "b31d2883-6658-49e6-b97d-27dd3b788779",
   "metadata": {},
   "outputs": [],
   "source": [
    "import cobra"
   ]
  },
  {
   "cell_type": "code",
   "execution_count": 3,
   "id": "8540ff84-628d-426b-95dd-6e77edabd3ff",
   "metadata": {},
   "outputs": [],
   "source": [
    "import pandas as pd\n",
    "from cobra.io import load_model\n"
   ]
  },
  {
   "cell_type": "code",
   "execution_count": 31,
   "id": "b465349b-2e89-4d4b-ba6a-e6bc41dca3ef",
   "metadata": {},
   "outputs": [],
   "source": [
    "model = load_model(\"iJO1366\") #no need to import from matlab"
   ]
  },
  {
   "cell_type": "code",
   "execution_count": 6,
   "id": "951163ec-60a8-4a2b-8916-d482450acf44",
   "metadata": {},
   "outputs": [],
   "source": [
    "targetNum = 20"
   ]
  },
  {
   "cell_type": "code",
   "execution_count": 7,
   "id": "4a2f710b-1ca7-40a7-8b33-a57b814e97bd",
   "metadata": {},
   "outputs": [],
   "source": [
    "KOlist = ('GLCabcpp', 'GLCptspp', 'HEX1', 'PGI', 'PFK', 'FBA', 'TPI', 'GAPD', 'PGK', 'PGM', 'ENO', 'PYK', 'LDH_D', 'PFL', 'ALCD2x', 'PTAr', 'ACKr', 'G6PDH2r', 'PGL', 'GND', 'RPI', 'RPE', 'TKT1', 'TALA', 'TKT2', 'FUM', 'FRD2', 'SUCOAS', 'AKGDH', 'ACONTa', 'ACONTb', 'ICDHyr', 'CS', 'MDH',  'MDH2', 'MDH3', 'ACALD')"
   ]
  },
  {
   "cell_type": "code",
   "execution_count": 8,
   "id": "6acc85da-1260-4c95-bd71-b838754d98fe",
   "metadata": {},
   "outputs": [
    {
     "data": {
      "text/plain": [
       "37"
      ]
     },
     "execution_count": 8,
     "metadata": {},
     "output_type": "execute_result"
    }
   ],
   "source": [
    "len(KOlist)"
   ]
  },
  {
   "cell_type": "code",
   "execution_count": 9,
   "id": "ec9a80dd-b0b0-4d23-a458-8d7a779a5b8b",
   "metadata": {},
   "outputs": [],
   "source": [
    "targetList = KOlist[:targetNum]"
   ]
  },
  {
   "cell_type": "code",
   "execution_count": 10,
   "id": "7724aa33-6ae2-4143-9f81-cc0bddc67e7b",
   "metadata": {},
   "outputs": [
    {
     "data": {
      "text/plain": [
       "20"
      ]
     },
     "execution_count": 10,
     "metadata": {},
     "output_type": "execute_result"
    }
   ],
   "source": [
    "len(targetList)"
   ]
  },
  {
   "cell_type": "code",
   "execution_count": 12,
   "id": "41208e19-de0c-4fc6-9036-d9a05c892948",
   "metadata": {},
   "outputs": [],
   "source": [
    "from itertools import combinations"
   ]
  },
  {
   "cell_type": "code",
   "execution_count": 13,
   "id": "0346db5e-df24-4e29-b54f-df228d37ffc2",
   "metadata": {},
   "outputs": [],
   "source": [
    "combList = []\n",
    "for i in range(1,targetNum+1):\n",
    "    combList.extend(list(combinations(targetList, i)))"
   ]
  },
  {
   "cell_type": "code",
   "execution_count": 14,
   "id": "9f903503-ba29-493e-bfd5-bc0b89a06099",
   "metadata": {},
   "outputs": [
    {
     "data": {
      "text/plain": [
       "1048575"
      ]
     },
     "execution_count": 14,
     "metadata": {},
     "output_type": "execute_result"
    }
   ],
   "source": [
    "len(combList)"
   ]
  },
  {
   "cell_type": "code",
   "execution_count": 15,
   "id": "9565f786-a8b3-42a3-a2fb-5af013d6b052",
   "metadata": {},
   "outputs": [
    {
     "data": {
      "text/plain": [
       "[('GLCabcpp',),\n",
       " ('GLCptspp',),\n",
       " ('HEX1',),\n",
       " ('PGI',),\n",
       " ('PFK',),\n",
       " ('FBA',),\n",
       " ('TPI',),\n",
       " ('GAPD',),\n",
       " ('PGK',),\n",
       " ('PGM',),\n",
       " ('ENO',),\n",
       " ('PYK',),\n",
       " ('LDH_D',),\n",
       " ('PFL',),\n",
       " ('ALCD2x',),\n",
       " ('PTAr',),\n",
       " ('ACKr',),\n",
       " ('G6PDH2r',),\n",
       " ('PGL',),\n",
       " ('GND',),\n",
       " ('GLCabcpp', 'GLCptspp'),\n",
       " ('GLCabcpp', 'HEX1'),\n",
       " ('GLCabcpp', 'PGI'),\n",
       " ('GLCabcpp', 'PFK'),\n",
       " ('GLCabcpp', 'FBA')]"
      ]
     },
     "execution_count": 15,
     "metadata": {},
     "output_type": "execute_result"
    }
   ],
   "source": [
    "combList[0:25]"
   ]
  },
  {
   "cell_type": "code",
   "execution_count": 43,
   "id": "384ae7e7-d498-4b7b-a8ab-42e8813bc92c",
   "metadata": {},
   "outputs": [
    {
     "data": {
      "text/plain": [
       "1"
      ]
     },
     "execution_count": 43,
     "metadata": {},
     "output_type": "execute_result"
    }
   ],
   "source": [
    "len(combList[0])"
   ]
  },
  {
   "cell_type": "code",
   "execution_count": 45,
   "id": "d5b5943a-f175-4bf2-8e7f-b0068331661b",
   "metadata": {},
   "outputs": [
    {
     "data": {
      "text/plain": [
       "'GLCabcpp'"
      ]
     },
     "execution_count": 45,
     "metadata": {},
     "output_type": "execute_result"
    }
   ],
   "source": [
    "combList[0][1-1]"
   ]
  },
  {
   "cell_type": "code",
   "execution_count": 51,
   "id": "83eff86d-690c-481f-9dbb-1a90637fa3b5",
   "metadata": {},
   "outputs": [
    {
     "name": "stdout",
     "output_type": "stream",
     "text": [
      "0\n",
      "<Solution 16.087 at 0x7ff3d944dcd0>\n",
      "Objective\n",
      "=========\n",
      "1.0 EX_succ_e = 16.087096774193544\n",
      "\n",
      "Uptake\n",
      "------\n",
      "Metabolite    Reaction  Flux  C-Number C-Flux\n",
      "     co2_e    EX_co2_e 4.348         1  6.76%\n",
      "  glc__D_e EX_glc__D_e    10         6 93.24%\n",
      "      o2_e     EX_o2_e 3.695         0  0.00%\n",
      "\n",
      "Secretion\n",
      "---------\n",
      "Metabolite  Reaction   Flux  C-Number  C-Flux\n",
      "     h2o_e  EX_h2o_e -11.74         0   0.00%\n",
      "       h_e    EX_h_e -32.17         0   0.00%\n",
      "    succ_e EX_succ_e -16.09         4 100.00%\n",
      "\n"
     ]
    }
   ],
   "source": [
    "with model:\n",
    "    for rec in combList[25]:\n",
    "        model.reactions.get_by_id(rec).knock_out()\n",
    "    print(model.reactions.get_by_id(rec).lower_bound)\n",
    "    print(model.optimize())\n",
    "    print(model.summary())"
   ]
  },
  {
   "cell_type": "code",
   "execution_count": null,
   "id": "e7a747c0-081c-4c40-93d3-a786e8e2b7be",
   "metadata": {},
   "outputs": [],
   "source": [
    "objList = []\n",
    "for comb in combList:\n",
    "    with model:\n",
    "        for rec in comb:\n",
    "            model.reactions.get_by_id(rec).knock_out()\n",
    "    objList.append(model.optimize().objective_value)"
   ]
  },
  {
   "cell_type": "code",
   "execution_count": 54,
   "id": "c2d56235-60b3-4c33-bc27-f1e8c34c9383",
   "metadata": {},
   "outputs": [
    {
     "data": {
      "text/plain": [
       "1048575"
      ]
     },
     "execution_count": 54,
     "metadata": {},
     "output_type": "execute_result"
    }
   ],
   "source": [
    "len(objList)"
   ]
  },
  {
   "cell_type": "code",
   "execution_count": 55,
   "id": "e44f6335-4de9-4168-b7f9-7b1b75f3aef7",
   "metadata": {},
   "outputs": [],
   "source": [
    "df = pd.DataFrame()\n",
    "df[\"comb\"] = combList\n",
    "df[\"obj\"] = objList\n",
    "\n",
    "df.to_csv(\"Ecoli_Suc_KO.csv\")"
   ]
  },
  {
   "cell_type": "code",
   "execution_count": null,
   "id": "1739e50a-902a-4615-b3ae-9fca93e1fdb7",
   "metadata": {},
   "outputs": [],
   "source": []
  },
  {
   "cell_type": "code",
   "execution_count": 32,
   "id": "cb78534e-28f0-4a00-a13f-4fdb864f3f3b",
   "metadata": {},
   "outputs": [],
   "source": [
    "model.objective = 'EX_succ_e'"
   ]
  },
  {
   "cell_type": "code",
   "execution_count": 33,
   "id": "022ecdb8-02d6-40f4-a376-157741a76180",
   "metadata": {},
   "outputs": [
    {
     "name": "stdout",
     "output_type": "stream",
     "text": [
      "1.0*EX_succ_e - 1.0*EX_succ_e_reverse_a9039\n",
      "max\n"
     ]
    }
   ],
   "source": [
    "print(model.objective.expression)\n",
    "print(model.objective.direction)"
   ]
  },
  {
   "cell_type": "code",
   "execution_count": 34,
   "id": "735692b3-9838-4598-8ece-7351125d87d1",
   "metadata": {},
   "outputs": [
    {
     "name": "stdout",
     "output_type": "stream",
     "text": [
      "<Solution 17.096 at 0x7ff3d899ebb0>\n"
     ]
    }
   ],
   "source": [
    "solution = model.optimize()\n",
    "print(solution)"
   ]
  },
  {
   "cell_type": "code",
   "execution_count": 35,
   "id": "a4dd3a04-6dff-41c7-a585-8f91f4548ca2",
   "metadata": {},
   "outputs": [
    {
     "name": "stdout",
     "output_type": "stream",
     "text": [
      "GLCabcpp knocked out:  <Solution 16.989 at 0x7ff35397f790>\n"
     ]
    }
   ],
   "source": [
    "with model:\n",
    "    model.reactions.get_by_id(\"PGI\").knock_out()\n",
    "    print('GLCabcpp knocked out: ', model.optimize())"
   ]
  },
  {
   "cell_type": "code",
   "execution_count": 23,
   "id": "a1a475d0-8f40-4b07-bb22-57fbac2b0a7c",
   "metadata": {},
   "outputs": [
    {
     "name": "stdout",
     "output_type": "stream",
     "text": [
      "GLCabcpp knocked out:  <Solution 16.989 at 0x7ff353ab90d0>\n"
     ]
    }
   ],
   "source": [
    "model.reactions.get_by_id(\"PGI\").knock_out()\n",
    "print('GLCabcpp knocked out: ', model.optimize())"
   ]
  },
  {
   "cell_type": "code",
   "execution_count": 36,
   "id": "341c4907-70c6-47dd-a70d-d007d20b51f3",
   "metadata": {},
   "outputs": [
    {
     "data": {
      "text/html": [
       "<h3>Objective</h3><p>1.0 EX_succ_e = 17.096428571428586</p><h4>Uptake</h4><table border=\"1\" class=\"dataframe\">\n",
       "  <thead>\n",
       "    <tr style=\"text-align: right;\">\n",
       "      <th>Metabolite</th>\n",
       "      <th>Reaction</th>\n",
       "      <th>Flux</th>\n",
       "      <th>C-Number</th>\n",
       "      <th>C-Flux</th>\n",
       "    </tr>\n",
       "  </thead>\n",
       "  <tbody>\n",
       "    <tr>\n",
       "      <td>co2_e</td>\n",
       "      <td>EX_co2_e</td>\n",
       "      <td>8.386</td>\n",
       "      <td>1</td>\n",
       "      <td>12.26%</td>\n",
       "    </tr>\n",
       "    <tr>\n",
       "      <td>glc__D_e</td>\n",
       "      <td>EX_glc__D_e</td>\n",
       "      <td>10</td>\n",
       "      <td>6</td>\n",
       "      <td>87.74%</td>\n",
       "    </tr>\n",
       "    <tr>\n",
       "      <td>o2_e</td>\n",
       "      <td>EX_o2_e</td>\n",
       "      <td>0.1625</td>\n",
       "      <td>0</td>\n",
       "      <td>0.00%</td>\n",
       "    </tr>\n",
       "  </tbody>\n",
       "</table><h4>Secretion</h4><table border=\"1\" class=\"dataframe\">\n",
       "  <thead>\n",
       "    <tr style=\"text-align: right;\">\n",
       "      <th>Metabolite</th>\n",
       "      <th>Reaction</th>\n",
       "      <th>Flux</th>\n",
       "      <th>C-Number</th>\n",
       "      <th>C-Flux</th>\n",
       "    </tr>\n",
       "  </thead>\n",
       "  <tbody>\n",
       "    <tr>\n",
       "      <td>h2o_e</td>\n",
       "      <td>EX_h2o_e</td>\n",
       "      <td>-8.711</td>\n",
       "      <td>0</td>\n",
       "      <td>0.00%</td>\n",
       "    </tr>\n",
       "    <tr>\n",
       "      <td>h_e</td>\n",
       "      <td>EX_h_e</td>\n",
       "      <td>-34.19</td>\n",
       "      <td>0</td>\n",
       "      <td>0.00%</td>\n",
       "    </tr>\n",
       "    <tr>\n",
       "      <td>succ_e</td>\n",
       "      <td>EX_succ_e</td>\n",
       "      <td>-17.1</td>\n",
       "      <td>4</td>\n",
       "      <td>100.00%</td>\n",
       "    </tr>\n",
       "  </tbody>\n",
       "</table>"
      ],
      "text/plain": [
       "<cobra.summary.model_summary.ModelSummary at 0x7ff3d81267f0>"
      ]
     },
     "execution_count": 36,
     "metadata": {},
     "output_type": "execute_result"
    }
   ],
   "source": [
    "model.summary()"
   ]
  },
  {
   "cell_type": "code",
   "execution_count": 37,
   "id": "eb3b066c-f918-4d33-80e4-41b9a48ec34b",
   "metadata": {},
   "outputs": [
    {
     "data": {
      "text/plain": [
       "17.096428571428568"
      ]
     },
     "execution_count": 37,
     "metadata": {},
     "output_type": "execute_result"
    }
   ],
   "source": [
    "model.optimize().objective_value"
   ]
  },
  {
   "cell_type": "code",
   "execution_count": null,
   "id": "eb2ae326-9794-4d7f-8ed9-2cf87b7b5b14",
   "metadata": {},
   "outputs": [],
   "source": []
  },
  {
   "cell_type": "markdown",
   "id": "4b434b79-afab-4a8c-98a5-b19a4c408e6c",
   "metadata": {},
   "source": [
    "test the kock out?"
   ]
  },
  {
   "cell_type": "markdown",
   "id": "b211a7f7-a088-46ed-9283-d390dc1f3373",
   "metadata": {
    "tags": []
   },
   "source": [
    "## Test with model: "
   ]
  },
  {
   "cell_type": "code",
   "execution_count": 27,
   "id": "c2cb5ec0-e1fc-491a-ac6b-1a87fc1df307",
   "metadata": {},
   "outputs": [],
   "source": [
    "import pandas as pd"
   ]
  },
  {
   "cell_type": "code",
   "execution_count": 38,
   "id": "c1e18a6d-8828-475c-b645-1baa54945fa8",
   "metadata": {},
   "outputs": [],
   "source": [
    "objList = []"
   ]
  },
  {
   "cell_type": "code",
   "execution_count": 39,
   "id": "0223b462-f77a-4b77-8454-48586779cd3d",
   "metadata": {},
   "outputs": [],
   "source": [
    "for rec in KOlist:\n",
    "    with model:\n",
    "        model.reactions.get_by_id(rec).knock_out()\n",
    "        objList.append(model.optimize().objective_value)"
   ]
  },
  {
   "cell_type": "code",
   "execution_count": 40,
   "id": "8487564c-c627-484c-88c9-2b161a2f74bd",
   "metadata": {
    "tags": []
   },
   "outputs": [
    {
     "data": {
      "text/plain": [
       "[17.096428571428568,\n",
       " 16.988888888888887,\n",
       " 17.09642857142857,\n",
       " 16.9888888888889,\n",
       " 17.096428571428575,\n",
       " 17.096428571428575,\n",
       " 16.08709677419355,\n",
       " 14.151612903225825,\n",
       " 14.151612903225825,\n",
       " 14.796774193548345,\n",
       " 14.796774193548345,\n",
       " 17.096428571428476,\n",
       " 17.096428571428476,\n",
       " 17.096428571428476,\n",
       " 17.096428571428476,\n",
       " 17.096428571428476,\n",
       " 17.096428571428476,\n",
       " 17.096428571428476,\n",
       " 17.096428571428476,\n",
       " 17.096428571428476,\n",
       " 17.096428571428476,\n",
       " 17.096428571428476,\n",
       " 17.096428571428476,\n",
       " 17.096428571428476,\n",
       " 17.096428571428476,\n",
       " 16.76302521008407,\n",
       " 17.09642857142858,\n",
       " 17.09642857142858,\n",
       " 17.09642857142858,\n",
       " 16.68163265306118,\n",
       " 16.681632653061175,\n",
       " 17.09642857142857,\n",
       " 16.681632653061218,\n",
       " 16.7738775510204,\n",
       " 17.09642857142857,\n",
       " 17.09642857142857,\n",
       " 17.09642857142857]"
      ]
     },
     "execution_count": 40,
     "metadata": {},
     "output_type": "execute_result"
    }
   ],
   "source": [
    "objList"
   ]
  },
  {
   "cell_type": "code",
   "execution_count": null,
   "id": "60ae8ea9-92f2-4a97-afea-c214ef3e7aa4",
   "metadata": {},
   "outputs": [],
   "source": []
  }
 ],
 "metadata": {
  "kernelspec": {
   "display_name": "COBRApy",
   "language": "python",
   "name": "cobra"
  },
  "language_info": {
   "codemirror_mode": {
    "name": "ipython",
    "version": 3
   },
   "file_extension": ".py",
   "mimetype": "text/x-python",
   "name": "python",
   "nbconvert_exporter": "python",
   "pygments_lexer": "ipython3",
   "version": "3.8.12"
  }
 },
 "nbformat": 4,
 "nbformat_minor": 5
}
