{
 "cells": [
  {
   "cell_type": "markdown",
   "id": "1c590571-cc78-447a-b46e-417c9ce07fa9",
   "metadata": {},
   "source": [
    "# FVA on E. coli Suc"
   ]
  },
  {
   "cell_type": "code",
   "execution_count": 1,
   "id": "968df0fb-14d0-45a6-9b70-fa148a4e4277",
   "metadata": {},
   "outputs": [],
   "source": [
    "import cobra"
   ]
  },
  {
   "cell_type": "code",
   "execution_count": 32,
   "id": "34977e48-9889-4d26-8a67-4633ea683daf",
   "metadata": {},
   "outputs": [],
   "source": [
    "import pandas as pd"
   ]
  },
  {
   "cell_type": "code",
   "execution_count": 2,
   "id": "30514d02-5eba-4af2-bc93-50969de81da2",
   "metadata": {},
   "outputs": [],
   "source": [
    "from cobra.io import load_model"
   ]
  },
  {
   "cell_type": "code",
   "execution_count": 200,
   "id": "f97c18bb-03e9-4dd5-b53e-ab99d70c59ca",
   "metadata": {},
   "outputs": [],
   "source": [
    "model = load_model(\"iJO1366\") #no need to import from matlab"
   ]
  },
  {
   "cell_type": "code",
   "execution_count": 4,
   "id": "ae0fba8c-1b0d-4480-875c-b514533cce17",
   "metadata": {},
   "outputs": [],
   "source": [
    "from cobra.flux_analysis import flux_variability_analysis"
   ]
  },
  {
   "cell_type": "code",
   "execution_count": 201,
   "id": "30fca939-c08b-438d-b957-dc5688db9d3c",
   "metadata": {},
   "outputs": [
    {
     "data": {
      "text/html": [
       "\n",
       "        <table>\n",
       "            <tr>\n",
       "                <td><strong>Name</strong></td>\n",
       "                <td>iJO1366</td>\n",
       "            </tr><tr>\n",
       "                <td><strong>Memory address</strong></td>\n",
       "                <td>0x07fee1fb13b80</td>\n",
       "            </tr><tr>\n",
       "                <td><strong>Number of metabolites</strong></td>\n",
       "                <td>1805</td>\n",
       "            </tr><tr>\n",
       "                <td><strong>Number of reactions</strong></td>\n",
       "                <td>2583</td>\n",
       "            </tr><tr>\n",
       "                <td><strong>Number of groups</strong></td>\n",
       "                <td>37</td>\n",
       "            </tr><tr>\n",
       "                <td><strong>Objective expression</strong></td>\n",
       "                <td>1.0*BIOMASS_Ec_iJO1366_core_53p95M - 1.0*BIOMASS_Ec_iJO1366_core_53p95M_reverse_5c8b1</td>\n",
       "            </tr><tr>\n",
       "                <td><strong>Compartments</strong></td>\n",
       "                <td>cytosol, extracellular space, periplasm</td>\n",
       "            </tr>\n",
       "          </table>"
      ],
      "text/plain": [
       "<Model iJO1366 at 0x7fee1fb13b80>"
      ]
     },
     "execution_count": 201,
     "metadata": {},
     "output_type": "execute_result"
    }
   ],
   "source": [
    "model"
   ]
  },
  {
   "cell_type": "code",
   "execution_count": 6,
   "id": "298c31df-c09d-455e-901f-53a57e6d06d1",
   "metadata": {
    "tags": []
   },
   "outputs": [
    {
     "data": {
      "text/html": [
       "\n",
       "        <table>\n",
       "            <tr>\n",
       "                <td><strong>Reaction identifier</strong></td><td>SUCCtex</td>\n",
       "            </tr><tr>\n",
       "                <td><strong>Name</strong></td><td></td>\n",
       "            </tr><tr>\n",
       "                <td><strong>Memory address</strong></td>\n",
       "                <td>0x7fee387feb80</td>\n",
       "            </tr><tr>\n",
       "                <td><strong>Stoichiometry</strong></td>\n",
       "                <td>\n",
       "                    <p style='text-align:right'>--></p>\n",
       "                    <p style='text-align:right'>--></p>\n",
       "                </td>\n",
       "            </tr><tr>\n",
       "                <td><strong>GPR</strong></td><td></td>\n",
       "            </tr><tr>\n",
       "                <td><strong>Lower bound</strong></td><td>0.0</td>\n",
       "            </tr><tr>\n",
       "                <td><strong>Upper bound</strong></td><td>1000.0</td>\n",
       "            </tr>\n",
       "        </table>\n",
       "        "
      ],
      "text/plain": [
       "<Reaction SUCCtex at 0x7fee387feb80>"
      ]
     },
     "execution_count": 6,
     "metadata": {},
     "output_type": "execute_result"
    }
   ],
   "source": [
    "cobra.Reaction(\"SUCCtex\")"
   ]
  },
  {
   "cell_type": "code",
   "execution_count": 7,
   "id": "2e495cf1-f2cf-4d75-9047-626cab33194a",
   "metadata": {},
   "outputs": [
    {
     "data": {
      "text/html": [
       "\n",
       "        <table>\n",
       "            <tr>\n",
       "                <td><strong>Reaction identifier</strong></td><td>SUCCtex</td>\n",
       "            </tr><tr>\n",
       "                <td><strong>Name</strong></td><td>Succinate transport via diffusion (extracellular to periplasm)</td>\n",
       "            </tr><tr>\n",
       "                <td><strong>Memory address</strong></td>\n",
       "                <td>0x7fee282dc9d0</td>\n",
       "            </tr><tr>\n",
       "                <td><strong>Stoichiometry</strong></td>\n",
       "                <td>\n",
       "                    <p style='text-align:right'>succ_e <=> succ_p</p>\n",
       "                    <p style='text-align:right'>Succinate <=> Succinate</p>\n",
       "                </td>\n",
       "            </tr><tr>\n",
       "                <td><strong>GPR</strong></td><td>b1377 or b0241 or b0929 or b2215</td>\n",
       "            </tr><tr>\n",
       "                <td><strong>Lower bound</strong></td><td>-1000.0</td>\n",
       "            </tr><tr>\n",
       "                <td><strong>Upper bound</strong></td><td>1000.0</td>\n",
       "            </tr>\n",
       "        </table>\n",
       "        "
      ],
      "text/plain": [
       "<Reaction SUCCtex at 0x7fee282dc9d0>"
      ]
     },
     "execution_count": 7,
     "metadata": {},
     "output_type": "execute_result"
    }
   ],
   "source": [
    "SUCCtex = model.reactions.get_by_id(\"SUCCtex\")\n",
    "SUCCtex"
   ]
  },
  {
   "cell_type": "markdown",
   "id": "2a904167-4d54-48d6-8087-9d8d63ffb895",
   "metadata": {},
   "source": [
    "### Default growth biomass"
   ]
  },
  {
   "cell_type": "code",
   "execution_count": 77,
   "id": "d9c428e2-d988-4444-818a-21c4f020cd3c",
   "metadata": {},
   "outputs": [
    {
     "name": "stdout",
     "output_type": "stream",
     "text": [
      "1.0*BIOMASS_Ec_iJO1366_core_53p95M - 1.0*BIOMASS_Ec_iJO1366_core_53p95M_reverse_5c8b1\n",
      "max\n"
     ]
    }
   ],
   "source": [
    "print(model.objective.expression)\n",
    "print(model.objective.direction)"
   ]
  },
  {
   "cell_type": "code",
   "execution_count": 78,
   "id": "becefcae-1bcb-49ca-94e3-56e791453182",
   "metadata": {},
   "outputs": [
    {
     "name": "stdout",
     "output_type": "stream",
     "text": [
      "<Solution 0.982 at 0x7fee174bed00>\n"
     ]
    }
   ],
   "source": [
    "solution = model.optimize()\n",
    "print(solution)"
   ]
  },
  {
   "cell_type": "code",
   "execution_count": 139,
   "id": "58875dc8-2beb-47d7-90ab-2e9a4830d45a",
   "metadata": {},
   "outputs": [],
   "source": [
    "biomass = \"BIOMASS_Ec_iJO1366_core_53p95M\""
   ]
  },
  {
   "cell_type": "code",
   "execution_count": 140,
   "id": "063f597f-1cee-4904-a51b-47798b89d8f9",
   "metadata": {},
   "outputs": [],
   "source": [
    "model.objective = biomass"
   ]
  },
  {
   "cell_type": "code",
   "execution_count": 141,
   "id": "2246fd35-4047-477b-91cd-e772f1cb87a1",
   "metadata": {
    "tags": []
   },
   "outputs": [
    {
     "data": {
      "text/html": [
       "<h3>Objective</h3><p>1.0 BIOMASS_Ec_iJO1366_core_53p95M = 0.9823718127269833</p><h4>Uptake</h4><table border=\"1\" class=\"dataframe\">\n",
       "  <thead>\n",
       "    <tr style=\"text-align: right;\">\n",
       "      <th>Metabolite</th>\n",
       "      <th>Reaction</th>\n",
       "      <th>Flux</th>\n",
       "      <th>C-Number</th>\n",
       "      <th>C-Flux</th>\n",
       "    </tr>\n",
       "  </thead>\n",
       "  <tbody>\n",
       "    <tr>\n",
       "      <td>ca2_e</td>\n",
       "      <td>EX_ca2_e</td>\n",
       "      <td>0.005113</td>\n",
       "      <td>0</td>\n",
       "      <td>0.00%</td>\n",
       "    </tr>\n",
       "    <tr>\n",
       "      <td>cl_e</td>\n",
       "      <td>EX_cl_e</td>\n",
       "      <td>0.005113</td>\n",
       "      <td>0</td>\n",
       "      <td>0.00%</td>\n",
       "    </tr>\n",
       "    <tr>\n",
       "      <td>cobalt2_e</td>\n",
       "      <td>EX_cobalt2_e</td>\n",
       "      <td>2.456E-05</td>\n",
       "      <td>0</td>\n",
       "      <td>0.00%</td>\n",
       "    </tr>\n",
       "    <tr>\n",
       "      <td>cu2_e</td>\n",
       "      <td>EX_cu2_e</td>\n",
       "      <td>0.0006965</td>\n",
       "      <td>0</td>\n",
       "      <td>0.00%</td>\n",
       "    </tr>\n",
       "    <tr>\n",
       "      <td>fe2_e</td>\n",
       "      <td>EX_fe2_e</td>\n",
       "      <td>0.01578</td>\n",
       "      <td>0</td>\n",
       "      <td>0.00%</td>\n",
       "    </tr>\n",
       "    <tr>\n",
       "      <td>glc__D_e</td>\n",
       "      <td>EX_glc__D_e</td>\n",
       "      <td>10</td>\n",
       "      <td>6</td>\n",
       "      <td>100.00%</td>\n",
       "    </tr>\n",
       "    <tr>\n",
       "      <td>k_e</td>\n",
       "      <td>EX_k_e</td>\n",
       "      <td>0.1918</td>\n",
       "      <td>0</td>\n",
       "      <td>0.00%</td>\n",
       "    </tr>\n",
       "    <tr>\n",
       "      <td>mg2_e</td>\n",
       "      <td>EX_mg2_e</td>\n",
       "      <td>0.008522</td>\n",
       "      <td>0</td>\n",
       "      <td>0.00%</td>\n",
       "    </tr>\n",
       "    <tr>\n",
       "      <td>mn2_e</td>\n",
       "      <td>EX_mn2_e</td>\n",
       "      <td>0.0006788</td>\n",
       "      <td>0</td>\n",
       "      <td>0.00%</td>\n",
       "    </tr>\n",
       "    <tr>\n",
       "      <td>mobd_e</td>\n",
       "      <td>EX_mobd_e</td>\n",
       "      <td>0.0001267</td>\n",
       "      <td>0</td>\n",
       "      <td>0.00%</td>\n",
       "    </tr>\n",
       "    <tr>\n",
       "      <td>nh4_e</td>\n",
       "      <td>EX_nh4_e</td>\n",
       "      <td>10.61</td>\n",
       "      <td>0</td>\n",
       "      <td>0.00%</td>\n",
       "    </tr>\n",
       "    <tr>\n",
       "      <td>ni2_e</td>\n",
       "      <td>EX_ni2_e</td>\n",
       "      <td>0.0003173</td>\n",
       "      <td>0</td>\n",
       "      <td>0.00%</td>\n",
       "    </tr>\n",
       "    <tr>\n",
       "      <td>o2_e</td>\n",
       "      <td>EX_o2_e</td>\n",
       "      <td>17.58</td>\n",
       "      <td>0</td>\n",
       "      <td>0.00%</td>\n",
       "    </tr>\n",
       "    <tr>\n",
       "      <td>pi_e</td>\n",
       "      <td>EX_pi_e</td>\n",
       "      <td>0.9476</td>\n",
       "      <td>0</td>\n",
       "      <td>0.00%</td>\n",
       "    </tr>\n",
       "    <tr>\n",
       "      <td>so4_e</td>\n",
       "      <td>EX_so4_e</td>\n",
       "      <td>0.2478</td>\n",
       "      <td>0</td>\n",
       "      <td>0.00%</td>\n",
       "    </tr>\n",
       "    <tr>\n",
       "      <td>zn2_e</td>\n",
       "      <td>EX_zn2_e</td>\n",
       "      <td>0.000335</td>\n",
       "      <td>0</td>\n",
       "      <td>0.00%</td>\n",
       "    </tr>\n",
       "  </tbody>\n",
       "</table><h4>Secretion</h4><table border=\"1\" class=\"dataframe\">\n",
       "  <thead>\n",
       "    <tr style=\"text-align: right;\">\n",
       "      <th>Metabolite</th>\n",
       "      <th>Reaction</th>\n",
       "      <th>Flux</th>\n",
       "      <th>C-Number</th>\n",
       "      <th>C-Flux</th>\n",
       "    </tr>\n",
       "  </thead>\n",
       "  <tbody>\n",
       "    <tr>\n",
       "      <td>4crsol_c</td>\n",
       "      <td>DM_4crsol_c</td>\n",
       "      <td>-0.0002191</td>\n",
       "      <td>7</td>\n",
       "      <td>0.01%</td>\n",
       "    </tr>\n",
       "    <tr>\n",
       "      <td>5drib_c</td>\n",
       "      <td>DM_5drib_c</td>\n",
       "      <td>-0.000221</td>\n",
       "      <td>5</td>\n",
       "      <td>0.01%</td>\n",
       "    </tr>\n",
       "    <tr>\n",
       "      <td>amob_c</td>\n",
       "      <td>DM_amob_c</td>\n",
       "      <td>-1.965E-06</td>\n",
       "      <td>15</td>\n",
       "      <td>0.00%</td>\n",
       "    </tr>\n",
       "    <tr>\n",
       "      <td>mththf_c</td>\n",
       "      <td>DM_mththf_c</td>\n",
       "      <td>-0.0004401</td>\n",
       "      <td>5</td>\n",
       "      <td>0.01%</td>\n",
       "    </tr>\n",
       "    <tr>\n",
       "      <td>co2_e</td>\n",
       "      <td>EX_co2_e</td>\n",
       "      <td>-19.68</td>\n",
       "      <td>1</td>\n",
       "      <td>99.98%</td>\n",
       "    </tr>\n",
       "    <tr>\n",
       "      <td>h2o_e</td>\n",
       "      <td>EX_h2o_e</td>\n",
       "      <td>-45.62</td>\n",
       "      <td>0</td>\n",
       "      <td>0.00%</td>\n",
       "    </tr>\n",
       "    <tr>\n",
       "      <td>h_e</td>\n",
       "      <td>EX_h_e</td>\n",
       "      <td>-9.026</td>\n",
       "      <td>0</td>\n",
       "      <td>0.00%</td>\n",
       "    </tr>\n",
       "    <tr>\n",
       "      <td>meoh_e</td>\n",
       "      <td>EX_meoh_e</td>\n",
       "      <td>-1.965E-06</td>\n",
       "      <td>1</td>\n",
       "      <td>0.00%</td>\n",
       "    </tr>\n",
       "  </tbody>\n",
       "</table>"
      ],
      "text/plain": [
       "<cobra.summary.model_summary.ModelSummary at 0x7fee1fddf970>"
      ]
     },
     "execution_count": 141,
     "metadata": {},
     "output_type": "execute_result"
    }
   ],
   "source": [
    "model.summary()"
   ]
  },
  {
   "cell_type": "code",
   "execution_count": 13,
   "id": "3e05ca39-c593-49e0-ac9d-85aa69d3f378",
   "metadata": {},
   "outputs": [
    {
     "data": {
      "text/html": [
       "<div>\n",
       "<style scoped>\n",
       "    .dataframe tbody tr th:only-of-type {\n",
       "        vertical-align: middle;\n",
       "    }\n",
       "\n",
       "    .dataframe tbody tr th {\n",
       "        vertical-align: top;\n",
       "    }\n",
       "\n",
       "    .dataframe thead th {\n",
       "        text-align: right;\n",
       "    }\n",
       "</style>\n",
       "<table border=\"1\" class=\"dataframe\">\n",
       "  <thead>\n",
       "    <tr style=\"text-align: right;\">\n",
       "      <th></th>\n",
       "      <th>minimum</th>\n",
       "      <th>maximum</th>\n",
       "    </tr>\n",
       "  </thead>\n",
       "  <tbody>\n",
       "    <tr>\n",
       "      <th>DM_4crsol_c</th>\n",
       "      <td>0.000219</td>\n",
       "      <td>2.190689e-04</td>\n",
       "    </tr>\n",
       "    <tr>\n",
       "      <th>DM_5drib_c</th>\n",
       "      <td>0.000221</td>\n",
       "      <td>2.210337e-04</td>\n",
       "    </tr>\n",
       "    <tr>\n",
       "      <th>DM_aacald_c</th>\n",
       "      <td>0.000000</td>\n",
       "      <td>0.000000e+00</td>\n",
       "    </tr>\n",
       "    <tr>\n",
       "      <th>DM_amob_c</th>\n",
       "      <td>0.000002</td>\n",
       "      <td>1.964744e-06</td>\n",
       "    </tr>\n",
       "    <tr>\n",
       "      <th>DM_mththf_c</th>\n",
       "      <td>0.000440</td>\n",
       "      <td>4.401026e-04</td>\n",
       "    </tr>\n",
       "    <tr>\n",
       "      <th>DM_oxam_c</th>\n",
       "      <td>0.000000</td>\n",
       "      <td>9.210321e-15</td>\n",
       "    </tr>\n",
       "    <tr>\n",
       "      <th>BIOMASS_Ec_iJO1366_WT_53p95M</th>\n",
       "      <td>0.000000</td>\n",
       "      <td>4.609890e-16</td>\n",
       "    </tr>\n",
       "    <tr>\n",
       "      <th>BIOMASS_Ec_iJO1366_core_53p95M</th>\n",
       "      <td>0.982372</td>\n",
       "      <td>9.823718e-01</td>\n",
       "    </tr>\n",
       "    <tr>\n",
       "      <th>EX_12ppd__R_e</th>\n",
       "      <td>0.000000</td>\n",
       "      <td>6.963901e-15</td>\n",
       "    </tr>\n",
       "    <tr>\n",
       "      <th>EX_12ppd__S_e</th>\n",
       "      <td>0.000000</td>\n",
       "      <td>6.852479e-15</td>\n",
       "    </tr>\n",
       "  </tbody>\n",
       "</table>\n",
       "</div>"
      ],
      "text/plain": [
       "                                 minimum       maximum\n",
       "DM_4crsol_c                     0.000219  2.190689e-04\n",
       "DM_5drib_c                      0.000221  2.210337e-04\n",
       "DM_aacald_c                     0.000000  0.000000e+00\n",
       "DM_amob_c                       0.000002  1.964744e-06\n",
       "DM_mththf_c                     0.000440  4.401026e-04\n",
       "DM_oxam_c                       0.000000  9.210321e-15\n",
       "BIOMASS_Ec_iJO1366_WT_53p95M    0.000000  4.609890e-16\n",
       "BIOMASS_Ec_iJO1366_core_53p95M  0.982372  9.823718e-01\n",
       "EX_12ppd__R_e                   0.000000  6.963901e-15\n",
       "EX_12ppd__S_e                   0.000000  6.852479e-15"
      ]
     },
     "execution_count": 13,
     "metadata": {},
     "output_type": "execute_result"
    }
   ],
   "source": [
    "flux_variability_analysis(model, model.reactions[:10])"
   ]
  },
  {
   "cell_type": "code",
   "execution_count": 14,
   "id": "f5e86fa0-af30-4797-b09b-35cfe606b321",
   "metadata": {
    "tags": []
   },
   "outputs": [
    {
     "data": {
      "text/plain": [
       "\u001b[0;31mSignature:\u001b[0m\n",
       "\u001b[0mflux_variability_analysis\u001b[0m\u001b[0;34m(\u001b[0m\u001b[0;34m\u001b[0m\n",
       "\u001b[0;34m\u001b[0m    \u001b[0mmodel\u001b[0m\u001b[0;34m:\u001b[0m \u001b[0;34m'Model'\u001b[0m\u001b[0;34m,\u001b[0m\u001b[0;34m\u001b[0m\n",
       "\u001b[0;34m\u001b[0m    \u001b[0mreaction_list\u001b[0m\u001b[0;34m:\u001b[0m \u001b[0mUnion\u001b[0m\u001b[0;34m[\u001b[0m\u001b[0mList\u001b[0m\u001b[0;34m[\u001b[0m\u001b[0mUnion\u001b[0m\u001b[0;34m[\u001b[0m\u001b[0mForwardRef\u001b[0m\u001b[0;34m(\u001b[0m\u001b[0;34m'Reaction'\u001b[0m\u001b[0;34m)\u001b[0m\u001b[0;34m,\u001b[0m \u001b[0mstr\u001b[0m\u001b[0;34m]\u001b[0m\u001b[0;34m]\u001b[0m\u001b[0;34m,\u001b[0m \u001b[0mNoneType\u001b[0m\u001b[0;34m]\u001b[0m \u001b[0;34m=\u001b[0m \u001b[0;32mNone\u001b[0m\u001b[0;34m,\u001b[0m\u001b[0;34m\u001b[0m\n",
       "\u001b[0;34m\u001b[0m    \u001b[0mloopless\u001b[0m\u001b[0;34m:\u001b[0m \u001b[0mbool\u001b[0m \u001b[0;34m=\u001b[0m \u001b[0;32mFalse\u001b[0m\u001b[0;34m,\u001b[0m\u001b[0;34m\u001b[0m\n",
       "\u001b[0;34m\u001b[0m    \u001b[0mfraction_of_optimum\u001b[0m\u001b[0;34m:\u001b[0m \u001b[0mfloat\u001b[0m \u001b[0;34m=\u001b[0m \u001b[0;36m1.0\u001b[0m\u001b[0;34m,\u001b[0m\u001b[0;34m\u001b[0m\n",
       "\u001b[0;34m\u001b[0m    \u001b[0mpfba_factor\u001b[0m\u001b[0;34m:\u001b[0m \u001b[0mUnion\u001b[0m\u001b[0;34m[\u001b[0m\u001b[0mfloat\u001b[0m\u001b[0;34m,\u001b[0m \u001b[0mNoneType\u001b[0m\u001b[0;34m]\u001b[0m \u001b[0;34m=\u001b[0m \u001b[0;32mNone\u001b[0m\u001b[0;34m,\u001b[0m\u001b[0;34m\u001b[0m\n",
       "\u001b[0;34m\u001b[0m    \u001b[0mprocesses\u001b[0m\u001b[0;34m:\u001b[0m \u001b[0mUnion\u001b[0m\u001b[0;34m[\u001b[0m\u001b[0mint\u001b[0m\u001b[0;34m,\u001b[0m \u001b[0mNoneType\u001b[0m\u001b[0;34m]\u001b[0m \u001b[0;34m=\u001b[0m \u001b[0;32mNone\u001b[0m\u001b[0;34m,\u001b[0m\u001b[0;34m\u001b[0m\n",
       "\u001b[0;34m\u001b[0m\u001b[0;34m)\u001b[0m \u001b[0;34m->\u001b[0m \u001b[0mpandas\u001b[0m\u001b[0;34m.\u001b[0m\u001b[0mcore\u001b[0m\u001b[0;34m.\u001b[0m\u001b[0mframe\u001b[0m\u001b[0;34m.\u001b[0m\u001b[0mDataFrame\u001b[0m\u001b[0;34m\u001b[0m\u001b[0;34m\u001b[0m\u001b[0m\n",
       "\u001b[0;31mDocstring:\u001b[0m\n",
       "Determine the minimum and maximum flux value for each reaction.\n",
       "\n",
       "Parameters\n",
       "----------\n",
       "model : cobra.Model\n",
       "    The model for which to run the analysis. It will *not* be modified.\n",
       "reaction_list : list of cobra.Reaction or str, optional\n",
       "    The reactions for which to obtain min/max fluxes. If None will use\n",
       "    all reactions in the model (default None).\n",
       "loopless : bool, optional\n",
       "    Whether to return only loopless solutions. This is significantly\n",
       "    slower. Please also refer to the notes (default False).\n",
       "fraction_of_optimum : float, optional\n",
       "    Must be <= 1.0. Requires that the objective value is at least the\n",
       "    fraction times maximum objective value. A value of 0.85 for instance\n",
       "    means that the objective has to be at least at 85% percent of its\n",
       "    maximum (default 1.0).\n",
       "pfba_factor : float, optional\n",
       "    Add an additional constraint to the model that requires the total sum\n",
       "    of absolute fluxes must not be larger than this value times the\n",
       "    smallest possible sum of absolute fluxes, i.e., by setting the value\n",
       "    to 1.1 the total sum of absolute fluxes must not be more than\n",
       "    10% larger than the pFBA solution. Since the pFBA solution is the\n",
       "    one that optimally minimizes the total flux sum, the `pfba_factor`\n",
       "    should, if set, be larger than one. Setting this value may lead to\n",
       "    more realistic predictions of the effective flux bounds\n",
       "    (default None).\n",
       "processes : int, optional\n",
       "    The number of parallel processes to run. If not explicitly passed,\n",
       "    will be set from the global configuration singleton (default None).\n",
       "\n",
       "Returns\n",
       "-------\n",
       "pandas.DataFrame\n",
       "    A data frame with reaction identifiers as the index and two columns:\n",
       "    - maximum: indicating the highest possible flux\n",
       "    - minimum: indicating the lowest possible flux\n",
       "\n",
       "Notes\n",
       "-----\n",
       "This implements the fast version as described in [1]_. Please note that\n",
       "the flux distribution containing all minimal/maximal fluxes does not have\n",
       "to be a feasible solution for the model. Fluxes are minimized/maximized\n",
       "individually and a single minimal flux might require all others to be\n",
       "sub-optimal.\n",
       "\n",
       "Using the loopless option will lead to a significant increase in\n",
       "computation time (about a factor of 100 for large models). However, the\n",
       "algorithm used here (see [2]_) is still more than 1000x faster than the\n",
       "\"naive\" version using `add_loopless(model)`. Also note that if you have\n",
       "included constraints that force a loop (for instance by setting all fluxes\n",
       "in a loop to be non-zero) this loop will be included in the solution.\n",
       "\n",
       "References\n",
       "----------\n",
       ".. [1] Computationally efficient flux variability analysis.\n",
       "   Gudmundsson S, Thiele I.\n",
       "   BMC Bioinformatics. 2010 Sep 29;11:489.\n",
       "   doi: 10.1186/1471-2105-11-489, PMID: 20920235\n",
       "\n",
       ".. [2] CycleFreeFlux: efficient removal of thermodynamically infeasible\n",
       "   loops from flux distributions.\n",
       "   Desouki AA, Jarre F, Gelius-Dietrich G, Lercher MJ.\n",
       "   Bioinformatics. 2015 Jul 1;31(13):2159-65.\n",
       "   doi: 10.1093/bioinformatics/btv096.\n",
       "\u001b[0;31mFile:\u001b[0m      ~/miniconda3/envs/cobra/lib/python3.8/site-packages/cobra/flux_analysis/variability.py\n",
       "\u001b[0;31mType:\u001b[0m      function\n"
      ]
     },
     "metadata": {},
     "output_type": "display_data"
    }
   ],
   "source": [
    "?flux_variability_analysis"
   ]
  },
  {
   "cell_type": "markdown",
   "id": "91f01207-4b65-4dd2-8585-d0b9975bc37f",
   "metadata": {},
   "source": [
    "### Change to Suc"
   ]
  },
  {
   "cell_type": "code",
   "execution_count": 202,
   "id": "e00db863-e08e-4a67-ad88-aed96962e714",
   "metadata": {},
   "outputs": [],
   "source": [
    "model.objective = 'EX_succ_e'"
   ]
  },
  {
   "cell_type": "code",
   "execution_count": 203,
   "id": "1628c8e5-0526-4dc2-93f1-b60bc4d9d5d5",
   "metadata": {},
   "outputs": [
    {
     "name": "stdout",
     "output_type": "stream",
     "text": [
      "1.0*EX_succ_e - 1.0*EX_succ_e_reverse_a9039\n",
      "max\n"
     ]
    }
   ],
   "source": [
    "print(model.objective.expression)\n",
    "print(model.objective.direction)"
   ]
  },
  {
   "cell_type": "markdown",
   "id": "6d99997d-55ed-4685-b763-8c1e27db1f59",
   "metadata": {},
   "source": [
    "### Set biomass as 0.5"
   ]
  },
  {
   "cell_type": "code",
   "execution_count": 204,
   "id": "9cfc1e50-3f4f-4c55-9c08-52b6cdcc87bc",
   "metadata": {},
   "outputs": [],
   "source": [
    "model.reactions.get_by_id(biomass).lower_bound = 0.98*0.5"
   ]
  },
  {
   "cell_type": "code",
   "execution_count": 205,
   "id": "c4c72827-97ad-44ef-b024-c041748e2903",
   "metadata": {
    "tags": []
   },
   "outputs": [
    {
     "data": {
      "text/html": [
       "<div>\n",
       "<style scoped>\n",
       "    .dataframe tbody tr th:only-of-type {\n",
       "        vertical-align: middle;\n",
       "    }\n",
       "\n",
       "    .dataframe tbody tr th {\n",
       "        vertical-align: top;\n",
       "    }\n",
       "\n",
       "    .dataframe thead th {\n",
       "        text-align: right;\n",
       "    }\n",
       "</style>\n",
       "<table border=\"1\" class=\"dataframe\">\n",
       "  <thead>\n",
       "    <tr style=\"text-align: right;\">\n",
       "      <th></th>\n",
       "      <th>minimum</th>\n",
       "      <th>maximum</th>\n",
       "    </tr>\n",
       "  </thead>\n",
       "  <tbody>\n",
       "    <tr>\n",
       "      <th>BIOMASS_Ec_iJO1366_core_53p95M</th>\n",
       "      <td>0.49</td>\n",
       "      <td>0.49</td>\n",
       "    </tr>\n",
       "  </tbody>\n",
       "</table>\n",
       "</div>"
      ],
      "text/plain": [
       "                                minimum  maximum\n",
       "BIOMASS_Ec_iJO1366_core_53p95M     0.49     0.49"
      ]
     },
     "execution_count": 205,
     "metadata": {},
     "output_type": "execute_result"
    }
   ],
   "source": [
    "flux_variability_analysis(model, biomass, loopless=True)"
   ]
  },
  {
   "cell_type": "code",
   "execution_count": 162,
   "id": "5c1f0d55-952e-4148-9367-b6ffc431569d",
   "metadata": {},
   "outputs": [
    {
     "name": "stdout",
     "output_type": "stream",
     "text": [
      "<Solution 8.582 at 0x7fee057caac0>\n"
     ]
    }
   ],
   "source": [
    "solution = model.optimize()\n",
    "print(solution)"
   ]
  },
  {
   "cell_type": "markdown",
   "id": "fe97c306-1e83-4395-9df9-f67996afa441",
   "metadata": {},
   "source": [
    "When it's optimized? what's the flux and bound?"
   ]
  },
  {
   "cell_type": "code",
   "execution_count": 149,
   "id": "6a43c986-d8a4-43b1-ae3c-55758e56650e",
   "metadata": {},
   "outputs": [
    {
     "data": {
      "text/html": [
       "<h3>Objective</h3><p>1.0 EX_succ_e = 8.58171232016011</p><h4>Uptake</h4><table border=\"1\" class=\"dataframe\">\n",
       "  <thead>\n",
       "    <tr style=\"text-align: right;\">\n",
       "      <th>Metabolite</th>\n",
       "      <th>Reaction</th>\n",
       "      <th>Flux</th>\n",
       "      <th>C-Number</th>\n",
       "      <th>C-Flux</th>\n",
       "    </tr>\n",
       "  </thead>\n",
       "  <tbody>\n",
       "    <tr>\n",
       "      <td>ca2_e</td>\n",
       "      <td>EX_ca2_e</td>\n",
       "      <td>0.00255</td>\n",
       "      <td>0</td>\n",
       "      <td>0.00%</td>\n",
       "    </tr>\n",
       "    <tr>\n",
       "      <td>cl_e</td>\n",
       "      <td>EX_cl_e</td>\n",
       "      <td>0.00255</td>\n",
       "      <td>0</td>\n",
       "      <td>0.00%</td>\n",
       "    </tr>\n",
       "    <tr>\n",
       "      <td>cobalt2_e</td>\n",
       "      <td>EX_cobalt2_e</td>\n",
       "      <td>1.225E-05</td>\n",
       "      <td>0</td>\n",
       "      <td>0.00%</td>\n",
       "    </tr>\n",
       "    <tr>\n",
       "      <td>cu2_e</td>\n",
       "      <td>EX_cu2_e</td>\n",
       "      <td>0.0003474</td>\n",
       "      <td>0</td>\n",
       "      <td>0.00%</td>\n",
       "    </tr>\n",
       "    <tr>\n",
       "      <td>fe2_e</td>\n",
       "      <td>EX_fe2_e</td>\n",
       "      <td>0.00787</td>\n",
       "      <td>0</td>\n",
       "      <td>0.00%</td>\n",
       "    </tr>\n",
       "    <tr>\n",
       "      <td>glc__D_e</td>\n",
       "      <td>EX_glc__D_e</td>\n",
       "      <td>10</td>\n",
       "      <td>6</td>\n",
       "      <td>100.00%</td>\n",
       "    </tr>\n",
       "    <tr>\n",
       "      <td>k_e</td>\n",
       "      <td>EX_k_e</td>\n",
       "      <td>0.09564</td>\n",
       "      <td>0</td>\n",
       "      <td>0.00%</td>\n",
       "    </tr>\n",
       "    <tr>\n",
       "      <td>mg2_e</td>\n",
       "      <td>EX_mg2_e</td>\n",
       "      <td>0.004251</td>\n",
       "      <td>0</td>\n",
       "      <td>0.00%</td>\n",
       "    </tr>\n",
       "    <tr>\n",
       "      <td>mn2_e</td>\n",
       "      <td>EX_mn2_e</td>\n",
       "      <td>0.0003386</td>\n",
       "      <td>0</td>\n",
       "      <td>0.00%</td>\n",
       "    </tr>\n",
       "    <tr>\n",
       "      <td>mobd_e</td>\n",
       "      <td>EX_mobd_e</td>\n",
       "      <td>6.321E-05</td>\n",
       "      <td>0</td>\n",
       "      <td>0.00%</td>\n",
       "    </tr>\n",
       "    <tr>\n",
       "      <td>nh4_e</td>\n",
       "      <td>EX_nh4_e</td>\n",
       "      <td>5.292</td>\n",
       "      <td>0</td>\n",
       "      <td>0.00%</td>\n",
       "    </tr>\n",
       "    <tr>\n",
       "      <td>ni2_e</td>\n",
       "      <td>EX_ni2_e</td>\n",
       "      <td>0.0001583</td>\n",
       "      <td>0</td>\n",
       "      <td>0.00%</td>\n",
       "    </tr>\n",
       "    <tr>\n",
       "      <td>o2_e</td>\n",
       "      <td>EX_o2_e</td>\n",
       "      <td>8.805</td>\n",
       "      <td>0</td>\n",
       "      <td>0.00%</td>\n",
       "    </tr>\n",
       "    <tr>\n",
       "      <td>pi_e</td>\n",
       "      <td>EX_pi_e</td>\n",
       "      <td>0.4727</td>\n",
       "      <td>0</td>\n",
       "      <td>0.00%</td>\n",
       "    </tr>\n",
       "    <tr>\n",
       "      <td>so4_e</td>\n",
       "      <td>EX_so4_e</td>\n",
       "      <td>0.1236</td>\n",
       "      <td>0</td>\n",
       "      <td>0.00%</td>\n",
       "    </tr>\n",
       "    <tr>\n",
       "      <td>zn2_e</td>\n",
       "      <td>EX_zn2_e</td>\n",
       "      <td>0.0001671</td>\n",
       "      <td>0</td>\n",
       "      <td>0.00%</td>\n",
       "    </tr>\n",
       "  </tbody>\n",
       "</table><h4>Secretion</h4><table border=\"1\" class=\"dataframe\">\n",
       "  <thead>\n",
       "    <tr style=\"text-align: right;\">\n",
       "      <th>Metabolite</th>\n",
       "      <th>Reaction</th>\n",
       "      <th>Flux</th>\n",
       "      <th>C-Number</th>\n",
       "      <th>C-Flux</th>\n",
       "    </tr>\n",
       "  </thead>\n",
       "  <tbody>\n",
       "    <tr>\n",
       "      <td>4crsol_c</td>\n",
       "      <td>DM_4crsol_c</td>\n",
       "      <td>-0.0001093</td>\n",
       "      <td>7</td>\n",
       "      <td>0.00%</td>\n",
       "    </tr>\n",
       "    <tr>\n",
       "      <td>5drib_c</td>\n",
       "      <td>DM_5drib_c</td>\n",
       "      <td>-0.0001102</td>\n",
       "      <td>5</td>\n",
       "      <td>0.00%</td>\n",
       "    </tr>\n",
       "    <tr>\n",
       "      <td>amob_c</td>\n",
       "      <td>DM_amob_c</td>\n",
       "      <td>-9.8E-07</td>\n",
       "      <td>15</td>\n",
       "      <td>0.00%</td>\n",
       "    </tr>\n",
       "    <tr>\n",
       "      <td>mththf_c</td>\n",
       "      <td>DM_mththf_c</td>\n",
       "      <td>-0.0002195</td>\n",
       "      <td>5</td>\n",
       "      <td>0.00%</td>\n",
       "    </tr>\n",
       "    <tr>\n",
       "      <td>co2_e</td>\n",
       "      <td>EX_co2_e</td>\n",
       "      <td>-5.559</td>\n",
       "      <td>1</td>\n",
       "      <td>13.94%</td>\n",
       "    </tr>\n",
       "    <tr>\n",
       "      <td>h2o_e</td>\n",
       "      <td>EX_h2o_e</td>\n",
       "      <td>-27.08</td>\n",
       "      <td>0</td>\n",
       "      <td>0.00%</td>\n",
       "    </tr>\n",
       "    <tr>\n",
       "      <td>h_e</td>\n",
       "      <td>EX_h_e</td>\n",
       "      <td>-21.67</td>\n",
       "      <td>0</td>\n",
       "      <td>0.00%</td>\n",
       "    </tr>\n",
       "    <tr>\n",
       "      <td>meoh_e</td>\n",
       "      <td>EX_meoh_e</td>\n",
       "      <td>-9.8E-07</td>\n",
       "      <td>1</td>\n",
       "      <td>0.00%</td>\n",
       "    </tr>\n",
       "    <tr>\n",
       "      <td>succ_e</td>\n",
       "      <td>EX_succ_e</td>\n",
       "      <td>-8.582</td>\n",
       "      <td>4</td>\n",
       "      <td>86.06%</td>\n",
       "    </tr>\n",
       "  </tbody>\n",
       "</table>"
      ],
      "text/plain": [
       "<cobra.summary.model_summary.ModelSummary at 0x7fee1fddfdc0>"
      ]
     },
     "execution_count": 149,
     "metadata": {},
     "output_type": "execute_result"
    }
   ],
   "source": [
    "model.summary()"
   ]
  },
  {
   "cell_type": "code",
   "execution_count": 150,
   "id": "dccbcd7e-8984-41a2-bb1f-f009ebced1cf",
   "metadata": {},
   "outputs": [],
   "source": [
    "KOlist = ['GLCabcpp', 'GLCptspp', 'HEX1', 'PGI', 'PFK', 'FBA', 'TPI', 'GAPD', 'PGK', 'PGM', 'ENO', 'PYK', 'LDH_D', 'PFL', 'ALCD2x', 'PTAr', 'ACKr', 'G6PDH2r', 'PGL', 'GND', 'RPI', 'RPE', 'TKT1', 'TALA', 'TKT2', 'FUM', 'FRD2', 'SUCOAS', 'AKGDH', 'ACONTa', 'ACONTb', 'ICDHyr', 'CS', 'MDH',  'MDH2', 'MDH3', 'ACALD']"
   ]
  },
  {
   "cell_type": "code",
   "execution_count": 151,
   "id": "57ebfc89-5452-4847-9651-22db4a4b4918",
   "metadata": {
    "tags": []
   },
   "outputs": [
    {
     "data": {
      "text/html": [
       "<div>\n",
       "<style scoped>\n",
       "    .dataframe tbody tr th:only-of-type {\n",
       "        vertical-align: middle;\n",
       "    }\n",
       "\n",
       "    .dataframe tbody tr th {\n",
       "        vertical-align: top;\n",
       "    }\n",
       "\n",
       "    .dataframe thead th {\n",
       "        text-align: right;\n",
       "    }\n",
       "</style>\n",
       "<table border=\"1\" class=\"dataframe\">\n",
       "  <thead>\n",
       "    <tr style=\"text-align: right;\">\n",
       "      <th></th>\n",
       "      <th>minimum</th>\n",
       "      <th>maximum</th>\n",
       "    </tr>\n",
       "  </thead>\n",
       "  <tbody>\n",
       "    <tr>\n",
       "      <th>EX_succ_e</th>\n",
       "      <td>8.581712</td>\n",
       "      <td>8.581712</td>\n",
       "    </tr>\n",
       "  </tbody>\n",
       "</table>\n",
       "</div>"
      ],
      "text/plain": [
       "            minimum   maximum\n",
       "EX_succ_e  8.581712  8.581712"
      ]
     },
     "execution_count": 151,
     "metadata": {},
     "output_type": "execute_result"
    }
   ],
   "source": [
    "flux_variability_analysis(model, \"EX_succ_e\")"
   ]
  },
  {
   "cell_type": "code",
   "execution_count": 152,
   "id": "4b38ebca-2d18-413f-b468-e3cd43926b35",
   "metadata": {},
   "outputs": [
    {
     "data": {
      "text/html": [
       "<strong><em>Optimal</em> solution with objective value 8.582</strong><br><div>\n",
       "<style scoped>\n",
       "    .dataframe tbody tr th:only-of-type {\n",
       "        vertical-align: middle;\n",
       "    }\n",
       "\n",
       "    .dataframe tbody tr th {\n",
       "        vertical-align: top;\n",
       "    }\n",
       "\n",
       "    .dataframe thead th {\n",
       "        text-align: right;\n",
       "    }\n",
       "</style>\n",
       "<table border=\"1\" class=\"dataframe\">\n",
       "  <thead>\n",
       "    <tr style=\"text-align: right;\">\n",
       "      <th></th>\n",
       "      <th>fluxes</th>\n",
       "      <th>reduced_costs</th>\n",
       "    </tr>\n",
       "  </thead>\n",
       "  <tbody>\n",
       "    <tr>\n",
       "      <th>DM_4crsol_c</th>\n",
       "      <td>1.092700e-04</td>\n",
       "      <td>0.000000</td>\n",
       "    </tr>\n",
       "    <tr>\n",
       "      <th>DM_5drib_c</th>\n",
       "      <td>1.102500e-04</td>\n",
       "      <td>0.000000</td>\n",
       "    </tr>\n",
       "    <tr>\n",
       "      <th>DM_aacald_c</th>\n",
       "      <td>0.000000e+00</td>\n",
       "      <td>0.000000</td>\n",
       "    </tr>\n",
       "    <tr>\n",
       "      <th>DM_amob_c</th>\n",
       "      <td>9.800000e-07</td>\n",
       "      <td>0.000000</td>\n",
       "    </tr>\n",
       "    <tr>\n",
       "      <th>DM_mththf_c</th>\n",
       "      <td>2.195200e-04</td>\n",
       "      <td>0.000000</td>\n",
       "    </tr>\n",
       "    <tr>\n",
       "      <th>...</th>\n",
       "      <td>...</td>\n",
       "      <td>...</td>\n",
       "    </tr>\n",
       "    <tr>\n",
       "      <th>ZN2abcpp</th>\n",
       "      <td>0.000000e+00</td>\n",
       "      <td>-0.142349</td>\n",
       "    </tr>\n",
       "    <tr>\n",
       "      <th>ZN2t3pp</th>\n",
       "      <td>0.000000e+00</td>\n",
       "      <td>-0.035587</td>\n",
       "    </tr>\n",
       "    <tr>\n",
       "      <th>ZN2tpp</th>\n",
       "      <td>1.670900e-04</td>\n",
       "      <td>0.000000</td>\n",
       "    </tr>\n",
       "    <tr>\n",
       "      <th>ZNabcpp</th>\n",
       "      <td>0.000000e+00</td>\n",
       "      <td>-0.142349</td>\n",
       "    </tr>\n",
       "    <tr>\n",
       "      <th>Zn2tex</th>\n",
       "      <td>1.670900e-04</td>\n",
       "      <td>0.000000</td>\n",
       "    </tr>\n",
       "  </tbody>\n",
       "</table>\n",
       "<p>2583 rows × 2 columns</p>\n",
       "</div>"
      ],
      "text/plain": [
       "<Solution 8.582 at 0x7fee058ded60>"
      ]
     },
     "execution_count": 152,
     "metadata": {},
     "output_type": "execute_result"
    }
   ],
   "source": [
    "model.optimize()"
   ]
  },
  {
   "cell_type": "code",
   "execution_count": 153,
   "id": "5238c16a-3673-4f06-9362-4d9731c3227d",
   "metadata": {},
   "outputs": [
    {
     "data": {
      "text/plain": [
       "8.581712320160058"
      ]
     },
     "execution_count": 153,
     "metadata": {},
     "output_type": "execute_result"
    }
   ],
   "source": [
    "model.optimize().objective_value"
   ]
  },
  {
   "cell_type": "code",
   "execution_count": 154,
   "id": "33282981-fa1c-425a-9f2d-cd81a1e05668",
   "metadata": {
    "collapsed": true,
    "jupyter": {
     "outputs_hidden": true
    },
    "tags": []
   },
   "outputs": [
    {
     "data": {
      "text/html": [
       "<div>\n",
       "<style scoped>\n",
       "    .dataframe tbody tr th:only-of-type {\n",
       "        vertical-align: middle;\n",
       "    }\n",
       "\n",
       "    .dataframe tbody tr th {\n",
       "        vertical-align: top;\n",
       "    }\n",
       "\n",
       "    .dataframe thead th {\n",
       "        text-align: right;\n",
       "    }\n",
       "</style>\n",
       "<table border=\"1\" class=\"dataframe\">\n",
       "  <thead>\n",
       "    <tr style=\"text-align: right;\">\n",
       "      <th></th>\n",
       "      <th>minimum</th>\n",
       "      <th>maximum</th>\n",
       "    </tr>\n",
       "  </thead>\n",
       "  <tbody>\n",
       "    <tr>\n",
       "      <th>GLCabcpp</th>\n",
       "      <td>0.000000e+00</td>\n",
       "      <td>4.326021e-13</td>\n",
       "    </tr>\n",
       "    <tr>\n",
       "      <th>GLCptspp</th>\n",
       "      <td>7.150489e+00</td>\n",
       "      <td>7.150489e+00</td>\n",
       "    </tr>\n",
       "    <tr>\n",
       "      <th>HEX1</th>\n",
       "      <td>0.000000e+00</td>\n",
       "      <td>2.849511e+00</td>\n",
       "    </tr>\n",
       "    <tr>\n",
       "      <th>PGI</th>\n",
       "      <td>5.979908e+00</td>\n",
       "      <td>8.829419e+00</td>\n",
       "    </tr>\n",
       "    <tr>\n",
       "      <th>PFK</th>\n",
       "      <td>8.889758e+00</td>\n",
       "      <td>8.889758e+00</td>\n",
       "    </tr>\n",
       "    <tr>\n",
       "      <th>FBA</th>\n",
       "      <td>-3.244516e-13</td>\n",
       "      <td>9.183254e+00</td>\n",
       "    </tr>\n",
       "    <tr>\n",
       "      <th>TPI</th>\n",
       "      <td>9.114014e+00</td>\n",
       "      <td>9.114014e+00</td>\n",
       "    </tr>\n",
       "    <tr>\n",
       "      <th>GAPD</th>\n",
       "      <td>1.843037e+01</td>\n",
       "      <td>1.843037e+01</td>\n",
       "    </tr>\n",
       "    <tr>\n",
       "      <th>PGK</th>\n",
       "      <td>-1.843037e+01</td>\n",
       "      <td>-1.843037e+01</td>\n",
       "    </tr>\n",
       "    <tr>\n",
       "      <th>PGM</th>\n",
       "      <td>-1.758847e+01</td>\n",
       "      <td>-1.758847e+01</td>\n",
       "    </tr>\n",
       "    <tr>\n",
       "      <th>ENO</th>\n",
       "      <td>1.758847e+01</td>\n",
       "      <td>1.758847e+01</td>\n",
       "    </tr>\n",
       "    <tr>\n",
       "      <th>PYK</th>\n",
       "      <td>0.000000e+00</td>\n",
       "      <td>1.297806e-12</td>\n",
       "    </tr>\n",
       "    <tr>\n",
       "      <th>LDH_D</th>\n",
       "      <td>-4.326021e-13</td>\n",
       "      <td>3.090015e-13</td>\n",
       "    </tr>\n",
       "    <tr>\n",
       "      <th>PFL</th>\n",
       "      <td>0.000000e+00</td>\n",
       "      <td>1.297806e-12</td>\n",
       "    </tr>\n",
       "    <tr>\n",
       "      <th>ALCD2x</th>\n",
       "      <td>-2.936213e-14</td>\n",
       "      <td>0.000000e+00</td>\n",
       "    </tr>\n",
       "    <tr>\n",
       "      <th>PTAr</th>\n",
       "      <td>-2.854622e-01</td>\n",
       "      <td>0.000000e+00</td>\n",
       "    </tr>\n",
       "    <tr>\n",
       "      <th>ACKr</th>\n",
       "      <td>0.000000e+00</td>\n",
       "      <td>2.854622e-01</td>\n",
       "    </tr>\n",
       "    <tr>\n",
       "      <th>G6PDH2r</th>\n",
       "      <td>1.170581e+00</td>\n",
       "      <td>1.170581e+00</td>\n",
       "    </tr>\n",
       "    <tr>\n",
       "      <th>PGL</th>\n",
       "      <td>1.170581e+00</td>\n",
       "      <td>1.170581e+00</td>\n",
       "    </tr>\n",
       "    <tr>\n",
       "      <th>GND</th>\n",
       "      <td>1.170581e+00</td>\n",
       "      <td>1.170581e+00</td>\n",
       "    </tr>\n",
       "    <tr>\n",
       "      <th>RPI</th>\n",
       "      <td>-7.509427e-01</td>\n",
       "      <td>-7.509427e-01</td>\n",
       "    </tr>\n",
       "    <tr>\n",
       "      <th>RPE</th>\n",
       "      <td>4.001342e-01</td>\n",
       "      <td>4.001342e-01</td>\n",
       "    </tr>\n",
       "    <tr>\n",
       "      <th>TKT1</th>\n",
       "      <td>2.934959e-01</td>\n",
       "      <td>2.934959e-01</td>\n",
       "    </tr>\n",
       "    <tr>\n",
       "      <th>TALA</th>\n",
       "      <td>0.000000e+00</td>\n",
       "      <td>0.000000e+00</td>\n",
       "    </tr>\n",
       "    <tr>\n",
       "      <th>TKT2</th>\n",
       "      <td>1.066383e-01</td>\n",
       "      <td>1.066383e-01</td>\n",
       "    </tr>\n",
       "    <tr>\n",
       "      <th>FUM</th>\n",
       "      <td>-4.443621e+00</td>\n",
       "      <td>-4.443621e+00</td>\n",
       "    </tr>\n",
       "    <tr>\n",
       "      <th>FRD2</th>\n",
       "      <td>0.000000e+00</td>\n",
       "      <td>4.954287e+00</td>\n",
       "    </tr>\n",
       "    <tr>\n",
       "      <th>SUCOAS</th>\n",
       "      <td>-3.369916e+00</td>\n",
       "      <td>-3.369916e+00</td>\n",
       "    </tr>\n",
       "    <tr>\n",
       "      <th>AKGDH</th>\n",
       "      <td>3.627098e+00</td>\n",
       "      <td>3.627098e+00</td>\n",
       "    </tr>\n",
       "    <tr>\n",
       "      <th>ACONTa</th>\n",
       "      <td>4.153942e+00</td>\n",
       "      <td>4.153942e+00</td>\n",
       "    </tr>\n",
       "    <tr>\n",
       "      <th>ACONTb</th>\n",
       "      <td>4.153942e+00</td>\n",
       "      <td>4.153942e+00</td>\n",
       "    </tr>\n",
       "    <tr>\n",
       "      <th>ICDHyr</th>\n",
       "      <td>4.153942e+00</td>\n",
       "      <td>4.153942e+00</td>\n",
       "    </tr>\n",
       "    <tr>\n",
       "      <th>CS</th>\n",
       "      <td>4.153942e+00</td>\n",
       "      <td>4.153942e+00</td>\n",
       "    </tr>\n",
       "    <tr>\n",
       "      <th>MDH</th>\n",
       "      <td>-4.443981e+00</td>\n",
       "      <td>-4.443981e+00</td>\n",
       "    </tr>\n",
       "    <tr>\n",
       "      <th>MDH2</th>\n",
       "      <td>0.000000e+00</td>\n",
       "      <td>4.326021e-13</td>\n",
       "    </tr>\n",
       "    <tr>\n",
       "      <th>MDH3</th>\n",
       "      <td>0.000000e+00</td>\n",
       "      <td>4.326021e-13</td>\n",
       "    </tr>\n",
       "    <tr>\n",
       "      <th>ACALD</th>\n",
       "      <td>-4.635023e-13</td>\n",
       "      <td>1.081505e-12</td>\n",
       "    </tr>\n",
       "  </tbody>\n",
       "</table>\n",
       "</div>"
      ],
      "text/plain": [
       "               minimum       maximum\n",
       "GLCabcpp  0.000000e+00  4.326021e-13\n",
       "GLCptspp  7.150489e+00  7.150489e+00\n",
       "HEX1      0.000000e+00  2.849511e+00\n",
       "PGI       5.979908e+00  8.829419e+00\n",
       "PFK       8.889758e+00  8.889758e+00\n",
       "FBA      -3.244516e-13  9.183254e+00\n",
       "TPI       9.114014e+00  9.114014e+00\n",
       "GAPD      1.843037e+01  1.843037e+01\n",
       "PGK      -1.843037e+01 -1.843037e+01\n",
       "PGM      -1.758847e+01 -1.758847e+01\n",
       "ENO       1.758847e+01  1.758847e+01\n",
       "PYK       0.000000e+00  1.297806e-12\n",
       "LDH_D    -4.326021e-13  3.090015e-13\n",
       "PFL       0.000000e+00  1.297806e-12\n",
       "ALCD2x   -2.936213e-14  0.000000e+00\n",
       "PTAr     -2.854622e-01  0.000000e+00\n",
       "ACKr      0.000000e+00  2.854622e-01\n",
       "G6PDH2r   1.170581e+00  1.170581e+00\n",
       "PGL       1.170581e+00  1.170581e+00\n",
       "GND       1.170581e+00  1.170581e+00\n",
       "RPI      -7.509427e-01 -7.509427e-01\n",
       "RPE       4.001342e-01  4.001342e-01\n",
       "TKT1      2.934959e-01  2.934959e-01\n",
       "TALA      0.000000e+00  0.000000e+00\n",
       "TKT2      1.066383e-01  1.066383e-01\n",
       "FUM      -4.443621e+00 -4.443621e+00\n",
       "FRD2      0.000000e+00  4.954287e+00\n",
       "SUCOAS   -3.369916e+00 -3.369916e+00\n",
       "AKGDH     3.627098e+00  3.627098e+00\n",
       "ACONTa    4.153942e+00  4.153942e+00\n",
       "ACONTb    4.153942e+00  4.153942e+00\n",
       "ICDHyr    4.153942e+00  4.153942e+00\n",
       "CS        4.153942e+00  4.153942e+00\n",
       "MDH      -4.443981e+00 -4.443981e+00\n",
       "MDH2      0.000000e+00  4.326021e-13\n",
       "MDH3      0.000000e+00  4.326021e-13\n",
       "ACALD    -4.635023e-13  1.081505e-12"
      ]
     },
     "execution_count": 154,
     "metadata": {},
     "output_type": "execute_result"
    }
   ],
   "source": [
    "flux_variability_analysis(model, KOlist, loopless=True)"
   ]
  },
  {
   "cell_type": "markdown",
   "id": "a542ee15-b7f1-4351-b9a2-5eb6781737f2",
   "metadata": {},
   "source": [
    "change the bound first and the dom the simulation?"
   ]
  },
  {
   "cell_type": "code",
   "execution_count": 155,
   "id": "05c342e0-7b8c-495c-8a8a-cdea6219a51d",
   "metadata": {
    "tags": []
   },
   "outputs": [
    {
     "data": {
      "text/html": [
       "<div>\n",
       "<style scoped>\n",
       "    .dataframe tbody tr th:only-of-type {\n",
       "        vertical-align: middle;\n",
       "    }\n",
       "\n",
       "    .dataframe tbody tr th {\n",
       "        vertical-align: top;\n",
       "    }\n",
       "\n",
       "    .dataframe thead th {\n",
       "        text-align: right;\n",
       "    }\n",
       "</style>\n",
       "<table border=\"1\" class=\"dataframe\">\n",
       "  <thead>\n",
       "    <tr style=\"text-align: right;\">\n",
       "      <th></th>\n",
       "      <th>minimum</th>\n",
       "      <th>maximum</th>\n",
       "    </tr>\n",
       "  </thead>\n",
       "  <tbody>\n",
       "    <tr>\n",
       "      <th>MALS</th>\n",
       "      <td>0.000328</td>\n",
       "      <td>0.000328</td>\n",
       "    </tr>\n",
       "  </tbody>\n",
       "</table>\n",
       "</div>"
      ],
      "text/plain": [
       "       minimum   maximum\n",
       "MALS  0.000328  0.000328"
      ]
     },
     "execution_count": 155,
     "metadata": {},
     "output_type": "execute_result"
    }
   ],
   "source": [
    "flux_variability_analysis(model, \"MALS\", loopless=True)"
   ]
  },
  {
   "cell_type": "code",
   "execution_count": 156,
   "id": "3a149a97-b4c9-4c80-b6eb-024db5c8c0af",
   "metadata": {},
   "outputs": [
    {
     "data": {
      "text/html": [
       "<h3>MALS</h3><p>accoa_c + glx_c + h2o_c --> coa_c + h_c + mal__L_c</p><p>Bounds: 0.0, 1000.0</p><p>Flux: 0.0003278</p>"
      ],
      "text/plain": [
       "<cobra.summary.reaction_summary.ReactionSummary at 0x7fee058e2be0>"
      ]
     },
     "execution_count": 156,
     "metadata": {},
     "output_type": "execute_result"
    }
   ],
   "source": [
    "model.reactions.MALS.summary()"
   ]
  },
  {
   "cell_type": "markdown",
   "id": "89fb16cf-c4ac-4c72-9596-2621896b3266",
   "metadata": {},
   "source": [
    "based on the current flux and modified the "
   ]
  },
  {
   "cell_type": "markdown",
   "id": "c9fc3acb-e43a-4dbd-98fa-4d728ec14583",
   "metadata": {},
   "source": [
    "That's the flux based on the FBA, how can I change it not just the bound?"
   ]
  },
  {
   "cell_type": "markdown",
   "id": "96aeb53f-189c-4aa2-953e-2075bf7ccbfd",
   "metadata": {},
   "source": [
    "## OptForce init Flux"
   ]
  },
  {
   "cell_type": "code",
   "execution_count": 157,
   "id": "27f996d1-aa37-4128-938c-3554d60aa1e7",
   "metadata": {},
   "outputs": [],
   "source": [
    "opt_df = pd.read_csv(\"OptForce_Suc_Ecoli_20comb.csv\")"
   ]
  },
  {
   "cell_type": "code",
   "execution_count": 158,
   "id": "82aa06e3-fc42-4291-ae4d-97e90ef8a0a1",
   "metadata": {},
   "outputs": [],
   "source": [
    "optList = list(opt_df[\"Force Set\"])"
   ]
  },
  {
   "cell_type": "code",
   "execution_count": 159,
   "id": "e91adfdc-3066-44f7-8b9a-9d6dd6672793",
   "metadata": {
    "tags": []
   },
   "outputs": [],
   "source": [
    "ori_b_df = flux_variability_analysis(model, optList, loopless=True)"
   ]
  },
  {
   "cell_type": "code",
   "execution_count": 160,
   "id": "0181bfbe-b1fa-4b2f-84b5-23151b01df06",
   "metadata": {},
   "outputs": [
    {
     "data": {
      "text/html": [
       "<div>\n",
       "<style scoped>\n",
       "    .dataframe tbody tr th:only-of-type {\n",
       "        vertical-align: middle;\n",
       "    }\n",
       "\n",
       "    .dataframe tbody tr th {\n",
       "        vertical-align: top;\n",
       "    }\n",
       "\n",
       "    .dataframe thead th {\n",
       "        text-align: right;\n",
       "    }\n",
       "</style>\n",
       "<table border=\"1\" class=\"dataframe\">\n",
       "  <thead>\n",
       "    <tr style=\"text-align: right;\">\n",
       "      <th></th>\n",
       "      <th>minimum</th>\n",
       "      <th>maximum</th>\n",
       "    </tr>\n",
       "  </thead>\n",
       "  <tbody>\n",
       "    <tr>\n",
       "      <th>SUCCtex</th>\n",
       "      <td>-8.581712</td>\n",
       "      <td>-8.581712</td>\n",
       "    </tr>\n",
       "    <tr>\n",
       "      <th>O2tex</th>\n",
       "      <td>8.804684</td>\n",
       "      <td>258.802716</td>\n",
       "    </tr>\n",
       "    <tr>\n",
       "      <th>MALS</th>\n",
       "      <td>0.000328</td>\n",
       "      <td>0.000328</td>\n",
       "    </tr>\n",
       "    <tr>\n",
       "      <th>EX_k_e</th>\n",
       "      <td>-0.095645</td>\n",
       "      <td>-0.095645</td>\n",
       "    </tr>\n",
       "    <tr>\n",
       "      <th>EX_nh4_e</th>\n",
       "      <td>-5.292404</td>\n",
       "      <td>-5.292404</td>\n",
       "    </tr>\n",
       "    <tr>\n",
       "      <th>EX_pi_e</th>\n",
       "      <td>-0.472669</td>\n",
       "      <td>-0.472669</td>\n",
       "    </tr>\n",
       "    <tr>\n",
       "      <th>EX_so4_e</th>\n",
       "      <td>-0.123583</td>\n",
       "      <td>-0.123583</td>\n",
       "    </tr>\n",
       "    <tr>\n",
       "      <th>CO2tpp</th>\n",
       "      <td>-5.559442</td>\n",
       "      <td>-5.559442</td>\n",
       "    </tr>\n",
       "    <tr>\n",
       "      <th>DHORTS</th>\n",
       "      <td>-0.162090</td>\n",
       "      <td>-0.162090</td>\n",
       "    </tr>\n",
       "    <tr>\n",
       "      <th>ASAD</th>\n",
       "      <td>-0.523847</td>\n",
       "      <td>-0.523847</td>\n",
       "    </tr>\n",
       "    <tr>\n",
       "      <th>ACONTa</th>\n",
       "      <td>4.153942</td>\n",
       "      <td>4.153942</td>\n",
       "    </tr>\n",
       "    <tr>\n",
       "      <th>G3PD2</th>\n",
       "      <td>-0.068124</td>\n",
       "      <td>-0.068124</td>\n",
       "    </tr>\n",
       "    <tr>\n",
       "      <th>GAPD</th>\n",
       "      <td>18.430371</td>\n",
       "      <td>18.430371</td>\n",
       "    </tr>\n",
       "    <tr>\n",
       "      <th>IPPMIa</th>\n",
       "      <td>-0.220760</td>\n",
       "      <td>-0.220760</td>\n",
       "    </tr>\n",
       "    <tr>\n",
       "      <th>IPPMIb</th>\n",
       "      <td>-0.220760</td>\n",
       "      <td>-0.220760</td>\n",
       "    </tr>\n",
       "    <tr>\n",
       "      <th>KARA1</th>\n",
       "      <td>-0.428392</td>\n",
       "      <td>-0.428392</td>\n",
       "    </tr>\n",
       "    <tr>\n",
       "      <th>ILETA</th>\n",
       "      <td>-0.142359</td>\n",
       "      <td>-0.142359</td>\n",
       "    </tr>\n",
       "    <tr>\n",
       "      <th>IMPC</th>\n",
       "      <td>-0.265949</td>\n",
       "      <td>-0.265949</td>\n",
       "    </tr>\n",
       "    <tr>\n",
       "      <th>SDPDS</th>\n",
       "      <td>0.181765</td>\n",
       "      <td>0.181765</td>\n",
       "    </tr>\n",
       "    <tr>\n",
       "      <th>ORPT</th>\n",
       "      <td>-0.162090</td>\n",
       "      <td>-0.162090</td>\n",
       "    </tr>\n",
       "  </tbody>\n",
       "</table>\n",
       "</div>"
      ],
      "text/plain": [
       "            minimum     maximum\n",
       "SUCCtex   -8.581712   -8.581712\n",
       "O2tex      8.804684  258.802716\n",
       "MALS       0.000328    0.000328\n",
       "EX_k_e    -0.095645   -0.095645\n",
       "EX_nh4_e  -5.292404   -5.292404\n",
       "EX_pi_e   -0.472669   -0.472669\n",
       "EX_so4_e  -0.123583   -0.123583\n",
       "CO2tpp    -5.559442   -5.559442\n",
       "DHORTS    -0.162090   -0.162090\n",
       "ASAD      -0.523847   -0.523847\n",
       "ACONTa     4.153942    4.153942\n",
       "G3PD2     -0.068124   -0.068124\n",
       "GAPD      18.430371   18.430371\n",
       "IPPMIa    -0.220760   -0.220760\n",
       "IPPMIb    -0.220760   -0.220760\n",
       "KARA1     -0.428392   -0.428392\n",
       "ILETA     -0.142359   -0.142359\n",
       "IMPC      -0.265949   -0.265949\n",
       "SDPDS      0.181765    0.181765\n",
       "ORPT      -0.162090   -0.162090"
      ]
     },
     "execution_count": 160,
     "metadata": {},
     "output_type": "execute_result"
    }
   ],
   "source": [
    "ori_b_df"
   ]
  },
  {
   "cell_type": "markdown",
   "id": "3c9f4f69-de0e-4eb8-b0ef-9f07d4a7f5b5",
   "metadata": {
    "tags": []
   },
   "source": [
    "## Test with model: "
   ]
  },
  {
   "cell_type": "code",
   "execution_count": 92,
   "id": "c1e18a6d-8828-475c-b645-1baa54945fa8",
   "metadata": {},
   "outputs": [],
   "source": [
    "objList = []"
   ]
  },
  {
   "cell_type": "code",
   "execution_count": 93,
   "id": "0223b462-f77a-4b77-8454-48586779cd3d",
   "metadata": {},
   "outputs": [],
   "source": [
    "for rec in KOlist:\n",
    "    with model:\n",
    "        model.reactions.get_by_id(rec).knock_out()\n",
    "        objList.append(model.optimize().objective_value)"
   ]
  },
  {
   "cell_type": "code",
   "execution_count": 94,
   "id": "8487564c-c627-484c-88c9-2b161a2f74bd",
   "metadata": {
    "collapsed": true,
    "jupyter": {
     "outputs_hidden": true
    },
    "tags": []
   },
   "outputs": [
    {
     "data": {
      "text/plain": [
       "[17.096428571428564,\n",
       " 16.988888888888887,\n",
       " 17.09642857142855,\n",
       " 16.988888888888866,\n",
       " 17.096428571428582,\n",
       " 17.096428571428582,\n",
       " 16.087096774193533,\n",
       " 14.151612903225791,\n",
       " 14.151612903225791,\n",
       " 14.796774193548423,\n",
       " 14.796774193548423,\n",
       " 17.096428571428586,\n",
       " 17.096428571428586,\n",
       " 17.096428571428586,\n",
       " 17.096428571428586,\n",
       " 17.096428571428586,\n",
       " 17.096428571428586,\n",
       " 17.096428571428586,\n",
       " 17.096428571428586,\n",
       " 17.096428571428586,\n",
       " 17.096428571428586,\n",
       " 17.096428571428586,\n",
       " 17.096428571428586,\n",
       " 17.096428571428586,\n",
       " 17.096428571428586,\n",
       " 16.76302521008404,\n",
       " 17.096428571428575,\n",
       " 17.096428571428575,\n",
       " 17.096428571428575,\n",
       " 16.681632653061293,\n",
       " 16.68163265306122,\n",
       " 17.09642857142857,\n",
       " 16.681632653061243,\n",
       " 16.77387755102041,\n",
       " 17.09642857142857,\n",
       " 17.09642857142857,\n",
       " 17.09642857142857]"
      ]
     },
     "execution_count": 94,
     "metadata": {},
     "output_type": "execute_result"
    }
   ],
   "source": [
    "objList"
   ]
  },
  {
   "cell_type": "code",
   "execution_count": null,
   "id": "ddc20ae0-4d99-4840-8cc4-be3ce84908c7",
   "metadata": {},
   "outputs": [],
   "source": []
  },
  {
   "cell_type": "markdown",
   "id": "3a7c0af6-47f1-4239-ae5d-53197ae37db0",
   "metadata": {
    "tags": []
   },
   "source": [
    "## Test KO on FVA"
   ]
  },
  {
   "cell_type": "markdown",
   "id": "15c3a8a4-4769-43eb-9397-b7803b723d8e",
   "metadata": {},
   "source": [
    "When I'm using the `model.optimize()` is still the FVA?"
   ]
  },
  {
   "cell_type": "markdown",
   "id": "bed6f458-5cd7-4ec5-b069-c0e423474547",
   "metadata": {},
   "source": [
    "`flux_variability_analysis(model, model.reactions[:10])`"
   ]
  },
  {
   "cell_type": "code",
   "execution_count": 36,
   "id": "05c4695f-062e-49b2-a3c4-ab0c795fab87",
   "metadata": {
    "tags": []
   },
   "outputs": [],
   "source": [
    "df1 = flux_variability_analysis(model, \"EX_succ_e\")"
   ]
  },
  {
   "cell_type": "code",
   "execution_count": 40,
   "id": "9d6f9814-7372-498d-8c3d-9fa3f4308aa4",
   "metadata": {},
   "outputs": [
    {
     "data": {
      "text/html": [
       "<div>\n",
       "<style scoped>\n",
       "    .dataframe tbody tr th:only-of-type {\n",
       "        vertical-align: middle;\n",
       "    }\n",
       "\n",
       "    .dataframe tbody tr th {\n",
       "        vertical-align: top;\n",
       "    }\n",
       "\n",
       "    .dataframe thead th {\n",
       "        text-align: right;\n",
       "    }\n",
       "</style>\n",
       "<table border=\"1\" class=\"dataframe\">\n",
       "  <thead>\n",
       "    <tr style=\"text-align: right;\">\n",
       "      <th></th>\n",
       "      <th>minimum</th>\n",
       "      <th>maximum</th>\n",
       "    </tr>\n",
       "  </thead>\n",
       "  <tbody>\n",
       "    <tr>\n",
       "      <th>EX_succ_e</th>\n",
       "      <td>17.096429</td>\n",
       "      <td>17.096429</td>\n",
       "    </tr>\n",
       "  </tbody>\n",
       "</table>\n",
       "</div>"
      ],
      "text/plain": [
       "             minimum    maximum\n",
       "EX_succ_e  17.096429  17.096429"
      ]
     },
     "execution_count": 40,
     "metadata": {},
     "output_type": "execute_result"
    }
   ],
   "source": [
    "df1"
   ]
  },
  {
   "cell_type": "code",
   "execution_count": 39,
   "id": "295666c6-a903-4668-815d-c41f91e10853",
   "metadata": {},
   "outputs": [
    {
     "data": {
      "text/plain": [
       "17.09642857142856"
      ]
     },
     "execution_count": 39,
     "metadata": {},
     "output_type": "execute_result"
    }
   ],
   "source": [
    "df1.loc[\"EX_succ_e\", \"minimum\"]"
   ]
  },
  {
   "cell_type": "code",
   "execution_count": 41,
   "id": "e3589055-ba6d-4dcb-92bb-e693cd6bf908",
   "metadata": {},
   "outputs": [
    {
     "data": {
      "text/plain": [
       "17.096428571428554"
      ]
     },
     "execution_count": 41,
     "metadata": {},
     "output_type": "execute_result"
    }
   ],
   "source": [
    "df1.loc[\"EX_succ_e\", \"maximum\"]"
   ]
  },
  {
   "cell_type": "code",
   "execution_count": 51,
   "id": "a5ad1165-5b6e-4ba6-a1c0-1eac7f968e2a",
   "metadata": {},
   "outputs": [
    {
     "data": {
      "text/plain": [
       "Index(['minimum', 'maximum'], dtype='object')"
      ]
     },
     "execution_count": 51,
     "metadata": {},
     "output_type": "execute_result"
    }
   ],
   "source": [
    "df1.columns"
   ]
  },
  {
   "cell_type": "code",
   "execution_count": 53,
   "id": "79b051fb-e423-4693-8177-ccfbd97e5c0e",
   "metadata": {},
   "outputs": [],
   "source": [
    "df = pd.DataFrame(columns=['minimum', 'maximum'])"
   ]
  },
  {
   "cell_type": "code",
   "execution_count": 54,
   "id": "b80320a5-693c-4e34-84b5-97827e90f6cd",
   "metadata": {},
   "outputs": [
    {
     "data": {
      "text/html": [
       "<div>\n",
       "<style scoped>\n",
       "    .dataframe tbody tr th:only-of-type {\n",
       "        vertical-align: middle;\n",
       "    }\n",
       "\n",
       "    .dataframe tbody tr th {\n",
       "        vertical-align: top;\n",
       "    }\n",
       "\n",
       "    .dataframe thead th {\n",
       "        text-align: right;\n",
       "    }\n",
       "</style>\n",
       "<table border=\"1\" class=\"dataframe\">\n",
       "  <thead>\n",
       "    <tr style=\"text-align: right;\">\n",
       "      <th></th>\n",
       "      <th>minimum</th>\n",
       "      <th>maximum</th>\n",
       "    </tr>\n",
       "  </thead>\n",
       "  <tbody>\n",
       "  </tbody>\n",
       "</table>\n",
       "</div>"
      ],
      "text/plain": [
       "Empty DataFrame\n",
       "Columns: [minimum, maximum]\n",
       "Index: []"
      ]
     },
     "execution_count": 54,
     "metadata": {},
     "output_type": "execute_result"
    }
   ],
   "source": [
    "df"
   ]
  },
  {
   "cell_type": "code",
   "execution_count": 57,
   "id": "407f446e-5479-4832-8f7c-fcab8aec5063",
   "metadata": {},
   "outputs": [],
   "source": [
    "df = pd.concat([df, df1], join=\"inner\")"
   ]
  },
  {
   "cell_type": "code",
   "execution_count": 58,
   "id": "192ea3bc-aa18-45a7-be63-37ba5e801209",
   "metadata": {},
   "outputs": [
    {
     "data": {
      "text/html": [
       "<div>\n",
       "<style scoped>\n",
       "    .dataframe tbody tr th:only-of-type {\n",
       "        vertical-align: middle;\n",
       "    }\n",
       "\n",
       "    .dataframe tbody tr th {\n",
       "        vertical-align: top;\n",
       "    }\n",
       "\n",
       "    .dataframe thead th {\n",
       "        text-align: right;\n",
       "    }\n",
       "</style>\n",
       "<table border=\"1\" class=\"dataframe\">\n",
       "  <thead>\n",
       "    <tr style=\"text-align: right;\">\n",
       "      <th></th>\n",
       "      <th>minimum</th>\n",
       "      <th>maximum</th>\n",
       "    </tr>\n",
       "  </thead>\n",
       "  <tbody>\n",
       "    <tr>\n",
       "      <th>EX_succ_e</th>\n",
       "      <td>17.096429</td>\n",
       "      <td>17.096429</td>\n",
       "    </tr>\n",
       "    <tr>\n",
       "      <th>EX_succ_e</th>\n",
       "      <td>17.096429</td>\n",
       "      <td>17.096429</td>\n",
       "    </tr>\n",
       "  </tbody>\n",
       "</table>\n",
       "</div>"
      ],
      "text/plain": [
       "             minimum    maximum\n",
       "EX_succ_e  17.096429  17.096429\n",
       "EX_succ_e  17.096429  17.096429"
      ]
     },
     "execution_count": 58,
     "metadata": {},
     "output_type": "execute_result"
    }
   ],
   "source": [
    "df"
   ]
  },
  {
   "cell_type": "code",
   "execution_count": 96,
   "id": "8ec4b8c6-9e90-447f-82be-d9714f159cd4",
   "metadata": {},
   "outputs": [],
   "source": [
    "df = pd.DataFrame(columns=['minimum', 'maximum'])"
   ]
  },
  {
   "cell_type": "code",
   "execution_count": 97,
   "id": "0c84986c-6dbc-4807-8714-0c466112264b",
   "metadata": {},
   "outputs": [],
   "source": [
    "for rec in KOlist:\n",
    "    with model:\n",
    "        model.reactions.get_by_id(rec).knock_out()\n",
    "        df1 = flux_variability_analysis(model, \"EX_succ_e\")\n",
    "        df = pd.concat([df, df1], join=\"inner\")"
   ]
  },
  {
   "cell_type": "code",
   "execution_count": 98,
   "id": "bfe394ad-59d9-4c8f-8fcc-3b49baa665fb",
   "metadata": {
    "collapsed": true,
    "jupyter": {
     "outputs_hidden": true
    },
    "tags": []
   },
   "outputs": [
    {
     "data": {
      "text/html": [
       "<div>\n",
       "<style scoped>\n",
       "    .dataframe tbody tr th:only-of-type {\n",
       "        vertical-align: middle;\n",
       "    }\n",
       "\n",
       "    .dataframe tbody tr th {\n",
       "        vertical-align: top;\n",
       "    }\n",
       "\n",
       "    .dataframe thead th {\n",
       "        text-align: right;\n",
       "    }\n",
       "</style>\n",
       "<table border=\"1\" class=\"dataframe\">\n",
       "  <thead>\n",
       "    <tr style=\"text-align: right;\">\n",
       "      <th></th>\n",
       "      <th>minimum</th>\n",
       "      <th>maximum</th>\n",
       "    </tr>\n",
       "  </thead>\n",
       "  <tbody>\n",
       "    <tr>\n",
       "      <th>EX_succ_e</th>\n",
       "      <td>17.096429</td>\n",
       "      <td>17.096429</td>\n",
       "    </tr>\n",
       "    <tr>\n",
       "      <th>EX_succ_e</th>\n",
       "      <td>16.988889</td>\n",
       "      <td>16.988889</td>\n",
       "    </tr>\n",
       "    <tr>\n",
       "      <th>EX_succ_e</th>\n",
       "      <td>17.096429</td>\n",
       "      <td>17.096429</td>\n",
       "    </tr>\n",
       "    <tr>\n",
       "      <th>EX_succ_e</th>\n",
       "      <td>16.988889</td>\n",
       "      <td>16.988889</td>\n",
       "    </tr>\n",
       "    <tr>\n",
       "      <th>EX_succ_e</th>\n",
       "      <td>17.096429</td>\n",
       "      <td>17.096429</td>\n",
       "    </tr>\n",
       "    <tr>\n",
       "      <th>EX_succ_e</th>\n",
       "      <td>17.096429</td>\n",
       "      <td>17.096429</td>\n",
       "    </tr>\n",
       "    <tr>\n",
       "      <th>EX_succ_e</th>\n",
       "      <td>16.087097</td>\n",
       "      <td>16.087097</td>\n",
       "    </tr>\n",
       "    <tr>\n",
       "      <th>EX_succ_e</th>\n",
       "      <td>14.151613</td>\n",
       "      <td>14.151613</td>\n",
       "    </tr>\n",
       "    <tr>\n",
       "      <th>EX_succ_e</th>\n",
       "      <td>14.151613</td>\n",
       "      <td>14.151613</td>\n",
       "    </tr>\n",
       "    <tr>\n",
       "      <th>EX_succ_e</th>\n",
       "      <td>14.796774</td>\n",
       "      <td>14.796774</td>\n",
       "    </tr>\n",
       "    <tr>\n",
       "      <th>EX_succ_e</th>\n",
       "      <td>14.796774</td>\n",
       "      <td>14.796774</td>\n",
       "    </tr>\n",
       "    <tr>\n",
       "      <th>EX_succ_e</th>\n",
       "      <td>17.096429</td>\n",
       "      <td>17.096429</td>\n",
       "    </tr>\n",
       "    <tr>\n",
       "      <th>EX_succ_e</th>\n",
       "      <td>17.096429</td>\n",
       "      <td>17.096429</td>\n",
       "    </tr>\n",
       "    <tr>\n",
       "      <th>EX_succ_e</th>\n",
       "      <td>17.096429</td>\n",
       "      <td>17.096429</td>\n",
       "    </tr>\n",
       "    <tr>\n",
       "      <th>EX_succ_e</th>\n",
       "      <td>17.096429</td>\n",
       "      <td>17.096429</td>\n",
       "    </tr>\n",
       "    <tr>\n",
       "      <th>EX_succ_e</th>\n",
       "      <td>17.096429</td>\n",
       "      <td>17.096429</td>\n",
       "    </tr>\n",
       "    <tr>\n",
       "      <th>EX_succ_e</th>\n",
       "      <td>17.096429</td>\n",
       "      <td>17.096429</td>\n",
       "    </tr>\n",
       "    <tr>\n",
       "      <th>EX_succ_e</th>\n",
       "      <td>17.096429</td>\n",
       "      <td>17.096429</td>\n",
       "    </tr>\n",
       "    <tr>\n",
       "      <th>EX_succ_e</th>\n",
       "      <td>17.096429</td>\n",
       "      <td>17.096429</td>\n",
       "    </tr>\n",
       "    <tr>\n",
       "      <th>EX_succ_e</th>\n",
       "      <td>17.096429</td>\n",
       "      <td>17.096429</td>\n",
       "    </tr>\n",
       "    <tr>\n",
       "      <th>EX_succ_e</th>\n",
       "      <td>17.096429</td>\n",
       "      <td>17.096429</td>\n",
       "    </tr>\n",
       "    <tr>\n",
       "      <th>EX_succ_e</th>\n",
       "      <td>17.096429</td>\n",
       "      <td>17.096429</td>\n",
       "    </tr>\n",
       "    <tr>\n",
       "      <th>EX_succ_e</th>\n",
       "      <td>17.096429</td>\n",
       "      <td>17.096429</td>\n",
       "    </tr>\n",
       "    <tr>\n",
       "      <th>EX_succ_e</th>\n",
       "      <td>17.096429</td>\n",
       "      <td>17.096429</td>\n",
       "    </tr>\n",
       "    <tr>\n",
       "      <th>EX_succ_e</th>\n",
       "      <td>17.096429</td>\n",
       "      <td>17.096429</td>\n",
       "    </tr>\n",
       "    <tr>\n",
       "      <th>EX_succ_e</th>\n",
       "      <td>16.763025</td>\n",
       "      <td>16.763025</td>\n",
       "    </tr>\n",
       "    <tr>\n",
       "      <th>EX_succ_e</th>\n",
       "      <td>17.096429</td>\n",
       "      <td>17.096429</td>\n",
       "    </tr>\n",
       "    <tr>\n",
       "      <th>EX_succ_e</th>\n",
       "      <td>17.096429</td>\n",
       "      <td>17.096429</td>\n",
       "    </tr>\n",
       "    <tr>\n",
       "      <th>EX_succ_e</th>\n",
       "      <td>17.096429</td>\n",
       "      <td>17.096429</td>\n",
       "    </tr>\n",
       "    <tr>\n",
       "      <th>EX_succ_e</th>\n",
       "      <td>16.681633</td>\n",
       "      <td>16.681633</td>\n",
       "    </tr>\n",
       "    <tr>\n",
       "      <th>EX_succ_e</th>\n",
       "      <td>16.681633</td>\n",
       "      <td>16.681633</td>\n",
       "    </tr>\n",
       "    <tr>\n",
       "      <th>EX_succ_e</th>\n",
       "      <td>17.096429</td>\n",
       "      <td>17.096429</td>\n",
       "    </tr>\n",
       "    <tr>\n",
       "      <th>EX_succ_e</th>\n",
       "      <td>16.681633</td>\n",
       "      <td>16.681633</td>\n",
       "    </tr>\n",
       "    <tr>\n",
       "      <th>EX_succ_e</th>\n",
       "      <td>16.773878</td>\n",
       "      <td>16.773878</td>\n",
       "    </tr>\n",
       "    <tr>\n",
       "      <th>EX_succ_e</th>\n",
       "      <td>17.096429</td>\n",
       "      <td>17.096429</td>\n",
       "    </tr>\n",
       "    <tr>\n",
       "      <th>EX_succ_e</th>\n",
       "      <td>17.096429</td>\n",
       "      <td>17.096429</td>\n",
       "    </tr>\n",
       "    <tr>\n",
       "      <th>EX_succ_e</th>\n",
       "      <td>17.096429</td>\n",
       "      <td>17.096429</td>\n",
       "    </tr>\n",
       "  </tbody>\n",
       "</table>\n",
       "</div>"
      ],
      "text/plain": [
       "             minimum    maximum\n",
       "EX_succ_e  17.096429  17.096429\n",
       "EX_succ_e  16.988889  16.988889\n",
       "EX_succ_e  17.096429  17.096429\n",
       "EX_succ_e  16.988889  16.988889\n",
       "EX_succ_e  17.096429  17.096429\n",
       "EX_succ_e  17.096429  17.096429\n",
       "EX_succ_e  16.087097  16.087097\n",
       "EX_succ_e  14.151613  14.151613\n",
       "EX_succ_e  14.151613  14.151613\n",
       "EX_succ_e  14.796774  14.796774\n",
       "EX_succ_e  14.796774  14.796774\n",
       "EX_succ_e  17.096429  17.096429\n",
       "EX_succ_e  17.096429  17.096429\n",
       "EX_succ_e  17.096429  17.096429\n",
       "EX_succ_e  17.096429  17.096429\n",
       "EX_succ_e  17.096429  17.096429\n",
       "EX_succ_e  17.096429  17.096429\n",
       "EX_succ_e  17.096429  17.096429\n",
       "EX_succ_e  17.096429  17.096429\n",
       "EX_succ_e  17.096429  17.096429\n",
       "EX_succ_e  17.096429  17.096429\n",
       "EX_succ_e  17.096429  17.096429\n",
       "EX_succ_e  17.096429  17.096429\n",
       "EX_succ_e  17.096429  17.096429\n",
       "EX_succ_e  17.096429  17.096429\n",
       "EX_succ_e  16.763025  16.763025\n",
       "EX_succ_e  17.096429  17.096429\n",
       "EX_succ_e  17.096429  17.096429\n",
       "EX_succ_e  17.096429  17.096429\n",
       "EX_succ_e  16.681633  16.681633\n",
       "EX_succ_e  16.681633  16.681633\n",
       "EX_succ_e  17.096429  17.096429\n",
       "EX_succ_e  16.681633  16.681633\n",
       "EX_succ_e  16.773878  16.773878\n",
       "EX_succ_e  17.096429  17.096429\n",
       "EX_succ_e  17.096429  17.096429\n",
       "EX_succ_e  17.096429  17.096429"
      ]
     },
     "execution_count": 98,
     "metadata": {},
     "output_type": "execute_result"
    }
   ],
   "source": [
    "df"
   ]
  },
  {
   "cell_type": "code",
   "execution_count": null,
   "id": "34d1da20-4229-493a-8b16-d03b249af3d5",
   "metadata": {},
   "outputs": [],
   "source": []
  },
  {
   "cell_type": "code",
   "execution_count": null,
   "id": "c2e685bd-dc04-41cb-87e4-4c2ccba3ff74",
   "metadata": {},
   "outputs": [],
   "source": []
  },
  {
   "cell_type": "code",
   "execution_count": null,
   "id": "217fca18-a9d8-4635-813c-d05838eeba46",
   "metadata": {},
   "outputs": [],
   "source": []
  },
  {
   "cell_type": "code",
   "execution_count": null,
   "id": "b70e5e41-b4e1-47b7-ba21-4846f9b285e6",
   "metadata": {},
   "outputs": [],
   "source": []
  },
  {
   "cell_type": "markdown",
   "id": "09039a31-3339-4f1f-afba-aebc3abc22be",
   "metadata": {
    "tags": []
   },
   "source": [
    "## Set bounds based on OptForce"
   ]
  },
  {
   "cell_type": "markdown",
   "id": "9d9f02dd-172a-4e6a-b2fb-6e2effabcb49",
   "metadata": {
    "tags": []
   },
   "source": [
    "### Test `with model`"
   ]
  },
  {
   "cell_type": "code",
   "execution_count": 101,
   "id": "04d21c9d-7d4b-4696-abea-5c297126b44c",
   "metadata": {},
   "outputs": [],
   "source": [
    "testList = [\"EX_nh4_e\", \"O2tex\"]"
   ]
  },
  {
   "cell_type": "code",
   "execution_count": 109,
   "id": "1d3d5094-ed8b-47d8-afab-601a068c8613",
   "metadata": {},
   "outputs": [
    {
     "name": "stdout",
     "output_type": "stream",
     "text": [
      "(-500, 500)\n",
      "(-1000.0, 1000.0)\n",
      "(-1000.0, 1000.0)\n",
      "(-500, 500)\n"
     ]
    }
   ],
   "source": [
    "for rec in testList:\n",
    "    with model:\n",
    "        model.reactions.get_by_id(rec).lower_bound = -500\n",
    "        model.reactions.get_by_id(rec).upper_bound = 500\n",
    "        print(model.reactions.get_by_id(\"EX_nh4_e\").bounds)\n",
    "        print(model.reactions.get_by_id(\"O2tex\").bounds)"
   ]
  },
  {
   "cell_type": "code",
   "execution_count": 112,
   "id": "bd1bb1e2-3b5d-4d73-a204-16c884eefb89",
   "metadata": {},
   "outputs": [
    {
     "data": {
      "text/plain": [
       "(-1000.0, 1000.0)"
      ]
     },
     "execution_count": 112,
     "metadata": {},
     "output_type": "execute_result"
    }
   ],
   "source": [
    "model.reactions.get_by_id(\"EX_nh4_e\").bounds"
   ]
  },
  {
   "cell_type": "code",
   "execution_count": 113,
   "id": "e26f0df9-4905-4b2f-a796-496d75377eda",
   "metadata": {},
   "outputs": [
    {
     "data": {
      "text/plain": [
       "(-1000.0, 1000.0)"
      ]
     },
     "execution_count": 113,
     "metadata": {},
     "output_type": "execute_result"
    }
   ],
   "source": [
    "model.reactions.get_by_id(\"O2tex\").bounds"
   ]
  },
  {
   "cell_type": "markdown",
   "id": "c935783b-aa9b-4332-b92a-f01b739275de",
   "metadata": {},
   "source": [
    "So use the `with model:` won't change the ori model"
   ]
  },
  {
   "cell_type": "markdown",
   "id": "aee13db2-9673-4b43-910b-e3eb43f6acc0",
   "metadata": {},
   "source": [
    "### Comb Gen"
   ]
  },
  {
   "cell_type": "code",
   "execution_count": 118,
   "id": "e5a51fb7-2005-456a-8a12-5bc4fe57d490",
   "metadata": {
    "tags": []
   },
   "outputs": [],
   "source": [
    "opt_df = opt_df[:12]"
   ]
  },
  {
   "cell_type": "code",
   "execution_count": 119,
   "id": "b8b28932-814b-49fd-9ad8-2183ba44ddce",
   "metadata": {
    "collapsed": true,
    "jupyter": {
     "outputs_hidden": true
    },
    "tags": []
   },
   "outputs": [
    {
     "data": {
      "text/html": [
       "<div>\n",
       "<style scoped>\n",
       "    .dataframe tbody tr th:only-of-type {\n",
       "        vertical-align: middle;\n",
       "    }\n",
       "\n",
       "    .dataframe tbody tr th {\n",
       "        vertical-align: top;\n",
       "    }\n",
       "\n",
       "    .dataframe thead th {\n",
       "        text-align: right;\n",
       "    }\n",
       "</style>\n",
       "<table border=\"1\" class=\"dataframe\">\n",
       "  <thead>\n",
       "    <tr style=\"text-align: right;\">\n",
       "      <th></th>\n",
       "      <th>Number of interventions</th>\n",
       "      <th>Set number</th>\n",
       "      <th>Force Set</th>\n",
       "      <th>Type of regulation</th>\n",
       "      <th>Min flux in Wild Type (mmol/gDW hr)</th>\n",
       "      <th>Max flux in Wild Type (mmol/gDW hr)</th>\n",
       "      <th>Min flux in Mutant (mmol/gDW hr)</th>\n",
       "      <th>Max flux in Mutant (mmol/gDW hr)</th>\n",
       "      <th>Achieved flux (mmol/gDW hr)</th>\n",
       "      <th>Objective function (mmol/gDW hr)</th>\n",
       "      <th>Minimum guaranteed for target (mmol/gDW hr)</th>\n",
       "      <th>Maximum guaranteed for target (mmol/gDW hr)</th>\n",
       "      <th>Maximum growth rate (1/hr)</th>\n",
       "    </tr>\n",
       "  </thead>\n",
       "  <tbody>\n",
       "    <tr>\n",
       "      <th>0</th>\n",
       "      <td>1</td>\n",
       "      <td>1</td>\n",
       "      <td>SUCCtex</td>\n",
       "      <td>downregulation</td>\n",
       "      <td>-211.619609</td>\n",
       "      <td>0.000000</td>\n",
       "      <td>-400.000000</td>\n",
       "      <td>-400.000000</td>\n",
       "      <td>-400</td>\n",
       "      <td>4.000000e+02</td>\n",
       "      <td>400</td>\n",
       "      <td>400.000000</td>\n",
       "      <td>0.000000</td>\n",
       "    </tr>\n",
       "    <tr>\n",
       "      <th>1</th>\n",
       "      <td>1</td>\n",
       "      <td>2</td>\n",
       "      <td>O2tex</td>\n",
       "      <td>downregulation</td>\n",
       "      <td>51.223218</td>\n",
       "      <td>100.000000</td>\n",
       "      <td>0.000000</td>\n",
       "      <td>100.000000</td>\n",
       "      <td>100</td>\n",
       "      <td>0.000000e+00</td>\n",
       "      <td>0</td>\n",
       "      <td>198.530862</td>\n",
       "      <td>9.258553</td>\n",
       "    </tr>\n",
       "    <tr>\n",
       "      <th>2</th>\n",
       "      <td>1</td>\n",
       "      <td>3</td>\n",
       "      <td>MALS</td>\n",
       "      <td>upregulation</td>\n",
       "      <td>0.000000</td>\n",
       "      <td>102.257274</td>\n",
       "      <td>0.000000</td>\n",
       "      <td>130.620000</td>\n",
       "      <td>0</td>\n",
       "      <td>0.000000e+00</td>\n",
       "      <td>0</td>\n",
       "      <td>198.530649</td>\n",
       "      <td>9.258553</td>\n",
       "    </tr>\n",
       "    <tr>\n",
       "      <th>3</th>\n",
       "      <td>1</td>\n",
       "      <td>4</td>\n",
       "      <td>EX_k_e</td>\n",
       "      <td>upregulation</td>\n",
       "      <td>-1.806094</td>\n",
       "      <td>-1.756737</td>\n",
       "      <td>0.000000</td>\n",
       "      <td>0.000000</td>\n",
       "      <td>0</td>\n",
       "      <td>9.163160e-10</td>\n",
       "      <td>0</td>\n",
       "      <td>400.000000</td>\n",
       "      <td>0.000000</td>\n",
       "    </tr>\n",
       "    <tr>\n",
       "      <th>4</th>\n",
       "      <td>1</td>\n",
       "      <td>5</td>\n",
       "      <td>EX_nh4_e</td>\n",
       "      <td>upregulation</td>\n",
       "      <td>-100.000000</td>\n",
       "      <td>-97.207416</td>\n",
       "      <td>-42.382609</td>\n",
       "      <td>0.000000</td>\n",
       "      <td>0</td>\n",
       "      <td>0.000000e+00</td>\n",
       "      <td>0</td>\n",
       "      <td>400.000000</td>\n",
       "      <td>0.000000</td>\n",
       "    </tr>\n",
       "    <tr>\n",
       "      <th>5</th>\n",
       "      <td>1</td>\n",
       "      <td>6</td>\n",
       "      <td>EX_pi_e</td>\n",
       "      <td>upregulation</td>\n",
       "      <td>-33.492968</td>\n",
       "      <td>-8.681679</td>\n",
       "      <td>0.000000</td>\n",
       "      <td>0.000000</td>\n",
       "      <td>0</td>\n",
       "      <td>0.000000e+00</td>\n",
       "      <td>0</td>\n",
       "      <td>400.000000</td>\n",
       "      <td>0.000000</td>\n",
       "    </tr>\n",
       "    <tr>\n",
       "      <th>6</th>\n",
       "      <td>1</td>\n",
       "      <td>7</td>\n",
       "      <td>EX_so4_e</td>\n",
       "      <td>upregulation</td>\n",
       "      <td>-55.200639</td>\n",
       "      <td>-2.269890</td>\n",
       "      <td>0.000000</td>\n",
       "      <td>0.000000</td>\n",
       "      <td>0</td>\n",
       "      <td>0.000000e+00</td>\n",
       "      <td>0</td>\n",
       "      <td>400.000000</td>\n",
       "      <td>0.000000</td>\n",
       "    </tr>\n",
       "    <tr>\n",
       "      <th>7</th>\n",
       "      <td>1</td>\n",
       "      <td>8</td>\n",
       "      <td>CO2tpp</td>\n",
       "      <td>upregulation</td>\n",
       "      <td>-488.021037</td>\n",
       "      <td>130.144490</td>\n",
       "      <td>100.000000</td>\n",
       "      <td>321.850000</td>\n",
       "      <td>100</td>\n",
       "      <td>0.000000e+00</td>\n",
       "      <td>0</td>\n",
       "      <td>81.649424</td>\n",
       "      <td>9.258553</td>\n",
       "    </tr>\n",
       "    <tr>\n",
       "      <th>8</th>\n",
       "      <td>1</td>\n",
       "      <td>9</td>\n",
       "      <td>DHORTS</td>\n",
       "      <td>upregulation</td>\n",
       "      <td>-27.628953</td>\n",
       "      <td>-2.977155</td>\n",
       "      <td>0.000000</td>\n",
       "      <td>0.000000</td>\n",
       "      <td>0</td>\n",
       "      <td>2.273740e-11</td>\n",
       "      <td>0</td>\n",
       "      <td>400.000000</td>\n",
       "      <td>0.000000</td>\n",
       "    </tr>\n",
       "    <tr>\n",
       "      <th>9</th>\n",
       "      <td>1</td>\n",
       "      <td>10</td>\n",
       "      <td>ASAD</td>\n",
       "      <td>upregulation</td>\n",
       "      <td>-83.373351</td>\n",
       "      <td>-9.621684</td>\n",
       "      <td>-39.160000</td>\n",
       "      <td>0.000000</td>\n",
       "      <td>0</td>\n",
       "      <td>0.000000e+00</td>\n",
       "      <td>0</td>\n",
       "      <td>400.000000</td>\n",
       "      <td>0.000000</td>\n",
       "    </tr>\n",
       "    <tr>\n",
       "      <th>10</th>\n",
       "      <td>1</td>\n",
       "      <td>11</td>\n",
       "      <td>ACONTa</td>\n",
       "      <td>knockout</td>\n",
       "      <td>9.676728</td>\n",
       "      <td>155.473807</td>\n",
       "      <td>55.690909</td>\n",
       "      <td>169.628571</td>\n",
       "      <td>0</td>\n",
       "      <td>2.785330e-10</td>\n",
       "      <td>0</td>\n",
       "      <td>381.375510</td>\n",
       "      <td>0.000000</td>\n",
       "    </tr>\n",
       "    <tr>\n",
       "      <th>11</th>\n",
       "      <td>1</td>\n",
       "      <td>12</td>\n",
       "      <td>G3PD2</td>\n",
       "      <td>upregulation</td>\n",
       "      <td>-120.043499</td>\n",
       "      <td>98.748748</td>\n",
       "      <td>-117.480000</td>\n",
       "      <td>100.000000</td>\n",
       "      <td>100</td>\n",
       "      <td>0.000000e+00</td>\n",
       "      <td>0</td>\n",
       "      <td>400.000000</td>\n",
       "      <td>0.000000</td>\n",
       "    </tr>\n",
       "  </tbody>\n",
       "</table>\n",
       "</div>"
      ],
      "text/plain": [
       "    Number of interventions  Set number Force Set Type of regulation  \\\n",
       "0                         1           1   SUCCtex     downregulation   \n",
       "1                         1           2     O2tex     downregulation   \n",
       "2                         1           3      MALS       upregulation   \n",
       "3                         1           4    EX_k_e       upregulation   \n",
       "4                         1           5  EX_nh4_e       upregulation   \n",
       "5                         1           6   EX_pi_e       upregulation   \n",
       "6                         1           7  EX_so4_e       upregulation   \n",
       "7                         1           8    CO2tpp       upregulation   \n",
       "8                         1           9    DHORTS       upregulation   \n",
       "9                         1          10      ASAD       upregulation   \n",
       "10                        1          11    ACONTa           knockout   \n",
       "11                        1          12     G3PD2       upregulation   \n",
       "\n",
       "    Min flux in Wild Type (mmol/gDW hr)  Max flux in Wild Type (mmol/gDW hr)  \\\n",
       "0                           -211.619609                             0.000000   \n",
       "1                             51.223218                           100.000000   \n",
       "2                              0.000000                           102.257274   \n",
       "3                             -1.806094                            -1.756737   \n",
       "4                           -100.000000                           -97.207416   \n",
       "5                            -33.492968                            -8.681679   \n",
       "6                            -55.200639                            -2.269890   \n",
       "7                           -488.021037                           130.144490   \n",
       "8                            -27.628953                            -2.977155   \n",
       "9                            -83.373351                            -9.621684   \n",
       "10                             9.676728                           155.473807   \n",
       "11                          -120.043499                            98.748748   \n",
       "\n",
       "    Min flux in Mutant (mmol/gDW hr)  Max flux in Mutant (mmol/gDW hr)  \\\n",
       "0                        -400.000000                       -400.000000   \n",
       "1                           0.000000                        100.000000   \n",
       "2                           0.000000                        130.620000   \n",
       "3                           0.000000                          0.000000   \n",
       "4                         -42.382609                          0.000000   \n",
       "5                           0.000000                          0.000000   \n",
       "6                           0.000000                          0.000000   \n",
       "7                         100.000000                        321.850000   \n",
       "8                           0.000000                          0.000000   \n",
       "9                         -39.160000                          0.000000   \n",
       "10                         55.690909                        169.628571   \n",
       "11                       -117.480000                        100.000000   \n",
       "\n",
       "    Achieved flux (mmol/gDW hr)  Objective function (mmol/gDW hr)  \\\n",
       "0                          -400                      4.000000e+02   \n",
       "1                           100                      0.000000e+00   \n",
       "2                             0                      0.000000e+00   \n",
       "3                             0                      9.163160e-10   \n",
       "4                             0                      0.000000e+00   \n",
       "5                             0                      0.000000e+00   \n",
       "6                             0                      0.000000e+00   \n",
       "7                           100                      0.000000e+00   \n",
       "8                             0                      2.273740e-11   \n",
       "9                             0                      0.000000e+00   \n",
       "10                            0                      2.785330e-10   \n",
       "11                          100                      0.000000e+00   \n",
       "\n",
       "    Minimum guaranteed for target (mmol/gDW hr)  \\\n",
       "0                                           400   \n",
       "1                                             0   \n",
       "2                                             0   \n",
       "3                                             0   \n",
       "4                                             0   \n",
       "5                                             0   \n",
       "6                                             0   \n",
       "7                                             0   \n",
       "8                                             0   \n",
       "9                                             0   \n",
       "10                                            0   \n",
       "11                                            0   \n",
       "\n",
       "    Maximum guaranteed for target (mmol/gDW hr)  Maximum growth rate (1/hr)  \n",
       "0                                    400.000000                    0.000000  \n",
       "1                                    198.530862                    9.258553  \n",
       "2                                    198.530649                    9.258553  \n",
       "3                                    400.000000                    0.000000  \n",
       "4                                    400.000000                    0.000000  \n",
       "5                                    400.000000                    0.000000  \n",
       "6                                    400.000000                    0.000000  \n",
       "7                                     81.649424                    9.258553  \n",
       "8                                    400.000000                    0.000000  \n",
       "9                                    400.000000                    0.000000  \n",
       "10                                   381.375510                    0.000000  \n",
       "11                                   400.000000                    0.000000  "
      ]
     },
     "execution_count": 119,
     "metadata": {},
     "output_type": "execute_result"
    }
   ],
   "source": [
    "opt_df"
   ]
  },
  {
   "cell_type": "code",
   "execution_count": 120,
   "id": "e38bbf9b-2d42-4d84-b773-58d77563d825",
   "metadata": {},
   "outputs": [],
   "source": [
    "opt_dict = dict(zip(opt_df[\"Force Set\"], opt_df[\"Type of regulation\"]))"
   ]
  },
  {
   "cell_type": "code",
   "execution_count": 121,
   "id": "4c2d5e3e-19c2-48f8-b710-2cd314b83a4c",
   "metadata": {},
   "outputs": [
    {
     "data": {
      "text/plain": [
       "{'SUCCtex': 'downregulation',\n",
       " 'O2tex': 'downregulation',\n",
       " 'MALS': 'upregulation',\n",
       " 'EX_k_e': 'upregulation',\n",
       " 'EX_nh4_e': 'upregulation',\n",
       " 'EX_pi_e': 'upregulation',\n",
       " 'EX_so4_e': 'upregulation',\n",
       " 'CO2tpp': 'upregulation',\n",
       " 'DHORTS': 'upregulation',\n",
       " 'ASAD': 'upregulation',\n",
       " 'ACONTa': 'knockout',\n",
       " 'G3PD2': 'upregulation'}"
      ]
     },
     "execution_count": 121,
     "metadata": {},
     "output_type": "execute_result"
    }
   ],
   "source": [
    "opt_dict"
   ]
  },
  {
   "cell_type": "code",
   "execution_count": 131,
   "id": "0960840f-52de-4bdd-8aad-b2fcc2c86362",
   "metadata": {},
   "outputs": [
    {
     "data": {
      "text/plain": [
       "'downregulation'"
      ]
     },
     "execution_count": 131,
     "metadata": {},
     "output_type": "execute_result"
    }
   ],
   "source": [
    "opt_dict[\"SUCCtex\"]"
   ]
  },
  {
   "cell_type": "code",
   "execution_count": 123,
   "id": "d5dbbfb3-8ac6-41ae-9da9-ed64c3b15343",
   "metadata": {},
   "outputs": [],
   "source": [
    "targetList = list(opt_df[\"Force Set\"])"
   ]
  },
  {
   "cell_type": "code",
   "execution_count": 126,
   "id": "3a08915b-3ad8-49e1-b5ae-4128076f5fa2",
   "metadata": {},
   "outputs": [],
   "source": [
    "from itertools import combinations"
   ]
  },
  {
   "cell_type": "code",
   "execution_count": 127,
   "id": "3b408971-1712-48a1-829f-0456240d2b63",
   "metadata": {},
   "outputs": [],
   "source": [
    "def combGen(targetList, targetNum=len(targetList)):\n",
    "    combList = []\n",
    "    for i in range(1,targetNum+1):\n",
    "        combList.extend(list(combinations(targetList, i)))\n",
    "    return combList"
   ]
  },
  {
   "cell_type": "code",
   "execution_count": 128,
   "id": "698dcbfd-4658-4557-8198-39ade436756e",
   "metadata": {},
   "outputs": [],
   "source": [
    "combList = combGen(targetList)"
   ]
  },
  {
   "cell_type": "code",
   "execution_count": 129,
   "id": "b5e958d4-3641-46e8-86fb-50cebc612cbd",
   "metadata": {},
   "outputs": [
    {
     "data": {
      "text/plain": [
       "4095"
      ]
     },
     "execution_count": 129,
     "metadata": {},
     "output_type": "execute_result"
    }
   ],
   "source": [
    "len(combList)"
   ]
  },
  {
   "cell_type": "markdown",
   "id": "94d95c42-827c-48b9-bf10-8a06f9324a58",
   "metadata": {},
   "source": [
    "### Set bounds"
   ]
  },
  {
   "cell_type": "code",
   "execution_count": 206,
   "id": "b7932442-e1ab-4158-ad2d-2b1a9e05546e",
   "metadata": {},
   "outputs": [
    {
     "data": {
      "text/plain": [
       "[('O2tex',), ('MALS',), ('EX_k_e',), ('EX_nh4_e',)]"
      ]
     },
     "execution_count": 206,
     "metadata": {},
     "output_type": "execute_result"
    }
   ],
   "source": [
    "combList[1:5]"
   ]
  },
  {
   "cell_type": "code",
   "execution_count": 227,
   "id": "badffe07-ec02-4694-a372-241384f434ff",
   "metadata": {
    "tags": []
   },
   "outputs": [],
   "source": [
    "fva_df = pd.DataFrame(columns=['minimum', 'maximum'])\n",
    "for comb in combList[:15]:\n",
    "    with model:\n",
    "        try:\n",
    "            for rec in comb:\n",
    "                if opt_dict[rec] == 'downregulation':\n",
    "                    l_bound, u_bound = setBounds(ori_b_df, rec, \"downregulation\")\n",
    "                    model.reactions.get_by_id(rec).lower_bound = l_bound\n",
    "                    model.reactions.get_by_id(rec).upper_bound = u_bound\n",
    "                elif opt_dict[rec] == 'upregulation':\n",
    "                    l_bound, u_bound = setBounds(ori_b_df, rec, \"upregulation\")\n",
    "                    model.reactions.get_by_id(rec).lower_bound = l_bound\n",
    "                    model.reactions.get_by_id(rec).upper_bound = u_bound\n",
    "                elif opt_dict[rec] == 'knockout':\n",
    "                    model.reactions.get_by_id(rec).knock_out()\n",
    "            temp_df = flux_variability_analysis(model, \"EX_succ_e\")\n",
    "            fva_df = pd.concat([fva_df, temp_df], join=\"inner\")\n",
    "        except:\n",
    "            temp_df = pd.DataFrame(columns=['minimum', 'maximum'])\n",
    "            temp_df.loc[\"EX_succ_e\"] = [0, 0]\n",
    "            fva_df = pd.concat([fva_df, temp_df], join=\"inner\")"
   ]
  },
  {
   "cell_type": "code",
   "execution_count": 228,
   "id": "c5e58acf-cb27-400a-ba20-fadfe947a4be",
   "metadata": {},
   "outputs": [
    {
     "data": {
      "text/html": [
       "<div>\n",
       "<style scoped>\n",
       "    .dataframe tbody tr th:only-of-type {\n",
       "        vertical-align: middle;\n",
       "    }\n",
       "\n",
       "    .dataframe tbody tr th {\n",
       "        vertical-align: top;\n",
       "    }\n",
       "\n",
       "    .dataframe thead th {\n",
       "        text-align: right;\n",
       "    }\n",
       "</style>\n",
       "<table border=\"1\" class=\"dataframe\">\n",
       "  <thead>\n",
       "    <tr style=\"text-align: right;\">\n",
       "      <th></th>\n",
       "      <th>minimum</th>\n",
       "      <th>maximum</th>\n",
       "    </tr>\n",
       "  </thead>\n",
       "  <tbody>\n",
       "    <tr>\n",
       "      <th>EX_succ_e</th>\n",
       "      <td>0</td>\n",
       "      <td>0</td>\n",
       "    </tr>\n",
       "    <tr>\n",
       "      <th>EX_succ_e</th>\n",
       "      <td>8.581712</td>\n",
       "      <td>8.581712</td>\n",
       "    </tr>\n",
       "    <tr>\n",
       "      <th>EX_succ_e</th>\n",
       "      <td>8.581702</td>\n",
       "      <td>8.581702</td>\n",
       "    </tr>\n",
       "    <tr>\n",
       "      <th>EX_succ_e</th>\n",
       "      <td>0</td>\n",
       "      <td>0</td>\n",
       "    </tr>\n",
       "    <tr>\n",
       "      <th>EX_succ_e</th>\n",
       "      <td>0</td>\n",
       "      <td>0</td>\n",
       "    </tr>\n",
       "    <tr>\n",
       "      <th>EX_succ_e</th>\n",
       "      <td>0</td>\n",
       "      <td>0</td>\n",
       "    </tr>\n",
       "    <tr>\n",
       "      <th>EX_succ_e</th>\n",
       "      <td>0</td>\n",
       "      <td>0</td>\n",
       "    </tr>\n",
       "    <tr>\n",
       "      <th>EX_succ_e</th>\n",
       "      <td>8.466396</td>\n",
       "      <td>8.466396</td>\n",
       "    </tr>\n",
       "    <tr>\n",
       "      <th>EX_succ_e</th>\n",
       "      <td>0</td>\n",
       "      <td>0</td>\n",
       "    </tr>\n",
       "    <tr>\n",
       "      <th>EX_succ_e</th>\n",
       "      <td>0</td>\n",
       "      <td>0</td>\n",
       "    </tr>\n",
       "    <tr>\n",
       "      <th>EX_succ_e</th>\n",
       "      <td>0</td>\n",
       "      <td>0</td>\n",
       "    </tr>\n",
       "    <tr>\n",
       "      <th>EX_succ_e</th>\n",
       "      <td>0</td>\n",
       "      <td>0</td>\n",
       "    </tr>\n",
       "    <tr>\n",
       "      <th>EX_succ_e</th>\n",
       "      <td>0</td>\n",
       "      <td>0</td>\n",
       "    </tr>\n",
       "    <tr>\n",
       "      <th>EX_succ_e</th>\n",
       "      <td>0</td>\n",
       "      <td>0</td>\n",
       "    </tr>\n",
       "    <tr>\n",
       "      <th>EX_succ_e</th>\n",
       "      <td>0</td>\n",
       "      <td>0</td>\n",
       "    </tr>\n",
       "  </tbody>\n",
       "</table>\n",
       "</div>"
      ],
      "text/plain": [
       "            minimum   maximum\n",
       "EX_succ_e         0         0\n",
       "EX_succ_e  8.581712  8.581712\n",
       "EX_succ_e  8.581702  8.581702\n",
       "EX_succ_e         0         0\n",
       "EX_succ_e         0         0\n",
       "EX_succ_e         0         0\n",
       "EX_succ_e         0         0\n",
       "EX_succ_e  8.466396  8.466396\n",
       "EX_succ_e         0         0\n",
       "EX_succ_e         0         0\n",
       "EX_succ_e         0         0\n",
       "EX_succ_e         0         0\n",
       "EX_succ_e         0         0\n",
       "EX_succ_e         0         0\n",
       "EX_succ_e         0         0"
      ]
     },
     "execution_count": 228,
     "metadata": {},
     "output_type": "execute_result"
    }
   ],
   "source": [
    "fva_df"
   ]
  },
  {
   "cell_type": "code",
   "execution_count": 226,
   "id": "da055f55-e8ec-4ab4-8090-dde1da59a8fb",
   "metadata": {},
   "outputs": [
    {
     "data": {
      "text/plain": [
       "minimum   maximum \n",
       "0.000000  0.000000    4088\n",
       "8.466385  8.466385       1\n",
       "          8.466385       1\n",
       "8.466396  8.466396       1\n",
       "          8.466396       1\n",
       "8.581702  8.581702       1\n",
       "          8.581702       1\n",
       "8.581712  8.581712       1\n",
       "dtype: int64"
      ]
     },
     "execution_count": 226,
     "metadata": {},
     "output_type": "execute_result"
    }
   ],
   "source": [
    "fva_df.value_counts()"
   ]
  },
  {
   "cell_type": "code",
   "execution_count": null,
   "id": "8a3afcfc-7fff-4988-9876-d5c41c1c730e",
   "metadata": {},
   "outputs": [],
   "source": []
  },
  {
   "cell_type": "code",
   "execution_count": 221,
   "id": "61d9321a-8a53-4066-8913-f8a2da8253a1",
   "metadata": {},
   "outputs": [],
   "source": [
    "temp_df = pd.DataFrame(columns=['minimum', 'maximum'])"
   ]
  },
  {
   "cell_type": "code",
   "execution_count": 222,
   "id": "3542bf97-7873-48ae-94d2-8c2a385bc4aa",
   "metadata": {},
   "outputs": [],
   "source": [
    "temp_df.loc[\"EX_succ_e\"] = [0, 0]"
   ]
  },
  {
   "cell_type": "code",
   "execution_count": 223,
   "id": "088b2ad2-a66f-4f5c-b19a-56e1eeb80547",
   "metadata": {},
   "outputs": [
    {
     "data": {
      "text/html": [
       "<div>\n",
       "<style scoped>\n",
       "    .dataframe tbody tr th:only-of-type {\n",
       "        vertical-align: middle;\n",
       "    }\n",
       "\n",
       "    .dataframe tbody tr th {\n",
       "        vertical-align: top;\n",
       "    }\n",
       "\n",
       "    .dataframe thead th {\n",
       "        text-align: right;\n",
       "    }\n",
       "</style>\n",
       "<table border=\"1\" class=\"dataframe\">\n",
       "  <thead>\n",
       "    <tr style=\"text-align: right;\">\n",
       "      <th></th>\n",
       "      <th>minimum</th>\n",
       "      <th>maximum</th>\n",
       "    </tr>\n",
       "  </thead>\n",
       "  <tbody>\n",
       "    <tr>\n",
       "      <th>EX_succ_e</th>\n",
       "      <td>0</td>\n",
       "      <td>0</td>\n",
       "    </tr>\n",
       "  </tbody>\n",
       "</table>\n",
       "</div>"
      ],
      "text/plain": [
       "           minimum  maximum\n",
       "EX_succ_e        0        0"
      ]
     },
     "execution_count": 223,
     "metadata": {},
     "output_type": "execute_result"
    }
   ],
   "source": [
    "temp_df"
   ]
  },
  {
   "cell_type": "markdown",
   "id": "f381883f-afb6-4afb-8587-98a8e33e84d1",
   "metadata": {},
   "source": [
    "### The ways to handle expetion"
   ]
  },
  {
   "cell_type": "markdown",
   "id": "a2c55374-661c-4d75-b290-180206d121b2",
   "metadata": {},
   "source": [
    "# Safety check before setting up FVA.\n",
    "--> 188         model.slim_optimize(\n",
    "    189             error_value=None,\n",
    "    190             message=\"There is no optimal solution for the chosen objective!\",\n"
   ]
  },
  {
   "cell_type": "code",
   "execution_count": null,
   "id": "b4c24250-b28a-4029-9747-0bbbbba1d1d0",
   "metadata": {},
   "outputs": [],
   "source": []
  },
  {
   "cell_type": "code",
   "execution_count": 208,
   "id": "e979f409-d4fa-4bcc-a7d6-af28adc1fa5e",
   "metadata": {},
   "outputs": [
    {
     "data": {
      "text/html": [
       "<div>\n",
       "<style scoped>\n",
       "    .dataframe tbody tr th:only-of-type {\n",
       "        vertical-align: middle;\n",
       "    }\n",
       "\n",
       "    .dataframe tbody tr th {\n",
       "        vertical-align: top;\n",
       "    }\n",
       "\n",
       "    .dataframe thead th {\n",
       "        text-align: right;\n",
       "    }\n",
       "</style>\n",
       "<table border=\"1\" class=\"dataframe\">\n",
       "  <thead>\n",
       "    <tr style=\"text-align: right;\">\n",
       "      <th></th>\n",
       "      <th>minimum</th>\n",
       "      <th>maximum</th>\n",
       "    </tr>\n",
       "  </thead>\n",
       "  <tbody>\n",
       "  </tbody>\n",
       "</table>\n",
       "</div>"
      ],
      "text/plain": [
       "Empty DataFrame\n",
       "Columns: [minimum, maximum]\n",
       "Index: []"
      ]
     },
     "execution_count": 208,
     "metadata": {},
     "output_type": "execute_result"
    }
   ],
   "source": [
    "fva_df"
   ]
  },
  {
   "cell_type": "code",
   "execution_count": 184,
   "id": "f611bfc8-6fbc-4991-b7d1-195c0f3a9d8e",
   "metadata": {
    "collapsed": true,
    "jupyter": {
     "outputs_hidden": true
    },
    "tags": []
   },
   "outputs": [
    {
     "data": {
      "text/html": [
       "\n",
       "        <table>\n",
       "            <tr>\n",
       "                <td><strong>Reaction identifier</strong></td><td>G3PD2</td>\n",
       "            </tr><tr>\n",
       "                <td><strong>Name</strong></td><td>Glycerol-3-phosphate dehydrogenase (NADP)</td>\n",
       "            </tr><tr>\n",
       "                <td><strong>Memory address</strong></td>\n",
       "                <td>0x7fee0e7e7bb0</td>\n",
       "            </tr><tr>\n",
       "                <td><strong>Stoichiometry</strong></td>\n",
       "                <td>\n",
       "                    <p style='text-align:right'>glyc3p_c + nadp_c <=> dhap_c + h_c + nadph_c</p>\n",
       "                    <p style='text-align:right'>Glycerol 3-phosphate + Nicotinamide adenine dinucleotide phosphate <=> Dihydroxyacetone phosphate + H+ + Nicotinamide adenine dinucleotide phosphate - reduced</p>\n",
       "                </td>\n",
       "            </tr><tr>\n",
       "                <td><strong>GPR</strong></td><td>b3608</td>\n",
       "            </tr><tr>\n",
       "                <td><strong>Lower bound</strong></td><td>-1000.0</td>\n",
       "            </tr><tr>\n",
       "                <td><strong>Upper bound</strong></td><td>1000.0</td>\n",
       "            </tr>\n",
       "        </table>\n",
       "        "
      ],
      "text/plain": [
       "<Reaction G3PD2 at 0x7fee0e7e7bb0>"
      ]
     },
     "execution_count": 184,
     "metadata": {},
     "output_type": "execute_result"
    }
   ],
   "source": [
    "model.reactions.get_by_id(\"G3PD2\")"
   ]
  },
  {
   "cell_type": "code",
   "execution_count": 185,
   "id": "69c354ea-925c-464d-b593-9996bda8b21d",
   "metadata": {},
   "outputs": [
    {
     "data": {
      "text/html": [
       "<div>\n",
       "<style scoped>\n",
       "    .dataframe tbody tr th:only-of-type {\n",
       "        vertical-align: middle;\n",
       "    }\n",
       "\n",
       "    .dataframe tbody tr th {\n",
       "        vertical-align: top;\n",
       "    }\n",
       "\n",
       "    .dataframe thead th {\n",
       "        text-align: right;\n",
       "    }\n",
       "</style>\n",
       "<table border=\"1\" class=\"dataframe\">\n",
       "  <thead>\n",
       "    <tr style=\"text-align: right;\">\n",
       "      <th></th>\n",
       "      <th>minimum</th>\n",
       "      <th>maximum</th>\n",
       "    </tr>\n",
       "  </thead>\n",
       "  <tbody>\n",
       "    <tr>\n",
       "      <th>G3PD2</th>\n",
       "      <td>-0.068124</td>\n",
       "      <td>-0.068124</td>\n",
       "    </tr>\n",
       "  </tbody>\n",
       "</table>\n",
       "</div>"
      ],
      "text/plain": [
       "        minimum   maximum\n",
       "G3PD2 -0.068124 -0.068124"
      ]
     },
     "execution_count": 185,
     "metadata": {},
     "output_type": "execute_result"
    }
   ],
   "source": [
    "flux_variability_analysis(model, \"G3PD2\")"
   ]
  },
  {
   "cell_type": "code",
   "execution_count": 186,
   "id": "8ac013e2-141e-44b8-85eb-05a0621c49d4",
   "metadata": {},
   "outputs": [],
   "source": [
    "l_bound, u_bound = setBounds(ori_b_df, \"G3PD2\", \"upregulation\")\n",
    "model.reactions.get_by_id(\"G3PD2\").lower_bound = -0.068124 * 2\n",
    "model.reactions.get_by_id(\"G3PD2\").upper_bound = -0.068124 * 2"
   ]
  },
  {
   "cell_type": "code",
   "execution_count": 189,
   "id": "55807053-8ea2-4532-b371-7e87f06a46bd",
   "metadata": {},
   "outputs": [
    {
     "data": {
      "text/plain": [
       "-0.136248"
      ]
     },
     "execution_count": 189,
     "metadata": {},
     "output_type": "execute_result"
    }
   ],
   "source": [
    "model.reactions.get_by_id(\"G3PD2\").lower_bound"
   ]
  },
  {
   "cell_type": "code",
   "execution_count": 191,
   "id": "95c5e7eb-f1af-4f5b-9753-3b11ce4c93ac",
   "metadata": {},
   "outputs": [
    {
     "data": {
      "text/html": [
       "<div>\n",
       "<style scoped>\n",
       "    .dataframe tbody tr th:only-of-type {\n",
       "        vertical-align: middle;\n",
       "    }\n",
       "\n",
       "    .dataframe tbody tr th {\n",
       "        vertical-align: top;\n",
       "    }\n",
       "\n",
       "    .dataframe thead th {\n",
       "        text-align: right;\n",
       "    }\n",
       "</style>\n",
       "<table border=\"1\" class=\"dataframe\">\n",
       "  <thead>\n",
       "    <tr style=\"text-align: right;\">\n",
       "      <th></th>\n",
       "      <th>minimum</th>\n",
       "      <th>maximum</th>\n",
       "    </tr>\n",
       "  </thead>\n",
       "  <tbody>\n",
       "    <tr>\n",
       "      <th>EX_succ_e</th>\n",
       "      <td>8.576621</td>\n",
       "      <td>8.576621</td>\n",
       "    </tr>\n",
       "  </tbody>\n",
       "</table>\n",
       "</div>"
      ],
      "text/plain": [
       "            minimum   maximum\n",
       "EX_succ_e  8.576621  8.576621"
      ]
     },
     "execution_count": 191,
     "metadata": {},
     "output_type": "execute_result"
    }
   ],
   "source": [
    "flux_variability_analysis(model, \"EX_succ_e\")"
   ]
  },
  {
   "cell_type": "code",
   "execution_count": 192,
   "id": "22dcb921-6ffc-4e1f-9fda-75c4f2f9fcd8",
   "metadata": {},
   "outputs": [
    {
     "data": {
      "text/html": [
       "<div>\n",
       "<style scoped>\n",
       "    .dataframe tbody tr th:only-of-type {\n",
       "        vertical-align: middle;\n",
       "    }\n",
       "\n",
       "    .dataframe tbody tr th {\n",
       "        vertical-align: top;\n",
       "    }\n",
       "\n",
       "    .dataframe thead th {\n",
       "        text-align: right;\n",
       "    }\n",
       "</style>\n",
       "<table border=\"1\" class=\"dataframe\">\n",
       "  <thead>\n",
       "    <tr style=\"text-align: right;\">\n",
       "      <th></th>\n",
       "      <th>minimum</th>\n",
       "      <th>maximum</th>\n",
       "    </tr>\n",
       "  </thead>\n",
       "  <tbody>\n",
       "    <tr>\n",
       "      <th>EX_succ_e</th>\n",
       "      <td>4.290856</td>\n",
       "      <td>4.290856</td>\n",
       "    </tr>\n",
       "    <tr>\n",
       "      <th>EX_succ_e</th>\n",
       "      <td>8.581712</td>\n",
       "      <td>8.581712</td>\n",
       "    </tr>\n",
       "    <tr>\n",
       "      <th>EX_succ_e</th>\n",
       "      <td>8.581711</td>\n",
       "      <td>8.581711</td>\n",
       "    </tr>\n",
       "    <tr>\n",
       "      <th>EX_succ_e</th>\n",
       "      <td>0.041589</td>\n",
       "      <td>0.041589</td>\n",
       "    </tr>\n",
       "    <tr>\n",
       "      <th>EX_succ_e</th>\n",
       "      <td>7.489330</td>\n",
       "      <td>7.489330</td>\n",
       "    </tr>\n",
       "    <tr>\n",
       "      <th>EX_succ_e</th>\n",
       "      <td>7.888688</td>\n",
       "      <td>7.888688</td>\n",
       "    </tr>\n",
       "    <tr>\n",
       "      <th>EX_succ_e</th>\n",
       "      <td>8.485397</td>\n",
       "      <td>8.485397</td>\n",
       "    </tr>\n",
       "    <tr>\n",
       "      <th>EX_succ_e</th>\n",
       "      <td>7.191852</td>\n",
       "      <td>7.191852</td>\n",
       "    </tr>\n",
       "    <tr>\n",
       "      <th>EX_succ_e</th>\n",
       "      <td>8.421930</td>\n",
       "      <td>8.421930</td>\n",
       "    </tr>\n",
       "    <tr>\n",
       "      <th>EX_succ_e</th>\n",
       "      <td>8.466130</td>\n",
       "      <td>8.466130</td>\n",
       "    </tr>\n",
       "  </tbody>\n",
       "</table>\n",
       "</div>"
      ],
      "text/plain": [
       "            minimum   maximum\n",
       "EX_succ_e  4.290856  4.290856\n",
       "EX_succ_e  8.581712  8.581712\n",
       "EX_succ_e  8.581711  8.581711\n",
       "EX_succ_e  0.041589  0.041589\n",
       "EX_succ_e  7.489330  7.489330\n",
       "EX_succ_e  7.888688  7.888688\n",
       "EX_succ_e  8.485397  8.485397\n",
       "EX_succ_e  7.191852  7.191852\n",
       "EX_succ_e  8.421930  8.421930\n",
       "EX_succ_e  8.466130  8.466130"
      ]
     },
     "execution_count": 192,
     "metadata": {},
     "output_type": "execute_result"
    }
   ],
   "source": [
    "fva_df"
   ]
  },
  {
   "cell_type": "code",
   "execution_count": 183,
   "id": "fbc344da-f894-4669-b02f-7cd7e97518a5",
   "metadata": {},
   "outputs": [
    {
     "data": {
      "text/plain": [
       "('G3PD2',)"
      ]
     },
     "execution_count": 183,
     "metadata": {},
     "output_type": "execute_result"
    }
   ],
   "source": [
    "combList[11]"
   ]
  },
  {
   "cell_type": "code",
   "execution_count": null,
   "id": "97ad1561-7bd6-42e5-97d8-6e735b5968ef",
   "metadata": {},
   "outputs": [],
   "source": []
  },
  {
   "cell_type": "markdown",
   "id": "6445ffcd-c4b7-40ab-a05c-3e8874ccbb07",
   "metadata": {},
   "source": [
    "how much would change the flux? x2?"
   ]
  },
  {
   "cell_type": "markdown",
   "id": "cef7d239-11b6-4974-9225-d1843e318b9d",
   "metadata": {},
   "source": [
    "The ori bound!!!"
   ]
  },
  {
   "cell_type": "code",
   "execution_count": 193,
   "id": "b93d71ab-3463-4bb6-9292-52e1ab442fd0",
   "metadata": {},
   "outputs": [],
   "source": [
    "def setBounds(ori_b_df, rec ,regulation):\n",
    "    if regulation == \"downregulation\":\n",
    "        if ori_b_df.loc[rec][\"minimum\"] <= ori_b_df.loc[rec][\"maximum\"]:\n",
    "            if ori_b_df.loc[rec][\"minimum\"] or ori_b_df.loc[rec][\"maximum\"] < 0:\n",
    "                l_bound = ori_b_df.loc[rec][\"minimum\"] * 2\n",
    "                u_bound = ori_b_df.loc[rec][\"maximum\"] * 2\n",
    "            else:\n",
    "                l_bound = ori_b_df.loc[rec][\"minimum\"] * 0.5\n",
    "                u_bound = ori_b_df.loc[rec][\"maximum\"] * 0.5\n",
    "        else:\n",
    "            if ori_b_df.loc[rec][\"minimum\"] or ori_b_df.loc[rec][\"maximum\"] < 0:\n",
    "                l_bound = ori_b_df.loc[rec][\"maximum\"] * 2\n",
    "                u_bound = ori_b_df.loc[rec][\"minimum\"] * 2\n",
    "            else:\n",
    "                l_bound = ori_b_df.loc[rec][\"maximum\"] * 0.5\n",
    "                u_bound = ori_b_df.loc[rec][\"minimum\"] * 0.5\n",
    "    elif regulation == \"upregulation\":\n",
    "        if ori_b_df.loc[rec][\"minimum\"] <= ori_b_df.loc[rec][\"maximum\"]:\n",
    "            if ori_b_df.loc[rec][\"minimum\"] or ori_b_df.loc[rec][\"maximum\"] < 0:\n",
    "                l_bound = ori_b_df.loc[rec][\"minimum\"] * 0.5\n",
    "                u_bound = ori_b_df.loc[rec][\"maximum\"] * 0.5\n",
    "            else:\n",
    "                l_bound = ori_b_df.loc[rec][\"minimum\"] * 2\n",
    "                u_bound = ori_b_df.loc[rec][\"maximum\"] * 2\n",
    "        else:\n",
    "            if ori_b_df.loc[rec][\"minimum\"] or ori_b_df.loc[rec][\"maximum\"] < 0:\n",
    "                l_bound = ori_b_df.loc[rec][\"minimum\"] * 0.5\n",
    "                u_bound = ori_b_df.loc[rec][\"maximum\"] * 0.5\n",
    "            else:\n",
    "                l_bound = ori_b_df.loc[rec][\"minimum\"] * 2\n",
    "                u_bound = ori_b_df.loc[rec][\"maximum\"] * 2\n",
    "    return l_bound, u_bound"
   ]
  },
  {
   "cell_type": "code",
   "execution_count": 198,
   "id": "e40c501c-8097-4bb6-baa2-e9e5e56c5bf5",
   "metadata": {},
   "outputs": [],
   "source": [
    "l_bound, u_bound = setBounds(ori_b_df, \"G3PD2\", \"upregulation\")"
   ]
  },
  {
   "cell_type": "code",
   "execution_count": 199,
   "id": "092e5a6b-f4a7-48b0-bd20-14ad7d26df29",
   "metadata": {},
   "outputs": [
    {
     "data": {
      "text/plain": [
       "-0.034061860000415965"
      ]
     },
     "execution_count": 199,
     "metadata": {},
     "output_type": "execute_result"
    }
   ],
   "source": [
    "l_bound"
   ]
  },
  {
   "cell_type": "code",
   "execution_count": null,
   "id": "d0ba3e2b-6a8e-4313-ac50-e4d324f2d0a2",
   "metadata": {},
   "outputs": [],
   "source": []
  }
 ],
 "metadata": {
  "kernelspec": {
   "display_name": "COBRApy",
   "language": "python",
   "name": "cobra"
  },
  "language_info": {
   "codemirror_mode": {
    "name": "ipython",
    "version": 3
   },
   "file_extension": ".py",
   "mimetype": "text/x-python",
   "name": "python",
   "nbconvert_exporter": "python",
   "pygments_lexer": "ipython3",
   "version": "3.8.12"
  }
 },
 "nbformat": 4,
 "nbformat_minor": 5
}
