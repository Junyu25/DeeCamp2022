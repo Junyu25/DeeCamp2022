{
 "cells": [
  {
   "cell_type": "code",
   "execution_count": null,
   "id": "265a03cb-17ef-4217-8135-478eae5d94a4",
   "metadata": {},
   "outputs": [],
   "source": []
  },
  {
   "cell_type": "code",
   "execution_count": 1,
   "id": "0fb922eb-7a53-4e2d-ba43-66d7f040c170",
   "metadata": {},
   "outputs": [],
   "source": [
    "import cobra"
   ]
  },
  {
   "cell_type": "code",
   "execution_count": 2,
   "id": "8cb42bac-1bf2-4be1-bb63-68aa9ee09c43",
   "metadata": {},
   "outputs": [],
   "source": [
    "import pandas as pd"
   ]
  },
  {
   "cell_type": "code",
   "execution_count": 3,
   "id": "0f9ab8f8-3bf0-4d27-86d8-fa032fa2c762",
   "metadata": {},
   "outputs": [],
   "source": [
    "from cobra.io import load_model"
   ]
  },
  {
   "cell_type": "code",
   "execution_count": 4,
   "id": "4b3bbe47-2d7e-44c2-a6ed-cbe1fb0f64f8",
   "metadata": {},
   "outputs": [],
   "source": [
    "from cobra.flux_analysis import flux_variability_analysis"
   ]
  },
  {
   "cell_type": "code",
   "execution_count": 84,
   "id": "b157b896-38a2-49d3-82c1-3360a3944479",
   "metadata": {},
   "outputs": [],
   "source": [
    "model = load_model(\"iJO1366\") #no need to import from matlab"
   ]
  },
  {
   "cell_type": "code",
   "execution_count": null,
   "id": "1f2bfb35-ac78-4e43-a479-8b2e447a4ba4",
   "metadata": {},
   "outputs": [],
   "source": []
  },
  {
   "cell_type": "code",
   "execution_count": 85,
   "id": "9508eae7-983d-4a05-ac68-75c79737074e",
   "metadata": {},
   "outputs": [],
   "source": [
    "biomass = \"BIOMASS_Ec_iJO1366_core_53p95M\""
   ]
  },
  {
   "cell_type": "code",
   "execution_count": 112,
   "id": "51a5b46b-17c2-4aec-a55c-4de6d6dcd2e6",
   "metadata": {},
   "outputs": [],
   "source": [
    "model.objective = biomass"
   ]
  },
  {
   "cell_type": "code",
   "execution_count": 113,
   "id": "7100c2c6-0b40-440d-a86b-3f82a7f59aff",
   "metadata": {},
   "outputs": [],
   "source": [
    "maxG = model.optimize().objective_value"
   ]
  },
  {
   "cell_type": "code",
   "execution_count": 114,
   "id": "61c56f85-4bf0-43b3-ab66-282a65819aa3",
   "metadata": {},
   "outputs": [
    {
     "data": {
      "text/plain": [
       "0.9823718127269768"
      ]
     },
     "execution_count": 114,
     "metadata": {},
     "output_type": "execute_result"
    }
   ],
   "source": [
    "maxG"
   ]
  },
  {
   "cell_type": "markdown",
   "id": "256918cb-d5cd-4eef-83c0-236b48d06599",
   "metadata": {},
   "source": [
    "What I should change is the init flux of WT"
   ]
  },
  {
   "cell_type": "code",
   "execution_count": 115,
   "id": "ef9ba7fc-0f66-40a5-8f69-d150b287dd62",
   "metadata": {},
   "outputs": [
    {
     "data": {
      "text/plain": [
       "17.57893353025448"
      ]
     },
     "execution_count": 115,
     "metadata": {},
     "output_type": "execute_result"
    }
   ],
   "source": [
    "model.reactions.get_by_id(\"O2tex\").summary().to_frame().loc[\"O2tex\", \"flux\"]"
   ]
  },
  {
   "cell_type": "code",
   "execution_count": 116,
   "id": "041db995-3ebd-491f-903b-c92cf11cc71c",
   "metadata": {},
   "outputs": [],
   "source": [
    "initFluxList = []\n",
    "for rec in optList:\n",
    "    initFlux = model.reactions.get_by_id(rec).summary().to_frame().loc[rec, \"flux\"]\n",
    "    initFluxList.append(initFlux)"
   ]
  },
  {
   "cell_type": "code",
   "execution_count": 117,
   "id": "e19500e5-5508-4b3a-bd95-6e00a438efcd",
   "metadata": {},
   "outputs": [
    {
     "data": {
      "text/plain": [
       "[-0.24776399488787101,\n",
       " -0.442588955159698,\n",
       " 0.0,\n",
       " 0.0,\n",
       " -0.9476263040826025,\n",
       " -0.442588955159698,\n",
       " -0.858857222341002,\n",
       " -0.28540750037975604,\n",
       " 0.9476263040826025,\n",
       " -17.57893353025448]"
      ]
     },
     "execution_count": 117,
     "metadata": {},
     "output_type": "execute_result"
    }
   ],
   "source": [
    "initFluxList"
   ]
  },
  {
   "cell_type": "code",
   "execution_count": 118,
   "id": "b8af9e90-17ca-4bd8-9305-0776cd0c7b2d",
   "metadata": {},
   "outputs": [],
   "source": [
    "init_df = pd.DataFrame()"
   ]
  },
  {
   "cell_type": "code",
   "execution_count": 119,
   "id": "5cb4db97-ccc5-4807-9b7b-735c541af0f7",
   "metadata": {},
   "outputs": [],
   "source": [
    "init_df[\"rec\"] = optList\n",
    "init_df[\"initFlux\"] = initFluxList"
   ]
  },
  {
   "cell_type": "code",
   "execution_count": 120,
   "id": "0692b034-9e15-4e73-b00e-9b1ee5049728",
   "metadata": {},
   "outputs": [
    {
     "data": {
      "text/html": [
       "<div>\n",
       "<style scoped>\n",
       "    .dataframe tbody tr th:only-of-type {\n",
       "        vertical-align: middle;\n",
       "    }\n",
       "\n",
       "    .dataframe tbody tr th {\n",
       "        vertical-align: top;\n",
       "    }\n",
       "\n",
       "    .dataframe thead th {\n",
       "        text-align: right;\n",
       "    }\n",
       "</style>\n",
       "<table border=\"1\" class=\"dataframe\">\n",
       "  <thead>\n",
       "    <tr style=\"text-align: right;\">\n",
       "      <th></th>\n",
       "      <th>rec</th>\n",
       "      <th>initFlux</th>\n",
       "    </tr>\n",
       "  </thead>\n",
       "  <tbody>\n",
       "    <tr>\n",
       "      <th>0</th>\n",
       "      <td>EX_so4_e</td>\n",
       "      <td>-0.247764</td>\n",
       "    </tr>\n",
       "    <tr>\n",
       "      <th>1</th>\n",
       "      <td>IPPMIb</td>\n",
       "      <td>-0.442589</td>\n",
       "    </tr>\n",
       "    <tr>\n",
       "      <th>2</th>\n",
       "      <td>SUCCtex</td>\n",
       "      <td>0.000000</td>\n",
       "    </tr>\n",
       "    <tr>\n",
       "      <th>3</th>\n",
       "      <td>EX_ac_e</td>\n",
       "      <td>0.000000</td>\n",
       "    </tr>\n",
       "    <tr>\n",
       "      <th>4</th>\n",
       "      <td>EX_pi_e</td>\n",
       "      <td>-0.947626</td>\n",
       "    </tr>\n",
       "    <tr>\n",
       "      <th>5</th>\n",
       "      <td>IPPMIa</td>\n",
       "      <td>-0.442589</td>\n",
       "    </tr>\n",
       "    <tr>\n",
       "      <th>6</th>\n",
       "      <td>KARA1</td>\n",
       "      <td>-0.858857</td>\n",
       "    </tr>\n",
       "    <tr>\n",
       "      <th>7</th>\n",
       "      <td>ILETA</td>\n",
       "      <td>-0.285408</td>\n",
       "    </tr>\n",
       "    <tr>\n",
       "      <th>8</th>\n",
       "      <td>PItex</td>\n",
       "      <td>0.947626</td>\n",
       "    </tr>\n",
       "    <tr>\n",
       "      <th>9</th>\n",
       "      <td>EX_o2_e</td>\n",
       "      <td>-17.578934</td>\n",
       "    </tr>\n",
       "  </tbody>\n",
       "</table>\n",
       "</div>"
      ],
      "text/plain": [
       "        rec   initFlux\n",
       "0  EX_so4_e  -0.247764\n",
       "1    IPPMIb  -0.442589\n",
       "2   SUCCtex   0.000000\n",
       "3   EX_ac_e   0.000000\n",
       "4   EX_pi_e  -0.947626\n",
       "5    IPPMIa  -0.442589\n",
       "6     KARA1  -0.858857\n",
       "7     ILETA  -0.285408\n",
       "8     PItex   0.947626\n",
       "9   EX_o2_e -17.578934"
      ]
     },
     "execution_count": 120,
     "metadata": {},
     "output_type": "execute_result"
    }
   ],
   "source": [
    "init_df"
   ]
  },
  {
   "cell_type": "code",
   "execution_count": null,
   "id": "09ca393e-3c68-4a97-93cb-8e9a0daf6388",
   "metadata": {},
   "outputs": [],
   "source": []
  },
  {
   "cell_type": "code",
   "execution_count": 121,
   "id": "7ee80ec1-a020-474d-a453-8c04d4137414",
   "metadata": {},
   "outputs": [],
   "source": [
    "model.reactions.get_by_id(biomass).lower_bound = maxG*0.5 #min to half of max growth rate"
   ]
  },
  {
   "cell_type": "code",
   "execution_count": 122,
   "id": "c626e450-232a-4ed0-840b-d6de665bd68c",
   "metadata": {},
   "outputs": [],
   "source": [
    "model.objective = 'EX_succ_e'"
   ]
  },
  {
   "cell_type": "code",
   "execution_count": 124,
   "id": "ffc0cb98-883b-4779-9bcd-88cae89db1ab",
   "metadata": {
    "tags": []
   },
   "outputs": [
    {
     "data": {
      "text/html": [
       "<div>\n",
       "<style scoped>\n",
       "    .dataframe tbody tr th:only-of-type {\n",
       "        vertical-align: middle;\n",
       "    }\n",
       "\n",
       "    .dataframe tbody tr th {\n",
       "        vertical-align: top;\n",
       "    }\n",
       "\n",
       "    .dataframe thead th {\n",
       "        text-align: right;\n",
       "    }\n",
       "</style>\n",
       "<table border=\"1\" class=\"dataframe\">\n",
       "  <thead>\n",
       "    <tr style=\"text-align: right;\">\n",
       "      <th></th>\n",
       "      <th>minimum</th>\n",
       "      <th>maximum</th>\n",
       "    </tr>\n",
       "  </thead>\n",
       "  <tbody>\n",
       "    <tr>\n",
       "      <th>EX_succ_e</th>\n",
       "      <td>8.56108</td>\n",
       "      <td>8.56108</td>\n",
       "    </tr>\n",
       "  </tbody>\n",
       "</table>\n",
       "</div>"
      ],
      "text/plain": [
       "           minimum  maximum\n",
       "EX_succ_e  8.56108  8.56108"
      ]
     },
     "execution_count": 124,
     "metadata": {},
     "output_type": "execute_result"
    }
   ],
   "source": [
    "flux_variability_analysis(model, \"EX_succ_e\", loopless=True)"
   ]
  },
  {
   "cell_type": "code",
   "execution_count": 125,
   "id": "1938e73a-4d59-4a3e-af03-982d6b6e4564",
   "metadata": {},
   "outputs": [],
   "source": [
    "optFluxList = []\n",
    "for rec in optList:\n",
    "    optFlux = model.reactions.get_by_id(rec).summary().to_frame().loc[rec, \"flux\"]\n",
    "    optFluxList.append(optFlux)"
   ]
  },
  {
   "cell_type": "code",
   "execution_count": 126,
   "id": "6ec18b2e-3e23-4c56-91ad-63242a96d53f",
   "metadata": {},
   "outputs": [],
   "source": [
    "init_df[\"optFlux\"] = optFluxList"
   ]
  },
  {
   "cell_type": "code",
   "execution_count": 127,
   "id": "26c0c967-4c3f-4907-b5f2-e579efa7eb88",
   "metadata": {},
   "outputs": [
    {
     "data": {
      "text/html": [
       "<div>\n",
       "<style scoped>\n",
       "    .dataframe tbody tr th:only-of-type {\n",
       "        vertical-align: middle;\n",
       "    }\n",
       "\n",
       "    .dataframe tbody tr th {\n",
       "        vertical-align: top;\n",
       "    }\n",
       "\n",
       "    .dataframe thead th {\n",
       "        text-align: right;\n",
       "    }\n",
       "</style>\n",
       "<table border=\"1\" class=\"dataframe\">\n",
       "  <thead>\n",
       "    <tr style=\"text-align: right;\">\n",
       "      <th></th>\n",
       "      <th>rec</th>\n",
       "      <th>initFlux</th>\n",
       "      <th>optFlux</th>\n",
       "    </tr>\n",
       "  </thead>\n",
       "  <tbody>\n",
       "    <tr>\n",
       "      <th>0</th>\n",
       "      <td>EX_so4_e</td>\n",
       "      <td>-0.247764</td>\n",
       "      <td>-0.123882</td>\n",
       "    </tr>\n",
       "    <tr>\n",
       "      <th>1</th>\n",
       "      <td>IPPMIb</td>\n",
       "      <td>-0.442589</td>\n",
       "      <td>-0.221294</td>\n",
       "    </tr>\n",
       "    <tr>\n",
       "      <th>2</th>\n",
       "      <td>SUCCtex</td>\n",
       "      <td>0.000000</td>\n",
       "      <td>-8.561080</td>\n",
       "    </tr>\n",
       "    <tr>\n",
       "      <th>3</th>\n",
       "      <td>EX_ac_e</td>\n",
       "      <td>0.000000</td>\n",
       "      <td>0.000000</td>\n",
       "    </tr>\n",
       "    <tr>\n",
       "      <th>4</th>\n",
       "      <td>EX_pi_e</td>\n",
       "      <td>-0.947626</td>\n",
       "      <td>-0.473813</td>\n",
       "    </tr>\n",
       "    <tr>\n",
       "      <th>5</th>\n",
       "      <td>IPPMIa</td>\n",
       "      <td>-0.442589</td>\n",
       "      <td>-0.221294</td>\n",
       "    </tr>\n",
       "    <tr>\n",
       "      <th>6</th>\n",
       "      <td>KARA1</td>\n",
       "      <td>-0.858857</td>\n",
       "      <td>-0.429429</td>\n",
       "    </tr>\n",
       "    <tr>\n",
       "      <th>7</th>\n",
       "      <td>ILETA</td>\n",
       "      <td>-0.285408</td>\n",
       "      <td>-0.142704</td>\n",
       "    </tr>\n",
       "    <tr>\n",
       "      <th>8</th>\n",
       "      <td>PItex</td>\n",
       "      <td>0.947626</td>\n",
       "      <td>0.473813</td>\n",
       "    </tr>\n",
       "    <tr>\n",
       "      <th>9</th>\n",
       "      <td>EX_o2_e</td>\n",
       "      <td>-17.578934</td>\n",
       "      <td>-8.825687</td>\n",
       "    </tr>\n",
       "  </tbody>\n",
       "</table>\n",
       "</div>"
      ],
      "text/plain": [
       "        rec   initFlux   optFlux\n",
       "0  EX_so4_e  -0.247764 -0.123882\n",
       "1    IPPMIb  -0.442589 -0.221294\n",
       "2   SUCCtex   0.000000 -8.561080\n",
       "3   EX_ac_e   0.000000  0.000000\n",
       "4   EX_pi_e  -0.947626 -0.473813\n",
       "5    IPPMIa  -0.442589 -0.221294\n",
       "6     KARA1  -0.858857 -0.429429\n",
       "7     ILETA  -0.285408 -0.142704\n",
       "8     PItex   0.947626  0.473813\n",
       "9   EX_o2_e -17.578934 -8.825687"
      ]
     },
     "execution_count": 127,
     "metadata": {},
     "output_type": "execute_result"
    }
   ],
   "source": [
    "init_df"
   ]
  },
  {
   "cell_type": "code",
   "execution_count": null,
   "id": "2e5de85a-ead3-4f6f-b329-8e755f05eed7",
   "metadata": {},
   "outputs": [],
   "source": []
  },
  {
   "cell_type": "code",
   "execution_count": null,
   "id": "d56ff396-56d5-46fd-ba01-773023341ba0",
   "metadata": {},
   "outputs": [],
   "source": []
  },
  {
   "cell_type": "code",
   "execution_count": null,
   "id": "a935b5e5-a9fd-4286-b594-e1fa042e5f2f",
   "metadata": {},
   "outputs": [],
   "source": []
  },
  {
   "cell_type": "markdown",
   "id": "ff90aadf-3024-4863-ad3c-5a1bda938d9d",
   "metadata": {},
   "source": [
    "The max and min of Foce set should be the WT"
   ]
  },
  {
   "cell_type": "code",
   "execution_count": 107,
   "id": "befa9d2c-276c-4122-9cbd-7ed25dc098d9",
   "metadata": {},
   "outputs": [],
   "source": [
    "opt_df = pd.read_csv(\"OptForce_Ecoli_Suc_Comb6_6_filter.csv\")"
   ]
  },
  {
   "cell_type": "code",
   "execution_count": 108,
   "id": "d5145f65-dedd-4566-8033-174745106265",
   "metadata": {},
   "outputs": [],
   "source": [
    "opt_dict = dict(zip(opt_df[\"Force Set\"], opt_df[\"Type of regulation\"]))"
   ]
  },
  {
   "cell_type": "code",
   "execution_count": 111,
   "id": "04e116b2-b6dd-4d6a-ad57-971feabbd00a",
   "metadata": {},
   "outputs": [
    {
     "data": {
      "text/plain": [
       "{'EX_so4_e': 'upregulation',\n",
       " 'IPPMIb': 'upregulation',\n",
       " 'SUCCtex': 'downregulation',\n",
       " 'EX_ac_e': 'knockout',\n",
       " 'EX_pi_e': 'knockout',\n",
       " 'IPPMIa': 'upregulation',\n",
       " 'KARA1': 'upregulation',\n",
       " 'ILETA': 'upregulation',\n",
       " 'PItex': 'knockout',\n",
       " 'EX_o2_e': 'knockout'}"
      ]
     },
     "execution_count": 111,
     "metadata": {},
     "output_type": "execute_result"
    }
   ],
   "source": [
    "opt_dict"
   ]
  },
  {
   "cell_type": "code",
   "execution_count": 109,
   "id": "167dcfb8-5140-4efa-bb09-9cd9d9c59cc6",
   "metadata": {},
   "outputs": [],
   "source": [
    "optList = list(opt_df[\"Force Set\"])"
   ]
  },
  {
   "cell_type": "code",
   "execution_count": 110,
   "id": "54fc5a96-7781-407e-a8ff-68024179d7fc",
   "metadata": {},
   "outputs": [
    {
     "data": {
      "text/html": [
       "<div>\n",
       "<style scoped>\n",
       "    .dataframe tbody tr th:only-of-type {\n",
       "        vertical-align: middle;\n",
       "    }\n",
       "\n",
       "    .dataframe tbody tr th {\n",
       "        vertical-align: top;\n",
       "    }\n",
       "\n",
       "    .dataframe thead th {\n",
       "        text-align: right;\n",
       "    }\n",
       "</style>\n",
       "<table border=\"1\" class=\"dataframe\">\n",
       "  <thead>\n",
       "    <tr style=\"text-align: right;\">\n",
       "      <th></th>\n",
       "      <th>Set number</th>\n",
       "      <th>Force Set</th>\n",
       "      <th>Type of regulation</th>\n",
       "      <th>Min flux in Wild Type (mmol/gDW hr)</th>\n",
       "      <th>Max flux in Wild Type (mmol/gDW hr)</th>\n",
       "      <th>Min flux in Mutant (mmol/gDW hr)</th>\n",
       "      <th>Max flux in Mutant (mmol/gDW hr)</th>\n",
       "      <th>Achieved flux (mmol/gDW hr)</th>\n",
       "      <th>Objective function (mmol/gDW hr)</th>\n",
       "      <th>Minimum guaranteed for target (mmol/gDW hr)</th>\n",
       "      <th>Maximum guaranteed for target (mmol/gDW hr)</th>\n",
       "      <th>Maximum growth rate (1/hr)</th>\n",
       "    </tr>\n",
       "  </thead>\n",
       "  <tbody>\n",
       "    <tr>\n",
       "      <th>0</th>\n",
       "      <td>1</td>\n",
       "      <td>EX_so4_e</td>\n",
       "      <td>upregulation</td>\n",
       "      <td>-55.200639</td>\n",
       "      <td>-2.269890</td>\n",
       "      <td>0</td>\n",
       "      <td>0</td>\n",
       "      <td>0</td>\n",
       "      <td>400.0</td>\n",
       "      <td>400.0</td>\n",
       "      <td>400.0</td>\n",
       "      <td>0.0</td>\n",
       "    </tr>\n",
       "    <tr>\n",
       "      <th>1</th>\n",
       "      <td>1</td>\n",
       "      <td>IPPMIb</td>\n",
       "      <td>upregulation</td>\n",
       "      <td>-6.847363</td>\n",
       "      <td>-4.054779</td>\n",
       "      <td>0</td>\n",
       "      <td>0</td>\n",
       "      <td>0</td>\n",
       "      <td>NaN</td>\n",
       "      <td>NaN</td>\n",
       "      <td>NaN</td>\n",
       "      <td>NaN</td>\n",
       "    </tr>\n",
       "    <tr>\n",
       "      <th>2</th>\n",
       "      <td>1</td>\n",
       "      <td>SUCCtex</td>\n",
       "      <td>downregulation</td>\n",
       "      <td>-211.619609</td>\n",
       "      <td>0.000000</td>\n",
       "      <td>-400</td>\n",
       "      <td>-400</td>\n",
       "      <td>-400</td>\n",
       "      <td>NaN</td>\n",
       "      <td>NaN</td>\n",
       "      <td>NaN</td>\n",
       "      <td>NaN</td>\n",
       "    </tr>\n",
       "    <tr>\n",
       "      <th>3</th>\n",
       "      <td>1</td>\n",
       "      <td>EX_ac_e</td>\n",
       "      <td>knockout</td>\n",
       "      <td>0.000000</td>\n",
       "      <td>432.752266</td>\n",
       "      <td>0</td>\n",
       "      <td>0</td>\n",
       "      <td>0</td>\n",
       "      <td>NaN</td>\n",
       "      <td>NaN</td>\n",
       "      <td>NaN</td>\n",
       "      <td>NaN</td>\n",
       "    </tr>\n",
       "    <tr>\n",
       "      <th>4</th>\n",
       "      <td>1</td>\n",
       "      <td>EX_pi_e</td>\n",
       "      <td>knockout</td>\n",
       "      <td>-33.492968</td>\n",
       "      <td>-8.681679</td>\n",
       "      <td>0</td>\n",
       "      <td>0</td>\n",
       "      <td>0</td>\n",
       "      <td>NaN</td>\n",
       "      <td>NaN</td>\n",
       "      <td>NaN</td>\n",
       "      <td>NaN</td>\n",
       "    </tr>\n",
       "    <tr>\n",
       "      <th>5</th>\n",
       "      <td>2</td>\n",
       "      <td>IPPMIa</td>\n",
       "      <td>upregulation</td>\n",
       "      <td>-6.847363</td>\n",
       "      <td>-4.054779</td>\n",
       "      <td>0</td>\n",
       "      <td>0</td>\n",
       "      <td>0</td>\n",
       "      <td>400.0</td>\n",
       "      <td>400.0</td>\n",
       "      <td>400.0</td>\n",
       "      <td>0.0</td>\n",
       "    </tr>\n",
       "    <tr>\n",
       "      <th>6</th>\n",
       "      <td>2</td>\n",
       "      <td>KARA1</td>\n",
       "      <td>upregulation</td>\n",
       "      <td>-10.661005</td>\n",
       "      <td>-7.868421</td>\n",
       "      <td>0</td>\n",
       "      <td>0</td>\n",
       "      <td>0</td>\n",
       "      <td>NaN</td>\n",
       "      <td>NaN</td>\n",
       "      <td>NaN</td>\n",
       "      <td>NaN</td>\n",
       "    </tr>\n",
       "    <tr>\n",
       "      <th>7</th>\n",
       "      <td>2</td>\n",
       "      <td>ILETA</td>\n",
       "      <td>upregulation</td>\n",
       "      <td>-5.407345</td>\n",
       "      <td>-2.614761</td>\n",
       "      <td>0</td>\n",
       "      <td>0</td>\n",
       "      <td>0</td>\n",
       "      <td>NaN</td>\n",
       "      <td>NaN</td>\n",
       "      <td>NaN</td>\n",
       "      <td>NaN</td>\n",
       "    </tr>\n",
       "    <tr>\n",
       "      <th>8</th>\n",
       "      <td>2</td>\n",
       "      <td>PItex</td>\n",
       "      <td>knockout</td>\n",
       "      <td>8.681679</td>\n",
       "      <td>33.492968</td>\n",
       "      <td>0</td>\n",
       "      <td>0</td>\n",
       "      <td>0</td>\n",
       "      <td>NaN</td>\n",
       "      <td>NaN</td>\n",
       "      <td>NaN</td>\n",
       "      <td>NaN</td>\n",
       "    </tr>\n",
       "    <tr>\n",
       "      <th>9</th>\n",
       "      <td>3</td>\n",
       "      <td>EX_o2_e</td>\n",
       "      <td>knockout</td>\n",
       "      <td>-100.000000</td>\n",
       "      <td>-51.223218</td>\n",
       "      <td>-100</td>\n",
       "      <td>0</td>\n",
       "      <td>0</td>\n",
       "      <td>NaN</td>\n",
       "      <td>NaN</td>\n",
       "      <td>NaN</td>\n",
       "      <td>NaN</td>\n",
       "    </tr>\n",
       "  </tbody>\n",
       "</table>\n",
       "</div>"
      ],
      "text/plain": [
       "   Set number Force Set Type of regulation  \\\n",
       "0           1  EX_so4_e       upregulation   \n",
       "1           1    IPPMIb       upregulation   \n",
       "2           1   SUCCtex     downregulation   \n",
       "3           1   EX_ac_e           knockout   \n",
       "4           1   EX_pi_e           knockout   \n",
       "5           2    IPPMIa       upregulation   \n",
       "6           2     KARA1       upregulation   \n",
       "7           2     ILETA       upregulation   \n",
       "8           2     PItex           knockout   \n",
       "9           3   EX_o2_e           knockout   \n",
       "\n",
       "   Min flux in Wild Type (mmol/gDW hr)  Max flux in Wild Type (mmol/gDW hr)  \\\n",
       "0                           -55.200639                            -2.269890   \n",
       "1                            -6.847363                            -4.054779   \n",
       "2                          -211.619609                             0.000000   \n",
       "3                             0.000000                           432.752266   \n",
       "4                           -33.492968                            -8.681679   \n",
       "5                            -6.847363                            -4.054779   \n",
       "6                           -10.661005                            -7.868421   \n",
       "7                            -5.407345                            -2.614761   \n",
       "8                             8.681679                            33.492968   \n",
       "9                          -100.000000                           -51.223218   \n",
       "\n",
       "   Min flux in Mutant (mmol/gDW hr)  Max flux in Mutant (mmol/gDW hr)  \\\n",
       "0                                 0                                 0   \n",
       "1                                 0                                 0   \n",
       "2                              -400                              -400   \n",
       "3                                 0                                 0   \n",
       "4                                 0                                 0   \n",
       "5                                 0                                 0   \n",
       "6                                 0                                 0   \n",
       "7                                 0                                 0   \n",
       "8                                 0                                 0   \n",
       "9                              -100                                 0   \n",
       "\n",
       "   Achieved flux (mmol/gDW hr)  Objective function (mmol/gDW hr)  \\\n",
       "0                            0                             400.0   \n",
       "1                            0                               NaN   \n",
       "2                         -400                               NaN   \n",
       "3                            0                               NaN   \n",
       "4                            0                               NaN   \n",
       "5                            0                             400.0   \n",
       "6                            0                               NaN   \n",
       "7                            0                               NaN   \n",
       "8                            0                               NaN   \n",
       "9                            0                               NaN   \n",
       "\n",
       "   Minimum guaranteed for target (mmol/gDW hr)  \\\n",
       "0                                        400.0   \n",
       "1                                          NaN   \n",
       "2                                          NaN   \n",
       "3                                          NaN   \n",
       "4                                          NaN   \n",
       "5                                        400.0   \n",
       "6                                          NaN   \n",
       "7                                          NaN   \n",
       "8                                          NaN   \n",
       "9                                          NaN   \n",
       "\n",
       "   Maximum guaranteed for target (mmol/gDW hr)  Maximum growth rate (1/hr)  \n",
       "0                                        400.0                         0.0  \n",
       "1                                          NaN                         NaN  \n",
       "2                                          NaN                         NaN  \n",
       "3                                          NaN                         NaN  \n",
       "4                                          NaN                         NaN  \n",
       "5                                        400.0                         0.0  \n",
       "6                                          NaN                         NaN  \n",
       "7                                          NaN                         NaN  \n",
       "8                                          NaN                         NaN  \n",
       "9                                          NaN                         NaN  "
      ]
     },
     "execution_count": 110,
     "metadata": {},
     "output_type": "execute_result"
    }
   ],
   "source": [
    "opt_df"
   ]
  },
  {
   "cell_type": "code",
   "execution_count": 142,
   "id": "e90f5253-cbe1-4378-ae69-50b0963bf190",
   "metadata": {},
   "outputs": [],
   "source": [
    "obj = \"EX_succ_e\""
   ]
  },
  {
   "cell_type": "code",
   "execution_count": 143,
   "id": "da1645e5-a0b7-4f54-96c6-663a9319a1fe",
   "metadata": {},
   "outputs": [],
   "source": [
    "def getFVA(model, combList, combDict, obj):\n",
    "    #fva_df = pd.DataFrame(columns=['minimum', 'maximum'])\n",
    "    with model:\n",
    "        try:\n",
    "            for rec in combList:\n",
    "                if opt_dict[rec] == 'downregulation':\n",
    "                    l_bound, u_bound = setBounds(ori_b_df, rec, \"downregulation\")\n",
    "                    model.reactions.get_by_id(rec).lower_bound = l_bound\n",
    "                    model.reactions.get_by_id(rec).upper_bound = u_bound\n",
    "                elif opt_dict[rec] == 'upregulation':\n",
    "                    l_bound, u_bound = setBounds(ori_b_df, rec, \"upregulation\")\n",
    "                    model.reactions.get_by_id(rec).lower_bound = l_bound\n",
    "                    model.reactions.get_by_id(rec).upper_bound = u_bound\n",
    "                elif opt_dict[rec] == 'knockout':\n",
    "                    model.reactions.get_by_id(rec).knock_out()\n",
    "            temp_df = flux_variability_analysis(model, obj)\n",
    "            #fva_df = pd.concat([fva_df, temp_df], join=\"inner\")\n",
    "        except:\n",
    "            temp_df = pd.DataFrame(columns=['minimum', 'maximum'])\n",
    "            temp_df.loc[obj] = [0, 0]\n",
    "            #fva_df = pd.concat([fva_df, temp_df], join=\"inner\")\n",
    "    return temp_df"
   ]
  },
  {
   "cell_type": "code",
   "execution_count": 144,
   "id": "7a5c0c6d-9e01-4fd2-b073-a9741e96616e",
   "metadata": {},
   "outputs": [
    {
     "data": {
      "text/html": [
       "<div>\n",
       "<style scoped>\n",
       "    .dataframe tbody tr th:only-of-type {\n",
       "        vertical-align: middle;\n",
       "    }\n",
       "\n",
       "    .dataframe tbody tr th {\n",
       "        vertical-align: top;\n",
       "    }\n",
       "\n",
       "    .dataframe thead th {\n",
       "        text-align: right;\n",
       "    }\n",
       "</style>\n",
       "<table border=\"1\" class=\"dataframe\">\n",
       "  <thead>\n",
       "    <tr style=\"text-align: right;\">\n",
       "      <th></th>\n",
       "      <th>minimum</th>\n",
       "      <th>maximum</th>\n",
       "    </tr>\n",
       "  </thead>\n",
       "  <tbody>\n",
       "    <tr>\n",
       "      <th>EX_succ_e</th>\n",
       "      <td>0</td>\n",
       "      <td>0</td>\n",
       "    </tr>\n",
       "  </tbody>\n",
       "</table>\n",
       "</div>"
      ],
      "text/plain": [
       "           minimum  maximum\n",
       "EX_succ_e        0        0"
      ]
     },
     "execution_count": 144,
     "metadata": {},
     "output_type": "execute_result"
    }
   ],
   "source": [
    "getFVA(model, optList[:3], opt_dict, obj)"
   ]
  },
  {
   "cell_type": "code",
   "execution_count": 145,
   "id": "7ba4d15c-1eba-4bae-a653-64389860af4e",
   "metadata": {},
   "outputs": [
    {
     "data": {
      "text/html": [
       "<div>\n",
       "<style scoped>\n",
       "    .dataframe tbody tr th:only-of-type {\n",
       "        vertical-align: middle;\n",
       "    }\n",
       "\n",
       "    .dataframe tbody tr th {\n",
       "        vertical-align: top;\n",
       "    }\n",
       "\n",
       "    .dataframe thead th {\n",
       "        text-align: right;\n",
       "    }\n",
       "</style>\n",
       "<table border=\"1\" class=\"dataframe\">\n",
       "  <thead>\n",
       "    <tr style=\"text-align: right;\">\n",
       "      <th></th>\n",
       "      <th>minimum</th>\n",
       "      <th>maximum</th>\n",
       "    </tr>\n",
       "  </thead>\n",
       "  <tbody>\n",
       "    <tr>\n",
       "      <th>EX_succ_e</th>\n",
       "      <td>8.56108</td>\n",
       "      <td>8.56108</td>\n",
       "    </tr>\n",
       "  </tbody>\n",
       "</table>\n",
       "</div>"
      ],
      "text/plain": [
       "           minimum  maximum\n",
       "EX_succ_e  8.56108  8.56108"
      ]
     },
     "execution_count": 145,
     "metadata": {},
     "output_type": "execute_result"
    }
   ],
   "source": [
    "flux_variability_analysis(model, obj)"
   ]
  },
  {
   "cell_type": "code",
   "execution_count": 148,
   "id": "aa750b25-6179-4b8a-a2a8-4b5134ec2a7f",
   "metadata": {},
   "outputs": [],
   "source": [
    "model.reactions.get_by_id(\"EX_pi_e\").knock_out()"
   ]
  },
  {
   "cell_type": "code",
   "execution_count": 149,
   "id": "989dccf0-53d8-4f9b-8329-e79754803363",
   "metadata": {},
   "outputs": [
    {
     "ename": "Infeasible",
     "evalue": "There is no optimal solution for the chosen objective! (infeasible).",
     "output_type": "error",
     "traceback": [
      "\u001b[0;31m---------------------------------------------------------------------------\u001b[0m",
      "\u001b[0;31mInfeasible\u001b[0m                                Traceback (most recent call last)",
      "Input \u001b[0;32mIn [149]\u001b[0m, in \u001b[0;36m<cell line: 1>\u001b[0;34m()\u001b[0m\n\u001b[0;32m----> 1\u001b[0m \u001b[43mflux_variability_analysis\u001b[49m\u001b[43m(\u001b[49m\u001b[43mmodel\u001b[49m\u001b[43m,\u001b[49m\u001b[43m \u001b[49m\u001b[43mobj\u001b[49m\u001b[43m)\u001b[49m\n",
      "File \u001b[0;32m~/miniconda3/lib/python3.10/site-packages/cobra/flux_analysis/variability.py:188\u001b[0m, in \u001b[0;36mflux_variability_analysis\u001b[0;34m(model, reaction_list, loopless, fraction_of_optimum, pfba_factor, processes)\u001b[0m\n\u001b[1;32m    185\u001b[0m prob \u001b[38;5;241m=\u001b[39m model\u001b[38;5;241m.\u001b[39mproblem\n\u001b[1;32m    186\u001b[0m \u001b[38;5;28;01mwith\u001b[39;00m model:\n\u001b[1;32m    187\u001b[0m     \u001b[38;5;66;03m# Safety check before setting up FVA.\u001b[39;00m\n\u001b[0;32m--> 188\u001b[0m     \u001b[43mmodel\u001b[49m\u001b[38;5;241;43m.\u001b[39;49m\u001b[43mslim_optimize\u001b[49m\u001b[43m(\u001b[49m\n\u001b[1;32m    189\u001b[0m \u001b[43m        \u001b[49m\u001b[43merror_value\u001b[49m\u001b[38;5;241;43m=\u001b[39;49m\u001b[38;5;28;43;01mNone\u001b[39;49;00m\u001b[43m,\u001b[49m\n\u001b[1;32m    190\u001b[0m \u001b[43m        \u001b[49m\u001b[43mmessage\u001b[49m\u001b[38;5;241;43m=\u001b[39;49m\u001b[38;5;124;43m\"\u001b[39;49m\u001b[38;5;124;43mThere is no optimal solution for the chosen objective!\u001b[39;49m\u001b[38;5;124;43m\"\u001b[39;49m\u001b[43m,\u001b[49m\n\u001b[1;32m    191\u001b[0m \u001b[43m    \u001b[49m\u001b[43m)\u001b[49m\n\u001b[1;32m    192\u001b[0m     \u001b[38;5;66;03m# Add the previous objective as a variable to the model then set it to\u001b[39;00m\n\u001b[1;32m    193\u001b[0m     \u001b[38;5;66;03m# zero. This also uses the fraction to create the lower/upper bound for\u001b[39;00m\n\u001b[1;32m    194\u001b[0m     \u001b[38;5;66;03m# the old objective.\u001b[39;00m\n\u001b[1;32m    195\u001b[0m     \u001b[38;5;66;03m# TODO: Use utility function here (fix_objective_as_constraint)?\u001b[39;00m\n\u001b[1;32m    196\u001b[0m     \u001b[38;5;28;01mif\u001b[39;00m model\u001b[38;5;241m.\u001b[39msolver\u001b[38;5;241m.\u001b[39mobjective\u001b[38;5;241m.\u001b[39mdirection \u001b[38;5;241m==\u001b[39m \u001b[38;5;124m\"\u001b[39m\u001b[38;5;124mmax\u001b[39m\u001b[38;5;124m\"\u001b[39m:\n",
      "File \u001b[0;32m~/miniconda3/lib/python3.10/site-packages/cobra/core/model.py:1063\u001b[0m, in \u001b[0;36mModel.slim_optimize\u001b[0;34m(self, error_value, message)\u001b[0m\n\u001b[1;32m   1061\u001b[0m     \u001b[38;5;28;01mreturn\u001b[39;00m error_value\n\u001b[1;32m   1062\u001b[0m \u001b[38;5;28;01melse\u001b[39;00m:\n\u001b[0;32m-> 1063\u001b[0m     \u001b[43massert_optimal\u001b[49m\u001b[43m(\u001b[49m\u001b[38;5;28;43mself\u001b[39;49m\u001b[43m,\u001b[49m\u001b[43m \u001b[49m\u001b[43mmessage\u001b[49m\u001b[43m)\u001b[49m\n",
      "File \u001b[0;32m~/miniconda3/lib/python3.10/site-packages/cobra/util/solver.py:590\u001b[0m, in \u001b[0;36massert_optimal\u001b[0;34m(model, message)\u001b[0m\n\u001b[1;32m    588\u001b[0m \u001b[38;5;28;01mif\u001b[39;00m status \u001b[38;5;241m!=\u001b[39m OPTIMAL:\n\u001b[1;32m    589\u001b[0m     exception_cls \u001b[38;5;241m=\u001b[39m OPTLANG_TO_EXCEPTIONS_DICT\u001b[38;5;241m.\u001b[39mget(status, OptimizationError)\n\u001b[0;32m--> 590\u001b[0m     \u001b[38;5;28;01mraise\u001b[39;00m exception_cls(\u001b[38;5;124mf\u001b[39m\u001b[38;5;124m\"\u001b[39m\u001b[38;5;132;01m{\u001b[39;00mmessage\u001b[38;5;132;01m}\u001b[39;00m\u001b[38;5;124m (\u001b[39m\u001b[38;5;132;01m{\u001b[39;00mstatus\u001b[38;5;132;01m}\u001b[39;00m\u001b[38;5;124m).\u001b[39m\u001b[38;5;124m\"\u001b[39m)\n",
      "\u001b[0;31mInfeasible\u001b[0m: There is no optimal solution for the chosen objective! (infeasible)."
     ]
    }
   ],
   "source": [
    "flux_variability_analysis(model, obj)"
   ]
  },
  {
   "cell_type": "code",
   "execution_count": null,
   "id": "e5086794-e0bd-4b93-a913-6ddd468d0198",
   "metadata": {},
   "outputs": [],
   "source": []
  },
  {
   "cell_type": "code",
   "execution_count": null,
   "id": "43a76d99-df9a-48c8-810a-d09e666b4ca6",
   "metadata": {},
   "outputs": [],
   "source": []
  },
  {
   "cell_type": "code",
   "execution_count": 135,
   "id": "26fa3901-a628-41f4-83d9-e3f082e8692c",
   "metadata": {},
   "outputs": [],
   "source": [
    "init_df = init_df.set_index(\"rec\")"
   ]
  },
  {
   "cell_type": "code",
   "execution_count": 139,
   "id": "ed2215ea-a000-48b8-9716-dd4ecaf2df2c",
   "metadata": {},
   "outputs": [],
   "source": [
    "def setBounds(ori_b_df, rec ,regulation):\n",
    "    if regulation == \"downregulation\":\n",
    "        if ori_b_df.loc[rec][\"initFlux\"] < 0:\n",
    "            l_bound = -1000\n",
    "            u_bound = ori_b_df.loc[rec][\"initFlux\"] * 2\n",
    "        elif ori_b_df.loc[rec][\"initFlux\"] == 0:\n",
    "            l_bound = -1000\n",
    "            u_bound = -8\n",
    "        else:\n",
    "            l_bound = -1000\n",
    "            u_bound = ori_b_df.loc[rec][\"initFlux\"] * 0.5\n",
    "    elif regulation == \"upregulation\":\n",
    "        if ori_b_df.loc[rec][\"initFlux\"] <= 0:\n",
    "            l_bound = -1000\n",
    "            u_bound = ori_b_df.loc[rec][\"initFlux\"] * 0.5\n",
    "        elif ori_b_df.loc[rec][\"initFlux\"] == 0:\n",
    "            l_bound = -1000\n",
    "            u_bound = 8\n",
    "        else:\n",
    "            l_bound = ori_b_df.loc[rec][\"initFlux\"] * 2\n",
    "            u_bound = 1000\n",
    "    return l_bound, u_bound"
   ]
  },
  {
   "cell_type": "code",
   "execution_count": 140,
   "id": "61e29896-466b-475e-8b74-24d308781085",
   "metadata": {},
   "outputs": [
    {
     "data": {
      "text/plain": [
       "(-1000, -8)"
      ]
     },
     "execution_count": 140,
     "metadata": {},
     "output_type": "execute_result"
    }
   ],
   "source": [
    "setBounds(init_df, \"SUCCtex\", \"downregulation\")"
   ]
  },
  {
   "cell_type": "code",
   "execution_count": 141,
   "id": "66d8b0b2-df27-4b4a-83eb-150d8bf12f9f",
   "metadata": {},
   "outputs": [
    {
     "data": {
      "text/plain": [
       "(-1000, -0.12388199744393551)"
      ]
     },
     "execution_count": 141,
     "metadata": {},
     "output_type": "execute_result"
    }
   ],
   "source": [
    "setBounds(init_df, \"EX_so4_e\", \"upregulation\")"
   ]
  },
  {
   "cell_type": "code",
   "execution_count": null,
   "id": "bb636fd0-8b74-4f42-a6c8-d93f9f62e049",
   "metadata": {},
   "outputs": [],
   "source": []
  }
 ],
 "metadata": {
  "kernelspec": {
   "display_name": "Python 3 (ipykernel)",
   "language": "python",
   "name": "python3"
  },
  "language_info": {
   "codemirror_mode": {
    "name": "ipython",
    "version": 3
   },
   "file_extension": ".py",
   "mimetype": "text/x-python",
   "name": "python",
   "nbconvert_exporter": "python",
   "pygments_lexer": "ipython3",
   "version": "3.10.9"
  }
 },
 "nbformat": 4,
 "nbformat_minor": 5
}
