{
 "cells": [
  {
   "cell_type": "code",
   "execution_count": 8,
   "id": "bb7fc18a-fc58-4c08-a3d2-85e7820ed45f",
   "metadata": {},
   "outputs": [],
   "source": [
    "import cobra"
   ]
  },
  {
   "cell_type": "code",
   "execution_count": 1,
   "id": "73c77b16-52d4-4933-b383-071901d98753",
   "metadata": {},
   "outputs": [],
   "source": [
    "import pandas\n",
    "from time import time\n",
    "\n",
    "from cobra.io import load_model\n",
    "from cobra.flux_analysis import (\n",
    "    single_gene_deletion, single_reaction_deletion, double_gene_deletion,\n",
    "    double_reaction_deletion)\n",
    "\n",
    "cobra_model = load_model(\"textbook\")\n",
    "ecoli_model = load_model(\"iJO1366\") #no need to import from matlab"
   ]
  },
  {
   "cell_type": "code",
   "execution_count": 2,
   "id": "de9d0998-e2d0-4c08-a3ba-35f0c8e83146",
   "metadata": {},
   "outputs": [
    {
     "name": "stdout",
     "output_type": "stream",
     "text": [
      "complete model:  <Solution 0.874 at 0x7f5867028b50>\n",
      "pfk knocked out:  <Solution 0.704 at 0x7f5ca9385a60>\n"
     ]
    }
   ],
   "source": [
    "print('complete model: ', cobra_model.optimize())\n",
    "with cobra_model:\n",
    "    cobra_model.reactions.PFK.knock_out()\n",
    "    print('pfk knocked out: ', cobra_model.optimize())"
   ]
  },
  {
   "cell_type": "code",
   "execution_count": 3,
   "id": "d6e437ab-186f-4cd9-92b6-c826f7b6b771",
   "metadata": {},
   "outputs": [
    {
     "name": "stdout",
     "output_type": "stream",
     "text": [
      "complete model:  <Solution 0.874 at 0x7f5cc42a5940>\n",
      "pfkA knocked out:  <Solution 0.874 at 0x7f5cbcda8bb0>\n",
      "pfkB knocked out:  <Solution 0.704 at 0x7f5cbd21abe0>\n"
     ]
    }
   ],
   "source": [
    "print('complete model: ', cobra_model.optimize())\n",
    "with cobra_model:\n",
    "    cobra_model.genes.b1723.knock_out()\n",
    "    print('pfkA knocked out: ', cobra_model.optimize())\n",
    "    cobra_model.genes.b3916.knock_out()\n",
    "    print('pfkB knocked out: ', cobra_model.optimize())"
   ]
  },
  {
   "cell_type": "code",
   "execution_count": 5,
   "id": "4b20581c-3770-4831-b409-3759abec9222",
   "metadata": {},
   "outputs": [
    {
     "name": "stdout",
     "output_type": "stream",
     "text": [
      "complete model:  <Solution 0.874 at 0x7f5cc42b6fd0>\n",
      "pfkA knocked out:  <Solution 0.874 at 0x7f5cc42a5940>\n"
     ]
    }
   ],
   "source": [
    "print('complete model: ', cobra_model.optimize())\n",
    "with cobra_model:\n",
    "    cobra_model.genes.b1723.knock_out()\n",
    "    print('pfkA knocked out: ', cobra_model.optimize())"
   ]
  },
  {
   "cell_type": "code",
   "execution_count": 6,
   "id": "14377cc9-12fa-4bd4-91ad-a843cdaac8b5",
   "metadata": {},
   "outputs": [],
   "source": [
    "model = cobra_model"
   ]
  },
  {
   "cell_type": "code",
   "execution_count": null,
   "id": "825a1e67-52a0-4b3f-b19a-243c9253cbb5",
   "metadata": {},
   "outputs": [],
   "source": []
  },
  {
   "cell_type": "code",
   "execution_count": 11,
   "id": "7d730645-d110-4ab9-b0b9-97e92b1a7c87",
   "metadata": {},
   "outputs": [
    {
     "data": {
      "text/html": [
       "\n",
       "        <table>\n",
       "            <tr>\n",
       "                <td><strong>Reaction identifier</strong></td><td>PGI</td>\n",
       "            </tr><tr>\n",
       "                <td><strong>Name</strong></td><td>glucose-6-phosphate isomerase</td>\n",
       "            </tr><tr>\n",
       "                <td><strong>Memory address</strong></td>\n",
       "                <td>0x7f5cbd1a9df0</td>\n",
       "            </tr><tr>\n",
       "                <td><strong>Stoichiometry</strong></td>\n",
       "                <td>\n",
       "                    <p style='text-align:right'>g6p_c <=> f6p_c</p>\n",
       "                    <p style='text-align:right'>D-Glucose 6-phosphate <=> D-Fructose 6-phosphate</p>\n",
       "                </td>\n",
       "            </tr><tr>\n",
       "                <td><strong>GPR</strong></td><td>b4025</td>\n",
       "            </tr><tr>\n",
       "                <td><strong>Lower bound</strong></td><td>-1000.0</td>\n",
       "            </tr><tr>\n",
       "                <td><strong>Upper bound</strong></td><td>1000.0</td>\n",
       "            </tr>\n",
       "        </table>\n",
       "        "
      ],
      "text/plain": [
       "<Reaction PGI at 0x7f5cbd1a9df0>"
      ]
     },
     "execution_count": 11,
     "metadata": {},
     "output_type": "execute_result"
    }
   ],
   "source": [
    "pgi = model.reactions.get_by_id(\"PGI\")\n",
    "pgi"
   ]
  },
  {
   "cell_type": "code",
   "execution_count": 12,
   "id": "9980cae3-a64c-497e-8c0f-fbf71907d818",
   "metadata": {},
   "outputs": [
    {
     "name": "stdout",
     "output_type": "stream",
     "text": [
      "glucose-6-phosphate isomerase\n",
      "g6p_c <=> f6p_c\n"
     ]
    }
   ],
   "source": [
    "print(pgi.name)\n",
    "print(pgi.reaction)"
   ]
  },
  {
   "cell_type": "code",
   "execution_count": 14,
   "id": "18035f68-4819-49d3-a33f-e1775db01223",
   "metadata": {},
   "outputs": [
    {
     "name": "stdout",
     "output_type": "stream",
     "text": [
      "-1000.0 < pgi < 1000.0\n",
      "True\n"
     ]
    }
   ],
   "source": [
    "print(pgi.lower_bound, \"< pgi <\", pgi.upper_bound)\n",
    "print(pgi.reversibility)"
   ]
  },
  {
   "cell_type": "code",
   "execution_count": null,
   "id": "5dba76df-599c-429f-9bb5-745b7e35f57c",
   "metadata": {},
   "outputs": [],
   "source": []
  },
  {
   "cell_type": "code",
   "execution_count": 15,
   "id": "a296cf49-e68b-48a7-af7c-9375606d9a36",
   "metadata": {},
   "outputs": [
    {
     "name": "stdout",
     "output_type": "stream",
     "text": [
      "b4025\n",
      "b4025\n"
     ]
    }
   ],
   "source": [
    "gpr = pgi.gpr\n",
    "print(gpr)\n",
    "gpr_string = pgi.gene_reaction_rule\n",
    "print(gpr_string)"
   ]
  },
  {
   "cell_type": "code",
   "execution_count": 16,
   "id": "bb12d98c-bd40-4b32-8bae-41e16aef4f0a",
   "metadata": {},
   "outputs": [
    {
     "data": {
      "text/plain": [
       "frozenset({<Gene b4025 at 0x7f5cbd2896a0>})"
      ]
     },
     "execution_count": 16,
     "metadata": {},
     "output_type": "execute_result"
    }
   ],
   "source": [
    "pgi.genes"
   ]
  },
  {
   "cell_type": "code",
   "execution_count": 17,
   "id": "59acdc22-a794-4ddc-9d3f-9612e10472b3",
   "metadata": {},
   "outputs": [
    {
     "data": {
      "text/html": [
       "\n",
       "        <table>\n",
       "            <tr>\n",
       "                <td><strong>Gene identifier</strong></td><td>b4025</td>\n",
       "            </tr><tr>\n",
       "                <td><strong>Name</strong></td><td>pgi</td>\n",
       "            </tr><tr>\n",
       "                <td><strong>Memory address</strong></td>\n",
       "                <td>0x7f5cbd2896a0</td>\n",
       "            </tr><tr>\n",
       "                <td><strong>Functional</strong></td><td>True</td>\n",
       "            </tr><tr>\n",
       "                <td><strong>In 1 reaction(s)</strong></td><td>\n",
       "                    PGI\n",
       "                    </td>\n",
       "            </tr>\n",
       "        </table>"
      ],
      "text/plain": [
       "<Gene b4025 at 0x7f5cbd2896a0>"
      ]
     },
     "execution_count": 17,
     "metadata": {},
     "output_type": "execute_result"
    }
   ],
   "source": [
    "pgi_gene = model.genes.get_by_id(\"b4025\")\n",
    "pgi_gene"
   ]
  },
  {
   "cell_type": "code",
   "execution_count": 18,
   "id": "541ae4ac-df11-43b0-82a0-8d42be888370",
   "metadata": {},
   "outputs": [
    {
     "data": {
      "text/plain": [
       "frozenset({<Reaction PGI at 0x7f5cbd1a9df0>})"
      ]
     },
     "execution_count": 18,
     "metadata": {},
     "output_type": "execute_result"
    }
   ],
   "source": [
    "pgi_gene.reactions"
   ]
  },
  {
   "cell_type": "code",
   "execution_count": 19,
   "id": "606e045c-0d20-4315-9d0f-b7e0473977ec",
   "metadata": {},
   "outputs": [
    {
     "data": {
      "text/plain": [
       "frozenset({<Gene eggs at 0x7f5ca9b88910>, <Gene spam at 0x7f5ca9b88970>})"
      ]
     },
     "execution_count": 19,
     "metadata": {},
     "output_type": "execute_result"
    }
   ],
   "source": [
    "pgi.gene_reaction_rule = \"(spam or eggs)\"\n",
    "pgi.genes"
   ]
  },
  {
   "cell_type": "code",
   "execution_count": 20,
   "id": "2d815219-1ffa-4ebd-ab5f-eae858d78776",
   "metadata": {},
   "outputs": [
    {
     "data": {
      "text/plain": [
       "frozenset()"
      ]
     },
     "execution_count": 20,
     "metadata": {},
     "output_type": "execute_result"
    }
   ],
   "source": [
    "pgi_gene.reactions"
   ]
  },
  {
   "cell_type": "code",
   "execution_count": 21,
   "id": "40e1629a-e8cd-4416-9a04-872b9940b156",
   "metadata": {},
   "outputs": [
    {
     "data": {
      "text/html": [
       "\n",
       "        <table>\n",
       "            <tr>\n",
       "                <td><strong>Gene identifier</strong></td><td>spam</td>\n",
       "            </tr><tr>\n",
       "                <td><strong>Name</strong></td><td></td>\n",
       "            </tr><tr>\n",
       "                <td><strong>Memory address</strong></td>\n",
       "                <td>0x7f5ca9b88970</td>\n",
       "            </tr><tr>\n",
       "                <td><strong>Functional</strong></td><td>True</td>\n",
       "            </tr><tr>\n",
       "                <td><strong>In 1 reaction(s)</strong></td><td>\n",
       "                    PGI\n",
       "                    </td>\n",
       "            </tr>\n",
       "        </table>"
      ],
      "text/plain": [
       "<Gene spam at 0x7f5ca9b88970>"
      ]
     },
     "execution_count": 21,
     "metadata": {},
     "output_type": "execute_result"
    }
   ],
   "source": [
    "model.genes.get_by_id(\"spam\")"
   ]
  },
  {
   "cell_type": "code",
   "execution_count": null,
   "id": "c4cb8313-04c4-41d7-9602-4a74fed46cbd",
   "metadata": {},
   "outputs": [],
   "source": []
  },
  {
   "cell_type": "code",
   "execution_count": 22,
   "id": "2237ba2d-a68f-42cd-8053-bc66cefa0b65",
   "metadata": {},
   "outputs": [
    {
     "name": "stdout",
     "output_type": "stream",
     "text": [
      "after 1 KO: -1000 < flux_PGI < 1000\n",
      "after 2 KO:     0 < flux_PGI <    0\n"
     ]
    }
   ],
   "source": [
    "cobra.manipulation.knock_out_model_genes(\n",
    "    model, [\"spam\"])\n",
    "print(\"after 1 KO: %4d < flux_PGI < %4d\" % (pgi.lower_bound, pgi.upper_bound))\n",
    "\n",
    "cobra.manipulation.knock_out_model_genes(\n",
    "    model, [\"eggs\"])\n",
    "print(\"after 2 KO:  %4d < flux_PGI < %4d\" % (pgi.lower_bound, pgi.upper_bound))"
   ]
  },
  {
   "cell_type": "markdown",
   "id": "01118360-83c9-4bdc-a37d-c055faeb564b",
   "metadata": {},
   "source": [
    "the bounds means the uptake rate?"
   ]
  },
  {
   "cell_type": "markdown",
   "id": "9eb8c21b-539f-430b-9a06-a076ed552fac",
   "metadata": {},
   "source": [
    "But there are lot of posible rate/bound"
   ]
  },
  {
   "cell_type": "markdown",
   "id": "1888088c-2558-4660-ac6c-8145cbb75286",
   "metadata": {},
   "source": [
    "based on the OptForce, we can set the bounds? based on the optimized flux?"
   ]
  },
  {
   "cell_type": "code",
   "execution_count": null,
   "id": "17f20072-5b32-4545-aea3-67f3466d3bce",
   "metadata": {},
   "outputs": [],
   "source": []
  }
 ],
 "metadata": {
  "kernelspec": {
   "display_name": "COBRApy",
   "language": "python",
   "name": "cobra"
  },
  "language_info": {
   "codemirror_mode": {
    "name": "ipython",
    "version": 3
   },
   "file_extension": ".py",
   "mimetype": "text/x-python",
   "name": "python",
   "nbconvert_exporter": "python",
   "pygments_lexer": "ipython3",
   "version": "3.8.12"
  }
 },
 "nbformat": 4,
 "nbformat_minor": 5
}
