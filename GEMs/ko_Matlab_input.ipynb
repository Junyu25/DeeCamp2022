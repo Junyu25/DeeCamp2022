{
 "cells": [
  {
   "cell_type": "code",
   "execution_count": null,
   "id": "e5a12fef-57aa-4e5f-9c78-f720afb036c3",
   "metadata": {},
   "outputs": [],
   "source": []
  },
  {
   "cell_type": "code",
   "execution_count": 7,
   "id": "42ff3cd1-b8e2-4291-bea4-507a56376bc3",
   "metadata": {},
   "outputs": [],
   "source": [
    "import pandas as pd"
   ]
  },
  {
   "cell_type": "code",
   "execution_count": 3,
   "id": "3a3c4033-3797-440f-ad02-22f840daa5e6",
   "metadata": {},
   "outputs": [],
   "source": [
    "koList = [\"PFL\", \"RPI\", \"TKT2\", \"RPE\", \"TALA\", \"ALCD2x\", \"LDH_D\", \"ACALD\", \"TKT1\", \"ACONTa\"]"
   ]
  },
  {
   "cell_type": "code",
   "execution_count": 4,
   "id": "dbcc0819-d1bc-4400-a390-d5f506b0dc04",
   "metadata": {},
   "outputs": [],
   "source": [
    "from itertools import combinations"
   ]
  },
  {
   "cell_type": "code",
   "execution_count": 5,
   "id": "548ed658-d96e-480e-ba3c-3fed1c8add58",
   "metadata": {},
   "outputs": [],
   "source": [
    "targetNum = 10\n",
    "targetList = koList[:targetNum]\n",
    "combList = []\n",
    "for i in range(1,targetNum+1):\n",
    "    combList.extend(list(combinations(targetList, i)))"
   ]
  },
  {
   "cell_type": "code",
   "execution_count": 9,
   "id": "e6b4d290-fade-42c5-adb8-b40fae3a821b",
   "metadata": {
    "tags": []
   },
   "outputs": [
    {
     "data": {
      "text/plain": [
       "[('PFL',),\n",
       " ('RPI',),\n",
       " ('TKT2',),\n",
       " ('RPE',),\n",
       " ('TALA',),\n",
       " ('ALCD2x',),\n",
       " ('LDH_D',),\n",
       " ('ACALD',),\n",
       " ('TKT1',),\n",
       " ('ACONTa',),\n",
       " ('PFL', 'RPI'),\n",
       " ('PFL', 'TKT2'),\n",
       " ('PFL', 'RPE'),\n",
       " ('PFL', 'TALA'),\n",
       " ('PFL', 'ALCD2x')]"
      ]
     },
     "execution_count": 9,
     "metadata": {},
     "output_type": "execute_result"
    }
   ],
   "source": [
    "combList[:15]"
   ]
  },
  {
   "cell_type": "code",
   "execution_count": 10,
   "id": "1d93261d-d074-40e4-bbe3-50398108a43c",
   "metadata": {},
   "outputs": [],
   "source": [
    "df = pd.DataFrame()"
   ]
  },
  {
   "cell_type": "code",
   "execution_count": 11,
   "id": "6a38fd60-b042-4826-a23d-607fbb6bf735",
   "metadata": {},
   "outputs": [],
   "source": [
    "df[\"comb\"] = combList"
   ]
  },
  {
   "cell_type": "code",
   "execution_count": 12,
   "id": "1374dcb1-3676-4d6f-9e90-5d6ea28a73c2",
   "metadata": {},
   "outputs": [
    {
     "data": {
      "text/html": [
       "<div>\n",
       "<style scoped>\n",
       "    .dataframe tbody tr th:only-of-type {\n",
       "        vertical-align: middle;\n",
       "    }\n",
       "\n",
       "    .dataframe tbody tr th {\n",
       "        vertical-align: top;\n",
       "    }\n",
       "\n",
       "    .dataframe thead th {\n",
       "        text-align: right;\n",
       "    }\n",
       "</style>\n",
       "<table border=\"1\" class=\"dataframe\">\n",
       "  <thead>\n",
       "    <tr style=\"text-align: right;\">\n",
       "      <th></th>\n",
       "      <th>comb</th>\n",
       "    </tr>\n",
       "  </thead>\n",
       "  <tbody>\n",
       "    <tr>\n",
       "      <th>0</th>\n",
       "      <td>(PFL,)</td>\n",
       "    </tr>\n",
       "    <tr>\n",
       "      <th>1</th>\n",
       "      <td>(RPI,)</td>\n",
       "    </tr>\n",
       "    <tr>\n",
       "      <th>2</th>\n",
       "      <td>(TKT2,)</td>\n",
       "    </tr>\n",
       "    <tr>\n",
       "      <th>3</th>\n",
       "      <td>(RPE,)</td>\n",
       "    </tr>\n",
       "    <tr>\n",
       "      <th>4</th>\n",
       "      <td>(TALA,)</td>\n",
       "    </tr>\n",
       "    <tr>\n",
       "      <th>...</th>\n",
       "      <td>...</td>\n",
       "    </tr>\n",
       "    <tr>\n",
       "      <th>1018</th>\n",
       "      <td>(PFL, RPI, TKT2, TALA, ALCD2x, LDH_D, ACALD, T...</td>\n",
       "    </tr>\n",
       "    <tr>\n",
       "      <th>1019</th>\n",
       "      <td>(PFL, RPI, RPE, TALA, ALCD2x, LDH_D, ACALD, TK...</td>\n",
       "    </tr>\n",
       "    <tr>\n",
       "      <th>1020</th>\n",
       "      <td>(PFL, TKT2, RPE, TALA, ALCD2x, LDH_D, ACALD, T...</td>\n",
       "    </tr>\n",
       "    <tr>\n",
       "      <th>1021</th>\n",
       "      <td>(RPI, TKT2, RPE, TALA, ALCD2x, LDH_D, ACALD, T...</td>\n",
       "    </tr>\n",
       "    <tr>\n",
       "      <th>1022</th>\n",
       "      <td>(PFL, RPI, TKT2, RPE, TALA, ALCD2x, LDH_D, ACA...</td>\n",
       "    </tr>\n",
       "  </tbody>\n",
       "</table>\n",
       "<p>1023 rows × 1 columns</p>\n",
       "</div>"
      ],
      "text/plain": [
       "                                                   comb\n",
       "0                                                (PFL,)\n",
       "1                                                (RPI,)\n",
       "2                                               (TKT2,)\n",
       "3                                                (RPE,)\n",
       "4                                               (TALA,)\n",
       "...                                                 ...\n",
       "1018  (PFL, RPI, TKT2, TALA, ALCD2x, LDH_D, ACALD, T...\n",
       "1019  (PFL, RPI, RPE, TALA, ALCD2x, LDH_D, ACALD, TK...\n",
       "1020  (PFL, TKT2, RPE, TALA, ALCD2x, LDH_D, ACALD, T...\n",
       "1021  (RPI, TKT2, RPE, TALA, ALCD2x, LDH_D, ACALD, T...\n",
       "1022  (PFL, RPI, TKT2, RPE, TALA, ALCD2x, LDH_D, ACA...\n",
       "\n",
       "[1023 rows x 1 columns]"
      ]
     },
     "execution_count": 12,
     "metadata": {},
     "output_type": "execute_result"
    }
   ],
   "source": [
    "df"
   ]
  },
  {
   "cell_type": "code",
   "execution_count": 13,
   "id": "d58864c9-dc97-4429-a517-1c6ddaf4b470",
   "metadata": {},
   "outputs": [],
   "source": [
    "df.to_csv(\"KO_Suc_Ecoli_10_comb.csv\", index=False)"
   ]
  },
  {
   "cell_type": "code",
   "execution_count": null,
   "id": "7b4e4370-ab43-44a8-b733-23bc1fb03f2e",
   "metadata": {},
   "outputs": [],
   "source": []
  }
 ],
 "metadata": {
  "kernelspec": {
   "display_name": "Python 3 (ipykernel)",
   "language": "python",
   "name": "python3"
  },
  "language_info": {
   "codemirror_mode": {
    "name": "ipython",
    "version": 3
   },
   "file_extension": ".py",
   "mimetype": "text/x-python",
   "name": "python",
   "nbconvert_exporter": "python",
   "pygments_lexer": "ipython3",
   "version": "3.10.5"
  }
 },
 "nbformat": 4,
 "nbformat_minor": 5
}
