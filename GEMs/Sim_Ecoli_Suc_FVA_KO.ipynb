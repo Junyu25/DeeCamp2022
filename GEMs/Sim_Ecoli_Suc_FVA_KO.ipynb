{
 "cells": [
  {
   "cell_type": "code",
   "execution_count": null,
   "id": "e41eb823-734d-4c9e-8b21-0bc7d4ca78b5",
   "metadata": {},
   "outputs": [],
   "source": []
  },
  {
   "cell_type": "code",
   "execution_count": 18,
   "id": "40fae29c-6ccb-429c-b4ed-9a593c2d8bbb",
   "metadata": {},
   "outputs": [],
   "source": [
    "import cobra"
   ]
  },
  {
   "cell_type": "code",
   "execution_count": 19,
   "id": "3651cf4a-5b3f-43c9-8745-ce40f693b3ef",
   "metadata": {},
   "outputs": [],
   "source": [
    "import pandas as pd"
   ]
  },
  {
   "cell_type": "code",
   "execution_count": 20,
   "id": "e5a60a0d-b423-42e5-9701-87de2ba0a4f5",
   "metadata": {},
   "outputs": [],
   "source": [
    "from cobra.io import load_model"
   ]
  },
  {
   "cell_type": "code",
   "execution_count": 21,
   "id": "f283f46d-6987-4930-a6da-234d5ef000ed",
   "metadata": {},
   "outputs": [],
   "source": [
    "from cobra.flux_analysis import flux_variability_analysis"
   ]
  },
  {
   "cell_type": "code",
   "execution_count": 22,
   "id": "e34454ab-8fb8-46ef-9a1b-1eeed58f0065",
   "metadata": {},
   "outputs": [
    {
     "name": "stdout",
     "output_type": "stream",
     "text": [
      "Scaling...\n",
      " A: min|aij| =  1.000e+00  max|aij| =  1.000e+00  ratio =  1.000e+00\n",
      "Problem data seem to be well scaled\n"
     ]
    }
   ],
   "source": [
    "model = load_model(\"iJO1366\") #no need to import from matlab"
   ]
  },
  {
   "cell_type": "code",
   "execution_count": null,
   "id": "549ed2bf-fd53-48d3-8f33-955182a81840",
   "metadata": {},
   "outputs": [],
   "source": []
  },
  {
   "cell_type": "code",
   "execution_count": 12,
   "id": "21ad97a4-8aef-4b18-ad53-8b136dcfb16d",
   "metadata": {},
   "outputs": [],
   "source": [
    "df = pd.read_csv(\"OptForce_Ecoli_Suc_Comb10_20.csv\")"
   ]
  },
  {
   "cell_type": "code",
   "execution_count": 16,
   "id": "26248f00-bd19-4d86-b6e3-681930901926",
   "metadata": {},
   "outputs": [],
   "source": [
    "ko_df = df[df[\"Type of regulation\"] == \"knockout\"]"
   ]
  },
  {
   "cell_type": "code",
   "execution_count": 28,
   "id": "2fe41fff-8e34-4ebb-a0ab-31a2b4670eaf",
   "metadata": {
    "tags": []
   },
   "outputs": [],
   "source": [
    "optList = list(set(list(ko_df[\"Force Set\"])))"
   ]
  },
  {
   "cell_type": "code",
   "execution_count": null,
   "id": "aa9e559d-d2fe-4f0a-a5f9-b8b4cd9bcd82",
   "metadata": {},
   "outputs": [],
   "source": []
  },
  {
   "cell_type": "code",
   "execution_count": 23,
   "id": "c57bd103-4e05-4448-b000-c754514bbf53",
   "metadata": {},
   "outputs": [],
   "source": [
    "biomass = \"BIOMASS_Ec_iJO1366_core_53p95M\""
   ]
  },
  {
   "cell_type": "code",
   "execution_count": 24,
   "id": "3b0a4e1e-6de5-464b-b7b9-5d1e1e293526",
   "metadata": {},
   "outputs": [],
   "source": [
    "model.objective = biomass"
   ]
  },
  {
   "cell_type": "code",
   "execution_count": 25,
   "id": "053d380c-0462-4182-9399-57bb7b52c334",
   "metadata": {},
   "outputs": [],
   "source": [
    "maxG = model.optimize().objective_value"
   ]
  },
  {
   "cell_type": "code",
   "execution_count": 26,
   "id": "ddc84968-f2e6-424c-be22-42a160a04166",
   "metadata": {},
   "outputs": [
    {
     "data": {
      "text/plain": [
       "0.9823718127269787"
      ]
     },
     "execution_count": 26,
     "metadata": {},
     "output_type": "execute_result"
    }
   ],
   "source": [
    "maxG"
   ]
  },
  {
   "cell_type": "code",
   "execution_count": 29,
   "id": "7629a014-bfe0-406b-8ec6-c738b2f7803b",
   "metadata": {},
   "outputs": [],
   "source": [
    "initFluxList = []\n",
    "for rec in optList:\n",
    "    initFlux = model.reactions.get_by_id(rec).summary().to_frame().loc[rec, \"flux\"]\n",
    "    initFluxList.append(initFlux)"
   ]
  },
  {
   "cell_type": "code",
   "execution_count": 30,
   "id": "186c8ef9-02c7-4467-becf-a5aea6dc2b6c",
   "metadata": {
    "collapsed": true,
    "jupyter": {
     "outputs_hidden": true
    },
    "tags": []
   },
   "outputs": [
    {
     "data": {
      "text/plain": [
       "[17.578933530254233,\n",
       " 0.0,\n",
       " 0.0,\n",
       " 0.0,\n",
       " 10.610425051825072,\n",
       " 0.5165753058634199,\n",
       " 0.0,\n",
       " 0.3496064807132768,\n",
       " 0.0,\n",
       " -1.6472304460617337e-14,\n",
       " 0.4177860316319673,\n",
       " 0.0,\n",
       " 0.0,\n",
       " 0.0,\n",
       " 0.0,\n",
       " -0.3496064807132768,\n",
       " 0.0,\n",
       " 0.0,\n",
       " 5.918065146483437,\n",
       " 0.3496064807132768,\n",
       " -2.8760693263127175,\n",
       " 0.0,\n",
       " 0.00023969872230538257,\n",
       " 0.8653751925204736,\n",
       " 0.0,\n",
       " 0.0,\n",
       " 0.0,\n",
       " 0.0,\n",
       " 0.0,\n",
       " 0.0,\n",
       " 0.0,\n",
       " -0.9476263040826485,\n",
       " 1.9589431790865617,\n",
       " 0.3496064807132768,\n",
       " 0.0,\n",
       " -10.610425051825072,\n",
       " 0.0,\n",
       " -1.6472304460617337e-14,\n",
       " 0.0,\n",
       " 0.0,\n",
       " 0.0,\n",
       " 0.0,\n",
       " 0.17771597278137405,\n",
       " 0.3496064807132768,\n",
       " 0.0,\n",
       " 0.0,\n",
       " 0.0,\n",
       " -3.441826094608491,\n",
       " 0.0,\n",
       " 0.0,\n",
       " 2.5786896606512517,\n",
       " 0.00043912020028926205,\n",
       " 0.9476263040826485,\n",
       " 1.9647436254539556e-06,\n",
       " 0.0,\n",
       " 0.0,\n",
       " 0.0,\n",
       " 0.0,\n",
       " 0.3496064807132768,\n",
       " 0.0,\n",
       " -0.0006611362299652629,\n",
       " 0.0,\n",
       " 0.0,\n",
       " 0.0,\n",
       " 0.0,\n",
       " -17.578933530254236,\n",
       " 0.0,\n",
       " 0.0,\n",
       " 0.0,\n",
       " 0.01577787368420799,\n",
       " 0.0,\n",
       " 0.0,\n",
       " 1.6472304460617337e-14,\n",
       " 0.0,\n",
       " 0.0,\n",
       " 0.9476263040826485,\n",
       " 0.0,\n",
       " 0.0,\n",
       " 0.3496064807132768]"
      ]
     },
     "execution_count": 30,
     "metadata": {},
     "output_type": "execute_result"
    }
   ],
   "source": [
    "initFluxList"
   ]
  },
  {
   "cell_type": "code",
   "execution_count": null,
   "id": "96739311-664a-4fdb-8851-8fc8114b6f56",
   "metadata": {},
   "outputs": [],
   "source": []
  },
  {
   "cell_type": "code",
   "execution_count": 31,
   "id": "806971fc-28b0-4812-963e-d58c75043f35",
   "metadata": {},
   "outputs": [],
   "source": [
    "init_df = pd.DataFrame()"
   ]
  },
  {
   "cell_type": "code",
   "execution_count": 32,
   "id": "dd144ef9-baaa-41bb-b326-68368bf7d998",
   "metadata": {},
   "outputs": [],
   "source": [
    "init_df[\"rec\"] = optList\n",
    "init_df[\"initFlux\"] = initFluxList"
   ]
  },
  {
   "cell_type": "code",
   "execution_count": 33,
   "id": "22c3241e-6a9f-48a1-85d1-5d34cdff5cad",
   "metadata": {},
   "outputs": [
    {
     "data": {
      "text/html": [
       "<div>\n",
       "<style scoped>\n",
       "    .dataframe tbody tr th:only-of-type {\n",
       "        vertical-align: middle;\n",
       "    }\n",
       "\n",
       "    .dataframe tbody tr th {\n",
       "        vertical-align: top;\n",
       "    }\n",
       "\n",
       "    .dataframe thead th {\n",
       "        text-align: right;\n",
       "    }\n",
       "</style>\n",
       "<table border=\"1\" class=\"dataframe\">\n",
       "  <thead>\n",
       "    <tr style=\"text-align: right;\">\n",
       "      <th></th>\n",
       "      <th>rec</th>\n",
       "      <th>initFlux</th>\n",
       "    </tr>\n",
       "  </thead>\n",
       "  <tbody>\n",
       "    <tr>\n",
       "      <th>0</th>\n",
       "      <td>O2tex</td>\n",
       "      <td>17.578934</td>\n",
       "    </tr>\n",
       "    <tr>\n",
       "      <th>1</th>\n",
       "      <td>ACPS1</td>\n",
       "      <td>0.000000</td>\n",
       "    </tr>\n",
       "    <tr>\n",
       "      <th>2</th>\n",
       "      <td>EX_hxa_e</td>\n",
       "      <td>0.000000</td>\n",
       "    </tr>\n",
       "    <tr>\n",
       "      <th>3</th>\n",
       "      <td>FA120ACPHi</td>\n",
       "      <td>0.000000</td>\n",
       "    </tr>\n",
       "    <tr>\n",
       "      <th>4</th>\n",
       "      <td>NH4tex</td>\n",
       "      <td>10.610425</td>\n",
       "    </tr>\n",
       "    <tr>\n",
       "      <th>...</th>\n",
       "      <td>...</td>\n",
       "      <td>...</td>\n",
       "    </tr>\n",
       "    <tr>\n",
       "      <th>74</th>\n",
       "      <td>LPLIPAL2ATE161</td>\n",
       "      <td>0.000000</td>\n",
       "    </tr>\n",
       "    <tr>\n",
       "      <th>75</th>\n",
       "      <td>PItex</td>\n",
       "      <td>0.947626</td>\n",
       "    </tr>\n",
       "    <tr>\n",
       "      <th>76</th>\n",
       "      <td>PPA</td>\n",
       "      <td>0.000000</td>\n",
       "    </tr>\n",
       "    <tr>\n",
       "      <th>77</th>\n",
       "      <td>EX_mnl_e</td>\n",
       "      <td>0.000000</td>\n",
       "    </tr>\n",
       "    <tr>\n",
       "      <th>78</th>\n",
       "      <td>HACD5</td>\n",
       "      <td>0.349606</td>\n",
       "    </tr>\n",
       "  </tbody>\n",
       "</table>\n",
       "<p>79 rows × 2 columns</p>\n",
       "</div>"
      ],
      "text/plain": [
       "               rec   initFlux\n",
       "0            O2tex  17.578934\n",
       "1            ACPS1   0.000000\n",
       "2         EX_hxa_e   0.000000\n",
       "3       FA120ACPHi   0.000000\n",
       "4           NH4tex  10.610425\n",
       "..             ...        ...\n",
       "74  LPLIPAL2ATE161   0.000000\n",
       "75           PItex   0.947626\n",
       "76             PPA   0.000000\n",
       "77        EX_mnl_e   0.000000\n",
       "78           HACD5   0.349606\n",
       "\n",
       "[79 rows x 2 columns]"
      ]
     },
     "execution_count": 33,
     "metadata": {},
     "output_type": "execute_result"
    }
   ],
   "source": [
    "init_df"
   ]
  },
  {
   "cell_type": "code",
   "execution_count": null,
   "id": "50b3993b-ca3c-45fc-8490-6e212b9cf4ec",
   "metadata": {},
   "outputs": [],
   "source": []
  },
  {
   "cell_type": "code",
   "execution_count": 34,
   "id": "a2faea95-f1e1-4ad5-aa59-9668f5dcc083",
   "metadata": {},
   "outputs": [],
   "source": [
    "model.reactions.get_by_id(biomass).lower_bound = maxG*0.5 #min to half of max growth rate"
   ]
  },
  {
   "cell_type": "code",
   "execution_count": 35,
   "id": "34324411-8495-4077-982f-0a728ea348fe",
   "metadata": {},
   "outputs": [],
   "source": [
    "model.objective = 'EX_succ_e'"
   ]
  },
  {
   "cell_type": "code",
   "execution_count": 36,
   "id": "1a1fd406-1584-452f-97b3-3b8216e6d604",
   "metadata": {
    "tags": []
   },
   "outputs": [
    {
     "data": {
      "text/html": [
       "<div>\n",
       "<style scoped>\n",
       "    .dataframe tbody tr th:only-of-type {\n",
       "        vertical-align: middle;\n",
       "    }\n",
       "\n",
       "    .dataframe tbody tr th {\n",
       "        vertical-align: top;\n",
       "    }\n",
       "\n",
       "    .dataframe thead th {\n",
       "        text-align: right;\n",
       "    }\n",
       "</style>\n",
       "<table border=\"1\" class=\"dataframe\">\n",
       "  <thead>\n",
       "    <tr style=\"text-align: right;\">\n",
       "      <th></th>\n",
       "      <th>minimum</th>\n",
       "      <th>maximum</th>\n",
       "    </tr>\n",
       "  </thead>\n",
       "  <tbody>\n",
       "    <tr>\n",
       "      <th>EX_succ_e</th>\n",
       "      <td>8.56108</td>\n",
       "      <td>8.56108</td>\n",
       "    </tr>\n",
       "  </tbody>\n",
       "</table>\n",
       "</div>"
      ],
      "text/plain": [
       "           minimum  maximum\n",
       "EX_succ_e  8.56108  8.56108"
      ]
     },
     "execution_count": 36,
     "metadata": {},
     "output_type": "execute_result"
    }
   ],
   "source": [
    "flux_variability_analysis(model, \"EX_succ_e\", loopless=True)"
   ]
  },
  {
   "cell_type": "code",
   "execution_count": 37,
   "id": "f7121346-1387-4c81-94be-637cf6085c92",
   "metadata": {},
   "outputs": [],
   "source": [
    "optFluxList = []\n",
    "for rec in optList:\n",
    "    optFlux = model.reactions.get_by_id(rec).summary().to_frame().loc[rec, \"flux\"]\n",
    "    optFluxList.append(optFlux)"
   ]
  },
  {
   "cell_type": "code",
   "execution_count": 38,
   "id": "6656963a-0b83-4d0b-9c6c-594d029451af",
   "metadata": {},
   "outputs": [],
   "source": [
    "init_df[\"optFlux\"] = optFluxList"
   ]
  },
  {
   "cell_type": "code",
   "execution_count": 44,
   "id": "224d84a0-0ca0-4ea8-b148-7e97021f6e21",
   "metadata": {},
   "outputs": [],
   "source": [
    "init_df.to_csv(\"ko_init_opt.csv\")"
   ]
  },
  {
   "cell_type": "code",
   "execution_count": 46,
   "id": "4fc6fe6c-ce83-4698-b9f4-89428acefd18",
   "metadata": {},
   "outputs": [
    {
     "data": {
      "text/html": [
       "<div>\n",
       "<style scoped>\n",
       "    .dataframe tbody tr th:only-of-type {\n",
       "        vertical-align: middle;\n",
       "    }\n",
       "\n",
       "    .dataframe tbody tr th {\n",
       "        vertical-align: top;\n",
       "    }\n",
       "\n",
       "    .dataframe thead th {\n",
       "        text-align: right;\n",
       "    }\n",
       "</style>\n",
       "<table border=\"1\" class=\"dataframe\">\n",
       "  <thead>\n",
       "    <tr style=\"text-align: right;\">\n",
       "      <th></th>\n",
       "      <th>rec</th>\n",
       "      <th>initFlux</th>\n",
       "      <th>optFlux</th>\n",
       "    </tr>\n",
       "  </thead>\n",
       "  <tbody>\n",
       "    <tr>\n",
       "      <th>0</th>\n",
       "      <td>O2tex</td>\n",
       "      <td>17.578934</td>\n",
       "      <td>8.825687</td>\n",
       "    </tr>\n",
       "    <tr>\n",
       "      <th>1</th>\n",
       "      <td>ACPS1</td>\n",
       "      <td>0.000000</td>\n",
       "      <td>0.000000</td>\n",
       "    </tr>\n",
       "    <tr>\n",
       "      <th>2</th>\n",
       "      <td>EX_hxa_e</td>\n",
       "      <td>0.000000</td>\n",
       "      <td>0.000000</td>\n",
       "    </tr>\n",
       "    <tr>\n",
       "      <th>3</th>\n",
       "      <td>FA120ACPHi</td>\n",
       "      <td>0.000000</td>\n",
       "      <td>0.000000</td>\n",
       "    </tr>\n",
       "    <tr>\n",
       "      <th>4</th>\n",
       "      <td>NH4tex</td>\n",
       "      <td>10.610425</td>\n",
       "      <td>5.305213</td>\n",
       "    </tr>\n",
       "    <tr>\n",
       "      <th>...</th>\n",
       "      <td>...</td>\n",
       "      <td>...</td>\n",
       "      <td>...</td>\n",
       "    </tr>\n",
       "    <tr>\n",
       "      <th>74</th>\n",
       "      <td>LPLIPAL2ATE161</td>\n",
       "      <td>0.000000</td>\n",
       "      <td>0.000000</td>\n",
       "    </tr>\n",
       "    <tr>\n",
       "      <th>75</th>\n",
       "      <td>PItex</td>\n",
       "      <td>0.947626</td>\n",
       "      <td>0.473813</td>\n",
       "    </tr>\n",
       "    <tr>\n",
       "      <th>76</th>\n",
       "      <td>PPA</td>\n",
       "      <td>0.000000</td>\n",
       "      <td>0.000000</td>\n",
       "    </tr>\n",
       "    <tr>\n",
       "      <th>77</th>\n",
       "      <td>EX_mnl_e</td>\n",
       "      <td>0.000000</td>\n",
       "      <td>0.000000</td>\n",
       "    </tr>\n",
       "    <tr>\n",
       "      <th>78</th>\n",
       "      <td>HACD5</td>\n",
       "      <td>0.349606</td>\n",
       "      <td>0.174803</td>\n",
       "    </tr>\n",
       "  </tbody>\n",
       "</table>\n",
       "<p>79 rows × 3 columns</p>\n",
       "</div>"
      ],
      "text/plain": [
       "               rec   initFlux   optFlux\n",
       "0            O2tex  17.578934  8.825687\n",
       "1            ACPS1   0.000000  0.000000\n",
       "2         EX_hxa_e   0.000000  0.000000\n",
       "3       FA120ACPHi   0.000000  0.000000\n",
       "4           NH4tex  10.610425  5.305213\n",
       "..             ...        ...       ...\n",
       "74  LPLIPAL2ATE161   0.000000  0.000000\n",
       "75           PItex   0.947626  0.473813\n",
       "76             PPA   0.000000  0.000000\n",
       "77        EX_mnl_e   0.000000  0.000000\n",
       "78           HACD5   0.349606  0.174803\n",
       "\n",
       "[79 rows x 3 columns]"
      ]
     },
     "execution_count": 46,
     "metadata": {},
     "output_type": "execute_result"
    }
   ],
   "source": [
    "init_df"
   ]
  },
  {
   "cell_type": "code",
   "execution_count": 50,
   "id": "e25a3759-856a-4c77-8b86-40d2c5078114",
   "metadata": {},
   "outputs": [],
   "source": [
    "opt_df  = init_df[(init_df[\"initFlux\"] != 0.0) & (init_df[\"optFlux\"] != 0.0)]"
   ]
  },
  {
   "cell_type": "code",
   "execution_count": 55,
   "id": "a3392b9a-6ed6-493a-aa16-b0eed5833082",
   "metadata": {},
   "outputs": [],
   "source": [
    "KOlist = list(opt_df[\"rec\"])"
   ]
  },
  {
   "cell_type": "code",
   "execution_count": null,
   "id": "4bbe8b55-9b70-4e7b-be66-331f3913ba10",
   "metadata": {},
   "outputs": [],
   "source": []
  },
  {
   "cell_type": "code",
   "execution_count": 56,
   "id": "956e585c-00cd-4e86-a444-4af7593c0acc",
   "metadata": {},
   "outputs": [],
   "source": [
    "objList = []"
   ]
  },
  {
   "cell_type": "code",
   "execution_count": 57,
   "id": "d6991b4f-9cb4-431c-9918-02a809e0ade4",
   "metadata": {},
   "outputs": [
    {
     "name": "stderr",
     "output_type": "stream",
     "text": [
      "/home/chenjunyu/miniconda3/lib/python3.10/site-packages/cobra/util/solver.py:554: UserWarning: Solver status is 'infeasible'.\n",
      "  warn(f\"Solver status is '{status}'.\", UserWarning)\n",
      "/home/chenjunyu/miniconda3/lib/python3.10/site-packages/cobra/util/solver.py:554: UserWarning: Solver status is 'infeasible'.\n",
      "  warn(f\"Solver status is '{status}'.\", UserWarning)\n",
      "/home/chenjunyu/miniconda3/lib/python3.10/site-packages/cobra/util/solver.py:554: UserWarning: Solver status is 'infeasible'.\n",
      "  warn(f\"Solver status is '{status}'.\", UserWarning)\n",
      "/home/chenjunyu/miniconda3/lib/python3.10/site-packages/cobra/util/solver.py:554: UserWarning: Solver status is 'infeasible'.\n",
      "  warn(f\"Solver status is '{status}'.\", UserWarning)\n",
      "/home/chenjunyu/miniconda3/lib/python3.10/site-packages/cobra/util/solver.py:554: UserWarning: Solver status is 'infeasible'.\n",
      "  warn(f\"Solver status is '{status}'.\", UserWarning)\n",
      "/home/chenjunyu/miniconda3/lib/python3.10/site-packages/cobra/util/solver.py:554: UserWarning: Solver status is 'infeasible'.\n",
      "  warn(f\"Solver status is '{status}'.\", UserWarning)\n",
      "/home/chenjunyu/miniconda3/lib/python3.10/site-packages/cobra/util/solver.py:554: UserWarning: Solver status is 'infeasible'.\n",
      "  warn(f\"Solver status is '{status}'.\", UserWarning)\n",
      "/home/chenjunyu/miniconda3/lib/python3.10/site-packages/cobra/util/solver.py:554: UserWarning: Solver status is 'infeasible'.\n",
      "  warn(f\"Solver status is '{status}'.\", UserWarning)\n",
      "/home/chenjunyu/miniconda3/lib/python3.10/site-packages/cobra/util/solver.py:554: UserWarning: Solver status is 'infeasible'.\n",
      "  warn(f\"Solver status is '{status}'.\", UserWarning)\n",
      "/home/chenjunyu/miniconda3/lib/python3.10/site-packages/cobra/util/solver.py:554: UserWarning: Solver status is 'infeasible'.\n",
      "  warn(f\"Solver status is '{status}'.\", UserWarning)\n"
     ]
    }
   ],
   "source": [
    "for rec in KOlist:\n",
    "    with model:\n",
    "        model.reactions.get_by_id(rec).knock_out()\n",
    "        objList.append(model.optimize().objective_value)"
   ]
  },
  {
   "cell_type": "code",
   "execution_count": 58,
   "id": "9f1c3d15-ae49-460e-9a88-4bd574aed7e8",
   "metadata": {
    "tags": []
   },
   "outputs": [
    {
     "data": {
      "text/plain": [
       "[0.1628104452668676,\n",
       " 0.0,\n",
       " 0.0,\n",
       " 8.467377465289465,\n",
       " 8.467103037451189,\n",
       " 8.467377465289465,\n",
       " 8.451120724756539,\n",
       " 8.467377465289347,\n",
       " 8.467377465289347,\n",
       " 8.562076604762714,\n",
       " 8.562076604762701,\n",
       " 8.546907796792528,\n",
       " 8.519500341208262,\n",
       " 8.519500341208262,\n",
       " 8.542106614939016,\n",
       " 8.467377465289383,\n",
       " 8.438594936068373,\n",
       " 8.561079850467241,\n",
       " 8.561079850467241,\n",
       " 8.535787333454362,\n",
       " 8.561079780547548,\n",
       " 8.46737746528943,\n",
       " 8.561079850467292,\n",
       " 0.0,\n",
       " 8.560364375266879,\n",
       " 8.560364375266879,\n",
       " 8.519500341208303]"
      ]
     },
     "execution_count": 58,
     "metadata": {},
     "output_type": "execute_result"
    }
   ],
   "source": [
    "objList"
   ]
  },
  {
   "cell_type": "code",
   "execution_count": 59,
   "id": "c14b0e01-785d-4fd0-b1c8-406f1e98907d",
   "metadata": {},
   "outputs": [
    {
     "data": {
      "text/plain": [
       "27"
      ]
     },
     "execution_count": 59,
     "metadata": {},
     "output_type": "execute_result"
    }
   ],
   "source": [
    "len(objList)"
   ]
  },
  {
   "cell_type": "code",
   "execution_count": null,
   "id": "10557b76-fd64-4442-b1f3-522700fbb3aa",
   "metadata": {},
   "outputs": [],
   "source": []
  }
 ],
 "metadata": {
  "kernelspec": {
   "display_name": "Python 3 (ipykernel)",
   "language": "python",
   "name": "python3"
  },
  "language_info": {
   "codemirror_mode": {
    "name": "ipython",
    "version": 3
   },
   "file_extension": ".py",
   "mimetype": "text/x-python",
   "name": "python",
   "nbconvert_exporter": "python",
   "pygments_lexer": "ipython3",
   "version": "3.10.5"
  }
 },
 "nbformat": 4,
 "nbformat_minor": 5
}
