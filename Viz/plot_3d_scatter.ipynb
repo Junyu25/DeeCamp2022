{
 "cells": [
  {
   "cell_type": "code",
   "execution_count": null,
   "id": "ab72d80f-5923-4226-91b0-3504d2110fd9",
   "metadata": {},
   "outputs": [],
   "source": []
  },
  {
   "cell_type": "code",
   "execution_count": 1,
   "id": "b8fd3713-2ead-4700-8c02-950ac31ce4d6",
   "metadata": {},
   "outputs": [],
   "source": [
    "import pandas as pd"
   ]
  },
  {
   "cell_type": "code",
   "execution_count": 2,
   "id": "ad51de82-d647-4dc4-b10e-492d753dec55",
   "metadata": {},
   "outputs": [],
   "source": [
    "from sklearn.decomposition import PCA"
   ]
  },
  {
   "cell_type": "code",
   "execution_count": 4,
   "id": "95d7ed67-7cef-4493-a4a9-bae600674142",
   "metadata": {},
   "outputs": [],
   "source": [
    "gList = ['FKH1', 'GCN5', 'MED4', 'OPI1', 'RFX1', 'RGR1', 'RPD3', 'SPT3', 'TFC7', 'YAP6']"
   ]
  },
  {
   "cell_type": "code",
   "execution_count": 5,
   "id": "063395ef-cc66-49c9-ae27-7c2a064c691e",
   "metadata": {},
   "outputs": [],
   "source": [
    "df = pd.read_csv(\"../data/combination_demo.csv\")"
   ]
  },
  {
   "cell_type": "code",
   "execution_count": 10,
   "id": "b207f56f-73a8-4ed3-a444-e4e57433f323",
   "metadata": {},
   "outputs": [],
   "source": [
    "df[\"Combination\"] = df[\"Combination\"].str.split(\"-\")"
   ]
  },
  {
   "cell_type": "code",
   "execution_count": 11,
   "id": "58215340-ea3c-4e9b-96bc-088c47cdf02b",
   "metadata": {},
   "outputs": [
    {
     "data": {
      "text/html": [
       "<div>\n",
       "<style scoped>\n",
       "    .dataframe tbody tr th:only-of-type {\n",
       "        vertical-align: middle;\n",
       "    }\n",
       "\n",
       "    .dataframe tbody tr th {\n",
       "        vertical-align: top;\n",
       "    }\n",
       "\n",
       "    .dataframe thead th {\n",
       "        text-align: right;\n",
       "    }\n",
       "</style>\n",
       "<table border=\"1\" class=\"dataframe\">\n",
       "  <thead>\n",
       "    <tr style=\"text-align: right;\">\n",
       "      <th></th>\n",
       "      <th>Combination</th>\n",
       "      <th>FoldChange</th>\n",
       "    </tr>\n",
       "  </thead>\n",
       "  <tbody>\n",
       "    <tr>\n",
       "      <th>0</th>\n",
       "      <td>[PosCtrl]</td>\n",
       "      <td>1.000002</td>\n",
       "    </tr>\n",
       "    <tr>\n",
       "      <th>1</th>\n",
       "      <td>[FKH1]</td>\n",
       "      <td>2.128433</td>\n",
       "    </tr>\n",
       "    <tr>\n",
       "      <th>2</th>\n",
       "      <td>[FKH1, GCN5]</td>\n",
       "      <td>5.157823</td>\n",
       "    </tr>\n",
       "    <tr>\n",
       "      <th>3</th>\n",
       "      <td>[FKH1, GCN5, MED4]</td>\n",
       "      <td>5.029117</td>\n",
       "    </tr>\n",
       "    <tr>\n",
       "      <th>4</th>\n",
       "      <td>[FKH1, GCN5, OPI1]</td>\n",
       "      <td>2.425280</td>\n",
       "    </tr>\n",
       "    <tr>\n",
       "      <th>...</th>\n",
       "      <td>...</td>\n",
       "      <td>...</td>\n",
       "    </tr>\n",
       "    <tr>\n",
       "      <th>171</th>\n",
       "      <td>[SPT3, YAP6]</td>\n",
       "      <td>1.342010</td>\n",
       "    </tr>\n",
       "    <tr>\n",
       "      <th>172</th>\n",
       "      <td>[SPT3, YAP6, TFC7]</td>\n",
       "      <td>1.364580</td>\n",
       "    </tr>\n",
       "    <tr>\n",
       "      <th>173</th>\n",
       "      <td>[TFC7]</td>\n",
       "      <td>1.310550</td>\n",
       "    </tr>\n",
       "    <tr>\n",
       "      <th>174</th>\n",
       "      <td>[YAP6]</td>\n",
       "      <td>1.357042</td>\n",
       "    </tr>\n",
       "    <tr>\n",
       "      <th>175</th>\n",
       "      <td>[YAP6, TFC7]</td>\n",
       "      <td>1.361717</td>\n",
       "    </tr>\n",
       "  </tbody>\n",
       "</table>\n",
       "<p>176 rows × 2 columns</p>\n",
       "</div>"
      ],
      "text/plain": [
       "            Combination  FoldChange\n",
       "0             [PosCtrl]    1.000002\n",
       "1                [FKH1]    2.128433\n",
       "2          [FKH1, GCN5]    5.157823\n",
       "3    [FKH1, GCN5, MED4]    5.029117\n",
       "4    [FKH1, GCN5, OPI1]    2.425280\n",
       "..                  ...         ...\n",
       "171        [SPT3, YAP6]    1.342010\n",
       "172  [SPT3, YAP6, TFC7]    1.364580\n",
       "173              [TFC7]    1.310550\n",
       "174              [YAP6]    1.357042\n",
       "175        [YAP6, TFC7]    1.361717\n",
       "\n",
       "[176 rows x 2 columns]"
      ]
     },
     "execution_count": 11,
     "metadata": {},
     "output_type": "execute_result"
    }
   ],
   "source": [
    "df"
   ]
  },
  {
   "cell_type": "code",
   "execution_count": 12,
   "id": "ba157a38-ddc4-498b-b34a-91cebeaac274",
   "metadata": {},
   "outputs": [],
   "source": [
    "for g in gList:\n",
    "    df[g] = 0"
   ]
  },
  {
   "cell_type": "code",
   "execution_count": 13,
   "id": "86c548c2-9735-4260-b70c-cacf859b70ae",
   "metadata": {},
   "outputs": [
    {
     "data": {
      "text/html": [
       "<div>\n",
       "<style scoped>\n",
       "    .dataframe tbody tr th:only-of-type {\n",
       "        vertical-align: middle;\n",
       "    }\n",
       "\n",
       "    .dataframe tbody tr th {\n",
       "        vertical-align: top;\n",
       "    }\n",
       "\n",
       "    .dataframe thead th {\n",
       "        text-align: right;\n",
       "    }\n",
       "</style>\n",
       "<table border=\"1\" class=\"dataframe\">\n",
       "  <thead>\n",
       "    <tr style=\"text-align: right;\">\n",
       "      <th></th>\n",
       "      <th>Combination</th>\n",
       "      <th>FoldChange</th>\n",
       "      <th>FKH1</th>\n",
       "      <th>GCN5</th>\n",
       "      <th>MED4</th>\n",
       "      <th>OPI1</th>\n",
       "      <th>RFX1</th>\n",
       "      <th>RGR1</th>\n",
       "      <th>RPD3</th>\n",
       "      <th>SPT3</th>\n",
       "      <th>TFC7</th>\n",
       "      <th>YAP6</th>\n",
       "    </tr>\n",
       "  </thead>\n",
       "  <tbody>\n",
       "    <tr>\n",
       "      <th>0</th>\n",
       "      <td>[PosCtrl]</td>\n",
       "      <td>1.000002</td>\n",
       "      <td>0</td>\n",
       "      <td>0</td>\n",
       "      <td>0</td>\n",
       "      <td>0</td>\n",
       "      <td>0</td>\n",
       "      <td>0</td>\n",
       "      <td>0</td>\n",
       "      <td>0</td>\n",
       "      <td>0</td>\n",
       "      <td>0</td>\n",
       "    </tr>\n",
       "    <tr>\n",
       "      <th>1</th>\n",
       "      <td>[FKH1]</td>\n",
       "      <td>2.128433</td>\n",
       "      <td>0</td>\n",
       "      <td>0</td>\n",
       "      <td>0</td>\n",
       "      <td>0</td>\n",
       "      <td>0</td>\n",
       "      <td>0</td>\n",
       "      <td>0</td>\n",
       "      <td>0</td>\n",
       "      <td>0</td>\n",
       "      <td>0</td>\n",
       "    </tr>\n",
       "    <tr>\n",
       "      <th>2</th>\n",
       "      <td>[FKH1, GCN5]</td>\n",
       "      <td>5.157823</td>\n",
       "      <td>0</td>\n",
       "      <td>0</td>\n",
       "      <td>0</td>\n",
       "      <td>0</td>\n",
       "      <td>0</td>\n",
       "      <td>0</td>\n",
       "      <td>0</td>\n",
       "      <td>0</td>\n",
       "      <td>0</td>\n",
       "      <td>0</td>\n",
       "    </tr>\n",
       "    <tr>\n",
       "      <th>3</th>\n",
       "      <td>[FKH1, GCN5, MED4]</td>\n",
       "      <td>5.029117</td>\n",
       "      <td>0</td>\n",
       "      <td>0</td>\n",
       "      <td>0</td>\n",
       "      <td>0</td>\n",
       "      <td>0</td>\n",
       "      <td>0</td>\n",
       "      <td>0</td>\n",
       "      <td>0</td>\n",
       "      <td>0</td>\n",
       "      <td>0</td>\n",
       "    </tr>\n",
       "    <tr>\n",
       "      <th>4</th>\n",
       "      <td>[FKH1, GCN5, OPI1]</td>\n",
       "      <td>2.425280</td>\n",
       "      <td>0</td>\n",
       "      <td>0</td>\n",
       "      <td>0</td>\n",
       "      <td>0</td>\n",
       "      <td>0</td>\n",
       "      <td>0</td>\n",
       "      <td>0</td>\n",
       "      <td>0</td>\n",
       "      <td>0</td>\n",
       "      <td>0</td>\n",
       "    </tr>\n",
       "    <tr>\n",
       "      <th>...</th>\n",
       "      <td>...</td>\n",
       "      <td>...</td>\n",
       "      <td>...</td>\n",
       "      <td>...</td>\n",
       "      <td>...</td>\n",
       "      <td>...</td>\n",
       "      <td>...</td>\n",
       "      <td>...</td>\n",
       "      <td>...</td>\n",
       "      <td>...</td>\n",
       "      <td>...</td>\n",
       "      <td>...</td>\n",
       "    </tr>\n",
       "    <tr>\n",
       "      <th>171</th>\n",
       "      <td>[SPT3, YAP6]</td>\n",
       "      <td>1.342010</td>\n",
       "      <td>0</td>\n",
       "      <td>0</td>\n",
       "      <td>0</td>\n",
       "      <td>0</td>\n",
       "      <td>0</td>\n",
       "      <td>0</td>\n",
       "      <td>0</td>\n",
       "      <td>0</td>\n",
       "      <td>0</td>\n",
       "      <td>0</td>\n",
       "    </tr>\n",
       "    <tr>\n",
       "      <th>172</th>\n",
       "      <td>[SPT3, YAP6, TFC7]</td>\n",
       "      <td>1.364580</td>\n",
       "      <td>0</td>\n",
       "      <td>0</td>\n",
       "      <td>0</td>\n",
       "      <td>0</td>\n",
       "      <td>0</td>\n",
       "      <td>0</td>\n",
       "      <td>0</td>\n",
       "      <td>0</td>\n",
       "      <td>0</td>\n",
       "      <td>0</td>\n",
       "    </tr>\n",
       "    <tr>\n",
       "      <th>173</th>\n",
       "      <td>[TFC7]</td>\n",
       "      <td>1.310550</td>\n",
       "      <td>0</td>\n",
       "      <td>0</td>\n",
       "      <td>0</td>\n",
       "      <td>0</td>\n",
       "      <td>0</td>\n",
       "      <td>0</td>\n",
       "      <td>0</td>\n",
       "      <td>0</td>\n",
       "      <td>0</td>\n",
       "      <td>0</td>\n",
       "    </tr>\n",
       "    <tr>\n",
       "      <th>174</th>\n",
       "      <td>[YAP6]</td>\n",
       "      <td>1.357042</td>\n",
       "      <td>0</td>\n",
       "      <td>0</td>\n",
       "      <td>0</td>\n",
       "      <td>0</td>\n",
       "      <td>0</td>\n",
       "      <td>0</td>\n",
       "      <td>0</td>\n",
       "      <td>0</td>\n",
       "      <td>0</td>\n",
       "      <td>0</td>\n",
       "    </tr>\n",
       "    <tr>\n",
       "      <th>175</th>\n",
       "      <td>[YAP6, TFC7]</td>\n",
       "      <td>1.361717</td>\n",
       "      <td>0</td>\n",
       "      <td>0</td>\n",
       "      <td>0</td>\n",
       "      <td>0</td>\n",
       "      <td>0</td>\n",
       "      <td>0</td>\n",
       "      <td>0</td>\n",
       "      <td>0</td>\n",
       "      <td>0</td>\n",
       "      <td>0</td>\n",
       "    </tr>\n",
       "  </tbody>\n",
       "</table>\n",
       "<p>176 rows × 12 columns</p>\n",
       "</div>"
      ],
      "text/plain": [
       "            Combination  FoldChange  FKH1  GCN5  MED4  OPI1  RFX1  RGR1  RPD3  \\\n",
       "0             [PosCtrl]    1.000002     0     0     0     0     0     0     0   \n",
       "1                [FKH1]    2.128433     0     0     0     0     0     0     0   \n",
       "2          [FKH1, GCN5]    5.157823     0     0     0     0     0     0     0   \n",
       "3    [FKH1, GCN5, MED4]    5.029117     0     0     0     0     0     0     0   \n",
       "4    [FKH1, GCN5, OPI1]    2.425280     0     0     0     0     0     0     0   \n",
       "..                  ...         ...   ...   ...   ...   ...   ...   ...   ...   \n",
       "171        [SPT3, YAP6]    1.342010     0     0     0     0     0     0     0   \n",
       "172  [SPT3, YAP6, TFC7]    1.364580     0     0     0     0     0     0     0   \n",
       "173              [TFC7]    1.310550     0     0     0     0     0     0     0   \n",
       "174              [YAP6]    1.357042     0     0     0     0     0     0     0   \n",
       "175        [YAP6, TFC7]    1.361717     0     0     0     0     0     0     0   \n",
       "\n",
       "     SPT3  TFC7  YAP6  \n",
       "0       0     0     0  \n",
       "1       0     0     0  \n",
       "2       0     0     0  \n",
       "3       0     0     0  \n",
       "4       0     0     0  \n",
       "..    ...   ...   ...  \n",
       "171     0     0     0  \n",
       "172     0     0     0  \n",
       "173     0     0     0  \n",
       "174     0     0     0  \n",
       "175     0     0     0  \n",
       "\n",
       "[176 rows x 12 columns]"
      ]
     },
     "execution_count": 13,
     "metadata": {},
     "output_type": "execute_result"
    }
   ],
   "source": [
    "df"
   ]
  },
  {
   "cell_type": "code",
   "execution_count": 14,
   "id": "d62f0c3c-b707-46f8-bbe6-285315a33d49",
   "metadata": {
    "tags": []
   },
   "outputs": [],
   "source": [
    "for i in range(len(df)):\n",
    "    #print(i)\n",
    "    for j in df[\"Combination\"][i]:\n",
    "        df.loc[i, j] = 1"
   ]
  },
  {
   "cell_type": "code",
   "execution_count": 15,
   "id": "24d1c329-bf70-433c-b525-4f395cd123d0",
   "metadata": {},
   "outputs": [
    {
     "data": {
      "text/html": [
       "<div>\n",
       "<style scoped>\n",
       "    .dataframe tbody tr th:only-of-type {\n",
       "        vertical-align: middle;\n",
       "    }\n",
       "\n",
       "    .dataframe tbody tr th {\n",
       "        vertical-align: top;\n",
       "    }\n",
       "\n",
       "    .dataframe thead th {\n",
       "        text-align: right;\n",
       "    }\n",
       "</style>\n",
       "<table border=\"1\" class=\"dataframe\">\n",
       "  <thead>\n",
       "    <tr style=\"text-align: right;\">\n",
       "      <th></th>\n",
       "      <th>Combination</th>\n",
       "      <th>FoldChange</th>\n",
       "      <th>FKH1</th>\n",
       "      <th>GCN5</th>\n",
       "      <th>MED4</th>\n",
       "      <th>OPI1</th>\n",
       "      <th>RFX1</th>\n",
       "      <th>RGR1</th>\n",
       "      <th>RPD3</th>\n",
       "      <th>SPT3</th>\n",
       "      <th>TFC7</th>\n",
       "      <th>YAP6</th>\n",
       "      <th>PosCtrl</th>\n",
       "    </tr>\n",
       "  </thead>\n",
       "  <tbody>\n",
       "    <tr>\n",
       "      <th>0</th>\n",
       "      <td>[PosCtrl]</td>\n",
       "      <td>1.000002</td>\n",
       "      <td>0</td>\n",
       "      <td>0</td>\n",
       "      <td>0</td>\n",
       "      <td>0</td>\n",
       "      <td>0</td>\n",
       "      <td>0</td>\n",
       "      <td>0</td>\n",
       "      <td>0</td>\n",
       "      <td>0</td>\n",
       "      <td>0</td>\n",
       "      <td>1.0</td>\n",
       "    </tr>\n",
       "    <tr>\n",
       "      <th>1</th>\n",
       "      <td>[FKH1]</td>\n",
       "      <td>2.128433</td>\n",
       "      <td>1</td>\n",
       "      <td>0</td>\n",
       "      <td>0</td>\n",
       "      <td>0</td>\n",
       "      <td>0</td>\n",
       "      <td>0</td>\n",
       "      <td>0</td>\n",
       "      <td>0</td>\n",
       "      <td>0</td>\n",
       "      <td>0</td>\n",
       "      <td>NaN</td>\n",
       "    </tr>\n",
       "    <tr>\n",
       "      <th>2</th>\n",
       "      <td>[FKH1, GCN5]</td>\n",
       "      <td>5.157823</td>\n",
       "      <td>1</td>\n",
       "      <td>1</td>\n",
       "      <td>0</td>\n",
       "      <td>0</td>\n",
       "      <td>0</td>\n",
       "      <td>0</td>\n",
       "      <td>0</td>\n",
       "      <td>0</td>\n",
       "      <td>0</td>\n",
       "      <td>0</td>\n",
       "      <td>NaN</td>\n",
       "    </tr>\n",
       "    <tr>\n",
       "      <th>3</th>\n",
       "      <td>[FKH1, GCN5, MED4]</td>\n",
       "      <td>5.029117</td>\n",
       "      <td>1</td>\n",
       "      <td>1</td>\n",
       "      <td>1</td>\n",
       "      <td>0</td>\n",
       "      <td>0</td>\n",
       "      <td>0</td>\n",
       "      <td>0</td>\n",
       "      <td>0</td>\n",
       "      <td>0</td>\n",
       "      <td>0</td>\n",
       "      <td>NaN</td>\n",
       "    </tr>\n",
       "    <tr>\n",
       "      <th>4</th>\n",
       "      <td>[FKH1, GCN5, OPI1]</td>\n",
       "      <td>2.425280</td>\n",
       "      <td>1</td>\n",
       "      <td>1</td>\n",
       "      <td>0</td>\n",
       "      <td>1</td>\n",
       "      <td>0</td>\n",
       "      <td>0</td>\n",
       "      <td>0</td>\n",
       "      <td>0</td>\n",
       "      <td>0</td>\n",
       "      <td>0</td>\n",
       "      <td>NaN</td>\n",
       "    </tr>\n",
       "    <tr>\n",
       "      <th>...</th>\n",
       "      <td>...</td>\n",
       "      <td>...</td>\n",
       "      <td>...</td>\n",
       "      <td>...</td>\n",
       "      <td>...</td>\n",
       "      <td>...</td>\n",
       "      <td>...</td>\n",
       "      <td>...</td>\n",
       "      <td>...</td>\n",
       "      <td>...</td>\n",
       "      <td>...</td>\n",
       "      <td>...</td>\n",
       "      <td>...</td>\n",
       "    </tr>\n",
       "    <tr>\n",
       "      <th>171</th>\n",
       "      <td>[SPT3, YAP6]</td>\n",
       "      <td>1.342010</td>\n",
       "      <td>0</td>\n",
       "      <td>0</td>\n",
       "      <td>0</td>\n",
       "      <td>0</td>\n",
       "      <td>0</td>\n",
       "      <td>0</td>\n",
       "      <td>0</td>\n",
       "      <td>1</td>\n",
       "      <td>0</td>\n",
       "      <td>1</td>\n",
       "      <td>NaN</td>\n",
       "    </tr>\n",
       "    <tr>\n",
       "      <th>172</th>\n",
       "      <td>[SPT3, YAP6, TFC7]</td>\n",
       "      <td>1.364580</td>\n",
       "      <td>0</td>\n",
       "      <td>0</td>\n",
       "      <td>0</td>\n",
       "      <td>0</td>\n",
       "      <td>0</td>\n",
       "      <td>0</td>\n",
       "      <td>0</td>\n",
       "      <td>1</td>\n",
       "      <td>1</td>\n",
       "      <td>1</td>\n",
       "      <td>NaN</td>\n",
       "    </tr>\n",
       "    <tr>\n",
       "      <th>173</th>\n",
       "      <td>[TFC7]</td>\n",
       "      <td>1.310550</td>\n",
       "      <td>0</td>\n",
       "      <td>0</td>\n",
       "      <td>0</td>\n",
       "      <td>0</td>\n",
       "      <td>0</td>\n",
       "      <td>0</td>\n",
       "      <td>0</td>\n",
       "      <td>0</td>\n",
       "      <td>1</td>\n",
       "      <td>0</td>\n",
       "      <td>NaN</td>\n",
       "    </tr>\n",
       "    <tr>\n",
       "      <th>174</th>\n",
       "      <td>[YAP6]</td>\n",
       "      <td>1.357042</td>\n",
       "      <td>0</td>\n",
       "      <td>0</td>\n",
       "      <td>0</td>\n",
       "      <td>0</td>\n",
       "      <td>0</td>\n",
       "      <td>0</td>\n",
       "      <td>0</td>\n",
       "      <td>0</td>\n",
       "      <td>0</td>\n",
       "      <td>1</td>\n",
       "      <td>NaN</td>\n",
       "    </tr>\n",
       "    <tr>\n",
       "      <th>175</th>\n",
       "      <td>[YAP6, TFC7]</td>\n",
       "      <td>1.361717</td>\n",
       "      <td>0</td>\n",
       "      <td>0</td>\n",
       "      <td>0</td>\n",
       "      <td>0</td>\n",
       "      <td>0</td>\n",
       "      <td>0</td>\n",
       "      <td>0</td>\n",
       "      <td>0</td>\n",
       "      <td>1</td>\n",
       "      <td>1</td>\n",
       "      <td>NaN</td>\n",
       "    </tr>\n",
       "  </tbody>\n",
       "</table>\n",
       "<p>176 rows × 13 columns</p>\n",
       "</div>"
      ],
      "text/plain": [
       "            Combination  FoldChange  FKH1  GCN5  MED4  OPI1  RFX1  RGR1  RPD3  \\\n",
       "0             [PosCtrl]    1.000002     0     0     0     0     0     0     0   \n",
       "1                [FKH1]    2.128433     1     0     0     0     0     0     0   \n",
       "2          [FKH1, GCN5]    5.157823     1     1     0     0     0     0     0   \n",
       "3    [FKH1, GCN5, MED4]    5.029117     1     1     1     0     0     0     0   \n",
       "4    [FKH1, GCN5, OPI1]    2.425280     1     1     0     1     0     0     0   \n",
       "..                  ...         ...   ...   ...   ...   ...   ...   ...   ...   \n",
       "171        [SPT3, YAP6]    1.342010     0     0     0     0     0     0     0   \n",
       "172  [SPT3, YAP6, TFC7]    1.364580     0     0     0     0     0     0     0   \n",
       "173              [TFC7]    1.310550     0     0     0     0     0     0     0   \n",
       "174              [YAP6]    1.357042     0     0     0     0     0     0     0   \n",
       "175        [YAP6, TFC7]    1.361717     0     0     0     0     0     0     0   \n",
       "\n",
       "     SPT3  TFC7  YAP6  PosCtrl  \n",
       "0       0     0     0      1.0  \n",
       "1       0     0     0      NaN  \n",
       "2       0     0     0      NaN  \n",
       "3       0     0     0      NaN  \n",
       "4       0     0     0      NaN  \n",
       "..    ...   ...   ...      ...  \n",
       "171     1     0     1      NaN  \n",
       "172     1     1     1      NaN  \n",
       "173     0     1     0      NaN  \n",
       "174     0     0     1      NaN  \n",
       "175     0     1     1      NaN  \n",
       "\n",
       "[176 rows x 13 columns]"
      ]
     },
     "execution_count": 15,
     "metadata": {},
     "output_type": "execute_result"
    }
   ],
   "source": [
    "df"
   ]
  },
  {
   "cell_type": "code",
   "execution_count": 16,
   "id": "2ef291b2-6e16-40ff-8904-ce4132d82a84",
   "metadata": {},
   "outputs": [],
   "source": [
    "features = gList"
   ]
  },
  {
   "cell_type": "code",
   "execution_count": 20,
   "id": "d8c70aef-3529-4ec8-8e2c-f0c4d4c825ac",
   "metadata": {},
   "outputs": [],
   "source": [
    "target = \"Combination\""
   ]
  },
  {
   "cell_type": "code",
   "execution_count": 18,
   "id": "1991b67f-cc17-4a02-9711-a142612c08bf",
   "metadata": {},
   "outputs": [],
   "source": [
    "x = df.loc[:, features].values"
   ]
  },
  {
   "cell_type": "code",
   "execution_count": 21,
   "id": "ffe5dea8-e743-46c8-961f-a9d3d8a43ed3",
   "metadata": {},
   "outputs": [],
   "source": [
    "y = df.loc[:,target].values"
   ]
  },
  {
   "cell_type": "code",
   "execution_count": null,
   "id": "852a95bf-9697-4af7-a814-cb6b7a6fc75a",
   "metadata": {},
   "outputs": [],
   "source": []
  },
  {
   "cell_type": "code",
   "execution_count": 22,
   "id": "19a58205-9f9b-48f6-a2b3-82f21d945e72",
   "metadata": {},
   "outputs": [],
   "source": [
    "pca = PCA(n_components=2)\n",
    "principalComponents = pca.fit_transform(x)"
   ]
  },
  {
   "cell_type": "code",
   "execution_count": 23,
   "id": "4a9ed672-b848-4528-8536-a0baf1b6495c",
   "metadata": {},
   "outputs": [],
   "source": [
    "principalDf = pd.DataFrame(data = principalComponents\n",
    "             , columns = ['principal component 1', 'principal component 2'])"
   ]
  },
  {
   "cell_type": "code",
   "execution_count": 24,
   "id": "558b39ed-145e-4feb-a1b4-7adc6afb28e6",
   "metadata": {},
   "outputs": [
    {
     "data": {
      "text/html": [
       "<div>\n",
       "<style scoped>\n",
       "    .dataframe tbody tr th:only-of-type {\n",
       "        vertical-align: middle;\n",
       "    }\n",
       "\n",
       "    .dataframe tbody tr th {\n",
       "        vertical-align: top;\n",
       "    }\n",
       "\n",
       "    .dataframe thead th {\n",
       "        text-align: right;\n",
       "    }\n",
       "</style>\n",
       "<table border=\"1\" class=\"dataframe\">\n",
       "  <thead>\n",
       "    <tr style=\"text-align: right;\">\n",
       "      <th></th>\n",
       "      <th>principal component 1</th>\n",
       "      <th>principal component 2</th>\n",
       "    </tr>\n",
       "  </thead>\n",
       "  <tbody>\n",
       "    <tr>\n",
       "      <th>0</th>\n",
       "      <td>2.510070e-16</td>\n",
       "      <td>4.188115e-16</td>\n",
       "    </tr>\n",
       "    <tr>\n",
       "      <th>1</th>\n",
       "      <td>-2.223658e-16</td>\n",
       "      <td>7.987199e-16</td>\n",
       "    </tr>\n",
       "    <tr>\n",
       "      <th>2</th>\n",
       "      <td>-4.588983e-01</td>\n",
       "      <td>3.485850e-01</td>\n",
       "    </tr>\n",
       "    <tr>\n",
       "      <th>3</th>\n",
       "      <td>-6.023703e-01</td>\n",
       "      <td>7.605430e-01</td>\n",
       "    </tr>\n",
       "    <tr>\n",
       "      <th>4</th>\n",
       "      <td>-1.212083e-01</td>\n",
       "      <td>8.375867e-01</td>\n",
       "    </tr>\n",
       "    <tr>\n",
       "      <th>...</th>\n",
       "      <td>...</td>\n",
       "      <td>...</td>\n",
       "    </tr>\n",
       "    <tr>\n",
       "      <th>171</th>\n",
       "      <td>3.698005e-01</td>\n",
       "      <td>-3.846861e-01</td>\n",
       "    </tr>\n",
       "    <tr>\n",
       "      <th>172</th>\n",
       "      <td>4.678125e-01</td>\n",
       "      <td>-5.197471e-01</td>\n",
       "    </tr>\n",
       "    <tr>\n",
       "      <th>173</th>\n",
       "      <td>9.801198e-02</td>\n",
       "      <td>-1.350610e-01</td>\n",
       "    </tr>\n",
       "    <tr>\n",
       "      <th>174</th>\n",
       "      <td>-1.233240e-01</td>\n",
       "      <td>-9.543221e-02</td>\n",
       "    </tr>\n",
       "    <tr>\n",
       "      <th>175</th>\n",
       "      <td>-2.531199e-02</td>\n",
       "      <td>-2.304932e-01</td>\n",
       "    </tr>\n",
       "  </tbody>\n",
       "</table>\n",
       "<p>176 rows × 2 columns</p>\n",
       "</div>"
      ],
      "text/plain": [
       "     principal component 1  principal component 2\n",
       "0             2.510070e-16           4.188115e-16\n",
       "1            -2.223658e-16           7.987199e-16\n",
       "2            -4.588983e-01           3.485850e-01\n",
       "3            -6.023703e-01           7.605430e-01\n",
       "4            -1.212083e-01           8.375867e-01\n",
       "..                     ...                    ...\n",
       "171           3.698005e-01          -3.846861e-01\n",
       "172           4.678125e-01          -5.197471e-01\n",
       "173           9.801198e-02          -1.350610e-01\n",
       "174          -1.233240e-01          -9.543221e-02\n",
       "175          -2.531199e-02          -2.304932e-01\n",
       "\n",
       "[176 rows x 2 columns]"
      ]
     },
     "execution_count": 24,
     "metadata": {},
     "output_type": "execute_result"
    }
   ],
   "source": [
    "principalDf "
   ]
  },
  {
   "cell_type": "code",
   "execution_count": 25,
   "id": "6a0d06e4-4a29-4bfa-ad8b-756de07c5158",
   "metadata": {},
   "outputs": [],
   "source": [
    "finalDf = pd.concat([principalDf, df[target]], axis = 1)"
   ]
  },
  {
   "cell_type": "code",
   "execution_count": 31,
   "id": "d2802e39-540a-4afe-b512-cb155910d590",
   "metadata": {},
   "outputs": [],
   "source": [
    "finalDf[\"FoldChange\"] = df[\"FoldChange\"]"
   ]
  },
  {
   "cell_type": "code",
   "execution_count": 32,
   "id": "0db0297b-88f0-4bf6-9408-51023c6d1928",
   "metadata": {
    "tags": []
   },
   "outputs": [
    {
     "data": {
      "text/html": [
       "<div>\n",
       "<style scoped>\n",
       "    .dataframe tbody tr th:only-of-type {\n",
       "        vertical-align: middle;\n",
       "    }\n",
       "\n",
       "    .dataframe tbody tr th {\n",
       "        vertical-align: top;\n",
       "    }\n",
       "\n",
       "    .dataframe thead th {\n",
       "        text-align: right;\n",
       "    }\n",
       "</style>\n",
       "<table border=\"1\" class=\"dataframe\">\n",
       "  <thead>\n",
       "    <tr style=\"text-align: right;\">\n",
       "      <th></th>\n",
       "      <th>principal component 1</th>\n",
       "      <th>principal component 2</th>\n",
       "      <th>Combination</th>\n",
       "      <th>FoldChange</th>\n",
       "    </tr>\n",
       "  </thead>\n",
       "  <tbody>\n",
       "    <tr>\n",
       "      <th>0</th>\n",
       "      <td>2.510070e-16</td>\n",
       "      <td>4.188115e-16</td>\n",
       "      <td>[PosCtrl]</td>\n",
       "      <td>1.000002</td>\n",
       "    </tr>\n",
       "    <tr>\n",
       "      <th>1</th>\n",
       "      <td>-2.223658e-16</td>\n",
       "      <td>7.987199e-16</td>\n",
       "      <td>[FKH1]</td>\n",
       "      <td>2.128433</td>\n",
       "    </tr>\n",
       "    <tr>\n",
       "      <th>2</th>\n",
       "      <td>-4.588983e-01</td>\n",
       "      <td>3.485850e-01</td>\n",
       "      <td>[FKH1, GCN5]</td>\n",
       "      <td>5.157823</td>\n",
       "    </tr>\n",
       "    <tr>\n",
       "      <th>3</th>\n",
       "      <td>-6.023703e-01</td>\n",
       "      <td>7.605430e-01</td>\n",
       "      <td>[FKH1, GCN5, MED4]</td>\n",
       "      <td>5.029117</td>\n",
       "    </tr>\n",
       "    <tr>\n",
       "      <th>4</th>\n",
       "      <td>-1.212083e-01</td>\n",
       "      <td>8.375867e-01</td>\n",
       "      <td>[FKH1, GCN5, OPI1]</td>\n",
       "      <td>2.425280</td>\n",
       "    </tr>\n",
       "    <tr>\n",
       "      <th>...</th>\n",
       "      <td>...</td>\n",
       "      <td>...</td>\n",
       "      <td>...</td>\n",
       "      <td>...</td>\n",
       "    </tr>\n",
       "    <tr>\n",
       "      <th>171</th>\n",
       "      <td>3.698005e-01</td>\n",
       "      <td>-3.846861e-01</td>\n",
       "      <td>[SPT3, YAP6]</td>\n",
       "      <td>1.342010</td>\n",
       "    </tr>\n",
       "    <tr>\n",
       "      <th>172</th>\n",
       "      <td>4.678125e-01</td>\n",
       "      <td>-5.197471e-01</td>\n",
       "      <td>[SPT3, YAP6, TFC7]</td>\n",
       "      <td>1.364580</td>\n",
       "    </tr>\n",
       "    <tr>\n",
       "      <th>173</th>\n",
       "      <td>9.801198e-02</td>\n",
       "      <td>-1.350610e-01</td>\n",
       "      <td>[TFC7]</td>\n",
       "      <td>1.310550</td>\n",
       "    </tr>\n",
       "    <tr>\n",
       "      <th>174</th>\n",
       "      <td>-1.233240e-01</td>\n",
       "      <td>-9.543221e-02</td>\n",
       "      <td>[YAP6]</td>\n",
       "      <td>1.357042</td>\n",
       "    </tr>\n",
       "    <tr>\n",
       "      <th>175</th>\n",
       "      <td>-2.531199e-02</td>\n",
       "      <td>-2.304932e-01</td>\n",
       "      <td>[YAP6, TFC7]</td>\n",
       "      <td>1.361717</td>\n",
       "    </tr>\n",
       "  </tbody>\n",
       "</table>\n",
       "<p>176 rows × 4 columns</p>\n",
       "</div>"
      ],
      "text/plain": [
       "     principal component 1  principal component 2         Combination  \\\n",
       "0             2.510070e-16           4.188115e-16           [PosCtrl]   \n",
       "1            -2.223658e-16           7.987199e-16              [FKH1]   \n",
       "2            -4.588983e-01           3.485850e-01        [FKH1, GCN5]   \n",
       "3            -6.023703e-01           7.605430e-01  [FKH1, GCN5, MED4]   \n",
       "4            -1.212083e-01           8.375867e-01  [FKH1, GCN5, OPI1]   \n",
       "..                     ...                    ...                 ...   \n",
       "171           3.698005e-01          -3.846861e-01        [SPT3, YAP6]   \n",
       "172           4.678125e-01          -5.197471e-01  [SPT3, YAP6, TFC7]   \n",
       "173           9.801198e-02          -1.350610e-01              [TFC7]   \n",
       "174          -1.233240e-01          -9.543221e-02              [YAP6]   \n",
       "175          -2.531199e-02          -2.304932e-01        [YAP6, TFC7]   \n",
       "\n",
       "     FoldChange  \n",
       "0      1.000002  \n",
       "1      2.128433  \n",
       "2      5.157823  \n",
       "3      5.029117  \n",
       "4      2.425280  \n",
       "..          ...  \n",
       "171    1.342010  \n",
       "172    1.364580  \n",
       "173    1.310550  \n",
       "174    1.357042  \n",
       "175    1.361717  \n",
       "\n",
       "[176 rows x 4 columns]"
      ]
     },
     "execution_count": 32,
     "metadata": {},
     "output_type": "execute_result"
    }
   ],
   "source": [
    "finalDf"
   ]
  },
  {
   "cell_type": "code",
   "execution_count": 36,
   "id": "9a43517b-b4d7-440b-ac96-a5823fa8d72c",
   "metadata": {
    "tags": []
   },
   "outputs": [],
   "source": [
    "finalDf[\"combNum\"] = 0"
   ]
  },
  {
   "cell_type": "code",
   "execution_count": 38,
   "id": "41c2214a-fa32-4a3a-a9cf-33522b7fc498",
   "metadata": {
    "tags": []
   },
   "outputs": [],
   "source": [
    "for i in range(len(finalDf)):\n",
    "    finalDf.loc[i, \"combNum\"] = len(finalDf[\"Combination\"][i])"
   ]
  },
  {
   "cell_type": "code",
   "execution_count": 39,
   "id": "4ec28311-a287-4dae-8db7-c374cfa6cf89",
   "metadata": {},
   "outputs": [
    {
     "data": {
      "text/html": [
       "<div>\n",
       "<style scoped>\n",
       "    .dataframe tbody tr th:only-of-type {\n",
       "        vertical-align: middle;\n",
       "    }\n",
       "\n",
       "    .dataframe tbody tr th {\n",
       "        vertical-align: top;\n",
       "    }\n",
       "\n",
       "    .dataframe thead th {\n",
       "        text-align: right;\n",
       "    }\n",
       "</style>\n",
       "<table border=\"1\" class=\"dataframe\">\n",
       "  <thead>\n",
       "    <tr style=\"text-align: right;\">\n",
       "      <th></th>\n",
       "      <th>principal component 1</th>\n",
       "      <th>principal component 2</th>\n",
       "      <th>Combination</th>\n",
       "      <th>FoldChange</th>\n",
       "      <th>combNum</th>\n",
       "    </tr>\n",
       "  </thead>\n",
       "  <tbody>\n",
       "    <tr>\n",
       "      <th>0</th>\n",
       "      <td>2.510070e-16</td>\n",
       "      <td>4.188115e-16</td>\n",
       "      <td>[PosCtrl]</td>\n",
       "      <td>1.000002</td>\n",
       "      <td>1</td>\n",
       "    </tr>\n",
       "    <tr>\n",
       "      <th>1</th>\n",
       "      <td>-2.223658e-16</td>\n",
       "      <td>7.987199e-16</td>\n",
       "      <td>[FKH1]</td>\n",
       "      <td>2.128433</td>\n",
       "      <td>1</td>\n",
       "    </tr>\n",
       "    <tr>\n",
       "      <th>2</th>\n",
       "      <td>-4.588983e-01</td>\n",
       "      <td>3.485850e-01</td>\n",
       "      <td>[FKH1, GCN5]</td>\n",
       "      <td>5.157823</td>\n",
       "      <td>2</td>\n",
       "    </tr>\n",
       "    <tr>\n",
       "      <th>3</th>\n",
       "      <td>-6.023703e-01</td>\n",
       "      <td>7.605430e-01</td>\n",
       "      <td>[FKH1, GCN5, MED4]</td>\n",
       "      <td>5.029117</td>\n",
       "      <td>3</td>\n",
       "    </tr>\n",
       "    <tr>\n",
       "      <th>4</th>\n",
       "      <td>-1.212083e-01</td>\n",
       "      <td>8.375867e-01</td>\n",
       "      <td>[FKH1, GCN5, OPI1]</td>\n",
       "      <td>2.425280</td>\n",
       "      <td>3</td>\n",
       "    </tr>\n",
       "    <tr>\n",
       "      <th>...</th>\n",
       "      <td>...</td>\n",
       "      <td>...</td>\n",
       "      <td>...</td>\n",
       "      <td>...</td>\n",
       "      <td>...</td>\n",
       "    </tr>\n",
       "    <tr>\n",
       "      <th>171</th>\n",
       "      <td>3.698005e-01</td>\n",
       "      <td>-3.846861e-01</td>\n",
       "      <td>[SPT3, YAP6]</td>\n",
       "      <td>1.342010</td>\n",
       "      <td>2</td>\n",
       "    </tr>\n",
       "    <tr>\n",
       "      <th>172</th>\n",
       "      <td>4.678125e-01</td>\n",
       "      <td>-5.197471e-01</td>\n",
       "      <td>[SPT3, YAP6, TFC7]</td>\n",
       "      <td>1.364580</td>\n",
       "      <td>3</td>\n",
       "    </tr>\n",
       "    <tr>\n",
       "      <th>173</th>\n",
       "      <td>9.801198e-02</td>\n",
       "      <td>-1.350610e-01</td>\n",
       "      <td>[TFC7]</td>\n",
       "      <td>1.310550</td>\n",
       "      <td>1</td>\n",
       "    </tr>\n",
       "    <tr>\n",
       "      <th>174</th>\n",
       "      <td>-1.233240e-01</td>\n",
       "      <td>-9.543221e-02</td>\n",
       "      <td>[YAP6]</td>\n",
       "      <td>1.357042</td>\n",
       "      <td>1</td>\n",
       "    </tr>\n",
       "    <tr>\n",
       "      <th>175</th>\n",
       "      <td>-2.531199e-02</td>\n",
       "      <td>-2.304932e-01</td>\n",
       "      <td>[YAP6, TFC7]</td>\n",
       "      <td>1.361717</td>\n",
       "      <td>2</td>\n",
       "    </tr>\n",
       "  </tbody>\n",
       "</table>\n",
       "<p>176 rows × 5 columns</p>\n",
       "</div>"
      ],
      "text/plain": [
       "     principal component 1  principal component 2         Combination  \\\n",
       "0             2.510070e-16           4.188115e-16           [PosCtrl]   \n",
       "1            -2.223658e-16           7.987199e-16              [FKH1]   \n",
       "2            -4.588983e-01           3.485850e-01        [FKH1, GCN5]   \n",
       "3            -6.023703e-01           7.605430e-01  [FKH1, GCN5, MED4]   \n",
       "4            -1.212083e-01           8.375867e-01  [FKH1, GCN5, OPI1]   \n",
       "..                     ...                    ...                 ...   \n",
       "171           3.698005e-01          -3.846861e-01        [SPT3, YAP6]   \n",
       "172           4.678125e-01          -5.197471e-01  [SPT3, YAP6, TFC7]   \n",
       "173           9.801198e-02          -1.350610e-01              [TFC7]   \n",
       "174          -1.233240e-01          -9.543221e-02              [YAP6]   \n",
       "175          -2.531199e-02          -2.304932e-01        [YAP6, TFC7]   \n",
       "\n",
       "     FoldChange  combNum  \n",
       "0      1.000002        1  \n",
       "1      2.128433        1  \n",
       "2      5.157823        2  \n",
       "3      5.029117        3  \n",
       "4      2.425280        3  \n",
       "..          ...      ...  \n",
       "171    1.342010        2  \n",
       "172    1.364580        3  \n",
       "173    1.310550        1  \n",
       "174    1.357042        1  \n",
       "175    1.361717        2  \n",
       "\n",
       "[176 rows x 5 columns]"
      ]
     },
     "execution_count": 39,
     "metadata": {},
     "output_type": "execute_result"
    }
   ],
   "source": [
    "finalDf"
   ]
  },
  {
   "cell_type": "code",
   "execution_count": 33,
   "id": "19df2456-bada-4a53-867c-c581352f9d9c",
   "metadata": {},
   "outputs": [],
   "source": [
    "import plotly.express as px"
   ]
  },
  {
   "cell_type": "code",
   "execution_count": 40,
   "id": "a15a213c-b0d0-4e56-94dc-0d241aa91bef",
   "metadata": {
    "tags": []
   },
   "outputs": [
    {
     "data": {
      "application/vnd.plotly.v1+json": {
       "config": {
        "plotlyServerURL": "https://plot.ly"
       },
       "data": [
        {
         "hovertemplate": "combNum=1<br>principal component 1=%{x}<br>principal component 2=%{y}<br>FoldChange=%{marker.color}<extra></extra>",
         "legendgroup": "1",
         "marker": {
          "color": [
           1.000002,
           2.128433333,
           2.599685,
           1.77026,
           1.615123333,
           1.819006667,
           2.125706667,
           1.378976667,
           1.340733333,
           1.31055,
           1.357042
          ],
          "coloraxis": "coloraxis",
          "symbol": "circle"
         },
         "mode": "markers",
         "name": "1",
         "scene": "scene",
         "showlegend": true,
         "type": "scatter3d",
         "x": [
          2.5100704632608243e-16,
          -2.223658303759982e-16,
          -0.4588983239217036,
          -0.14347193930784058,
          0.33769004290476196,
          -0.37367631055062783,
          -0.2557778562383712,
          0.42632185524604593,
          0.493124521787624,
          0.0980119823006357,
          -0.12332397222052674
         ],
         "y": [
          4.188114641518787e-16,
          7.987199355955495e-16,
          0.3485849701708812,
          0.41195804777131095,
          0.48900173591972024,
          -0.5902715607406442,
          -0.05418223640377204,
          -0.08534388187998729,
          -0.289253866555982,
          -0.13506099954056927,
          -0.0954322087409539
         ],
         "z": [
          1.000002,
          2.128433333,
          2.599685,
          1.77026,
          1.615123333,
          1.819006667,
          2.125706667,
          1.378976667,
          1.340733333,
          1.31055,
          1.357042
         ]
        },
        {
         "hovertemplate": "combNum=2<br>principal component 1=%{x}<br>principal component 2=%{y}<br>FoldChange=%{marker.color}<extra></extra>",
         "legendgroup": "2",
         "marker": {
          "color": [
           5.157823333,
           1.647596667,
           0.780485333,
           0.805052667,
           0.725697333,
           0.741752,
           0.782490667,
           0.564727667,
           0.732489333,
           2.966035,
           2.81656,
           2.54447,
           2.22467,
           2.554586667,
           2.749456667,
           2.22186,
           2.54277,
           1.152155667,
           0.717797,
           0.862201667,
           1.14897,
           0.787893,
           0.922303,
           0.839796667,
           1.678146667,
           1.462776667,
           1.577056667,
           1.68223,
           1.754623333,
           1.67279,
           1.22756,
           1.21338,
           1.201306667,
           1.074211333,
           1.16502,
           0.910361333,
           1.180542,
           1.234176667,
           1.064129,
           1.36415,
           1.27403,
           1.236983333,
           1.177084,
           1.34201,
           1.361716667
          ],
          "coloraxis": "coloraxis",
          "symbol": "diamond"
         },
         "mode": "markers",
         "name": "2",
         "scene": "scene",
         "showlegend": true,
         "type": "scatter3d",
         "x": [
          -0.45889832392170327,
          -0.1434719393078406,
          0.33769004290476184,
          -0.37367631055062783,
          -0.2557778562383712,
          0.4263218552460461,
          0.49312452178762417,
          0.09801198230063582,
          -0.12332397222052666,
          -0.6023702632295439,
          -0.12120828101694128,
          -0.8325746344723313,
          -0.7146761801600744,
          -0.032576468675657284,
          0.0342261978659208,
          -0.3608863416210675,
          -0.5822222961422299,
          0.1942181035969217,
          -0.5171482498584681,
          -0.39924979554621126,
          0.28284991593820574,
          0.3496525824797838,
          -0.04545995700720442,
          -0.26679591152836685,
          -0.03598626764586551,
          0.08191218666639129,
          0.7640118981508083,
          0.8308145646923865,
          0.43570202520539814,
          0.21436607068423566,
          -0.6294541667889986,
          0.052645544695418475,
          0.11944821123699666,
          -0.2756643282499917,
          -0.49700028277115416,
          0.1705439990076752,
          0.23734666554925327,
          -0.15776587393773503,
          -0.37910182845889745,
          0.9194463770336703,
          0.5243338375466821,
          0.3029978830255196,
          0.5911365040882601,
          0.3698005495670977,
          -0.025311989919890587
         ],
         "y": [
          0.3485849701708812,
          0.4119580477713107,
          0.48900173591972,
          -0.5902715607406444,
          -0.05418223640377231,
          -0.08534388187998757,
          -0.28925386655598223,
          -0.13506099954056958,
          -0.09543220874095416,
          0.7605430179421915,
          0.8375867060906007,
          -0.24168659056976344,
          0.2944027337671085,
          0.26324108829089327,
          0.05933110361489858,
          0.21352397063031128,
          0.25315276142992665,
          0.9009597836910301,
          -0.1783135129693338,
          0.3577758113675382,
          0.32661416589132297,
          0.12270418121532826,
          0.27689704823074096,
          0.31652583903035636,
          -0.10126982482092453,
          0.4348194995159475,
          0.40365785403973226,
          0.19974786936373753,
          0.3539407363791503,
          0.3935695271787657,
          -0.6444537971444168,
          -0.6756154426206322,
          -0.879525427296627,
          -0.7253325602812142,
          -0.6857037694815987,
          -0.13952611828375996,
          -0.3434361029597547,
          -0.18924323594434198,
          -0.14961444514472658,
          -0.37459774843596993,
          -0.22040488142055722,
          -0.18077609062094185,
          -0.4243148660965519,
          -0.3846860752969365,
          -0.23049320828152386
         ],
         "z": [
          5.157823333,
          1.647596667,
          0.780485333,
          0.805052667,
          0.725697333,
          0.741752,
          0.782490667,
          0.564727667,
          0.732489333,
          2.966035,
          2.81656,
          2.54447,
          2.22467,
          2.554586667,
          2.749456667,
          2.22186,
          2.54277,
          1.152155667,
          0.717797,
          0.862201667,
          1.14897,
          0.787893,
          0.922303,
          0.839796667,
          1.678146667,
          1.462776667,
          1.577056667,
          1.68223,
          1.754623333,
          1.67279,
          1.22756,
          1.21338,
          1.201306667,
          1.074211333,
          1.16502,
          0.910361333,
          1.180542,
          1.234176667,
          1.064129,
          1.36415,
          1.27403,
          1.236983333,
          1.177084,
          1.34201,
          1.361716667
         ]
        },
        {
         "hovertemplate": "combNum=3<br>principal component 1=%{x}<br>principal component 2=%{y}<br>FoldChange=%{marker.color}<extra></extra>",
         "legendgroup": "3",
         "marker": {
          "color": [
           5.029116667,
           2.42528,
           2.01398,
           2.461696667,
           2.13472,
           2.08414,
           1.989686667,
           2.04643,
           1.395033333,
           0.922934,
           0.992424333,
           1.022911,
           0.747680333,
           1.008125667,
           0.96147,
           1.19121,
           1.286356667,
           1.12363,
           1.086534,
           0.994274,
           1.026538,
           0.949409667,
           0.781767667,
           0.887615,
           0.944032,
           1.029742,
           0.931904,
           0.853929667,
           0.981971667,
           1.458608667,
           1.006813333,
           0.983735,
           1.10772,
           1.063973333,
           1.37882,
           1.106236667,
           2.055403333,
           1.462963333,
           1.800216667,
           1.647156667,
           1.694646667,
           1.704946667,
           1.331214667,
           2.775123333,
           2.568386667,
           3.111253333,
           2.7452,
           2.01195,
           2.237266667,
           1.715236667,
           1.88879,
           1.805913333,
           1.718006667,
           1.777686667,
           1.646423333,
           1.499983333,
           1.697885,
           1.766856667,
           1.74478,
           1.035386667,
           2.283946667,
           1.602533333,
           1.82604,
           1.886913333,
           1.004137,
           1.273903333,
           1.22666,
           1.043728,
           1.311055,
           1.181005,
           1.884443333,
           1.507135,
           1.73152,
           1.371483333,
           1.22228,
           2.035346667,
           1.543113333,
           1.776663333,
           1.555233333,
           1.69526,
           1.862513333,
           1.868566667,
           1.757286667,
           1.675636667,
           1.406126667,
           0.990367667,
           0.847804,
           1.191013333,
           1.11598,
           1.240276667,
           0.652683,
           0.943093,
           0.959279333,
           1.072392667,
           1.185537,
           1.024376,
           0.961131667,
           1.019376,
           1.215795,
           1.117213333,
           0.795282333,
           0.731265,
           0.866479,
           0.843328333,
           0.759566333,
           0.840007,
           1.162230333,
           0.900694667,
           0.894,
           1.377903333,
           1.613456667,
           1.595823333,
           1.378825,
           1.45052,
           1.295066667,
           1.43069,
           1.475256667,
           1.229073333,
           1.389416667,
           1.36458
          ],
          "coloraxis": "coloraxis",
          "symbol": "square"
         },
         "mode": "markers",
         "name": "3",
         "scene": "scene",
         "showlegend": true,
         "type": "scatter3d",
         "x": [
          -0.6023702632295436,
          -0.12120828101694145,
          -0.8325746344723309,
          -0.7146761801600751,
          -0.03257646867565719,
          0.034226197865920814,
          -0.3608863416210676,
          -0.58222229614223,
          0.19421810359692174,
          -0.5171482498584681,
          -0.39924979554621126,
          0.2828499159382058,
          0.349652582479784,
          -0.045459957007204434,
          -0.2667959115283669,
          -0.035986267645865634,
          0.08191218666639118,
          0.7640118981508083,
          0.8308145646923865,
          0.4357020252053981,
          0.21436607068423558,
          -0.6294541667889986,
          0.052645544695418586,
          0.11944821123699666,
          -0.27566432824999165,
          -0.49700028277115404,
          0.17054399900767525,
          0.23734666554925327,
          -0.15776587393773495,
          -0.3791018284588974,
          0.9194463770336705,
          0.5243338375466823,
          0.3029978830255198,
          0.5911365040882604,
          0.3698005495670979,
          -0.02531198991989047,
          -0.2646802203247815,
          -0.9760465737801715,
          -0.8581481194679148,
          -0.17604840798349755,
          -0.10924574144191937,
          -0.5043582809289078,
          -0.7256942354500702,
          -0.49488459156756875,
          -0.37698613725531205,
          0.30511357422910507,
          0.37191624077068325,
          -0.023196298716305123,
          -0.24453225323746758,
          -1.0883524907107018,
          -0.40625277922628455,
          -0.33945011268470654,
          -0.734562652171695,
          -0.9558986066928575,
          -0.28835432491402796,
          -0.22155165837244994,
          -0.6166641978594382,
          -0.8380001523806007,
          0.46054805311196734,
          0.06543551362497886,
          -0.15590044089618357,
          0.13223818016655697,
          -0.08909777435460547,
          -0.48421031384159374,
          -0.17945820695370573,
          -0.061559752641448966,
          0.6205399588429681,
          0.6873426253845463,
          0.2922300858975579,
          0.07089413137639546,
          -0.7729261060968388,
          -0.09082639461242162,
          -0.02402372807084335,
          -0.4191362675578319,
          -0.6404722220789943,
          0.027072059699835112,
          0.09387472624141324,
          -0.30123781324557514,
          -0.5225737677667375,
          0.7759744377258303,
          0.380861898238842,
          0.15952594371767953,
          0.44766456478042005,
          0.22632861025925755,
          -0.16878392922773067,
          -0.29176412388423617,
          0.3903355876001809,
          0.457138254141759,
          0.06202571465477064,
          -0.15931023986639176,
          0.5082340419124378,
          0.5750367084540159,
          0.17992416896702748,
          -0.04141178555413498,
          1.2571364199384327,
          0.8620238804514445,
          0.6406879259302821,
          0.9288265469930226,
          0.7074905924718602,
          0.31237805298487187,
          -0.20313231154295217,
          -0.13632964500137404,
          -0.5314421844883624,
          -0.7527781390095248,
          0.5457700664830429,
          0.15065752699605464,
          -0.0706784275251078,
          0.21746019353763282,
          -0.003875760983529639,
          -0.398988300470518,
          0.6636685207952997,
          0.2685559813083114,
          0.04722002678714893,
          0.33535864784988945,
          0.11402269332872701,
          -0.2810898461582613,
          1.0174583593343065,
          0.796122404813144,
          0.4010098653261558,
          0.4678125318677339
         ],
         "y": [
          0.7605430179421915,
          0.8375867060906004,
          -0.24168659056976396,
          0.2944027337671087,
          0.2632410882908932,
          0.0593311036148983,
          0.21352397063031106,
          0.25315276142992654,
          0.9009597836910304,
          -0.17831351296933415,
          0.357775811367538,
          0.32661416589132275,
          0.12270418121532796,
          0.27689704823074074,
          0.3165258390303561,
          -0.10126982482092498,
          0.4348194995159472,
          0.4036578540397319,
          0.19974786936373723,
          0.35394073637915,
          0.3935695271787654,
          -0.6444537971444171,
          -0.6756154426206324,
          -0.879525427296627,
          -0.7253325602812144,
          -0.685703769481599,
          -0.13952611828376027,
          -0.34343610295975496,
          -0.18924323594434225,
          -0.14961444514472685,
          -0.37459774843597027,
          -0.22040488142055753,
          -0.18077609062094213,
          -0.4243148660965522,
          -0.38468607529693677,
          -0.23049320828152414,
          1.2495447538619113,
          0.17027145720154677,
          0.7063607815384187,
          0.6751991360622035,
          0.47128915138620875,
          0.6254820184016215,
          0.665110809201237,
          0.24731514534995597,
          0.783404469686828,
          0.7522428242106127,
          0.548332839534618,
          0.7025257065500307,
          0.742154497349646,
          -0.29586882697353606,
          -0.32703047244975136,
          -0.5309404571257461,
          -0.37674759011033343,
          -0.337118799310718,
          0.2090588518871206,
          0.0051488672111258925,
          0.15934173422653855,
          0.19897052502615395,
          -0.02601277826508942,
          0.12818008875032336,
          0.1678088795499387,
          -0.07572989592567139,
          -0.03610110512605597,
          0.11809176188935674,
          0.3106882229503857,
          0.8467775472872578,
          0.8156159018110426,
          0.6117059171350476,
          0.7658987841504604,
          0.8055275749500758,
          -0.23249574937310646,
          -0.2636573948493217,
          -0.46756737952531663,
          -0.3133745125099037,
          -0.2737457217102883,
          0.2724319294875503,
          0.06852194481155552,
          0.22271481182696823,
          0.2623436026265836,
          0.037360299335340276,
          0.191553166350753,
          0.23118195715036846,
          -0.01235681832524169,
          0.027271972474373726,
          0.18146483948978642,
          -0.15545206122469718,
          -0.18661370670091246,
          -0.39052369137690723,
          -0.23633082436149447,
          -0.1967020335618791,
          0.3494756176359597,
          0.14556563295996483,
          0.29975849997537757,
          0.33938729077499297,
          0.11440398748374962,
          0.2685968544991624,
          0.3082256452987778,
          0.06468686982316757,
          0.10431566062278298,
          0.2585085276381957,
          -0.7297976790244048,
          -0.9337076637003995,
          -0.7795147966849868,
          -0.7398860058853713,
          -0.9648693091766148,
          -0.8106764421612022,
          -0.7710476513615867,
          -1.0145864268371967,
          -0.9749576360375815,
          -0.8207647690221688,
          -0.42877998483974267,
          -0.2745871178243299,
          -0.2349583270247145,
          -0.4784971025003246,
          -0.4388683117007092,
          -0.2846754446852965,
          -0.50965874797654,
          -0.4700299571769245,
          -0.3158370901615118,
          -0.5197470748375065
         ],
         "z": [
          5.029116667,
          2.42528,
          2.01398,
          2.461696667,
          2.13472,
          2.08414,
          1.989686667,
          2.04643,
          1.395033333,
          0.922934,
          0.992424333,
          1.022911,
          0.747680333,
          1.008125667,
          0.96147,
          1.19121,
          1.286356667,
          1.12363,
          1.086534,
          0.994274,
          1.026538,
          0.949409667,
          0.781767667,
          0.887615,
          0.944032,
          1.029742,
          0.931904,
          0.853929667,
          0.981971667,
          1.458608667,
          1.006813333,
          0.983735,
          1.10772,
          1.063973333,
          1.37882,
          1.106236667,
          2.055403333,
          1.462963333,
          1.800216667,
          1.647156667,
          1.694646667,
          1.704946667,
          1.331214667,
          2.775123333,
          2.568386667,
          3.111253333,
          2.7452,
          2.01195,
          2.237266667,
          1.715236667,
          1.88879,
          1.805913333,
          1.718006667,
          1.777686667,
          1.646423333,
          1.499983333,
          1.697885,
          1.766856667,
          1.74478,
          1.035386667,
          2.283946667,
          1.602533333,
          1.82604,
          1.886913333,
          1.004137,
          1.273903333,
          1.22666,
          1.043728,
          1.311055,
          1.181005,
          1.884443333,
          1.507135,
          1.73152,
          1.371483333,
          1.22228,
          2.035346667,
          1.543113333,
          1.776663333,
          1.555233333,
          1.69526,
          1.862513333,
          1.868566667,
          1.757286667,
          1.675636667,
          1.406126667,
          0.990367667,
          0.847804,
          1.191013333,
          1.11598,
          1.240276667,
          0.652683,
          0.943093,
          0.959279333,
          1.072392667,
          1.185537,
          1.024376,
          0.961131667,
          1.019376,
          1.215795,
          1.117213333,
          0.795282333,
          0.731265,
          0.866479,
          0.843328333,
          0.759566333,
          0.840007,
          1.162230333,
          0.900694667,
          0.894,
          1.377903333,
          1.613456667,
          1.595823333,
          1.378825,
          1.45052,
          1.295066667,
          1.43069,
          1.475256667,
          1.229073333,
          1.389416667,
          1.36458
         ]
        }
       ],
       "layout": {
        "autosize": true,
        "coloraxis": {
         "colorbar": {
          "title": {
           "text": "FoldChange"
          }
         },
         "colorscale": [
          [
           0,
           "#0d0887"
          ],
          [
           0.1111111111111111,
           "#46039f"
          ],
          [
           0.2222222222222222,
           "#7201a8"
          ],
          [
           0.3333333333333333,
           "#9c179e"
          ],
          [
           0.4444444444444444,
           "#bd3786"
          ],
          [
           0.5555555555555556,
           "#d8576b"
          ],
          [
           0.6666666666666666,
           "#ed7953"
          ],
          [
           0.7777777777777778,
           "#fb9f3a"
          ],
          [
           0.8888888888888888,
           "#fdca26"
          ],
          [
           1,
           "#f0f921"
          ]
         ]
        },
        "legend": {
         "title": {
          "text": "combNum"
         },
         "tracegroupgap": 0
        },
        "margin": {
         "t": 60
        },
        "scene": {
         "aspectmode": "auto",
         "aspectratio": {
          "x": 0.808760434762758,
          "y": 0.780707045660405,
          "z": 1.5837696059338948
         },
         "camera": {
          "center": {
           "x": 0,
           "y": 0,
           "z": 0
          },
          "eye": {
           "x": -0.1512991854641377,
           "y": 0.2314353582881228,
           "z": 0.6591877725914869
          },
          "projection": {
           "type": "perspective"
          },
          "up": {
           "x": 0,
           "y": 0,
           "z": 1
          }
         },
         "domain": {
          "x": [
           0,
           1
          ],
          "y": [
           0,
           1
          ]
         },
         "xaxis": {
          "title": {
           "text": "principal component 1"
          },
          "type": "linear"
         },
         "yaxis": {
          "title": {
           "text": "principal component 2"
          },
          "type": "linear"
         },
         "zaxis": {
          "title": {
           "text": "FoldChange"
          },
          "type": "linear"
         }
        },
        "template": {
         "data": {
          "bar": [
           {
            "error_x": {
             "color": "#2a3f5f"
            },
            "error_y": {
             "color": "#2a3f5f"
            },
            "marker": {
             "line": {
              "color": "#E5ECF6",
              "width": 0.5
             },
             "pattern": {
              "fillmode": "overlay",
              "size": 10,
              "solidity": 0.2
             }
            },
            "type": "bar"
           }
          ],
          "barpolar": [
           {
            "marker": {
             "line": {
              "color": "#E5ECF6",
              "width": 0.5
             },
             "pattern": {
              "fillmode": "overlay",
              "size": 10,
              "solidity": 0.2
             }
            },
            "type": "barpolar"
           }
          ],
          "carpet": [
           {
            "aaxis": {
             "endlinecolor": "#2a3f5f",
             "gridcolor": "white",
             "linecolor": "white",
             "minorgridcolor": "white",
             "startlinecolor": "#2a3f5f"
            },
            "baxis": {
             "endlinecolor": "#2a3f5f",
             "gridcolor": "white",
             "linecolor": "white",
             "minorgridcolor": "white",
             "startlinecolor": "#2a3f5f"
            },
            "type": "carpet"
           }
          ],
          "choropleth": [
           {
            "colorbar": {
             "outlinewidth": 0,
             "ticks": ""
            },
            "type": "choropleth"
           }
          ],
          "contour": [
           {
            "colorbar": {
             "outlinewidth": 0,
             "ticks": ""
            },
            "colorscale": [
             [
              0,
              "#0d0887"
             ],
             [
              0.1111111111111111,
              "#46039f"
             ],
             [
              0.2222222222222222,
              "#7201a8"
             ],
             [
              0.3333333333333333,
              "#9c179e"
             ],
             [
              0.4444444444444444,
              "#bd3786"
             ],
             [
              0.5555555555555556,
              "#d8576b"
             ],
             [
              0.6666666666666666,
              "#ed7953"
             ],
             [
              0.7777777777777778,
              "#fb9f3a"
             ],
             [
              0.8888888888888888,
              "#fdca26"
             ],
             [
              1,
              "#f0f921"
             ]
            ],
            "type": "contour"
           }
          ],
          "contourcarpet": [
           {
            "colorbar": {
             "outlinewidth": 0,
             "ticks": ""
            },
            "type": "contourcarpet"
           }
          ],
          "heatmap": [
           {
            "colorbar": {
             "outlinewidth": 0,
             "ticks": ""
            },
            "colorscale": [
             [
              0,
              "#0d0887"
             ],
             [
              0.1111111111111111,
              "#46039f"
             ],
             [
              0.2222222222222222,
              "#7201a8"
             ],
             [
              0.3333333333333333,
              "#9c179e"
             ],
             [
              0.4444444444444444,
              "#bd3786"
             ],
             [
              0.5555555555555556,
              "#d8576b"
             ],
             [
              0.6666666666666666,
              "#ed7953"
             ],
             [
              0.7777777777777778,
              "#fb9f3a"
             ],
             [
              0.8888888888888888,
              "#fdca26"
             ],
             [
              1,
              "#f0f921"
             ]
            ],
            "type": "heatmap"
           }
          ],
          "heatmapgl": [
           {
            "colorbar": {
             "outlinewidth": 0,
             "ticks": ""
            },
            "colorscale": [
             [
              0,
              "#0d0887"
             ],
             [
              0.1111111111111111,
              "#46039f"
             ],
             [
              0.2222222222222222,
              "#7201a8"
             ],
             [
              0.3333333333333333,
              "#9c179e"
             ],
             [
              0.4444444444444444,
              "#bd3786"
             ],
             [
              0.5555555555555556,
              "#d8576b"
             ],
             [
              0.6666666666666666,
              "#ed7953"
             ],
             [
              0.7777777777777778,
              "#fb9f3a"
             ],
             [
              0.8888888888888888,
              "#fdca26"
             ],
             [
              1,
              "#f0f921"
             ]
            ],
            "type": "heatmapgl"
           }
          ],
          "histogram": [
           {
            "marker": {
             "pattern": {
              "fillmode": "overlay",
              "size": 10,
              "solidity": 0.2
             }
            },
            "type": "histogram"
           }
          ],
          "histogram2d": [
           {
            "colorbar": {
             "outlinewidth": 0,
             "ticks": ""
            },
            "colorscale": [
             [
              0,
              "#0d0887"
             ],
             [
              0.1111111111111111,
              "#46039f"
             ],
             [
              0.2222222222222222,
              "#7201a8"
             ],
             [
              0.3333333333333333,
              "#9c179e"
             ],
             [
              0.4444444444444444,
              "#bd3786"
             ],
             [
              0.5555555555555556,
              "#d8576b"
             ],
             [
              0.6666666666666666,
              "#ed7953"
             ],
             [
              0.7777777777777778,
              "#fb9f3a"
             ],
             [
              0.8888888888888888,
              "#fdca26"
             ],
             [
              1,
              "#f0f921"
             ]
            ],
            "type": "histogram2d"
           }
          ],
          "histogram2dcontour": [
           {
            "colorbar": {
             "outlinewidth": 0,
             "ticks": ""
            },
            "colorscale": [
             [
              0,
              "#0d0887"
             ],
             [
              0.1111111111111111,
              "#46039f"
             ],
             [
              0.2222222222222222,
              "#7201a8"
             ],
             [
              0.3333333333333333,
              "#9c179e"
             ],
             [
              0.4444444444444444,
              "#bd3786"
             ],
             [
              0.5555555555555556,
              "#d8576b"
             ],
             [
              0.6666666666666666,
              "#ed7953"
             ],
             [
              0.7777777777777778,
              "#fb9f3a"
             ],
             [
              0.8888888888888888,
              "#fdca26"
             ],
             [
              1,
              "#f0f921"
             ]
            ],
            "type": "histogram2dcontour"
           }
          ],
          "mesh3d": [
           {
            "colorbar": {
             "outlinewidth": 0,
             "ticks": ""
            },
            "type": "mesh3d"
           }
          ],
          "parcoords": [
           {
            "line": {
             "colorbar": {
              "outlinewidth": 0,
              "ticks": ""
             }
            },
            "type": "parcoords"
           }
          ],
          "pie": [
           {
            "automargin": true,
            "type": "pie"
           }
          ],
          "scatter": [
           {
            "fillpattern": {
             "fillmode": "overlay",
             "size": 10,
             "solidity": 0.2
            },
            "type": "scatter"
           }
          ],
          "scatter3d": [
           {
            "line": {
             "colorbar": {
              "outlinewidth": 0,
              "ticks": ""
             }
            },
            "marker": {
             "colorbar": {
              "outlinewidth": 0,
              "ticks": ""
             }
            },
            "type": "scatter3d"
           }
          ],
          "scattercarpet": [
           {
            "marker": {
             "colorbar": {
              "outlinewidth": 0,
              "ticks": ""
             }
            },
            "type": "scattercarpet"
           }
          ],
          "scattergeo": [
           {
            "marker": {
             "colorbar": {
              "outlinewidth": 0,
              "ticks": ""
             }
            },
            "type": "scattergeo"
           }
          ],
          "scattergl": [
           {
            "marker": {
             "colorbar": {
              "outlinewidth": 0,
              "ticks": ""
             }
            },
            "type": "scattergl"
           }
          ],
          "scattermapbox": [
           {
            "marker": {
             "colorbar": {
              "outlinewidth": 0,
              "ticks": ""
             }
            },
            "type": "scattermapbox"
           }
          ],
          "scatterpolar": [
           {
            "marker": {
             "colorbar": {
              "outlinewidth": 0,
              "ticks": ""
             }
            },
            "type": "scatterpolar"
           }
          ],
          "scatterpolargl": [
           {
            "marker": {
             "colorbar": {
              "outlinewidth": 0,
              "ticks": ""
             }
            },
            "type": "scatterpolargl"
           }
          ],
          "scatterternary": [
           {
            "marker": {
             "colorbar": {
              "outlinewidth": 0,
              "ticks": ""
             }
            },
            "type": "scatterternary"
           }
          ],
          "surface": [
           {
            "colorbar": {
             "outlinewidth": 0,
             "ticks": ""
            },
            "colorscale": [
             [
              0,
              "#0d0887"
             ],
             [
              0.1111111111111111,
              "#46039f"
             ],
             [
              0.2222222222222222,
              "#7201a8"
             ],
             [
              0.3333333333333333,
              "#9c179e"
             ],
             [
              0.4444444444444444,
              "#bd3786"
             ],
             [
              0.5555555555555556,
              "#d8576b"
             ],
             [
              0.6666666666666666,
              "#ed7953"
             ],
             [
              0.7777777777777778,
              "#fb9f3a"
             ],
             [
              0.8888888888888888,
              "#fdca26"
             ],
             [
              1,
              "#f0f921"
             ]
            ],
            "type": "surface"
           }
          ],
          "table": [
           {
            "cells": {
             "fill": {
              "color": "#EBF0F8"
             },
             "line": {
              "color": "white"
             }
            },
            "header": {
             "fill": {
              "color": "#C8D4E3"
             },
             "line": {
              "color": "white"
             }
            },
            "type": "table"
           }
          ]
         },
         "layout": {
          "annotationdefaults": {
           "arrowcolor": "#2a3f5f",
           "arrowhead": 0,
           "arrowwidth": 1
          },
          "autotypenumbers": "strict",
          "coloraxis": {
           "colorbar": {
            "outlinewidth": 0,
            "ticks": ""
           }
          },
          "colorscale": {
           "diverging": [
            [
             0,
             "#8e0152"
            ],
            [
             0.1,
             "#c51b7d"
            ],
            [
             0.2,
             "#de77ae"
            ],
            [
             0.3,
             "#f1b6da"
            ],
            [
             0.4,
             "#fde0ef"
            ],
            [
             0.5,
             "#f7f7f7"
            ],
            [
             0.6,
             "#e6f5d0"
            ],
            [
             0.7,
             "#b8e186"
            ],
            [
             0.8,
             "#7fbc41"
            ],
            [
             0.9,
             "#4d9221"
            ],
            [
             1,
             "#276419"
            ]
           ],
           "sequential": [
            [
             0,
             "#0d0887"
            ],
            [
             0.1111111111111111,
             "#46039f"
            ],
            [
             0.2222222222222222,
             "#7201a8"
            ],
            [
             0.3333333333333333,
             "#9c179e"
            ],
            [
             0.4444444444444444,
             "#bd3786"
            ],
            [
             0.5555555555555556,
             "#d8576b"
            ],
            [
             0.6666666666666666,
             "#ed7953"
            ],
            [
             0.7777777777777778,
             "#fb9f3a"
            ],
            [
             0.8888888888888888,
             "#fdca26"
            ],
            [
             1,
             "#f0f921"
            ]
           ],
           "sequentialminus": [
            [
             0,
             "#0d0887"
            ],
            [
             0.1111111111111111,
             "#46039f"
            ],
            [
             0.2222222222222222,
             "#7201a8"
            ],
            [
             0.3333333333333333,
             "#9c179e"
            ],
            [
             0.4444444444444444,
             "#bd3786"
            ],
            [
             0.5555555555555556,
             "#d8576b"
            ],
            [
             0.6666666666666666,
             "#ed7953"
            ],
            [
             0.7777777777777778,
             "#fb9f3a"
            ],
            [
             0.8888888888888888,
             "#fdca26"
            ],
            [
             1,
             "#f0f921"
            ]
           ]
          },
          "colorway": [
           "#636efa",
           "#EF553B",
           "#00cc96",
           "#ab63fa",
           "#FFA15A",
           "#19d3f3",
           "#FF6692",
           "#B6E880",
           "#FF97FF",
           "#FECB52"
          ],
          "font": {
           "color": "#2a3f5f"
          },
          "geo": {
           "bgcolor": "white",
           "lakecolor": "white",
           "landcolor": "#E5ECF6",
           "showlakes": true,
           "showland": true,
           "subunitcolor": "white"
          },
          "hoverlabel": {
           "align": "left"
          },
          "hovermode": "closest",
          "mapbox": {
           "style": "light"
          },
          "paper_bgcolor": "white",
          "plot_bgcolor": "#E5ECF6",
          "polar": {
           "angularaxis": {
            "gridcolor": "white",
            "linecolor": "white",
            "ticks": ""
           },
           "bgcolor": "#E5ECF6",
           "radialaxis": {
            "gridcolor": "white",
            "linecolor": "white",
            "ticks": ""
           }
          },
          "scene": {
           "xaxis": {
            "backgroundcolor": "#E5ECF6",
            "gridcolor": "white",
            "gridwidth": 2,
            "linecolor": "white",
            "showbackground": true,
            "ticks": "",
            "zerolinecolor": "white"
           },
           "yaxis": {
            "backgroundcolor": "#E5ECF6",
            "gridcolor": "white",
            "gridwidth": 2,
            "linecolor": "white",
            "showbackground": true,
            "ticks": "",
            "zerolinecolor": "white"
           },
           "zaxis": {
            "backgroundcolor": "#E5ECF6",
            "gridcolor": "white",
            "gridwidth": 2,
            "linecolor": "white",
            "showbackground": true,
            "ticks": "",
            "zerolinecolor": "white"
           }
          },
          "shapedefaults": {
           "line": {
            "color": "#2a3f5f"
           }
          },
          "ternary": {
           "aaxis": {
            "gridcolor": "white",
            "linecolor": "white",
            "ticks": ""
           },
           "baxis": {
            "gridcolor": "white",
            "linecolor": "white",
            "ticks": ""
           },
           "bgcolor": "#E5ECF6",
           "caxis": {
            "gridcolor": "white",
            "linecolor": "white",
            "ticks": ""
           }
          },
          "title": {
           "x": 0.05
          },
          "xaxis": {
           "automargin": true,
           "gridcolor": "white",
           "linecolor": "white",
           "ticks": "",
           "title": {
            "standoff": 15
           },
           "zerolinecolor": "white",
           "zerolinewidth": 2
          },
          "yaxis": {
           "automargin": true,
           "gridcolor": "white",
           "linecolor": "white",
           "ticks": "",
           "title": {
            "standoff": 15
           },
           "zerolinecolor": "white",
           "zerolinewidth": 2
          }
         }
        }
       }
      },
      "image/png": "[encoded data removed]",
      "text/html": [
       "<div>                            <div id=\"78d7cf66-8328-435c-980c-e9cafbef05f1\" class=\"plotly-graph-div\" style=\"height:525px; width:100%;\"></div>            <script type=\"text/javascript\">                require([\"plotly\"], function(Plotly) {                    window.PLOTLYENV=window.PLOTLYENV || {};                                    if (document.getElementById(\"78d7cf66-8328-435c-980c-e9cafbef05f1\")) {                    Plotly.newPlot(                        \"78d7cf66-8328-435c-980c-e9cafbef05f1\",                        [{\"hovertemplate\":\"combNum=1<br>principal component 1=%{x}<br>principal component 2=%{y}<br>FoldChange=%{marker.color}<extra></extra>\",\"legendgroup\":\"1\",\"marker\":{\"color\":[1.000002,2.128433333,2.599685,1.77026,1.615123333,1.819006667,2.125706667,1.378976667,1.340733333,1.31055,1.357042],\"coloraxis\":\"coloraxis\",\"symbol\":\"circle\"},\"mode\":\"markers\",\"name\":\"1\",\"scene\":\"scene\",\"showlegend\":true,\"x\":[2.5100704632608243e-16,-2.223658303759982e-16,-0.4588983239217036,-0.14347193930784058,0.33769004290476196,-0.37367631055062783,-0.2557778562383712,0.42632185524604593,0.493124521787624,0.0980119823006357,-0.12332397222052674],\"y\":[4.188114641518787e-16,7.987199355955495e-16,0.3485849701708812,0.41195804777131095,0.48900173591972024,-0.5902715607406442,-0.05418223640377204,-0.08534388187998729,-0.289253866555982,-0.13506099954056927,-0.0954322087409539],\"z\":[1.000002,2.128433333,2.599685,1.77026,1.615123333,1.819006667,2.125706667,1.378976667,1.340733333,1.31055,1.357042],\"type\":\"scatter3d\"},{\"hovertemplate\":\"combNum=2<br>principal component 1=%{x}<br>principal component 2=%{y}<br>FoldChange=%{marker.color}<extra></extra>\",\"legendgroup\":\"2\",\"marker\":{\"color\":[5.157823333,1.647596667,0.780485333,0.805052667,0.725697333,0.741752,0.782490667,0.564727667,0.732489333,2.966035,2.81656,2.54447,2.22467,2.554586667,2.749456667,2.22186,2.54277,1.152155667,0.717797,0.862201667,1.14897,0.787893,0.922303,0.839796667,1.678146667,1.462776667,1.577056667,1.68223,1.754623333,1.67279,1.22756,1.21338,1.201306667,1.074211333,1.16502,0.910361333,1.180542,1.234176667,1.064129,1.36415,1.27403,1.236983333,1.177084,1.34201,1.361716667],\"coloraxis\":\"coloraxis\",\"symbol\":\"diamond\"},\"mode\":\"markers\",\"name\":\"2\",\"scene\":\"scene\",\"showlegend\":true,\"x\":[-0.45889832392170327,-0.1434719393078406,0.33769004290476184,-0.37367631055062783,-0.2557778562383712,0.4263218552460461,0.49312452178762417,0.09801198230063582,-0.12332397222052666,-0.6023702632295439,-0.12120828101694128,-0.8325746344723313,-0.7146761801600744,-0.032576468675657284,0.0342261978659208,-0.3608863416210675,-0.5822222961422299,0.1942181035969217,-0.5171482498584681,-0.39924979554621126,0.28284991593820574,0.3496525824797838,-0.04545995700720442,-0.26679591152836685,-0.03598626764586551,0.08191218666639129,0.7640118981508083,0.8308145646923865,0.43570202520539814,0.21436607068423566,-0.6294541667889986,0.052645544695418475,0.11944821123699666,-0.2756643282499917,-0.49700028277115416,0.1705439990076752,0.23734666554925327,-0.15776587393773503,-0.37910182845889745,0.9194463770336703,0.5243338375466821,0.3029978830255196,0.5911365040882601,0.3698005495670977,-0.025311989919890587],\"y\":[0.3485849701708812,0.4119580477713107,0.48900173591972,-0.5902715607406444,-0.05418223640377231,-0.08534388187998757,-0.28925386655598223,-0.13506099954056958,-0.09543220874095416,0.7605430179421915,0.8375867060906007,-0.24168659056976344,0.2944027337671085,0.26324108829089327,0.05933110361489858,0.21352397063031128,0.25315276142992665,0.9009597836910301,-0.1783135129693338,0.3577758113675382,0.32661416589132297,0.12270418121532826,0.27689704823074096,0.31652583903035636,-0.10126982482092453,0.4348194995159475,0.40365785403973226,0.19974786936373753,0.3539407363791503,0.3935695271787657,-0.6444537971444168,-0.6756154426206322,-0.879525427296627,-0.7253325602812142,-0.6857037694815987,-0.13952611828375996,-0.3434361029597547,-0.18924323594434198,-0.14961444514472658,-0.37459774843596993,-0.22040488142055722,-0.18077609062094185,-0.4243148660965519,-0.3846860752969365,-0.23049320828152386],\"z\":[5.157823333,1.647596667,0.780485333,0.805052667,0.725697333,0.741752,0.782490667,0.564727667,0.732489333,2.966035,2.81656,2.54447,2.22467,2.554586667,2.749456667,2.22186,2.54277,1.152155667,0.717797,0.862201667,1.14897,0.787893,0.922303,0.839796667,1.678146667,1.462776667,1.577056667,1.68223,1.754623333,1.67279,1.22756,1.21338,1.201306667,1.074211333,1.16502,0.910361333,1.180542,1.234176667,1.064129,1.36415,1.27403,1.236983333,1.177084,1.34201,1.361716667],\"type\":\"scatter3d\"},{\"hovertemplate\":\"combNum=3<br>principal component 1=%{x}<br>principal component 2=%{y}<br>FoldChange=%{marker.color}<extra></extra>\",\"legendgroup\":\"3\",\"marker\":{\"color\":[5.029116667,2.42528,2.01398,2.461696667,2.13472,2.08414,1.989686667,2.04643,1.395033333,0.922934,0.992424333,1.022911,0.747680333,1.008125667,0.96147,1.19121,1.286356667,1.12363,1.086534,0.994274,1.026538,0.949409667,0.781767667,0.887615,0.944032,1.029742,0.931904,0.853929667,0.981971667,1.458608667,1.006813333,0.983735,1.10772,1.063973333,1.37882,1.106236667,2.055403333,1.462963333,1.800216667,1.647156667,1.694646667,1.704946667,1.331214667,2.775123333,2.568386667,3.111253333,2.7452,2.01195,2.237266667,1.715236667,1.88879,1.805913333,1.718006667,1.777686667,1.646423333,1.499983333,1.697885,1.766856667,1.74478,1.035386667,2.283946667,1.602533333,1.82604,1.886913333,1.004137,1.273903333,1.22666,1.043728,1.311055,1.181005,1.884443333,1.507135,1.73152,1.371483333,1.22228,2.035346667,1.543113333,1.776663333,1.555233333,1.69526,1.862513333,1.868566667,1.757286667,1.675636667,1.406126667,0.990367667,0.847804,1.191013333,1.11598,1.240276667,0.652683,0.943093,0.959279333,1.072392667,1.185537,1.024376,0.961131667,1.019376,1.215795,1.117213333,0.795282333,0.731265,0.866479,0.843328333,0.759566333,0.840007,1.162230333,0.900694667,0.894,1.377903333,1.613456667,1.595823333,1.378825,1.45052,1.295066667,1.43069,1.475256667,1.229073333,1.389416667,1.36458],\"coloraxis\":\"coloraxis\",\"symbol\":\"square\"},\"mode\":\"markers\",\"name\":\"3\",\"scene\":\"scene\",\"showlegend\":true,\"x\":[-0.6023702632295436,-0.12120828101694145,-0.8325746344723309,-0.7146761801600751,-0.03257646867565719,0.034226197865920814,-0.3608863416210676,-0.58222229614223,0.19421810359692174,-0.5171482498584681,-0.39924979554621126,0.2828499159382058,0.349652582479784,-0.045459957007204434,-0.2667959115283669,-0.035986267645865634,0.08191218666639118,0.7640118981508083,0.8308145646923865,0.4357020252053981,0.21436607068423558,-0.6294541667889986,0.052645544695418586,0.11944821123699666,-0.27566432824999165,-0.49700028277115404,0.17054399900767525,0.23734666554925327,-0.15776587393773495,-0.3791018284588974,0.9194463770336705,0.5243338375466823,0.3029978830255198,0.5911365040882604,0.3698005495670979,-0.02531198991989047,-0.2646802203247815,-0.9760465737801715,-0.8581481194679148,-0.17604840798349755,-0.10924574144191937,-0.5043582809289078,-0.7256942354500702,-0.49488459156756875,-0.37698613725531205,0.30511357422910507,0.37191624077068325,-0.023196298716305123,-0.24453225323746758,-1.0883524907107018,-0.40625277922628455,-0.33945011268470654,-0.734562652171695,-0.9558986066928575,-0.28835432491402796,-0.22155165837244994,-0.6166641978594382,-0.8380001523806007,0.46054805311196734,0.06543551362497886,-0.15590044089618357,0.13223818016655697,-0.08909777435460547,-0.48421031384159374,-0.17945820695370573,-0.061559752641448966,0.6205399588429681,0.6873426253845463,0.2922300858975579,0.07089413137639546,-0.7729261060968388,-0.09082639461242162,-0.02402372807084335,-0.4191362675578319,-0.6404722220789943,0.027072059699835112,0.09387472624141324,-0.30123781324557514,-0.5225737677667375,0.7759744377258303,0.380861898238842,0.15952594371767953,0.44766456478042005,0.22632861025925755,-0.16878392922773067,-0.29176412388423617,0.3903355876001809,0.457138254141759,0.06202571465477064,-0.15931023986639176,0.5082340419124378,0.5750367084540159,0.17992416896702748,-0.04141178555413498,1.2571364199384327,0.8620238804514445,0.6406879259302821,0.9288265469930226,0.7074905924718602,0.31237805298487187,-0.20313231154295217,-0.13632964500137404,-0.5314421844883624,-0.7527781390095248,0.5457700664830429,0.15065752699605464,-0.0706784275251078,0.21746019353763282,-0.003875760983529639,-0.398988300470518,0.6636685207952997,0.2685559813083114,0.04722002678714893,0.33535864784988945,0.11402269332872701,-0.2810898461582613,1.0174583593343065,0.796122404813144,0.4010098653261558,0.4678125318677339],\"y\":[0.7605430179421915,0.8375867060906004,-0.24168659056976396,0.2944027337671087,0.2632410882908932,0.0593311036148983,0.21352397063031106,0.25315276142992654,0.9009597836910304,-0.17831351296933415,0.357775811367538,0.32661416589132275,0.12270418121532796,0.27689704823074074,0.3165258390303561,-0.10126982482092498,0.4348194995159472,0.4036578540397319,0.19974786936373723,0.35394073637915,0.3935695271787654,-0.6444537971444171,-0.6756154426206324,-0.879525427296627,-0.7253325602812144,-0.685703769481599,-0.13952611828376027,-0.34343610295975496,-0.18924323594434225,-0.14961444514472685,-0.37459774843597027,-0.22040488142055753,-0.18077609062094213,-0.4243148660965522,-0.38468607529693677,-0.23049320828152414,1.2495447538619113,0.17027145720154677,0.7063607815384187,0.6751991360622035,0.47128915138620875,0.6254820184016215,0.665110809201237,0.24731514534995597,0.783404469686828,0.7522428242106127,0.548332839534618,0.7025257065500307,0.742154497349646,-0.29586882697353606,-0.32703047244975136,-0.5309404571257461,-0.37674759011033343,-0.337118799310718,0.2090588518871206,0.0051488672111258925,0.15934173422653855,0.19897052502615395,-0.02601277826508942,0.12818008875032336,0.1678088795499387,-0.07572989592567139,-0.03610110512605597,0.11809176188935674,0.3106882229503857,0.8467775472872578,0.8156159018110426,0.6117059171350476,0.7658987841504604,0.8055275749500758,-0.23249574937310646,-0.2636573948493217,-0.46756737952531663,-0.3133745125099037,-0.2737457217102883,0.2724319294875503,0.06852194481155552,0.22271481182696823,0.2623436026265836,0.037360299335340276,0.191553166350753,0.23118195715036846,-0.01235681832524169,0.027271972474373726,0.18146483948978642,-0.15545206122469718,-0.18661370670091246,-0.39052369137690723,-0.23633082436149447,-0.1967020335618791,0.3494756176359597,0.14556563295996483,0.29975849997537757,0.33938729077499297,0.11440398748374962,0.2685968544991624,0.3082256452987778,0.06468686982316757,0.10431566062278298,0.2585085276381957,-0.7297976790244048,-0.9337076637003995,-0.7795147966849868,-0.7398860058853713,-0.9648693091766148,-0.8106764421612022,-0.7710476513615867,-1.0145864268371967,-0.9749576360375815,-0.8207647690221688,-0.42877998483974267,-0.2745871178243299,-0.2349583270247145,-0.4784971025003246,-0.4388683117007092,-0.2846754446852965,-0.50965874797654,-0.4700299571769245,-0.3158370901615118,-0.5197470748375065],\"z\":[5.029116667,2.42528,2.01398,2.461696667,2.13472,2.08414,1.989686667,2.04643,1.395033333,0.922934,0.992424333,1.022911,0.747680333,1.008125667,0.96147,1.19121,1.286356667,1.12363,1.086534,0.994274,1.026538,0.949409667,0.781767667,0.887615,0.944032,1.029742,0.931904,0.853929667,0.981971667,1.458608667,1.006813333,0.983735,1.10772,1.063973333,1.37882,1.106236667,2.055403333,1.462963333,1.800216667,1.647156667,1.694646667,1.704946667,1.331214667,2.775123333,2.568386667,3.111253333,2.7452,2.01195,2.237266667,1.715236667,1.88879,1.805913333,1.718006667,1.777686667,1.646423333,1.499983333,1.697885,1.766856667,1.74478,1.035386667,2.283946667,1.602533333,1.82604,1.886913333,1.004137,1.273903333,1.22666,1.043728,1.311055,1.181005,1.884443333,1.507135,1.73152,1.371483333,1.22228,2.035346667,1.543113333,1.776663333,1.555233333,1.69526,1.862513333,1.868566667,1.757286667,1.675636667,1.406126667,0.990367667,0.847804,1.191013333,1.11598,1.240276667,0.652683,0.943093,0.959279333,1.072392667,1.185537,1.024376,0.961131667,1.019376,1.215795,1.117213333,0.795282333,0.731265,0.866479,0.843328333,0.759566333,0.840007,1.162230333,0.900694667,0.894,1.377903333,1.613456667,1.595823333,1.378825,1.45052,1.295066667,1.43069,1.475256667,1.229073333,1.389416667,1.36458],\"type\":\"scatter3d\"}],                        {\"template\":{\"data\":{\"histogram2dcontour\":[{\"type\":\"histogram2dcontour\",\"colorbar\":{\"outlinewidth\":0,\"ticks\":\"\"},\"colorscale\":[[0.0,\"#0d0887\"],[0.1111111111111111,\"#46039f\"],[0.2222222222222222,\"#7201a8\"],[0.3333333333333333,\"#9c179e\"],[0.4444444444444444,\"#bd3786\"],[0.5555555555555556,\"#d8576b\"],[0.6666666666666666,\"#ed7953\"],[0.7777777777777778,\"#fb9f3a\"],[0.8888888888888888,\"#fdca26\"],[1.0,\"#f0f921\"]]}],\"choropleth\":[{\"type\":\"choropleth\",\"colorbar\":{\"outlinewidth\":0,\"ticks\":\"\"}}],\"histogram2d\":[{\"type\":\"histogram2d\",\"colorbar\":{\"outlinewidth\":0,\"ticks\":\"\"},\"colorscale\":[[0.0,\"#0d0887\"],[0.1111111111111111,\"#46039f\"],[0.2222222222222222,\"#7201a8\"],[0.3333333333333333,\"#9c179e\"],[0.4444444444444444,\"#bd3786\"],[0.5555555555555556,\"#d8576b\"],[0.6666666666666666,\"#ed7953\"],[0.7777777777777778,\"#fb9f3a\"],[0.8888888888888888,\"#fdca26\"],[1.0,\"#f0f921\"]]}],\"heatmap\":[{\"type\":\"heatmap\",\"colorbar\":{\"outlinewidth\":0,\"ticks\":\"\"},\"colorscale\":[[0.0,\"#0d0887\"],[0.1111111111111111,\"#46039f\"],[0.2222222222222222,\"#7201a8\"],[0.3333333333333333,\"#9c179e\"],[0.4444444444444444,\"#bd3786\"],[0.5555555555555556,\"#d8576b\"],[0.6666666666666666,\"#ed7953\"],[0.7777777777777778,\"#fb9f3a\"],[0.8888888888888888,\"#fdca26\"],[1.0,\"#f0f921\"]]}],\"heatmapgl\":[{\"type\":\"heatmapgl\",\"colorbar\":{\"outlinewidth\":0,\"ticks\":\"\"},\"colorscale\":[[0.0,\"#0d0887\"],[0.1111111111111111,\"#46039f\"],[0.2222222222222222,\"#7201a8\"],[0.3333333333333333,\"#9c179e\"],[0.4444444444444444,\"#bd3786\"],[0.5555555555555556,\"#d8576b\"],[0.6666666666666666,\"#ed7953\"],[0.7777777777777778,\"#fb9f3a\"],[0.8888888888888888,\"#fdca26\"],[1.0,\"#f0f921\"]]}],\"contourcarpet\":[{\"type\":\"contourcarpet\",\"colorbar\":{\"outlinewidth\":0,\"ticks\":\"\"}}],\"contour\":[{\"type\":\"contour\",\"colorbar\":{\"outlinewidth\":0,\"ticks\":\"\"},\"colorscale\":[[0.0,\"#0d0887\"],[0.1111111111111111,\"#46039f\"],[0.2222222222222222,\"#7201a8\"],[0.3333333333333333,\"#9c179e\"],[0.4444444444444444,\"#bd3786\"],[0.5555555555555556,\"#d8576b\"],[0.6666666666666666,\"#ed7953\"],[0.7777777777777778,\"#fb9f3a\"],[0.8888888888888888,\"#fdca26\"],[1.0,\"#f0f921\"]]}],\"surface\":[{\"type\":\"surface\",\"colorbar\":{\"outlinewidth\":0,\"ticks\":\"\"},\"colorscale\":[[0.0,\"#0d0887\"],[0.1111111111111111,\"#46039f\"],[0.2222222222222222,\"#7201a8\"],[0.3333333333333333,\"#9c179e\"],[0.4444444444444444,\"#bd3786\"],[0.5555555555555556,\"#d8576b\"],[0.6666666666666666,\"#ed7953\"],[0.7777777777777778,\"#fb9f3a\"],[0.8888888888888888,\"#fdca26\"],[1.0,\"#f0f921\"]]}],\"mesh3d\":[{\"type\":\"mesh3d\",\"colorbar\":{\"outlinewidth\":0,\"ticks\":\"\"}}],\"scatter\":[{\"fillpattern\":{\"fillmode\":\"overlay\",\"size\":10,\"solidity\":0.2},\"type\":\"scatter\"}],\"parcoords\":[{\"type\":\"parcoords\",\"line\":{\"colorbar\":{\"outlinewidth\":0,\"ticks\":\"\"}}}],\"scatterpolargl\":[{\"type\":\"scatterpolargl\",\"marker\":{\"colorbar\":{\"outlinewidth\":0,\"ticks\":\"\"}}}],\"bar\":[{\"error_x\":{\"color\":\"#2a3f5f\"},\"error_y\":{\"color\":\"#2a3f5f\"},\"marker\":{\"line\":{\"color\":\"#E5ECF6\",\"width\":0.5},\"pattern\":{\"fillmode\":\"overlay\",\"size\":10,\"solidity\":0.2}},\"type\":\"bar\"}],\"scattergeo\":[{\"type\":\"scattergeo\",\"marker\":{\"colorbar\":{\"outlinewidth\":0,\"ticks\":\"\"}}}],\"scatterpolar\":[{\"type\":\"scatterpolar\",\"marker\":{\"colorbar\":{\"outlinewidth\":0,\"ticks\":\"\"}}}],\"histogram\":[{\"marker\":{\"pattern\":{\"fillmode\":\"overlay\",\"size\":10,\"solidity\":0.2}},\"type\":\"histogram\"}],\"scattergl\":[{\"type\":\"scattergl\",\"marker\":{\"colorbar\":{\"outlinewidth\":0,\"ticks\":\"\"}}}],\"scatter3d\":[{\"type\":\"scatter3d\",\"line\":{\"colorbar\":{\"outlinewidth\":0,\"ticks\":\"\"}},\"marker\":{\"colorbar\":{\"outlinewidth\":0,\"ticks\":\"\"}}}],\"scattermapbox\":[{\"type\":\"scattermapbox\",\"marker\":{\"colorbar\":{\"outlinewidth\":0,\"ticks\":\"\"}}}],\"scatterternary\":[{\"type\":\"scatterternary\",\"marker\":{\"colorbar\":{\"outlinewidth\":0,\"ticks\":\"\"}}}],\"scattercarpet\":[{\"type\":\"scattercarpet\",\"marker\":{\"colorbar\":{\"outlinewidth\":0,\"ticks\":\"\"}}}],\"carpet\":[{\"aaxis\":{\"endlinecolor\":\"#2a3f5f\",\"gridcolor\":\"white\",\"linecolor\":\"white\",\"minorgridcolor\":\"white\",\"startlinecolor\":\"#2a3f5f\"},\"baxis\":{\"endlinecolor\":\"#2a3f5f\",\"gridcolor\":\"white\",\"linecolor\":\"white\",\"minorgridcolor\":\"white\",\"startlinecolor\":\"#2a3f5f\"},\"type\":\"carpet\"}],\"table\":[{\"cells\":{\"fill\":{\"color\":\"#EBF0F8\"},\"line\":{\"color\":\"white\"}},\"header\":{\"fill\":{\"color\":\"#C8D4E3\"},\"line\":{\"color\":\"white\"}},\"type\":\"table\"}],\"barpolar\":[{\"marker\":{\"line\":{\"color\":\"#E5ECF6\",\"width\":0.5},\"pattern\":{\"fillmode\":\"overlay\",\"size\":10,\"solidity\":0.2}},\"type\":\"barpolar\"}],\"pie\":[{\"automargin\":true,\"type\":\"pie\"}]},\"layout\":{\"autotypenumbers\":\"strict\",\"colorway\":[\"#636efa\",\"#EF553B\",\"#00cc96\",\"#ab63fa\",\"#FFA15A\",\"#19d3f3\",\"#FF6692\",\"#B6E880\",\"#FF97FF\",\"#FECB52\"],\"font\":{\"color\":\"#2a3f5f\"},\"hovermode\":\"closest\",\"hoverlabel\":{\"align\":\"left\"},\"paper_bgcolor\":\"white\",\"plot_bgcolor\":\"#E5ECF6\",\"polar\":{\"bgcolor\":\"#E5ECF6\",\"angularaxis\":{\"gridcolor\":\"white\",\"linecolor\":\"white\",\"ticks\":\"\"},\"radialaxis\":{\"gridcolor\":\"white\",\"linecolor\":\"white\",\"ticks\":\"\"}},\"ternary\":{\"bgcolor\":\"#E5ECF6\",\"aaxis\":{\"gridcolor\":\"white\",\"linecolor\":\"white\",\"ticks\":\"\"},\"baxis\":{\"gridcolor\":\"white\",\"linecolor\":\"white\",\"ticks\":\"\"},\"caxis\":{\"gridcolor\":\"white\",\"linecolor\":\"white\",\"ticks\":\"\"}},\"coloraxis\":{\"colorbar\":{\"outlinewidth\":0,\"ticks\":\"\"}},\"colorscale\":{\"sequential\":[[0.0,\"#0d0887\"],[0.1111111111111111,\"#46039f\"],[0.2222222222222222,\"#7201a8\"],[0.3333333333333333,\"#9c179e\"],[0.4444444444444444,\"#bd3786\"],[0.5555555555555556,\"#d8576b\"],[0.6666666666666666,\"#ed7953\"],[0.7777777777777778,\"#fb9f3a\"],[0.8888888888888888,\"#fdca26\"],[1.0,\"#f0f921\"]],\"sequentialminus\":[[0.0,\"#0d0887\"],[0.1111111111111111,\"#46039f\"],[0.2222222222222222,\"#7201a8\"],[0.3333333333333333,\"#9c179e\"],[0.4444444444444444,\"#bd3786\"],[0.5555555555555556,\"#d8576b\"],[0.6666666666666666,\"#ed7953\"],[0.7777777777777778,\"#fb9f3a\"],[0.8888888888888888,\"#fdca26\"],[1.0,\"#f0f921\"]],\"diverging\":[[0,\"#8e0152\"],[0.1,\"#c51b7d\"],[0.2,\"#de77ae\"],[0.3,\"#f1b6da\"],[0.4,\"#fde0ef\"],[0.5,\"#f7f7f7\"],[0.6,\"#e6f5d0\"],[0.7,\"#b8e186\"],[0.8,\"#7fbc41\"],[0.9,\"#4d9221\"],[1,\"#276419\"]]},\"xaxis\":{\"gridcolor\":\"white\",\"linecolor\":\"white\",\"ticks\":\"\",\"title\":{\"standoff\":15},\"zerolinecolor\":\"white\",\"automargin\":true,\"zerolinewidth\":2},\"yaxis\":{\"gridcolor\":\"white\",\"linecolor\":\"white\",\"ticks\":\"\",\"title\":{\"standoff\":15},\"zerolinecolor\":\"white\",\"automargin\":true,\"zerolinewidth\":2},\"scene\":{\"xaxis\":{\"backgroundcolor\":\"#E5ECF6\",\"gridcolor\":\"white\",\"linecolor\":\"white\",\"showbackground\":true,\"ticks\":\"\",\"zerolinecolor\":\"white\",\"gridwidth\":2},\"yaxis\":{\"backgroundcolor\":\"#E5ECF6\",\"gridcolor\":\"white\",\"linecolor\":\"white\",\"showbackground\":true,\"ticks\":\"\",\"zerolinecolor\":\"white\",\"gridwidth\":2},\"zaxis\":{\"backgroundcolor\":\"#E5ECF6\",\"gridcolor\":\"white\",\"linecolor\":\"white\",\"showbackground\":true,\"ticks\":\"\",\"zerolinecolor\":\"white\",\"gridwidth\":2}},\"shapedefaults\":{\"line\":{\"color\":\"#2a3f5f\"}},\"annotationdefaults\":{\"arrowcolor\":\"#2a3f5f\",\"arrowhead\":0,\"arrowwidth\":1},\"geo\":{\"bgcolor\":\"white\",\"landcolor\":\"#E5ECF6\",\"subunitcolor\":\"white\",\"showland\":true,\"showlakes\":true,\"lakecolor\":\"white\"},\"title\":{\"x\":0.05},\"mapbox\":{\"style\":\"light\"}}},\"scene\":{\"domain\":{\"x\":[0.0,1.0],\"y\":[0.0,1.0]},\"xaxis\":{\"title\":{\"text\":\"principal component 1\"}},\"yaxis\":{\"title\":{\"text\":\"principal component 2\"}},\"zaxis\":{\"title\":{\"text\":\"FoldChange\"}}},\"coloraxis\":{\"colorbar\":{\"title\":{\"text\":\"FoldChange\"}},\"colorscale\":[[0.0,\"#0d0887\"],[0.1111111111111111,\"#46039f\"],[0.2222222222222222,\"#7201a8\"],[0.3333333333333333,\"#9c179e\"],[0.4444444444444444,\"#bd3786\"],[0.5555555555555556,\"#d8576b\"],[0.6666666666666666,\"#ed7953\"],[0.7777777777777778,\"#fb9f3a\"],[0.8888888888888888,\"#fdca26\"],[1.0,\"#f0f921\"]]},\"legend\":{\"title\":{\"text\":\"combNum\"},\"tracegroupgap\":0},\"margin\":{\"t\":60}},                        {\"responsive\": true}                    ).then(function(){\n",
       "                            \n",
       "var gd = document.getElementById('78d7cf66-8328-435c-980c-e9cafbef05f1');\n",
       "var x = new MutationObserver(function (mutations, observer) {{\n",
       "        var display = window.getComputedStyle(gd).display;\n",
       "        if (!display || display === 'none') {{\n",
       "            console.log([gd, 'removed!']);\n",
       "            Plotly.purge(gd);\n",
       "            observer.disconnect();\n",
       "        }}\n",
       "}});\n",
       "\n",
       "// Listen for the removal of the full notebook cells\n",
       "var notebookContainer = gd.closest('#notebook-container');\n",
       "if (notebookContainer) {{\n",
       "    x.observe(notebookContainer, {childList: true});\n",
       "}}\n",
       "\n",
       "// Listen for the clearing of the current output cell\n",
       "var outputEl = gd.closest('.output');\n",
       "if (outputEl) {{\n",
       "    x.observe(outputEl, {childList: true});\n",
       "}}\n",
       "\n",
       "                        })                };                });            </script>        </div>"
      ]
     },
     "metadata": {},
     "output_type": "display_data"
    }
   ],
   "source": [
    "fig = px.scatter_3d(finalDf, x='principal component 1', y='principal component 2', z='FoldChange',\n",
    "              color='FoldChange', symbol='combNum')\n",
    "fig.show()"
   ]
  },
  {
   "cell_type": "code",
   "execution_count": 41,
   "id": "b02d7cd2-a9af-4d96-875a-1525f9ba9c93",
   "metadata": {},
   "outputs": [
    {
     "data": {
      "application/vnd.plotly.v1+json": {
       "config": {
        "plotlyServerURL": "https://plot.ly"
       },
       "data": [
        {
         "hovertemplate": "principal component 1=%{x}<br>principal component 2=%{y}<br>FoldChange=%{marker.color}<extra></extra>",
         "legendgroup": "",
         "marker": {
          "color": [
           1.000002,
           2.128433333,
           5.157823333,
           5.029116667,
           2.42528,
           2.01398,
           2.461696667,
           2.13472,
           2.08414,
           1.989686667,
           2.04643,
           1.647596667,
           1.395033333,
           0.922934,
           0.992424333,
           1.022911,
           0.747680333,
           1.008125667,
           0.96147,
           0.780485333,
           1.19121,
           1.286356667,
           1.12363,
           1.086534,
           0.994274,
           1.026538,
           0.805052667,
           0.949409667,
           0.781767667,
           0.887615,
           0.944032,
           1.029742,
           0.725697333,
           0.931904,
           0.853929667,
           0.981971667,
           1.458608667,
           0.741752,
           1.006813333,
           0.983735,
           1.10772,
           0.782490667,
           1.063973333,
           1.37882,
           0.564727667,
           0.732489333,
           1.106236667,
           2.599685,
           2.966035,
           2.055403333,
           1.462963333,
           1.800216667,
           1.647156667,
           1.694646667,
           1.704946667,
           1.331214667,
           2.81656,
           2.775123333,
           2.568386667,
           3.111253333,
           2.7452,
           2.01195,
           2.237266667,
           2.54447,
           1.715236667,
           1.88879,
           1.805913333,
           1.718006667,
           1.777686667,
           2.22467,
           1.646423333,
           1.499983333,
           1.697885,
           1.766856667,
           2.554586667,
           1.74478,
           1.035386667,
           2.283946667,
           2.749456667,
           1.602533333,
           1.82604,
           2.22186,
           2.54277,
           1.886913333,
           1.77026,
           1.152155667,
           1.004137,
           1.273903333,
           1.22666,
           1.043728,
           1.311055,
           1.181005,
           0.717797,
           1.884443333,
           1.507135,
           1.73152,
           1.371483333,
           1.22228,
           0.862201667,
           2.035346667,
           1.543113333,
           1.776663333,
           1.555233333,
           1.14897,
           1.69526,
           1.862513333,
           1.868566667,
           0.787893,
           1.757286667,
           1.675636667,
           0.922303,
           0.839796667,
           1.406126667,
           1.615123333,
           1.678146667,
           0.990367667,
           0.847804,
           1.191013333,
           1.11598,
           1.240276667,
           1.462776667,
           0.652683,
           0.943093,
           0.959279333,
           1.072392667,
           1.577056667,
           1.185537,
           1.024376,
           0.961131667,
           1.68223,
           1.019376,
           1.215795,
           1.754623333,
           1.67279,
           1.117213333,
           1.819006667,
           1.22756,
           0.795282333,
           0.731265,
           0.866479,
           0.843328333,
           1.21338,
           0.759566333,
           0.840007,
           1.162230333,
           1.201306667,
           0.900694667,
           0.894,
           1.074211333,
           1.16502,
           1.377903333,
           2.125706667,
           0.910361333,
           1.613456667,
           1.595823333,
           1.378825,
           1.180542,
           1.45052,
           1.295066667,
           1.234176667,
           1.064129,
           1.43069,
           1.378976667,
           1.36415,
           1.475256667,
           1.229073333,
           1.27403,
           1.236983333,
           1.389416667,
           1.340733333,
           1.177084,
           1.34201,
           1.36458,
           1.31055,
           1.357042,
           1.361716667
          ],
          "coloraxis": "coloraxis",
          "symbol": "circle"
         },
         "mode": "markers",
         "name": "",
         "scene": "scene",
         "showlegend": false,
         "type": "scatter3d",
         "x": [
          2.5100704632608243e-16,
          -2.223658303759982e-16,
          -0.45889832392170327,
          -0.6023702632295436,
          -0.12120828101694145,
          -0.8325746344723309,
          -0.7146761801600751,
          -0.03257646867565719,
          0.034226197865920814,
          -0.3608863416210676,
          -0.58222229614223,
          -0.1434719393078406,
          0.19421810359692174,
          -0.5171482498584681,
          -0.39924979554621126,
          0.2828499159382058,
          0.349652582479784,
          -0.045459957007204434,
          -0.2667959115283669,
          0.33769004290476184,
          -0.035986267645865634,
          0.08191218666639118,
          0.7640118981508083,
          0.8308145646923865,
          0.4357020252053981,
          0.21436607068423558,
          -0.37367631055062783,
          -0.6294541667889986,
          0.052645544695418586,
          0.11944821123699666,
          -0.27566432824999165,
          -0.49700028277115404,
          -0.2557778562383712,
          0.17054399900767525,
          0.23734666554925327,
          -0.15776587393773495,
          -0.3791018284588974,
          0.4263218552460461,
          0.9194463770336705,
          0.5243338375466823,
          0.3029978830255198,
          0.49312452178762417,
          0.5911365040882604,
          0.3698005495670979,
          0.09801198230063582,
          -0.12332397222052666,
          -0.02531198991989047,
          -0.4588983239217036,
          -0.6023702632295439,
          -0.2646802203247815,
          -0.9760465737801715,
          -0.8581481194679148,
          -0.17604840798349755,
          -0.10924574144191937,
          -0.5043582809289078,
          -0.7256942354500702,
          -0.12120828101694128,
          -0.49488459156756875,
          -0.37698613725531205,
          0.30511357422910507,
          0.37191624077068325,
          -0.023196298716305123,
          -0.24453225323746758,
          -0.8325746344723313,
          -1.0883524907107018,
          -0.40625277922628455,
          -0.33945011268470654,
          -0.734562652171695,
          -0.9558986066928575,
          -0.7146761801600744,
          -0.28835432491402796,
          -0.22155165837244994,
          -0.6166641978594382,
          -0.8380001523806007,
          -0.032576468675657284,
          0.46054805311196734,
          0.06543551362497886,
          -0.15590044089618357,
          0.0342261978659208,
          0.13223818016655697,
          -0.08909777435460547,
          -0.3608863416210675,
          -0.5822222961422299,
          -0.48421031384159374,
          -0.14347193930784058,
          0.1942181035969217,
          -0.17945820695370573,
          -0.061559752641448966,
          0.6205399588429681,
          0.6873426253845463,
          0.2922300858975579,
          0.07089413137639546,
          -0.5171482498584681,
          -0.7729261060968388,
          -0.09082639461242162,
          -0.02402372807084335,
          -0.4191362675578319,
          -0.6404722220789943,
          -0.39924979554621126,
          0.027072059699835112,
          0.09387472624141324,
          -0.30123781324557514,
          -0.5225737677667375,
          0.28284991593820574,
          0.7759744377258303,
          0.380861898238842,
          0.15952594371767953,
          0.3496525824797838,
          0.44766456478042005,
          0.22632861025925755,
          -0.04545995700720442,
          -0.26679591152836685,
          -0.16878392922773067,
          0.33769004290476196,
          -0.03598626764586551,
          -0.29176412388423617,
          0.3903355876001809,
          0.457138254141759,
          0.06202571465477064,
          -0.15931023986639176,
          0.08191218666639129,
          0.5082340419124378,
          0.5750367084540159,
          0.17992416896702748,
          -0.04141178555413498,
          0.7640118981508083,
          1.2571364199384327,
          0.8620238804514445,
          0.6406879259302821,
          0.8308145646923865,
          0.9288265469930226,
          0.7074905924718602,
          0.43570202520539814,
          0.21436607068423566,
          0.31237805298487187,
          -0.37367631055062783,
          -0.6294541667889986,
          -0.20313231154295217,
          -0.13632964500137404,
          -0.5314421844883624,
          -0.7527781390095248,
          0.052645544695418475,
          0.5457700664830429,
          0.15065752699605464,
          -0.0706784275251078,
          0.11944821123699666,
          0.21746019353763282,
          -0.003875760983529639,
          -0.2756643282499917,
          -0.49700028277115416,
          -0.398988300470518,
          -0.2557778562383712,
          0.1705439990076752,
          0.6636685207952997,
          0.2685559813083114,
          0.04722002678714893,
          0.23734666554925327,
          0.33535864784988945,
          0.11402269332872701,
          -0.15776587393773503,
          -0.37910182845889745,
          -0.2810898461582613,
          0.42632185524604593,
          0.9194463770336703,
          1.0174583593343065,
          0.796122404813144,
          0.5243338375466821,
          0.3029978830255196,
          0.4010098653261558,
          0.493124521787624,
          0.5911365040882601,
          0.3698005495670977,
          0.4678125318677339,
          0.0980119823006357,
          -0.12332397222052674,
          -0.025311989919890587
         ],
         "y": [
          4.188114641518787e-16,
          7.987199355955495e-16,
          0.3485849701708812,
          0.7605430179421915,
          0.8375867060906004,
          -0.24168659056976396,
          0.2944027337671087,
          0.2632410882908932,
          0.0593311036148983,
          0.21352397063031106,
          0.25315276142992654,
          0.4119580477713107,
          0.9009597836910304,
          -0.17831351296933415,
          0.357775811367538,
          0.32661416589132275,
          0.12270418121532796,
          0.27689704823074074,
          0.3165258390303561,
          0.48900173591972,
          -0.10126982482092498,
          0.4348194995159472,
          0.4036578540397319,
          0.19974786936373723,
          0.35394073637915,
          0.3935695271787654,
          -0.5902715607406444,
          -0.6444537971444171,
          -0.6756154426206324,
          -0.879525427296627,
          -0.7253325602812144,
          -0.685703769481599,
          -0.05418223640377231,
          -0.13952611828376027,
          -0.34343610295975496,
          -0.18924323594434225,
          -0.14961444514472685,
          -0.08534388187998757,
          -0.37459774843597027,
          -0.22040488142055753,
          -0.18077609062094213,
          -0.28925386655598223,
          -0.4243148660965522,
          -0.38468607529693677,
          -0.13506099954056958,
          -0.09543220874095416,
          -0.23049320828152414,
          0.3485849701708812,
          0.7605430179421915,
          1.2495447538619113,
          0.17027145720154677,
          0.7063607815384187,
          0.6751991360622035,
          0.47128915138620875,
          0.6254820184016215,
          0.665110809201237,
          0.8375867060906007,
          0.24731514534995597,
          0.783404469686828,
          0.7522428242106127,
          0.548332839534618,
          0.7025257065500307,
          0.742154497349646,
          -0.24168659056976344,
          -0.29586882697353606,
          -0.32703047244975136,
          -0.5309404571257461,
          -0.37674759011033343,
          -0.337118799310718,
          0.2944027337671085,
          0.2090588518871206,
          0.0051488672111258925,
          0.15934173422653855,
          0.19897052502615395,
          0.26324108829089327,
          -0.02601277826508942,
          0.12818008875032336,
          0.1678088795499387,
          0.05933110361489858,
          -0.07572989592567139,
          -0.03610110512605597,
          0.21352397063031128,
          0.25315276142992665,
          0.11809176188935674,
          0.41195804777131095,
          0.9009597836910301,
          0.3106882229503857,
          0.8467775472872578,
          0.8156159018110426,
          0.6117059171350476,
          0.7658987841504604,
          0.8055275749500758,
          -0.1783135129693338,
          -0.23249574937310646,
          -0.2636573948493217,
          -0.46756737952531663,
          -0.3133745125099037,
          -0.2737457217102883,
          0.3577758113675382,
          0.2724319294875503,
          0.06852194481155552,
          0.22271481182696823,
          0.2623436026265836,
          0.32661416589132297,
          0.037360299335340276,
          0.191553166350753,
          0.23118195715036846,
          0.12270418121532826,
          -0.01235681832524169,
          0.027271972474373726,
          0.27689704823074096,
          0.31652583903035636,
          0.18146483948978642,
          0.48900173591972024,
          -0.10126982482092453,
          -0.15545206122469718,
          -0.18661370670091246,
          -0.39052369137690723,
          -0.23633082436149447,
          -0.1967020335618791,
          0.4348194995159475,
          0.3494756176359597,
          0.14556563295996483,
          0.29975849997537757,
          0.33938729077499297,
          0.40365785403973226,
          0.11440398748374962,
          0.2685968544991624,
          0.3082256452987778,
          0.19974786936373753,
          0.06468686982316757,
          0.10431566062278298,
          0.3539407363791503,
          0.3935695271787657,
          0.2585085276381957,
          -0.5902715607406442,
          -0.6444537971444168,
          -0.7297976790244048,
          -0.9337076637003995,
          -0.7795147966849868,
          -0.7398860058853713,
          -0.6756154426206322,
          -0.9648693091766148,
          -0.8106764421612022,
          -0.7710476513615867,
          -0.879525427296627,
          -1.0145864268371967,
          -0.9749576360375815,
          -0.7253325602812142,
          -0.6857037694815987,
          -0.8207647690221688,
          -0.05418223640377204,
          -0.13952611828375996,
          -0.42877998483974267,
          -0.2745871178243299,
          -0.2349583270247145,
          -0.3434361029597547,
          -0.4784971025003246,
          -0.4388683117007092,
          -0.18924323594434198,
          -0.14961444514472658,
          -0.2846754446852965,
          -0.08534388187998729,
          -0.37459774843596993,
          -0.50965874797654,
          -0.4700299571769245,
          -0.22040488142055722,
          -0.18077609062094185,
          -0.3158370901615118,
          -0.289253866555982,
          -0.4243148660965519,
          -0.3846860752969365,
          -0.5197470748375065,
          -0.13506099954056927,
          -0.0954322087409539,
          -0.23049320828152386
         ],
         "z": [
          1.000002,
          2.128433333,
          5.157823333,
          5.029116667,
          2.42528,
          2.01398,
          2.461696667,
          2.13472,
          2.08414,
          1.989686667,
          2.04643,
          1.647596667,
          1.395033333,
          0.922934,
          0.992424333,
          1.022911,
          0.747680333,
          1.008125667,
          0.96147,
          0.780485333,
          1.19121,
          1.286356667,
          1.12363,
          1.086534,
          0.994274,
          1.026538,
          0.805052667,
          0.949409667,
          0.781767667,
          0.887615,
          0.944032,
          1.029742,
          0.725697333,
          0.931904,
          0.853929667,
          0.981971667,
          1.458608667,
          0.741752,
          1.006813333,
          0.983735,
          1.10772,
          0.782490667,
          1.063973333,
          1.37882,
          0.564727667,
          0.732489333,
          1.106236667,
          2.599685,
          2.966035,
          2.055403333,
          1.462963333,
          1.800216667,
          1.647156667,
          1.694646667,
          1.704946667,
          1.331214667,
          2.81656,
          2.775123333,
          2.568386667,
          3.111253333,
          2.7452,
          2.01195,
          2.237266667,
          2.54447,
          1.715236667,
          1.88879,
          1.805913333,
          1.718006667,
          1.777686667,
          2.22467,
          1.646423333,
          1.499983333,
          1.697885,
          1.766856667,
          2.554586667,
          1.74478,
          1.035386667,
          2.283946667,
          2.749456667,
          1.602533333,
          1.82604,
          2.22186,
          2.54277,
          1.886913333,
          1.77026,
          1.152155667,
          1.004137,
          1.273903333,
          1.22666,
          1.043728,
          1.311055,
          1.181005,
          0.717797,
          1.884443333,
          1.507135,
          1.73152,
          1.371483333,
          1.22228,
          0.862201667,
          2.035346667,
          1.543113333,
          1.776663333,
          1.555233333,
          1.14897,
          1.69526,
          1.862513333,
          1.868566667,
          0.787893,
          1.757286667,
          1.675636667,
          0.922303,
          0.839796667,
          1.406126667,
          1.615123333,
          1.678146667,
          0.990367667,
          0.847804,
          1.191013333,
          1.11598,
          1.240276667,
          1.462776667,
          0.652683,
          0.943093,
          0.959279333,
          1.072392667,
          1.577056667,
          1.185537,
          1.024376,
          0.961131667,
          1.68223,
          1.019376,
          1.215795,
          1.754623333,
          1.67279,
          1.117213333,
          1.819006667,
          1.22756,
          0.795282333,
          0.731265,
          0.866479,
          0.843328333,
          1.21338,
          0.759566333,
          0.840007,
          1.162230333,
          1.201306667,
          0.900694667,
          0.894,
          1.074211333,
          1.16502,
          1.377903333,
          2.125706667,
          0.910361333,
          1.613456667,
          1.595823333,
          1.378825,
          1.180542,
          1.45052,
          1.295066667,
          1.234176667,
          1.064129,
          1.43069,
          1.378976667,
          1.36415,
          1.475256667,
          1.229073333,
          1.27403,
          1.236983333,
          1.389416667,
          1.340733333,
          1.177084,
          1.34201,
          1.36458,
          1.31055,
          1.357042,
          1.361716667
         ]
        }
       ],
       "layout": {
        "autosize": true,
        "coloraxis": {
         "colorbar": {
          "title": {
           "text": "FoldChange"
          }
         },
         "colorscale": [
          [
           0,
           "#0d0887"
          ],
          [
           0.1111111111111111,
           "#46039f"
          ],
          [
           0.2222222222222222,
           "#7201a8"
          ],
          [
           0.3333333333333333,
           "#9c179e"
          ],
          [
           0.4444444444444444,
           "#bd3786"
          ],
          [
           0.5555555555555556,
           "#d8576b"
          ],
          [
           0.6666666666666666,
           "#ed7953"
          ],
          [
           0.7777777777777778,
           "#fb9f3a"
          ],
          [
           0.8888888888888888,
           "#fdca26"
          ],
          [
           1,
           "#f0f921"
          ]
         ]
        },
        "legend": {
         "tracegroupgap": 0
        },
        "margin": {
         "t": 60
        },
        "scene": {
         "aspectmode": "auto",
         "aspectratio": {
          "x": 0.808760434762758,
          "y": 0.780707045660405,
          "z": 1.5837696059338948
         },
         "camera": {
          "center": {
           "x": 0,
           "y": 0,
           "z": 0
          },
          "eye": {
           "x": 1.022237348823322,
           "y": 1.4972545360221625,
           "z": 1.7110347448681442
          },
          "projection": {
           "type": "perspective"
          },
          "up": {
           "x": 0,
           "y": 0,
           "z": 1
          }
         },
         "domain": {
          "x": [
           0,
           1
          ],
          "y": [
           0,
           1
          ]
         },
         "xaxis": {
          "title": {
           "text": "principal component 1"
          },
          "type": "linear"
         },
         "yaxis": {
          "title": {
           "text": "principal component 2"
          },
          "type": "linear"
         },
         "zaxis": {
          "title": {
           "text": "FoldChange"
          },
          "type": "linear"
         }
        },
        "template": {
         "data": {
          "bar": [
           {
            "error_x": {
             "color": "#2a3f5f"
            },
            "error_y": {
             "color": "#2a3f5f"
            },
            "marker": {
             "line": {
              "color": "#E5ECF6",
              "width": 0.5
             },
             "pattern": {
              "fillmode": "overlay",
              "size": 10,
              "solidity": 0.2
             }
            },
            "type": "bar"
           }
          ],
          "barpolar": [
           {
            "marker": {
             "line": {
              "color": "#E5ECF6",
              "width": 0.5
             },
             "pattern": {
              "fillmode": "overlay",
              "size": 10,
              "solidity": 0.2
             }
            },
            "type": "barpolar"
           }
          ],
          "carpet": [
           {
            "aaxis": {
             "endlinecolor": "#2a3f5f",
             "gridcolor": "white",
             "linecolor": "white",
             "minorgridcolor": "white",
             "startlinecolor": "#2a3f5f"
            },
            "baxis": {
             "endlinecolor": "#2a3f5f",
             "gridcolor": "white",
             "linecolor": "white",
             "minorgridcolor": "white",
             "startlinecolor": "#2a3f5f"
            },
            "type": "carpet"
           }
          ],
          "choropleth": [
           {
            "colorbar": {
             "outlinewidth": 0,
             "ticks": ""
            },
            "type": "choropleth"
           }
          ],
          "contour": [
           {
            "colorbar": {
             "outlinewidth": 0,
             "ticks": ""
            },
            "colorscale": [
             [
              0,
              "#0d0887"
             ],
             [
              0.1111111111111111,
              "#46039f"
             ],
             [
              0.2222222222222222,
              "#7201a8"
             ],
             [
              0.3333333333333333,
              "#9c179e"
             ],
             [
              0.4444444444444444,
              "#bd3786"
             ],
             [
              0.5555555555555556,
              "#d8576b"
             ],
             [
              0.6666666666666666,
              "#ed7953"
             ],
             [
              0.7777777777777778,
              "#fb9f3a"
             ],
             [
              0.8888888888888888,
              "#fdca26"
             ],
             [
              1,
              "#f0f921"
             ]
            ],
            "type": "contour"
           }
          ],
          "contourcarpet": [
           {
            "colorbar": {
             "outlinewidth": 0,
             "ticks": ""
            },
            "type": "contourcarpet"
           }
          ],
          "heatmap": [
           {
            "colorbar": {
             "outlinewidth": 0,
             "ticks": ""
            },
            "colorscale": [
             [
              0,
              "#0d0887"
             ],
             [
              0.1111111111111111,
              "#46039f"
             ],
             [
              0.2222222222222222,
              "#7201a8"
             ],
             [
              0.3333333333333333,
              "#9c179e"
             ],
             [
              0.4444444444444444,
              "#bd3786"
             ],
             [
              0.5555555555555556,
              "#d8576b"
             ],
             [
              0.6666666666666666,
              "#ed7953"
             ],
             [
              0.7777777777777778,
              "#fb9f3a"
             ],
             [
              0.8888888888888888,
              "#fdca26"
             ],
             [
              1,
              "#f0f921"
             ]
            ],
            "type": "heatmap"
           }
          ],
          "heatmapgl": [
           {
            "colorbar": {
             "outlinewidth": 0,
             "ticks": ""
            },
            "colorscale": [
             [
              0,
              "#0d0887"
             ],
             [
              0.1111111111111111,
              "#46039f"
             ],
             [
              0.2222222222222222,
              "#7201a8"
             ],
             [
              0.3333333333333333,
              "#9c179e"
             ],
             [
              0.4444444444444444,
              "#bd3786"
             ],
             [
              0.5555555555555556,
              "#d8576b"
             ],
             [
              0.6666666666666666,
              "#ed7953"
             ],
             [
              0.7777777777777778,
              "#fb9f3a"
             ],
             [
              0.8888888888888888,
              "#fdca26"
             ],
             [
              1,
              "#f0f921"
             ]
            ],
            "type": "heatmapgl"
           }
          ],
          "histogram": [
           {
            "marker": {
             "pattern": {
              "fillmode": "overlay",
              "size": 10,
              "solidity": 0.2
             }
            },
            "type": "histogram"
           }
          ],
          "histogram2d": [
           {
            "colorbar": {
             "outlinewidth": 0,
             "ticks": ""
            },
            "colorscale": [
             [
              0,
              "#0d0887"
             ],
             [
              0.1111111111111111,
              "#46039f"
             ],
             [
              0.2222222222222222,
              "#7201a8"
             ],
             [
              0.3333333333333333,
              "#9c179e"
             ],
             [
              0.4444444444444444,
              "#bd3786"
             ],
             [
              0.5555555555555556,
              "#d8576b"
             ],
             [
              0.6666666666666666,
              "#ed7953"
             ],
             [
              0.7777777777777778,
              "#fb9f3a"
             ],
             [
              0.8888888888888888,
              "#fdca26"
             ],
             [
              1,
              "#f0f921"
             ]
            ],
            "type": "histogram2d"
           }
          ],
          "histogram2dcontour": [
           {
            "colorbar": {
             "outlinewidth": 0,
             "ticks": ""
            },
            "colorscale": [
             [
              0,
              "#0d0887"
             ],
             [
              0.1111111111111111,
              "#46039f"
             ],
             [
              0.2222222222222222,
              "#7201a8"
             ],
             [
              0.3333333333333333,
              "#9c179e"
             ],
             [
              0.4444444444444444,
              "#bd3786"
             ],
             [
              0.5555555555555556,
              "#d8576b"
             ],
             [
              0.6666666666666666,
              "#ed7953"
             ],
             [
              0.7777777777777778,
              "#fb9f3a"
             ],
             [
              0.8888888888888888,
              "#fdca26"
             ],
             [
              1,
              "#f0f921"
             ]
            ],
            "type": "histogram2dcontour"
           }
          ],
          "mesh3d": [
           {
            "colorbar": {
             "outlinewidth": 0,
             "ticks": ""
            },
            "type": "mesh3d"
           }
          ],
          "parcoords": [
           {
            "line": {
             "colorbar": {
              "outlinewidth": 0,
              "ticks": ""
             }
            },
            "type": "parcoords"
           }
          ],
          "pie": [
           {
            "automargin": true,
            "type": "pie"
           }
          ],
          "scatter": [
           {
            "fillpattern": {
             "fillmode": "overlay",
             "size": 10,
             "solidity": 0.2
            },
            "type": "scatter"
           }
          ],
          "scatter3d": [
           {
            "line": {
             "colorbar": {
              "outlinewidth": 0,
              "ticks": ""
             }
            },
            "marker": {
             "colorbar": {
              "outlinewidth": 0,
              "ticks": ""
             }
            },
            "type": "scatter3d"
           }
          ],
          "scattercarpet": [
           {
            "marker": {
             "colorbar": {
              "outlinewidth": 0,
              "ticks": ""
             }
            },
            "type": "scattercarpet"
           }
          ],
          "scattergeo": [
           {
            "marker": {
             "colorbar": {
              "outlinewidth": 0,
              "ticks": ""
             }
            },
            "type": "scattergeo"
           }
          ],
          "scattergl": [
           {
            "marker": {
             "colorbar": {
              "outlinewidth": 0,
              "ticks": ""
             }
            },
            "type": "scattergl"
           }
          ],
          "scattermapbox": [
           {
            "marker": {
             "colorbar": {
              "outlinewidth": 0,
              "ticks": ""
             }
            },
            "type": "scattermapbox"
           }
          ],
          "scatterpolar": [
           {
            "marker": {
             "colorbar": {
              "outlinewidth": 0,
              "ticks": ""
             }
            },
            "type": "scatterpolar"
           }
          ],
          "scatterpolargl": [
           {
            "marker": {
             "colorbar": {
              "outlinewidth": 0,
              "ticks": ""
             }
            },
            "type": "scatterpolargl"
           }
          ],
          "scatterternary": [
           {
            "marker": {
             "colorbar": {
              "outlinewidth": 0,
              "ticks": ""
             }
            },
            "type": "scatterternary"
           }
          ],
          "surface": [
           {
            "colorbar": {
             "outlinewidth": 0,
             "ticks": ""
            },
            "colorscale": [
             [
              0,
              "#0d0887"
             ],
             [
              0.1111111111111111,
              "#46039f"
             ],
             [
              0.2222222222222222,
              "#7201a8"
             ],
             [
              0.3333333333333333,
              "#9c179e"
             ],
             [
              0.4444444444444444,
              "#bd3786"
             ],
             [
              0.5555555555555556,
              "#d8576b"
             ],
             [
              0.6666666666666666,
              "#ed7953"
             ],
             [
              0.7777777777777778,
              "#fb9f3a"
             ],
             [
              0.8888888888888888,
              "#fdca26"
             ],
             [
              1,
              "#f0f921"
             ]
            ],
            "type": "surface"
           }
          ],
          "table": [
           {
            "cells": {
             "fill": {
              "color": "#EBF0F8"
             },
             "line": {
              "color": "white"
             }
            },
            "header": {
             "fill": {
              "color": "#C8D4E3"
             },
             "line": {
              "color": "white"
             }
            },
            "type": "table"
           }
          ]
         },
         "layout": {
          "annotationdefaults": {
           "arrowcolor": "#2a3f5f",
           "arrowhead": 0,
           "arrowwidth": 1
          },
          "autotypenumbers": "strict",
          "coloraxis": {
           "colorbar": {
            "outlinewidth": 0,
            "ticks": ""
           }
          },
          "colorscale": {
           "diverging": [
            [
             0,
             "#8e0152"
            ],
            [
             0.1,
             "#c51b7d"
            ],
            [
             0.2,
             "#de77ae"
            ],
            [
             0.3,
             "#f1b6da"
            ],
            [
             0.4,
             "#fde0ef"
            ],
            [
             0.5,
             "#f7f7f7"
            ],
            [
             0.6,
             "#e6f5d0"
            ],
            [
             0.7,
             "#b8e186"
            ],
            [
             0.8,
             "#7fbc41"
            ],
            [
             0.9,
             "#4d9221"
            ],
            [
             1,
             "#276419"
            ]
           ],
           "sequential": [
            [
             0,
             "#0d0887"
            ],
            [
             0.1111111111111111,
             "#46039f"
            ],
            [
             0.2222222222222222,
             "#7201a8"
            ],
            [
             0.3333333333333333,
             "#9c179e"
            ],
            [
             0.4444444444444444,
             "#bd3786"
            ],
            [
             0.5555555555555556,
             "#d8576b"
            ],
            [
             0.6666666666666666,
             "#ed7953"
            ],
            [
             0.7777777777777778,
             "#fb9f3a"
            ],
            [
             0.8888888888888888,
             "#fdca26"
            ],
            [
             1,
             "#f0f921"
            ]
           ],
           "sequentialminus": [
            [
             0,
             "#0d0887"
            ],
            [
             0.1111111111111111,
             "#46039f"
            ],
            [
             0.2222222222222222,
             "#7201a8"
            ],
            [
             0.3333333333333333,
             "#9c179e"
            ],
            [
             0.4444444444444444,
             "#bd3786"
            ],
            [
             0.5555555555555556,
             "#d8576b"
            ],
            [
             0.6666666666666666,
             "#ed7953"
            ],
            [
             0.7777777777777778,
             "#fb9f3a"
            ],
            [
             0.8888888888888888,
             "#fdca26"
            ],
            [
             1,
             "#f0f921"
            ]
           ]
          },
          "colorway": [
           "#636efa",
           "#EF553B",
           "#00cc96",
           "#ab63fa",
           "#FFA15A",
           "#19d3f3",
           "#FF6692",
           "#B6E880",
           "#FF97FF",
           "#FECB52"
          ],
          "font": {
           "color": "#2a3f5f"
          },
          "geo": {
           "bgcolor": "white",
           "lakecolor": "white",
           "landcolor": "#E5ECF6",
           "showlakes": true,
           "showland": true,
           "subunitcolor": "white"
          },
          "hoverlabel": {
           "align": "left"
          },
          "hovermode": "closest",
          "mapbox": {
           "style": "light"
          },
          "paper_bgcolor": "white",
          "plot_bgcolor": "#E5ECF6",
          "polar": {
           "angularaxis": {
            "gridcolor": "white",
            "linecolor": "white",
            "ticks": ""
           },
           "bgcolor": "#E5ECF6",
           "radialaxis": {
            "gridcolor": "white",
            "linecolor": "white",
            "ticks": ""
           }
          },
          "scene": {
           "xaxis": {
            "backgroundcolor": "#E5ECF6",
            "gridcolor": "white",
            "gridwidth": 2,
            "linecolor": "white",
            "showbackground": true,
            "ticks": "",
            "zerolinecolor": "white"
           },
           "yaxis": {
            "backgroundcolor": "#E5ECF6",
            "gridcolor": "white",
            "gridwidth": 2,
            "linecolor": "white",
            "showbackground": true,
            "ticks": "",
            "zerolinecolor": "white"
           },
           "zaxis": {
            "backgroundcolor": "#E5ECF6",
            "gridcolor": "white",
            "gridwidth": 2,
            "linecolor": "white",
            "showbackground": true,
            "ticks": "",
            "zerolinecolor": "white"
           }
          },
          "shapedefaults": {
           "line": {
            "color": "#2a3f5f"
           }
          },
          "ternary": {
           "aaxis": {
            "gridcolor": "white",
            "linecolor": "white",
            "ticks": ""
           },
           "baxis": {
            "gridcolor": "white",
            "linecolor": "white",
            "ticks": ""
           },
           "bgcolor": "#E5ECF6",
           "caxis": {
            "gridcolor": "white",
            "linecolor": "white",
            "ticks": ""
           }
          },
          "title": {
           "x": 0.05
          },
          "xaxis": {
           "automargin": true,
           "gridcolor": "white",
           "linecolor": "white",
           "ticks": "",
           "title": {
            "standoff": 15
           },
           "zerolinecolor": "white",
           "zerolinewidth": 2
          },
          "yaxis": {
           "automargin": true,
           "gridcolor": "white",
           "linecolor": "white",
           "ticks": "",
           "title": {
            "standoff": 15
           },
           "zerolinecolor": "white",
           "zerolinewidth": 2
          }
         }
        }
       }
      },
      "image/png": "[encoded data removed]",
      "text/html": [
       "<div>                            <div id=\"7d078a52-b1ca-4a32-8aae-ff17d64754e0\" class=\"plotly-graph-div\" style=\"height:525px; width:100%;\"></div>            <script type=\"text/javascript\">                require([\"plotly\"], function(Plotly) {                    window.PLOTLYENV=window.PLOTLYENV || {};                                    if (document.getElementById(\"7d078a52-b1ca-4a32-8aae-ff17d64754e0\")) {                    Plotly.newPlot(                        \"7d078a52-b1ca-4a32-8aae-ff17d64754e0\",                        [{\"hovertemplate\":\"principal component 1=%{x}<br>principal component 2=%{y}<br>FoldChange=%{marker.color}<extra></extra>\",\"legendgroup\":\"\",\"marker\":{\"color\":[1.000002,2.128433333,5.157823333,5.029116667,2.42528,2.01398,2.461696667,2.13472,2.08414,1.989686667,2.04643,1.647596667,1.395033333,0.922934,0.992424333,1.022911,0.747680333,1.008125667,0.96147,0.780485333,1.19121,1.286356667,1.12363,1.086534,0.994274,1.026538,0.805052667,0.949409667,0.781767667,0.887615,0.944032,1.029742,0.725697333,0.931904,0.853929667,0.981971667,1.458608667,0.741752,1.006813333,0.983735,1.10772,0.782490667,1.063973333,1.37882,0.564727667,0.732489333,1.106236667,2.599685,2.966035,2.055403333,1.462963333,1.800216667,1.647156667,1.694646667,1.704946667,1.331214667,2.81656,2.775123333,2.568386667,3.111253333,2.7452,2.01195,2.237266667,2.54447,1.715236667,1.88879,1.805913333,1.718006667,1.777686667,2.22467,1.646423333,1.499983333,1.697885,1.766856667,2.554586667,1.74478,1.035386667,2.283946667,2.749456667,1.602533333,1.82604,2.22186,2.54277,1.886913333,1.77026,1.152155667,1.004137,1.273903333,1.22666,1.043728,1.311055,1.181005,0.717797,1.884443333,1.507135,1.73152,1.371483333,1.22228,0.862201667,2.035346667,1.543113333,1.776663333,1.555233333,1.14897,1.69526,1.862513333,1.868566667,0.787893,1.757286667,1.675636667,0.922303,0.839796667,1.406126667,1.615123333,1.678146667,0.990367667,0.847804,1.191013333,1.11598,1.240276667,1.462776667,0.652683,0.943093,0.959279333,1.072392667,1.577056667,1.185537,1.024376,0.961131667,1.68223,1.019376,1.215795,1.754623333,1.67279,1.117213333,1.819006667,1.22756,0.795282333,0.731265,0.866479,0.843328333,1.21338,0.759566333,0.840007,1.162230333,1.201306667,0.900694667,0.894,1.074211333,1.16502,1.377903333,2.125706667,0.910361333,1.613456667,1.595823333,1.378825,1.180542,1.45052,1.295066667,1.234176667,1.064129,1.43069,1.378976667,1.36415,1.475256667,1.229073333,1.27403,1.236983333,1.389416667,1.340733333,1.177084,1.34201,1.36458,1.31055,1.357042,1.361716667],\"coloraxis\":\"coloraxis\",\"symbol\":\"circle\"},\"mode\":\"markers\",\"name\":\"\",\"scene\":\"scene\",\"showlegend\":false,\"x\":[2.5100704632608243e-16,-2.223658303759982e-16,-0.45889832392170327,-0.6023702632295436,-0.12120828101694145,-0.8325746344723309,-0.7146761801600751,-0.03257646867565719,0.034226197865920814,-0.3608863416210676,-0.58222229614223,-0.1434719393078406,0.19421810359692174,-0.5171482498584681,-0.39924979554621126,0.2828499159382058,0.349652582479784,-0.045459957007204434,-0.2667959115283669,0.33769004290476184,-0.035986267645865634,0.08191218666639118,0.7640118981508083,0.8308145646923865,0.4357020252053981,0.21436607068423558,-0.37367631055062783,-0.6294541667889986,0.052645544695418586,0.11944821123699666,-0.27566432824999165,-0.49700028277115404,-0.2557778562383712,0.17054399900767525,0.23734666554925327,-0.15776587393773495,-0.3791018284588974,0.4263218552460461,0.9194463770336705,0.5243338375466823,0.3029978830255198,0.49312452178762417,0.5911365040882604,0.3698005495670979,0.09801198230063582,-0.12332397222052666,-0.02531198991989047,-0.4588983239217036,-0.6023702632295439,-0.2646802203247815,-0.9760465737801715,-0.8581481194679148,-0.17604840798349755,-0.10924574144191937,-0.5043582809289078,-0.7256942354500702,-0.12120828101694128,-0.49488459156756875,-0.37698613725531205,0.30511357422910507,0.37191624077068325,-0.023196298716305123,-0.24453225323746758,-0.8325746344723313,-1.0883524907107018,-0.40625277922628455,-0.33945011268470654,-0.734562652171695,-0.9558986066928575,-0.7146761801600744,-0.28835432491402796,-0.22155165837244994,-0.6166641978594382,-0.8380001523806007,-0.032576468675657284,0.46054805311196734,0.06543551362497886,-0.15590044089618357,0.0342261978659208,0.13223818016655697,-0.08909777435460547,-0.3608863416210675,-0.5822222961422299,-0.48421031384159374,-0.14347193930784058,0.1942181035969217,-0.17945820695370573,-0.061559752641448966,0.6205399588429681,0.6873426253845463,0.2922300858975579,0.07089413137639546,-0.5171482498584681,-0.7729261060968388,-0.09082639461242162,-0.02402372807084335,-0.4191362675578319,-0.6404722220789943,-0.39924979554621126,0.027072059699835112,0.09387472624141324,-0.30123781324557514,-0.5225737677667375,0.28284991593820574,0.7759744377258303,0.380861898238842,0.15952594371767953,0.3496525824797838,0.44766456478042005,0.22632861025925755,-0.04545995700720442,-0.26679591152836685,-0.16878392922773067,0.33769004290476196,-0.03598626764586551,-0.29176412388423617,0.3903355876001809,0.457138254141759,0.06202571465477064,-0.15931023986639176,0.08191218666639129,0.5082340419124378,0.5750367084540159,0.17992416896702748,-0.04141178555413498,0.7640118981508083,1.2571364199384327,0.8620238804514445,0.6406879259302821,0.8308145646923865,0.9288265469930226,0.7074905924718602,0.43570202520539814,0.21436607068423566,0.31237805298487187,-0.37367631055062783,-0.6294541667889986,-0.20313231154295217,-0.13632964500137404,-0.5314421844883624,-0.7527781390095248,0.052645544695418475,0.5457700664830429,0.15065752699605464,-0.0706784275251078,0.11944821123699666,0.21746019353763282,-0.003875760983529639,-0.2756643282499917,-0.49700028277115416,-0.398988300470518,-0.2557778562383712,0.1705439990076752,0.6636685207952997,0.2685559813083114,0.04722002678714893,0.23734666554925327,0.33535864784988945,0.11402269332872701,-0.15776587393773503,-0.37910182845889745,-0.2810898461582613,0.42632185524604593,0.9194463770336703,1.0174583593343065,0.796122404813144,0.5243338375466821,0.3029978830255196,0.4010098653261558,0.493124521787624,0.5911365040882601,0.3698005495670977,0.4678125318677339,0.0980119823006357,-0.12332397222052674,-0.025311989919890587],\"y\":[4.188114641518787e-16,7.987199355955495e-16,0.3485849701708812,0.7605430179421915,0.8375867060906004,-0.24168659056976396,0.2944027337671087,0.2632410882908932,0.0593311036148983,0.21352397063031106,0.25315276142992654,0.4119580477713107,0.9009597836910304,-0.17831351296933415,0.357775811367538,0.32661416589132275,0.12270418121532796,0.27689704823074074,0.3165258390303561,0.48900173591972,-0.10126982482092498,0.4348194995159472,0.4036578540397319,0.19974786936373723,0.35394073637915,0.3935695271787654,-0.5902715607406444,-0.6444537971444171,-0.6756154426206324,-0.879525427296627,-0.7253325602812144,-0.685703769481599,-0.05418223640377231,-0.13952611828376027,-0.34343610295975496,-0.18924323594434225,-0.14961444514472685,-0.08534388187998757,-0.37459774843597027,-0.22040488142055753,-0.18077609062094213,-0.28925386655598223,-0.4243148660965522,-0.38468607529693677,-0.13506099954056958,-0.09543220874095416,-0.23049320828152414,0.3485849701708812,0.7605430179421915,1.2495447538619113,0.17027145720154677,0.7063607815384187,0.6751991360622035,0.47128915138620875,0.6254820184016215,0.665110809201237,0.8375867060906007,0.24731514534995597,0.783404469686828,0.7522428242106127,0.548332839534618,0.7025257065500307,0.742154497349646,-0.24168659056976344,-0.29586882697353606,-0.32703047244975136,-0.5309404571257461,-0.37674759011033343,-0.337118799310718,0.2944027337671085,0.2090588518871206,0.0051488672111258925,0.15934173422653855,0.19897052502615395,0.26324108829089327,-0.02601277826508942,0.12818008875032336,0.1678088795499387,0.05933110361489858,-0.07572989592567139,-0.03610110512605597,0.21352397063031128,0.25315276142992665,0.11809176188935674,0.41195804777131095,0.9009597836910301,0.3106882229503857,0.8467775472872578,0.8156159018110426,0.6117059171350476,0.7658987841504604,0.8055275749500758,-0.1783135129693338,-0.23249574937310646,-0.2636573948493217,-0.46756737952531663,-0.3133745125099037,-0.2737457217102883,0.3577758113675382,0.2724319294875503,0.06852194481155552,0.22271481182696823,0.2623436026265836,0.32661416589132297,0.037360299335340276,0.191553166350753,0.23118195715036846,0.12270418121532826,-0.01235681832524169,0.027271972474373726,0.27689704823074096,0.31652583903035636,0.18146483948978642,0.48900173591972024,-0.10126982482092453,-0.15545206122469718,-0.18661370670091246,-0.39052369137690723,-0.23633082436149447,-0.1967020335618791,0.4348194995159475,0.3494756176359597,0.14556563295996483,0.29975849997537757,0.33938729077499297,0.40365785403973226,0.11440398748374962,0.2685968544991624,0.3082256452987778,0.19974786936373753,0.06468686982316757,0.10431566062278298,0.3539407363791503,0.3935695271787657,0.2585085276381957,-0.5902715607406442,-0.6444537971444168,-0.7297976790244048,-0.9337076637003995,-0.7795147966849868,-0.7398860058853713,-0.6756154426206322,-0.9648693091766148,-0.8106764421612022,-0.7710476513615867,-0.879525427296627,-1.0145864268371967,-0.9749576360375815,-0.7253325602812142,-0.6857037694815987,-0.8207647690221688,-0.05418223640377204,-0.13952611828375996,-0.42877998483974267,-0.2745871178243299,-0.2349583270247145,-0.3434361029597547,-0.4784971025003246,-0.4388683117007092,-0.18924323594434198,-0.14961444514472658,-0.2846754446852965,-0.08534388187998729,-0.37459774843596993,-0.50965874797654,-0.4700299571769245,-0.22040488142055722,-0.18077609062094185,-0.3158370901615118,-0.289253866555982,-0.4243148660965519,-0.3846860752969365,-0.5197470748375065,-0.13506099954056927,-0.0954322087409539,-0.23049320828152386],\"z\":[1.000002,2.128433333,5.157823333,5.029116667,2.42528,2.01398,2.461696667,2.13472,2.08414,1.989686667,2.04643,1.647596667,1.395033333,0.922934,0.992424333,1.022911,0.747680333,1.008125667,0.96147,0.780485333,1.19121,1.286356667,1.12363,1.086534,0.994274,1.026538,0.805052667,0.949409667,0.781767667,0.887615,0.944032,1.029742,0.725697333,0.931904,0.853929667,0.981971667,1.458608667,0.741752,1.006813333,0.983735,1.10772,0.782490667,1.063973333,1.37882,0.564727667,0.732489333,1.106236667,2.599685,2.966035,2.055403333,1.462963333,1.800216667,1.647156667,1.694646667,1.704946667,1.331214667,2.81656,2.775123333,2.568386667,3.111253333,2.7452,2.01195,2.237266667,2.54447,1.715236667,1.88879,1.805913333,1.718006667,1.777686667,2.22467,1.646423333,1.499983333,1.697885,1.766856667,2.554586667,1.74478,1.035386667,2.283946667,2.749456667,1.602533333,1.82604,2.22186,2.54277,1.886913333,1.77026,1.152155667,1.004137,1.273903333,1.22666,1.043728,1.311055,1.181005,0.717797,1.884443333,1.507135,1.73152,1.371483333,1.22228,0.862201667,2.035346667,1.543113333,1.776663333,1.555233333,1.14897,1.69526,1.862513333,1.868566667,0.787893,1.757286667,1.675636667,0.922303,0.839796667,1.406126667,1.615123333,1.678146667,0.990367667,0.847804,1.191013333,1.11598,1.240276667,1.462776667,0.652683,0.943093,0.959279333,1.072392667,1.577056667,1.185537,1.024376,0.961131667,1.68223,1.019376,1.215795,1.754623333,1.67279,1.117213333,1.819006667,1.22756,0.795282333,0.731265,0.866479,0.843328333,1.21338,0.759566333,0.840007,1.162230333,1.201306667,0.900694667,0.894,1.074211333,1.16502,1.377903333,2.125706667,0.910361333,1.613456667,1.595823333,1.378825,1.180542,1.45052,1.295066667,1.234176667,1.064129,1.43069,1.378976667,1.36415,1.475256667,1.229073333,1.27403,1.236983333,1.389416667,1.340733333,1.177084,1.34201,1.36458,1.31055,1.357042,1.361716667],\"type\":\"scatter3d\"}],                        {\"template\":{\"data\":{\"histogram2dcontour\":[{\"type\":\"histogram2dcontour\",\"colorbar\":{\"outlinewidth\":0,\"ticks\":\"\"},\"colorscale\":[[0.0,\"#0d0887\"],[0.1111111111111111,\"#46039f\"],[0.2222222222222222,\"#7201a8\"],[0.3333333333333333,\"#9c179e\"],[0.4444444444444444,\"#bd3786\"],[0.5555555555555556,\"#d8576b\"],[0.6666666666666666,\"#ed7953\"],[0.7777777777777778,\"#fb9f3a\"],[0.8888888888888888,\"#fdca26\"],[1.0,\"#f0f921\"]]}],\"choropleth\":[{\"type\":\"choropleth\",\"colorbar\":{\"outlinewidth\":0,\"ticks\":\"\"}}],\"histogram2d\":[{\"type\":\"histogram2d\",\"colorbar\":{\"outlinewidth\":0,\"ticks\":\"\"},\"colorscale\":[[0.0,\"#0d0887\"],[0.1111111111111111,\"#46039f\"],[0.2222222222222222,\"#7201a8\"],[0.3333333333333333,\"#9c179e\"],[0.4444444444444444,\"#bd3786\"],[0.5555555555555556,\"#d8576b\"],[0.6666666666666666,\"#ed7953\"],[0.7777777777777778,\"#fb9f3a\"],[0.8888888888888888,\"#fdca26\"],[1.0,\"#f0f921\"]]}],\"heatmap\":[{\"type\":\"heatmap\",\"colorbar\":{\"outlinewidth\":0,\"ticks\":\"\"},\"colorscale\":[[0.0,\"#0d0887\"],[0.1111111111111111,\"#46039f\"],[0.2222222222222222,\"#7201a8\"],[0.3333333333333333,\"#9c179e\"],[0.4444444444444444,\"#bd3786\"],[0.5555555555555556,\"#d8576b\"],[0.6666666666666666,\"#ed7953\"],[0.7777777777777778,\"#fb9f3a\"],[0.8888888888888888,\"#fdca26\"],[1.0,\"#f0f921\"]]}],\"heatmapgl\":[{\"type\":\"heatmapgl\",\"colorbar\":{\"outlinewidth\":0,\"ticks\":\"\"},\"colorscale\":[[0.0,\"#0d0887\"],[0.1111111111111111,\"#46039f\"],[0.2222222222222222,\"#7201a8\"],[0.3333333333333333,\"#9c179e\"],[0.4444444444444444,\"#bd3786\"],[0.5555555555555556,\"#d8576b\"],[0.6666666666666666,\"#ed7953\"],[0.7777777777777778,\"#fb9f3a\"],[0.8888888888888888,\"#fdca26\"],[1.0,\"#f0f921\"]]}],\"contourcarpet\":[{\"type\":\"contourcarpet\",\"colorbar\":{\"outlinewidth\":0,\"ticks\":\"\"}}],\"contour\":[{\"type\":\"contour\",\"colorbar\":{\"outlinewidth\":0,\"ticks\":\"\"},\"colorscale\":[[0.0,\"#0d0887\"],[0.1111111111111111,\"#46039f\"],[0.2222222222222222,\"#7201a8\"],[0.3333333333333333,\"#9c179e\"],[0.4444444444444444,\"#bd3786\"],[0.5555555555555556,\"#d8576b\"],[0.6666666666666666,\"#ed7953\"],[0.7777777777777778,\"#fb9f3a\"],[0.8888888888888888,\"#fdca26\"],[1.0,\"#f0f921\"]]}],\"surface\":[{\"type\":\"surface\",\"colorbar\":{\"outlinewidth\":0,\"ticks\":\"\"},\"colorscale\":[[0.0,\"#0d0887\"],[0.1111111111111111,\"#46039f\"],[0.2222222222222222,\"#7201a8\"],[0.3333333333333333,\"#9c179e\"],[0.4444444444444444,\"#bd3786\"],[0.5555555555555556,\"#d8576b\"],[0.6666666666666666,\"#ed7953\"],[0.7777777777777778,\"#fb9f3a\"],[0.8888888888888888,\"#fdca26\"],[1.0,\"#f0f921\"]]}],\"mesh3d\":[{\"type\":\"mesh3d\",\"colorbar\":{\"outlinewidth\":0,\"ticks\":\"\"}}],\"scatter\":[{\"fillpattern\":{\"fillmode\":\"overlay\",\"size\":10,\"solidity\":0.2},\"type\":\"scatter\"}],\"parcoords\":[{\"type\":\"parcoords\",\"line\":{\"colorbar\":{\"outlinewidth\":0,\"ticks\":\"\"}}}],\"scatterpolargl\":[{\"type\":\"scatterpolargl\",\"marker\":{\"colorbar\":{\"outlinewidth\":0,\"ticks\":\"\"}}}],\"bar\":[{\"error_x\":{\"color\":\"#2a3f5f\"},\"error_y\":{\"color\":\"#2a3f5f\"},\"marker\":{\"line\":{\"color\":\"#E5ECF6\",\"width\":0.5},\"pattern\":{\"fillmode\":\"overlay\",\"size\":10,\"solidity\":0.2}},\"type\":\"bar\"}],\"scattergeo\":[{\"type\":\"scattergeo\",\"marker\":{\"colorbar\":{\"outlinewidth\":0,\"ticks\":\"\"}}}],\"scatterpolar\":[{\"type\":\"scatterpolar\",\"marker\":{\"colorbar\":{\"outlinewidth\":0,\"ticks\":\"\"}}}],\"histogram\":[{\"marker\":{\"pattern\":{\"fillmode\":\"overlay\",\"size\":10,\"solidity\":0.2}},\"type\":\"histogram\"}],\"scattergl\":[{\"type\":\"scattergl\",\"marker\":{\"colorbar\":{\"outlinewidth\":0,\"ticks\":\"\"}}}],\"scatter3d\":[{\"type\":\"scatter3d\",\"line\":{\"colorbar\":{\"outlinewidth\":0,\"ticks\":\"\"}},\"marker\":{\"colorbar\":{\"outlinewidth\":0,\"ticks\":\"\"}}}],\"scattermapbox\":[{\"type\":\"scattermapbox\",\"marker\":{\"colorbar\":{\"outlinewidth\":0,\"ticks\":\"\"}}}],\"scatterternary\":[{\"type\":\"scatterternary\",\"marker\":{\"colorbar\":{\"outlinewidth\":0,\"ticks\":\"\"}}}],\"scattercarpet\":[{\"type\":\"scattercarpet\",\"marker\":{\"colorbar\":{\"outlinewidth\":0,\"ticks\":\"\"}}}],\"carpet\":[{\"aaxis\":{\"endlinecolor\":\"#2a3f5f\",\"gridcolor\":\"white\",\"linecolor\":\"white\",\"minorgridcolor\":\"white\",\"startlinecolor\":\"#2a3f5f\"},\"baxis\":{\"endlinecolor\":\"#2a3f5f\",\"gridcolor\":\"white\",\"linecolor\":\"white\",\"minorgridcolor\":\"white\",\"startlinecolor\":\"#2a3f5f\"},\"type\":\"carpet\"}],\"table\":[{\"cells\":{\"fill\":{\"color\":\"#EBF0F8\"},\"line\":{\"color\":\"white\"}},\"header\":{\"fill\":{\"color\":\"#C8D4E3\"},\"line\":{\"color\":\"white\"}},\"type\":\"table\"}],\"barpolar\":[{\"marker\":{\"line\":{\"color\":\"#E5ECF6\",\"width\":0.5},\"pattern\":{\"fillmode\":\"overlay\",\"size\":10,\"solidity\":0.2}},\"type\":\"barpolar\"}],\"pie\":[{\"automargin\":true,\"type\":\"pie\"}]},\"layout\":{\"autotypenumbers\":\"strict\",\"colorway\":[\"#636efa\",\"#EF553B\",\"#00cc96\",\"#ab63fa\",\"#FFA15A\",\"#19d3f3\",\"#FF6692\",\"#B6E880\",\"#FF97FF\",\"#FECB52\"],\"font\":{\"color\":\"#2a3f5f\"},\"hovermode\":\"closest\",\"hoverlabel\":{\"align\":\"left\"},\"paper_bgcolor\":\"white\",\"plot_bgcolor\":\"#E5ECF6\",\"polar\":{\"bgcolor\":\"#E5ECF6\",\"angularaxis\":{\"gridcolor\":\"white\",\"linecolor\":\"white\",\"ticks\":\"\"},\"radialaxis\":{\"gridcolor\":\"white\",\"linecolor\":\"white\",\"ticks\":\"\"}},\"ternary\":{\"bgcolor\":\"#E5ECF6\",\"aaxis\":{\"gridcolor\":\"white\",\"linecolor\":\"white\",\"ticks\":\"\"},\"baxis\":{\"gridcolor\":\"white\",\"linecolor\":\"white\",\"ticks\":\"\"},\"caxis\":{\"gridcolor\":\"white\",\"linecolor\":\"white\",\"ticks\":\"\"}},\"coloraxis\":{\"colorbar\":{\"outlinewidth\":0,\"ticks\":\"\"}},\"colorscale\":{\"sequential\":[[0.0,\"#0d0887\"],[0.1111111111111111,\"#46039f\"],[0.2222222222222222,\"#7201a8\"],[0.3333333333333333,\"#9c179e\"],[0.4444444444444444,\"#bd3786\"],[0.5555555555555556,\"#d8576b\"],[0.6666666666666666,\"#ed7953\"],[0.7777777777777778,\"#fb9f3a\"],[0.8888888888888888,\"#fdca26\"],[1.0,\"#f0f921\"]],\"sequentialminus\":[[0.0,\"#0d0887\"],[0.1111111111111111,\"#46039f\"],[0.2222222222222222,\"#7201a8\"],[0.3333333333333333,\"#9c179e\"],[0.4444444444444444,\"#bd3786\"],[0.5555555555555556,\"#d8576b\"],[0.6666666666666666,\"#ed7953\"],[0.7777777777777778,\"#fb9f3a\"],[0.8888888888888888,\"#fdca26\"],[1.0,\"#f0f921\"]],\"diverging\":[[0,\"#8e0152\"],[0.1,\"#c51b7d\"],[0.2,\"#de77ae\"],[0.3,\"#f1b6da\"],[0.4,\"#fde0ef\"],[0.5,\"#f7f7f7\"],[0.6,\"#e6f5d0\"],[0.7,\"#b8e186\"],[0.8,\"#7fbc41\"],[0.9,\"#4d9221\"],[1,\"#276419\"]]},\"xaxis\":{\"gridcolor\":\"white\",\"linecolor\":\"white\",\"ticks\":\"\",\"title\":{\"standoff\":15},\"zerolinecolor\":\"white\",\"automargin\":true,\"zerolinewidth\":2},\"yaxis\":{\"gridcolor\":\"white\",\"linecolor\":\"white\",\"ticks\":\"\",\"title\":{\"standoff\":15},\"zerolinecolor\":\"white\",\"automargin\":true,\"zerolinewidth\":2},\"scene\":{\"xaxis\":{\"backgroundcolor\":\"#E5ECF6\",\"gridcolor\":\"white\",\"linecolor\":\"white\",\"showbackground\":true,\"ticks\":\"\",\"zerolinecolor\":\"white\",\"gridwidth\":2},\"yaxis\":{\"backgroundcolor\":\"#E5ECF6\",\"gridcolor\":\"white\",\"linecolor\":\"white\",\"showbackground\":true,\"ticks\":\"\",\"zerolinecolor\":\"white\",\"gridwidth\":2},\"zaxis\":{\"backgroundcolor\":\"#E5ECF6\",\"gridcolor\":\"white\",\"linecolor\":\"white\",\"showbackground\":true,\"ticks\":\"\",\"zerolinecolor\":\"white\",\"gridwidth\":2}},\"shapedefaults\":{\"line\":{\"color\":\"#2a3f5f\"}},\"annotationdefaults\":{\"arrowcolor\":\"#2a3f5f\",\"arrowhead\":0,\"arrowwidth\":1},\"geo\":{\"bgcolor\":\"white\",\"landcolor\":\"#E5ECF6\",\"subunitcolor\":\"white\",\"showland\":true,\"showlakes\":true,\"lakecolor\":\"white\"},\"title\":{\"x\":0.05},\"mapbox\":{\"style\":\"light\"}}},\"scene\":{\"domain\":{\"x\":[0.0,1.0],\"y\":[0.0,1.0]},\"xaxis\":{\"title\":{\"text\":\"principal component 1\"}},\"yaxis\":{\"title\":{\"text\":\"principal component 2\"}},\"zaxis\":{\"title\":{\"text\":\"FoldChange\"}}},\"coloraxis\":{\"colorbar\":{\"title\":{\"text\":\"FoldChange\"}},\"colorscale\":[[0.0,\"#0d0887\"],[0.1111111111111111,\"#46039f\"],[0.2222222222222222,\"#7201a8\"],[0.3333333333333333,\"#9c179e\"],[0.4444444444444444,\"#bd3786\"],[0.5555555555555556,\"#d8576b\"],[0.6666666666666666,\"#ed7953\"],[0.7777777777777778,\"#fb9f3a\"],[0.8888888888888888,\"#fdca26\"],[1.0,\"#f0f921\"]]},\"legend\":{\"tracegroupgap\":0},\"margin\":{\"t\":60}},                        {\"responsive\": true}                    ).then(function(){\n",
       "                            \n",
       "var gd = document.getElementById('7d078a52-b1ca-4a32-8aae-ff17d64754e0');\n",
       "var x = new MutationObserver(function (mutations, observer) {{\n",
       "        var display = window.getComputedStyle(gd).display;\n",
       "        if (!display || display === 'none') {{\n",
       "            console.log([gd, 'removed!']);\n",
       "            Plotly.purge(gd);\n",
       "            observer.disconnect();\n",
       "        }}\n",
       "}});\n",
       "\n",
       "// Listen for the removal of the full notebook cells\n",
       "var notebookContainer = gd.closest('#notebook-container');\n",
       "if (notebookContainer) {{\n",
       "    x.observe(notebookContainer, {childList: true});\n",
       "}}\n",
       "\n",
       "// Listen for the clearing of the current output cell\n",
       "var outputEl = gd.closest('.output');\n",
       "if (outputEl) {{\n",
       "    x.observe(outputEl, {childList: true});\n",
       "}}\n",
       "\n",
       "                        })                };                });            </script>        </div>"
      ]
     },
     "metadata": {},
     "output_type": "display_data"
    }
   ],
   "source": [
    "fig = px.scatter_3d(finalDf, x='principal component 1', y='principal component 2', z='FoldChange',\n",
    "              color='FoldChange')\n",
    "fig.show()"
   ]
  },
  {
   "cell_type": "code",
   "execution_count": null,
   "id": "4bed2da7-de69-43e0-bc5a-e792ce959dd3",
   "metadata": {},
   "outputs": [],
   "source": [
    "fig = px.scatter_3d(finalDf, x='principal component 1', y='principal component 2', z='FoldChange',\n",
    "              symbol='combNum')\n",
    "fig.show()"
   ]
  }
 ],
 "metadata": {
  "kernelspec": {
   "display_name": "Python 3 (ipykernel)",
   "language": "python",
   "name": "python3"
  },
  "language_info": {
   "codemirror_mode": {
    "name": "ipython",
    "version": 3
   },
   "file_extension": ".py",
   "mimetype": "text/x-python",
   "name": "python",
   "nbconvert_exporter": "python",
   "pygments_lexer": "ipython3",
   "version": "3.10.5"
  }
 },
 "nbformat": 4,
 "nbformat_minor": 5
}
