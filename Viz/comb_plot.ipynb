{
 "cells": [
  {
   "cell_type": "code",
   "execution_count": null,
   "id": "896635b7-c6f8-41da-8d8a-a30187f30178",
   "metadata": {},
   "outputs": [],
   "source": []
  },
  {
   "cell_type": "markdown",
   "id": "deaff699-cd1a-45cd-85ae-55494335f9e0",
   "metadata": {},
   "source": [
    "## Plot different combination in 2D?"
   ]
  },
  {
   "cell_type": "code",
   "execution_count": 1,
   "id": "5b52a3fa-751e-4f78-87d3-487ef195b915",
   "metadata": {},
   "outputs": [],
   "source": [
    "import math"
   ]
  },
  {
   "cell_type": "code",
   "execution_count": 2,
   "id": "a0ec967c-5596-47d0-a243-e2e0a8ce0d9a",
   "metadata": {},
   "outputs": [],
   "source": [
    "targetNum = 10"
   ]
  },
  {
   "cell_type": "code",
   "execution_count": 3,
   "id": "a7db8a4b-cae0-4921-ab68-0c92b4e9df5c",
   "metadata": {},
   "outputs": [],
   "source": [
    "comb = 0\n",
    "indexList = []\n",
    "combList = []\n",
    "for i in range(targetNum):\n",
    "    comb = math.comb(targetNum, i+1)\n",
    "    indexList.append(i+1)\n",
    "    combList.append(comb)"
   ]
  },
  {
   "cell_type": "code",
   "execution_count": 4,
   "id": "db40f611-a854-4cf5-82f5-a6c1307d7f4c",
   "metadata": {},
   "outputs": [
    {
     "data": {
      "text/plain": [
       "[10, 45, 120, 210, 252, 210, 120, 45, 10, 1]"
      ]
     },
     "execution_count": 4,
     "metadata": {},
     "output_type": "execute_result"
    }
   ],
   "source": [
    "combList"
   ]
  },
  {
   "cell_type": "code",
   "execution_count": 8,
   "id": "45701437-5cd1-4050-a527-66f574dcec29",
   "metadata": {},
   "outputs": [],
   "source": [
    "from itertools import combinations"
   ]
  },
  {
   "cell_type": "code",
   "execution_count": 14,
   "id": "017c53f2-eca5-4c04-a214-e81b45fae8f9",
   "metadata": {},
   "outputs": [],
   "source": [
    "combIndex = list(range(1,11))"
   ]
  },
  {
   "cell_type": "code",
   "execution_count": 16,
   "id": "724adcdf-d0ec-469e-9b74-ac48bdd163ee",
   "metadata": {},
   "outputs": [
    {
     "data": {
      "text/plain": [
       "[1, 2, 3, 4, 5, 6, 7, 8, 9, 10]"
      ]
     },
     "execution_count": 16,
     "metadata": {},
     "output_type": "execute_result"
    }
   ],
   "source": [
    "combIndex"
   ]
  },
  {
   "cell_type": "code",
   "execution_count": 18,
   "id": "f621c3d9-3bab-4db2-bbae-0823fab65cf9",
   "metadata": {},
   "outputs": [],
   "source": [
    "combList1 = combinations(combIndex, 1)"
   ]
  },
  {
   "cell_type": "code",
   "execution_count": 19,
   "id": "82a47b66-4ca5-455a-b094-c4d9e8a79953",
   "metadata": {},
   "outputs": [],
   "source": [
    "combList2 = combinations(combIndex, 2)"
   ]
  },
  {
   "cell_type": "code",
   "execution_count": 20,
   "id": "f117c6dd-dca2-4b75-b7ab-8d2a1d9b937f",
   "metadata": {},
   "outputs": [],
   "source": [
    "combList3 = combinations(combIndex, 3)"
   ]
  },
  {
   "cell_type": "code",
   "execution_count": 21,
   "id": "46fead40-0382-4536-a205-cef2c5f69f98",
   "metadata": {},
   "outputs": [
    {
     "name": "stdout",
     "output_type": "stream",
     "text": [
      "(1,)\n",
      "(2,)\n",
      "(3,)\n",
      "(4,)\n",
      "(5,)\n",
      "(6,)\n",
      "(7,)\n",
      "(8,)\n",
      "(9,)\n",
      "(10,)\n"
     ]
    }
   ],
   "source": [
    "for i in list(combList1):\n",
    "    print(i)"
   ]
  },
  {
   "cell_type": "code",
   "execution_count": 22,
   "id": "09b4a93f-7a85-47a5-86fa-c0598ff7b5d7",
   "metadata": {},
   "outputs": [
    {
     "name": "stdout",
     "output_type": "stream",
     "text": [
      "(1, 2)\n",
      "(1, 3)\n",
      "(1, 4)\n",
      "(1, 5)\n",
      "(1, 6)\n",
      "(1, 7)\n",
      "(1, 8)\n",
      "(1, 9)\n",
      "(1, 10)\n",
      "(2, 3)\n",
      "(2, 4)\n",
      "(2, 5)\n",
      "(2, 6)\n",
      "(2, 7)\n",
      "(2, 8)\n",
      "(2, 9)\n",
      "(2, 10)\n",
      "(3, 4)\n",
      "(3, 5)\n",
      "(3, 6)\n",
      "(3, 7)\n",
      "(3, 8)\n",
      "(3, 9)\n",
      "(3, 10)\n",
      "(4, 5)\n",
      "(4, 6)\n",
      "(4, 7)\n",
      "(4, 8)\n",
      "(4, 9)\n",
      "(4, 10)\n",
      "(5, 6)\n",
      "(5, 7)\n",
      "(5, 8)\n",
      "(5, 9)\n",
      "(5, 10)\n",
      "(6, 7)\n",
      "(6, 8)\n",
      "(6, 9)\n",
      "(6, 10)\n",
      "(7, 8)\n",
      "(7, 9)\n",
      "(7, 10)\n",
      "(8, 9)\n",
      "(8, 10)\n",
      "(9, 10)\n"
     ]
    }
   ],
   "source": [
    "for i in list(combList2):\n",
    "    print(i)"
   ]
  },
  {
   "cell_type": "code",
   "execution_count": 23,
   "id": "1a9ff486-f2a2-492b-84c7-0340a2cde0dd",
   "metadata": {},
   "outputs": [
    {
     "name": "stdout",
     "output_type": "stream",
     "text": [
      "(1, 2, 3)\n",
      "(1, 2, 4)\n",
      "(1, 2, 5)\n",
      "(1, 2, 6)\n",
      "(1, 2, 7)\n",
      "(1, 2, 8)\n",
      "(1, 2, 9)\n",
      "(1, 2, 10)\n",
      "(1, 3, 4)\n",
      "(1, 3, 5)\n",
      "(1, 3, 6)\n",
      "(1, 3, 7)\n",
      "(1, 3, 8)\n",
      "(1, 3, 9)\n",
      "(1, 3, 10)\n",
      "(1, 4, 5)\n",
      "(1, 4, 6)\n",
      "(1, 4, 7)\n",
      "(1, 4, 8)\n",
      "(1, 4, 9)\n",
      "(1, 4, 10)\n",
      "(1, 5, 6)\n",
      "(1, 5, 7)\n",
      "(1, 5, 8)\n",
      "(1, 5, 9)\n",
      "(1, 5, 10)\n",
      "(1, 6, 7)\n",
      "(1, 6, 8)\n",
      "(1, 6, 9)\n",
      "(1, 6, 10)\n",
      "(1, 7, 8)\n",
      "(1, 7, 9)\n",
      "(1, 7, 10)\n",
      "(1, 8, 9)\n",
      "(1, 8, 10)\n",
      "(1, 9, 10)\n",
      "(2, 3, 4)\n",
      "(2, 3, 5)\n",
      "(2, 3, 6)\n",
      "(2, 3, 7)\n",
      "(2, 3, 8)\n",
      "(2, 3, 9)\n",
      "(2, 3, 10)\n",
      "(2, 4, 5)\n",
      "(2, 4, 6)\n",
      "(2, 4, 7)\n",
      "(2, 4, 8)\n",
      "(2, 4, 9)\n",
      "(2, 4, 10)\n",
      "(2, 5, 6)\n",
      "(2, 5, 7)\n",
      "(2, 5, 8)\n",
      "(2, 5, 9)\n",
      "(2, 5, 10)\n",
      "(2, 6, 7)\n",
      "(2, 6, 8)\n",
      "(2, 6, 9)\n",
      "(2, 6, 10)\n",
      "(2, 7, 8)\n",
      "(2, 7, 9)\n",
      "(2, 7, 10)\n",
      "(2, 8, 9)\n",
      "(2, 8, 10)\n",
      "(2, 9, 10)\n",
      "(3, 4, 5)\n",
      "(3, 4, 6)\n",
      "(3, 4, 7)\n",
      "(3, 4, 8)\n",
      "(3, 4, 9)\n",
      "(3, 4, 10)\n",
      "(3, 5, 6)\n",
      "(3, 5, 7)\n",
      "(3, 5, 8)\n",
      "(3, 5, 9)\n",
      "(3, 5, 10)\n",
      "(3, 6, 7)\n",
      "(3, 6, 8)\n",
      "(3, 6, 9)\n",
      "(3, 6, 10)\n",
      "(3, 7, 8)\n",
      "(3, 7, 9)\n",
      "(3, 7, 10)\n",
      "(3, 8, 9)\n",
      "(3, 8, 10)\n",
      "(3, 9, 10)\n",
      "(4, 5, 6)\n",
      "(4, 5, 7)\n",
      "(4, 5, 8)\n",
      "(4, 5, 9)\n",
      "(4, 5, 10)\n",
      "(4, 6, 7)\n",
      "(4, 6, 8)\n",
      "(4, 6, 9)\n",
      "(4, 6, 10)\n",
      "(4, 7, 8)\n",
      "(4, 7, 9)\n",
      "(4, 7, 10)\n",
      "(4, 8, 9)\n",
      "(4, 8, 10)\n",
      "(4, 9, 10)\n",
      "(5, 6, 7)\n",
      "(5, 6, 8)\n",
      "(5, 6, 9)\n",
      "(5, 6, 10)\n",
      "(5, 7, 8)\n",
      "(5, 7, 9)\n",
      "(5, 7, 10)\n",
      "(5, 8, 9)\n",
      "(5, 8, 10)\n",
      "(5, 9, 10)\n",
      "(6, 7, 8)\n",
      "(6, 7, 9)\n",
      "(6, 7, 10)\n",
      "(6, 8, 9)\n",
      "(6, 8, 10)\n",
      "(6, 9, 10)\n",
      "(7, 8, 9)\n",
      "(7, 8, 10)\n",
      "(7, 9, 10)\n",
      "(8, 9, 10)\n"
     ]
    }
   ],
   "source": [
    "for i in list(combList3):\n",
    "    print(i)"
   ]
  },
  {
   "cell_type": "code",
   "execution_count": null,
   "id": "f904a30e-5734-45ef-a1c3-754a3596a42b",
   "metadata": {},
   "outputs": [],
   "source": []
  }
 ],
 "metadata": {
  "kernelspec": {
   "display_name": "Python 3 (ipykernel)",
   "language": "python",
   "name": "python3"
  },
  "language_info": {
   "codemirror_mode": {
    "name": "ipython",
    "version": 3
   },
   "file_extension": ".py",
   "mimetype": "text/x-python",
   "name": "python",
   "nbconvert_exporter": "python",
   "pygments_lexer": "ipython3",
   "version": "3.10.5"
  }
 },
 "nbformat": 4,
 "nbformat_minor": 5
}
